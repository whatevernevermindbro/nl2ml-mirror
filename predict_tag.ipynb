{
  "nbformat": 4,
  "nbformat_minor": 0,
  "metadata": {
    "colab": {
      "name": "predict_tag.ipynb",
      "provenance": [],
      "collapsed_sections": []
    },
    "kernelspec": {
      "display_name": "Python 3",
      "language": "python",
      "name": "python3"
    },
    "language_info": {
      "codemirror_mode": {
        "name": "ipython",
        "version": 3
      },
      "file_extension": ".py",
      "mimetype": "text/x-python",
      "name": "python",
      "nbconvert_exporter": "python",
      "pygments_lexer": "ipython3",
      "version": "3.7.0-final"
    },
    "deepnote_notebook_id": "de3fccfc-e616-4534-95cc-32b90652859d",
    "deepnote_execution_queue": []
  },
  "cells": [
    {
      "cell_type": "markdown",
      "metadata": {
        "id": "duvd91VsO_R1",
        "colab_type": "text"
      },
      "source": [
        "# Predicting tags for the given code\n",
        "### Simple models (SVM, LogReg, Naive Bayes, LGBM)\n",
        "Usage: Define constants and run all to get the result"
      ]
    },
    {
      "cell_type": "code",
      "metadata": {
        "cell_id": "441b2da9-1dee-4019-bda3-6f4994571f6d",
        "id": "PZGqPi1rKuc5",
        "colab_type": "code",
        "colab": {},
        "tags": []
      },
      "source": [
        "import pandas as pd\n",
        "import numpy as np\n",
        "import matplotlib.pyplot as plt\n",
        "import scipy\n",
        "\n",
        "from sklearn.metrics import *\n",
        "from sklearn.feature_extraction.text import TfidfVectorizer\n",
        "from sklearn.svm import SVC\n",
        "\n",
        "import pickle\n",
        "import dagshub"
      ],
      "execution_count": 1,
      "outputs": []
    },
    {
      "cell_type": "code",
      "metadata": {
        "cell_id": "80383df4-32e7-46ba-b0b9-71dba689140e",
        "id": "WTeMgt6pKudD",
        "colab_type": "code",
        "colab": {}
      },
      "source": [
        "def load_code_blocks(DATASET_PATH, CODE_COLUMN):\n",
        "    df = pd.read_csv(DATASET_PATH, encoding='utf-8', comment='#', sep=',')#, quoting=csv.QUOTE_NONE, error_bad_lines=False)#, sep=','\n",
        "    print(\"Data of {} shape has been loaded\".format(df.shape))\n",
        "    print(df.columns)\n",
        "    code_blocks = df[CODE_COLUMN]\n",
        "    # test_size = 0.1\n",
        "    # test_rows = round(df.shape[0]*test_size)\n",
        "    # train_rows = df.shape[0] - test_rows\n",
        "    # train_code_blocks = df[CODE_COLUMN][0:test_rows]\n",
        "    # test_code_blocks = df[CODE_COLUMN][train_rows:]\n",
        "    return df, code_blocks"
      ],
      "execution_count": 2,
      "outputs": []
    },
    {
      "cell_type": "code",
      "metadata": {
        "cell_id": "6d376ccc-4060-470d-a8e4-495a5ec14bc2",
        "id": "ZSgWLSwpKudV",
        "colab_type": "code",
        "colab": {}
      },
      "source": [
        "def tfidf_fit_transform(code_blocks, params, TFIDF_DIR):\n",
        "    vectorizer = TfidfVectorizer(params)\n",
        "    tfidf = vectorizer.fit(code_blocks)\n",
        "    pickle.dump(tfidf, open(\"tfidf.pickle\", \"wb\"))\n",
        "    code_blocks_tfidf = tfidf.transform(code_blocks)\n",
        "    print(\"tfidf trained, saved and transformed\")\n",
        "    return code_blocks_tfidf"
      ],
      "execution_count": 3,
      "outputs": []
    },
    {
      "cell_type": "code",
      "metadata": {
        "id": "x3231i9XMzZ2",
        "colab_type": "code",
        "colab": {}
      },
      "source": [
        "def tfidf_transform(code_blocks, params, TFIDF_DIR):\n",
        "    tfidf = pickle.load(open(TFIDF_DIR, 'rb'))\n",
        "    code_blocks_tfidf = tfidf.transform(code_blocks.astype(str))\n",
        "    print(\"tfidf loaded and transformed\")\n",
        "    return code_blocks_tfidf"
      ],
      "execution_count": 4,
      "outputs": []
    },
    {
      "cell_type": "code",
      "metadata": {
        "cell_id": "b72d586f-243c-41aa-aed3-6caf51213d4a",
        "id": "9TBwKTouKudb",
        "colab_type": "code",
        "colab": {}
      },
      "source": [
        "def SVM_evaluate(df, code_blocks, tfidf_params, TFIDF_DIR, SVM_params):\n",
        "    code_blocks_tfidf = tfidf_fit_transform(code_blocks, tfidf_params, TFIDF_DIR)\n",
        "    X_train, X_test, y_train, y_test = train_test_split(code_blocks_tfidf, df[TAG_TO_PREDICT], test_size=0.3)\n",
        "    # grid = {\"C\": [100]}\n",
        "    # cv = KFold(n_splits=2, shuffle=True, random_state=241)\n",
        "    # model = SVC(kernel=\"linear\", random_state=241)\n",
        "    # gs = GridSearchCV(model, grid, scoring=\"accuracy\", cv=cv, verbose=1, n_jobs=-1)\n",
        "    # gs.fit(X_train[:25000], y_train.ravel()[:25000])\n",
        "    # C = gs.best_params_.get('C')\n",
        "    model = SVC(**SVM_params)\n",
        "    # model.set_params(SVM_params)\n",
        "    print(model.get_params())\n",
        "    model.fit(X_train, y_train.ravel())\n",
        "    # a faster option:\n",
        "    # 1: usage of BagginClassifier decreased the fitting time from 38 mins to 8\n",
        "    # n_estimators = 10\n",
        "    clf = model\n",
        "    # clf = BaggingClassifier(model, max_samples=1.0 / n_estimators, n_estimators=n_estimators)\n",
        "    # clf.fit(X_train, y_train.ravel())\n",
        "    pickle.dump(clf, open(MODEL_DIR, 'wb'))\n",
        "    y_pred = clf.predict(X_test)\n",
        "    accuracy = accuracy_score(y_test, y_pred)\n",
        "    f1 = f1_score(y_test, y_pred)\n",
        "    metrics = {'test_accuracy': accuracy\n",
        "               , 'test_f1_score': f1}\n",
        "    plot_confusion_matrix(model, X_test, y_test)\n",
        "    return metrics"
      ],
      "execution_count": 5,
      "outputs": []
    },
    {
      "cell_type": "code",
      "metadata": {
        "tags": [],
        "cell_id": "c09fca7c-1c20-4ec8-b2b2-6bd85d739cce",
        "id": "c0uVv2uWKudk",
        "colab_type": "code",
        "colab": {}
      },
      "source": [
        "def get_metrics(X, y, TAG_TO_PREDICT, MODEL_DIR):\n",
        "    clf = pickle.load(open(MODEL_DIR, 'rb'))\n",
        "    print(\"the model has been loaded\")\n",
        "    # result = loaded_model.score(X, y)\n",
        "    y_pred = clf.predict(X)\n",
        "    print(\"predictions were calculated\")\n",
        "    accuracy = clf.score(X, y)\n",
        "    f1 = f1_score(y_pred, y, average='weighted')\n",
        "    print(f'Mean Accuracy {round(accuracy*100, 2)}%')\n",
        "    print(f'F1-score {round(f1*100, 2)}%')\n",
        "    errors = y - y_pred\n",
        "    plt.hist(errors)\n",
        "    plot_precision_recall_curve(clf, X, y)\n",
        "    plot_confusion_matrix(clf, X, y, values_format='d')\n",
        "    def mean_confidence_interval(data, confidence=0.95):\n",
        "        a = 1.0 * np.array(data)\n",
        "        n = len(a)\n",
        "        m, se = np.mean(a), scipy.stats.sem(a)\n",
        "        h = se * scipy.stats.t.ppf((1 + confidence) / 2., n-1)\n",
        "        return m, m-h, m+h\n",
        "    conf_interval = mean_confidence_interval(errors, 0.95)\n",
        "    print(conf_interval)\n",
        "    metrics = {'test_accuracy': accuracy\n",
        "               , 'test_f1_score': f1\n",
        "               , 'conf_interval': conf_interval}\n",
        "    return X, y, y_pred, metrics\n",
        "    print(result)"
      ],
      "execution_count": 6,
      "outputs": []
    },
    {
      "cell_type": "code",
      "execution_count": 7,
      "metadata": {},
      "outputs": [],
      "source": [
        "def get_predictions(X, TAG_TO_PREDICT, MODEL_DIR):\n",
        "    clf = pickle.load(open(MODEL_DIR, 'rb'))\n",
        "    print(\"the model has been loaded\")\n",
        "    y_pred = clf.predict(X)\n",
        "    print(\"predictions were calculated\")\n",
        "    return y_pred"
      ]
    },
    {
      "cell_type": "markdown",
      "metadata": {},
      "source": [
        "# Constants"
      ]
    },
    {
      "cell_type": "code",
      "execution_count": 8,
      "metadata": {},
      "outputs": [],
      "source": [
        "GRAPH_VER = 3\n",
        "MODEL = 'svm'\n",
        "CHUNK_SIZE = 10\n",
        "DATASET_PATH = './data/chunks_{}_validate.csv'.format(CHUNK_SIZE)\n",
        "MODEL_DIR = './models/{}_regex_graph_v{}.sav'.format(MODEL, GRAPH_VER)\n",
        "TFIDF_DIR = './models/tfidf_{}_graph_v{}.pickle'.format(MODEL, GRAPH_VER)\n",
        "CODE_COLUMN = 'code'\n",
        "TAG_TO_PREDICT = 'preprocessing'\n",
        "SCRIPT_DIR = './predict_tag.ipynb'\n",
        "TASK = 'evaluation/validation'"
      ]
    },
    {
      "cell_type": "markdown",
      "metadata": {},
      "source": [
        "### Validation or Evaluation"
      ]
    },
    {
      "cell_type": "code",
      "metadata": {
        "cell_id": "b66b92bc-9fb1-4810-8640-af32c015a076",
        "id": "ztGp0qcoKudq",
        "colab_type": "code",
        "colab": {
          "base_uri": "https://localhost:8080/",
          "height": 504
        },
        "outputId": "6dce49be-007b-430c-f56a-90d7e9ee2978",
        "tags": []
      },
      "source": [
        "# if __name__ == '__main__':\n",
        "#     df, code_blocks = load_code_blocks(DATASET_PATH, CODE_COLUMN)\n",
        "#     nrows = df.shape[0]\n",
        "#     print(\"loaded\")\n",
        "#     tfidf_params = {'min_df': 5\n",
        "#             , 'max_df': 0.3\n",
        "#             , 'smooth_idf': True}\n",
        "#     SVM_params = {'C': 100\n",
        "#             , 'kernel': \"linear\"\n",
        "#             , 'verbose': 1\n",
        "#             , 'random_state': 241}\n",
        "#     meta = {'DATASET_PATH': DATASET_PATH\n",
        "#            ,'MODEL_DIR': MODEL_DIR\n",
        "#            ,'TFIDF_DIR': TFIDF_DIR\n",
        "#            ,'nrows': nrows\n",
        "#            ,'label': TAG_TO_PREDICT\n",
        "#            ,'model': MODEL\n",
        "#            ,'graph_ver': GRAPH_VER\n",
        "#            ,'script_dir': SCRIPT_DIR\n",
        "#            ,'task': TASK}\n",
        "#     code_blocks_tfidf = tfidf_transform(code_blocks, tfidf_params, TFIDF_DIR)\n",
        "#     with dagshub.dagshub_logger() as logger:\n",
        "#         # metrics = SVM_evaluate(df, code_blocks, tfidf_params, TFIDF_DIR, SVM_params)\n",
        "#         _, _, _, metrics = get_metrics(code_blocks_tfidf, df[TAG_TO_PREDICT].astype(int), TAG_TO_PREDICT, MODEL_DIR)\n",
        "#         logger.log_hyperparams(meta)\n",
        "#         logger.log_hyperparams(tfidf_params)\n",
        "#         logger.log_hyperparams(SVM_params)\n",
        "#         logger.log_metrics(metrics)\n",
        "#     print(\"finished\")"
      ],
      "execution_count": 9,
      "outputs": []
    },
    {
      "cell_type": "markdown",
      "metadata": {},
      "source": [
        "### Validation (different chunk_sizes)"
      ]
    },
    {
      "cell_type": "code",
      "execution_count": 10,
      "metadata": {
        "tags": []
      },
      "outputs": [],
      "source": [
        "# if __name__ == '__main__':\n",
        "#     all_metrics = []\n",
        "#     chunk_sizes = [5, 10, 15, 20, 25, 30, 40]\n",
        "#     for i in chunk_sizes:\n",
        "#         df, corpus = load_code_blocks(DATASET_PATH, CODE_COLUMN)\n",
        "#         nrows = df.shape[0]\n",
        "#         print(\"loaded\")\n",
        "#         params = {'min_df': 5\n",
        "#                 , 'max_df': 0.3\n",
        "#                 , 'smooth_idf': True}\n",
        "#         meta = {'DATASET_PATH': DATASET_PATH\n",
        "#               ,'MODEL_DIR': MODEL_DIR\n",
        "#               ,'TFIDF_DIR': TFIDF_DIR\n",
        "#               ,'nrows': nrows\n",
        "#               ,'label': TAG_TO_PREDICT\n",
        "#               ,'model': MODEL\n",
        "#               ,'graph_ver': GRAPH_VER\n",
        "#               ,'script_dir': SCRIPT_DIR\n",
        "#               ,'task': TASK}\n",
        "#         features = tfidf_transform(corpus, params, TFIDF_DIR)\n",
        "#         print(\"tfidf-ed\")\n",
        "#         # metrics = logreg_evaluate(df, features, TAG_TO_PREDICT)\n",
        "#         _, _, _, metrics = get_metrics(features, df[TAG_TO_PREDICT], TAG_TO_PREDICT, MODEL_DIR)\n",
        "#         all_metrics.append(metrics)\n",
        "#         # with dagshub.dagshub_logger() as logger:\n",
        "#         #     logger.log_hyperparams(meta)\n",
        "#         #     logger.log_hyperparams(params)\n",
        "#         #     logger.log_metrics(metrics)\n",
        "#         print(\"finished\")"
      ]
    },
    {
      "cell_type": "code",
      "execution_count": 11,
      "metadata": {},
      "outputs": [],
      "source": [
        "# all_acc = [all_metrics[i]['test_accuracy'] for i in range(len(all_metrics))]\n",
        "# all_f1 = [all_metrics[i]['test_f1_score'] for i in range(len(all_metrics))]\n",
        "# plt.scatter(chunk_sizes, all_acc)\n",
        "# plt.scatter(chunk_sizes, all_f1)"
      ]
    },
    {
      "cell_type": "markdown",
      "metadata": {},
      "source": [
        "## Errors Analysis"
      ]
    },
    {
      "cell_type": "code",
      "execution_count": 12,
      "metadata": {},
      "outputs": [],
      "source": [
        "# VAL_CHUNK_SIZE = 10\n",
        "# VAL_CODE_COLUMN = 'code'\n",
        "# VAL_TAG_TO_PREDICT = 'tag'\n",
        "# VAL_DATASET_PATH = './data/chunks_{}_validate.csv'.format(VAL_CHUNK_SIZE)"
      ]
    },
    {
      "cell_type": "code",
      "execution_count": 13,
      "metadata": {
        "tags": []
      },
      "outputs": [],
      "source": [
        "# def analyze_predictions(X, y, TAG_TO_PREDICT, MODEL_DIR):\n",
        "#     clf = pickle.load(open(MODEL_DIR, 'rb'))\n",
        "#     # result = loaded_model.score(X, y)\n",
        "#     y_pred = clf.predict(X)\n",
        "#     accuracy = accuracy_score(y_pred, y)\n",
        "#     f1 = f1_score(y_pred, y, average='weighted')\n",
        "#     print(f'Mean Accuracy {round(accuracy*100, 2)}%')\n",
        "#     print(f'F1-score {round(f1*100, 2)}%')\n",
        "#     errors = y - y_pred\n",
        "#     plt.hist(errors)\n",
        "#     plot_precision_recall_curve(clf, X, y)\n",
        "#     plot_confusion_matrix(clf, X, y, values_format='d')\n",
        "#     def mean_confidence_interval(data, confidence=0.95):\n",
        "#         a = 1.0 * np.array(data)\n",
        "#         n = len(a)\n",
        "#         m, se = np.mean(a), scipy.stats.sem(a)\n",
        "#         h = se * scipy.stats.t.ppf((1 + confidence) / 2., n-1)\n",
        "#         return m, m-h, m+h\n",
        "#     conf_interval = mean_confidence_interval(errors, 0.95)\n",
        "#     print(conf_interval)\n",
        "#     metrics = {'test_accuracy': accuracy\n",
        "#                , 'test_f1_score': f1}\n",
        "#     return X, y, y_pred\n",
        "# if __name__ == '__main__':\n",
        "#     df, corpus = load_code_blocks(VAL_DATASET_PATH, VAL_CODE_COLUMN)\n",
        "#     nrows = df.shape[0]\n",
        "#     print(\"loaded\")\n",
        "#     params = {'min_df': 5\n",
        "#              , 'max_df': 0.3\n",
        "#              , 'smooth_idf': True}\n",
        "#     features = tfidf_transform(corpus, params, TFIDF_DIR)\n",
        "#     print(\"tfidf-ed\")\n",
        "#     _, _, y_pred = analyze_predictions(features, df[VAL_TAG_TO_PREDICT], VAL_TAG_TO_PREDICT, MODEL_DIR)\n",
        "#     print(\"finished\")\n",
        "#     df[PREDICT_COL] = y_pred"
      ]
    },
    {
      "cell_type": "code",
      "execution_count": 14,
      "metadata": {
        "tags": []
      },
      "outputs": [],
      "source": [
        "# _, y, y_pred, _ = get_metrics(features, df[VAL_TAG_TO_PREDICT], VAL_TAG_TO_PREDICT, MODEL_DIR)"
      ]
    },
    {
      "cell_type": "code",
      "execution_count": 15,
      "metadata": {},
      "outputs": [],
      "source": [
        "# pd.set_option('max_colwidth', 500)\n",
        "# pd.set_option('max_rows', 500)"
      ]
    },
    {
      "cell_type": "code",
      "execution_count": 16,
      "metadata": {},
      "outputs": [],
      "source": [
        "# ## False Negatives (preprocessing y/n)\n",
        "# df[(df[VAL_TAG_TO_PREDICT] == 1)&(df[PREDICT_COL] == 0)][VAL_CODE_COLUMN].to_csv('./model_interpretation_results/errors_analysis/{}_validation_{}_chunksize_{}_conf_matrix_FN.txt'.format(MODEL, GRAPH_VER, VAL_CHUNK_SIZE), index=False)"
      ]
    },
    {
      "cell_type": "code",
      "execution_count": 17,
      "metadata": {},
      "outputs": [],
      "source": [
        "## False Positives (preprocessing y/n)\n",
        "# df[(df[VAL_TAG_TO_PREDICT] == 0)&(df[PREDICT_COL] == 1)][VAL_CODE_COLUMN].to_csv('./model_interpretation_results/errors_analysis/{}_validation_{}_chunksize_{}_conf_matrix_FP.txt'.format(MODEL, GRAPH_VER, VAL_CHUNK_SIZE), index=False)"
      ]
    },
    {
      "cell_type": "code",
      "execution_count": 18,
      "metadata": {},
      "outputs": [],
      "source": [
        "## True Negatives (preprocessing y/n)\n",
        "# df[(df[VAL_TAG_TO_PREDICT] == 0)&(df[PREDICT_COL] == 0)][VAL_CODE_COLUMN].to_csv('./model_interpretation_results/errors_analysis/{}_validation_{}_chunksize_{}_conf_matrix_TN.txt'.format(MODEL, GRAPH_VER, VAL_CHUNK_SIZE), index=False)"
      ]
    },
    {
      "cell_type": "code",
      "execution_count": 19,
      "metadata": {},
      "outputs": [],
      "source": [
        "# ## True Positives (preprocessing y/n)\n",
        "# df[(df[VAL_TAG_TO_PREDICT] == 1)&(df[PREDICT_COL] == 1)][VAL_CODE_COLUMN].to_csv('./model_interpretation_results/errors_analysis/{}_validation_{}_chunksize_{}_conf_matrix_TP.txt'.format(MODEL, GRAPH_VER, VAL_CHUNK_SIZE), index=False)"
      ]
    },
    {
      "cell_type": "markdown",
      "metadata": {},
      "source": [
        "### Inference"
      ]
    },
    {
      "cell_type": "code",
      "execution_count": 24,
      "metadata": {
        "tags": []
      },
      "outputs": [
        {
          "output_type": "stream",
          "name": "stdout",
          "text": "Data of (161738, 1) shape has been loaded\nIndex(['0'], dtype='object')\nloaded\ntfidf loaded and transformed\nthe model has been loaded\npredictions were calculated\nfinished\nsaved\n"
        }
      ],
      "source": [
        "if __name__ == '__main__':\n",
        "    GRAPH_VER = 3.1\n",
        "    MODEL = 'svm'\n",
        "    CHUNK_SIZE = 10\n",
        "    DATASET_PATH = './data/github_chunks_{}.csv'.format(CHUNK_SIZE)\n",
        "    CODE_COLUMN = '0'\n",
        "    TAG_TO_PREDICT = 'preprocessing'\n",
        "    OUTPUT_DATASET_PATH = './data/github_chunks_{}_{}_{}_v{}.csv'.format(CHUNK_SIZE, TAG_TO_PREDICT, MODEL, GRAPH_VER)\n",
        "    MODEL_DIR = './models/{}_regex_graph_v{}.sav'.format(MODEL, GRAPH_VER)\n",
        "    TFIDF_DIR = './models/tfidf_{}_graph_v{}.pickle'.format(MODEL, GRAPH_VER)\n",
        "\n",
        "    df, code_blocks = load_code_blocks(DATASET_PATH, CODE_COLUMN)\n",
        "    df.dropna(axis=0, inplace=True)\n",
        "\n",
        "    print(\"loaded\")\n",
        "    tfidf_params = {'min_df': 5\n",
        "                    , 'max_df': 0.3\n",
        "                    , 'smooth_idf': True}\n",
        "                    \n",
        "    code_blocks_tfidf = tfidf_transform(code_blocks, tfidf_params, TFIDF_DIR)\n",
        "    y_pred = get_predictions(code_blocks_tfidf, TAG_TO_PREDICT, MODEL_DIR)\n",
        "    df[TAG_TO_PREDICT] = pd.Series(y_pred)\n",
        "    print(\"finished\")\n",
        "    df.to_csv(OUTPUT_DATASET_PATH, index=False)\n",
        "    print(\"saved\") "
      ]
    },
    {
      "cell_type": "code",
      "execution_count": null,
      "metadata": {},
      "outputs": [],
      "source": []
    }
  ]
}