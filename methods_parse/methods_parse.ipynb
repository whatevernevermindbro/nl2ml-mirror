{
  "nbformat": 4,
  "nbformat_minor": 0,
  "metadata": {
    "colab": {
      "name": "Untitled3.ipynb",
      "provenance": [],
      "collapsed_sections": []
    },
    "kernelspec": {
      "name": "python3",
      "display_name": "Python 3"
    }
  },
  "cells": [
    {
      "cell_type": "code",
      "metadata": {
        "id": "F44NNJotmF97"
      },
      "source": [
        "import numpy as np\r\n",
        "import pandas as pd\r\n",
        "import ast"
      ],
      "execution_count": 67,
      "outputs": []
    },
    {
      "cell_type": "markdown",
      "metadata": {
        "id": "g-wO5grzX2Mi"
      },
      "source": [
        "Выделение методов в блоке\r\n",
        "\r\n",
        "---\r\n",
        "\r\n"
      ]
    },
    {
      "cell_type": "code",
      "metadata": {
        "id": "PrRUcJCJTWJd"
      },
      "source": [
        "def UsedMethods2(code):\r\n",
        "  try:\r\n",
        "    p = ast.parse(code)\r\n",
        "    names = sorted({node.attr for node in ast.walk(p) if isinstance(node, ast.Attribute)}) #but here we also have node.id for example\r\n",
        "    result = list()\r\n",
        "    for instance in names:\r\n",
        "     pos = code.find(instance)\r\n",
        "     print(pos, instance)\r\n",
        "     if (pos > 0 and code[pos-1] == '.') and (pos < len(code) - len(instance) and (code[pos + len(instance)] == '.' or code[pos + len(instance) ] == '(')) :\r\n",
        "      result.append(instance)\r\n",
        "    return result\r\n",
        "  except:\r\n",
        "    return list()"
      ],
      "execution_count": 69,
      "outputs": []
    },
    {
      "cell_type": "code",
      "metadata": {
        "id": "jRlJk3EldyeT"
      },
      "source": [
        "def UsedMethods(code):\r\n",
        "  try:\r\n",
        "    p = ast.parse(code)\r\n",
        "    names = sorted({node.attr for node in ast.walk(p) if isinstance(node, ast.Attribute)})\r\n",
        "    return names\r\n",
        "  except:\r\n",
        "    return list()\r\n",
        "  "
      ],
      "execution_count": 70,
      "outputs": []
    },
    {
      "cell_type": "code",
      "metadata": {
        "colab": {
          "base_uri": "https://localhost:8080/"
        },
        "id": "5JFFYlrdvHAc",
        "outputId": "dbdfb9bd-213c-457e-f6bf-d6778e4242d6"
      },
      "source": [
        "UsedMethods(\"df = df.drop(index=0)\")"
      ],
      "execution_count": 82,
      "outputs": [
        {
          "output_type": "execute_result",
          "data": {
            "text/plain": [
              "['drop']"
            ]
          },
          "metadata": {
            "tags": []
          },
          "execution_count": 82
        }
      ]
    },
    {
      "cell_type": "markdown",
      "metadata": {
        "id": "jx23wMn-X9zJ"
      },
      "source": [
        "Заполнение таблички"
      ]
    },
    {
      "cell_type": "code",
      "metadata": {
        "id": "5IZSVuVOh53E"
      },
      "source": [
        "filename = \"11.csv\" #enter the name of a .csv file\r\n",
        "\r\n",
        "#df = pd.read_csv(filename)\r\n",
        "data = {'Unnamed: 3':['code_block', 'p = ast.parse(code)', 'p = ast.walk()', 'give.up()', 'df = df.drop(index=0)'], \r\n",
        "        'Unnamed: 4':['python_methods', np.NaN, np.NaN, np.NaN, np.NaN],\r\n",
        "        'Unnamed: 5':['python_methods_p1', np.NaN, np.NaN, np.NaN, np.NaN],\r\n",
        "        'Unnamed: 6':['python_methods_p2', np.NaN, np.NaN, np.NaN, np.NaN],\r\n",
        "        'Unnamed: 7':['python_methods_p3', np.NaN, np.NaN, np.NaN, np.NaN],\r\n",
        "        'Unnamed: 8':['python_methods_m1', np.NaN, np.NaN, np.NaN, np.NaN],\r\n",
        "        'Unnamed: 9':['python_methods_m2', np.NaN, np.NaN, np.NaN, np.NaN],\r\n",
        "        'Unnamed: 10':['python_methods_m3', np.NaN, np.NaN, np.NaN, np.NaN]\r\n",
        "        }\r\n",
        "\r\n",
        "  \r\n",
        "df = pd.DataFrame(data)\r\n"
      ],
      "execution_count": 83,
      "outputs": []
    },
    {
      "cell_type": "code",
      "metadata": {
        "id": "xBVsXQv9h56V"
      },
      "source": [
        " df.columns = df.iloc[0,:]\r\n",
        " df = df.drop(index=0)"
      ],
      "execution_count": 84,
      "outputs": []
    },
    {
      "cell_type": "markdown",
      "metadata": {
        "id": "_OG-oKYQjicV"
      },
      "source": [
        "Заполним методы блока"
      ]
    },
    {
      "cell_type": "code",
      "metadata": {
        "id": "ClFF13T4h5_q"
      },
      "source": [
        "df['python_methods'] = df['code_block'].apply(UsedMethods)"
      ],
      "execution_count": 85,
      "outputs": []
    },
    {
      "cell_type": "code",
      "metadata": {
        "colab": {
          "base_uri": "https://localhost:8080/",
          "height": 226
        },
        "id": "C-tGO_-UtzP3",
        "outputId": "0220e3ec-f899-4897-9d93-fe82843b638e"
      },
      "source": [
        "df"
      ],
      "execution_count": 86,
      "outputs": [
        {
          "output_type": "execute_result",
          "data": {
            "text/html": [
              "<div>\n",
              "<style scoped>\n",
              "    .dataframe tbody tr th:only-of-type {\n",
              "        vertical-align: middle;\n",
              "    }\n",
              "\n",
              "    .dataframe tbody tr th {\n",
              "        vertical-align: top;\n",
              "    }\n",
              "\n",
              "    .dataframe thead th {\n",
              "        text-align: right;\n",
              "    }\n",
              "</style>\n",
              "<table border=\"1\" class=\"dataframe\">\n",
              "  <thead>\n",
              "    <tr style=\"text-align: right;\">\n",
              "      <th></th>\n",
              "      <th>code_block</th>\n",
              "      <th>python_methods</th>\n",
              "      <th>python_methods_p1</th>\n",
              "      <th>python_methods_p2</th>\n",
              "      <th>python_methods_p3</th>\n",
              "      <th>python_methods_m1</th>\n",
              "      <th>python_methods_m2</th>\n",
              "      <th>python_methods_m3</th>\n",
              "    </tr>\n",
              "  </thead>\n",
              "  <tbody>\n",
              "    <tr>\n",
              "      <th>1</th>\n",
              "      <td>p = ast.parse(code)</td>\n",
              "      <td>[parse]</td>\n",
              "      <td>NaN</td>\n",
              "      <td>NaN</td>\n",
              "      <td>NaN</td>\n",
              "      <td>NaN</td>\n",
              "      <td>NaN</td>\n",
              "      <td>NaN</td>\n",
              "    </tr>\n",
              "    <tr>\n",
              "      <th>2</th>\n",
              "      <td>p = ast.walk()</td>\n",
              "      <td>[walk]</td>\n",
              "      <td>NaN</td>\n",
              "      <td>NaN</td>\n",
              "      <td>NaN</td>\n",
              "      <td>NaN</td>\n",
              "      <td>NaN</td>\n",
              "      <td>NaN</td>\n",
              "    </tr>\n",
              "    <tr>\n",
              "      <th>3</th>\n",
              "      <td>give.up()</td>\n",
              "      <td>[up]</td>\n",
              "      <td>NaN</td>\n",
              "      <td>NaN</td>\n",
              "      <td>NaN</td>\n",
              "      <td>NaN</td>\n",
              "      <td>NaN</td>\n",
              "      <td>NaN</td>\n",
              "    </tr>\n",
              "    <tr>\n",
              "      <th>4</th>\n",
              "      <td>df = df.drop(index=0)</td>\n",
              "      <td>[drop]</td>\n",
              "      <td>NaN</td>\n",
              "      <td>NaN</td>\n",
              "      <td>NaN</td>\n",
              "      <td>NaN</td>\n",
              "      <td>NaN</td>\n",
              "      <td>NaN</td>\n",
              "    </tr>\n",
              "  </tbody>\n",
              "</table>\n",
              "</div>"
            ],
            "text/plain": [
              "0             code_block python_methods  ... python_methods_m2 python_methods_m3\n",
              "1    p = ast.parse(code)        [parse]  ...               NaN               NaN\n",
              "2         p = ast.walk()         [walk]  ...               NaN               NaN\n",
              "3              give.up()           [up]  ...               NaN               NaN\n",
              "4  df = df.drop(index=0)         [drop]  ...               NaN               NaN\n",
              "\n",
              "[4 rows x 8 columns]"
            ]
          },
          "metadata": {
            "tags": []
          },
          "execution_count": 86
        }
      ]
    },
    {
      "cell_type": "markdown",
      "metadata": {
        "id": "yw1vLNbUjnoP"
      },
      "source": [
        "Заполним методы соседних блоков"
      ]
    },
    {
      "cell_type": "code",
      "metadata": {
        "id": "ZHciXGtzmgCr"
      },
      "source": [
        "df['python_methods_p1'] = np.NaN\r\n",
        "df['python_methods_p2'] = np.NaN\r\n",
        "df['python_methods_p3'] = np.NaN\r\n",
        "df['python_methods_m1'] = np.NaN\r\n",
        "df['python_methods_m2'] = np.NaN\r\n",
        "df['python_methods_m3'] = np.NaN"
      ],
      "execution_count": 87,
      "outputs": []
    },
    {
      "cell_type": "code",
      "metadata": {
        "id": "Yq9dzwDFh6Bu"
      },
      "source": [
        "df['python_methods_m1'][1:] = df['python_methods'][:-1]\r\n",
        "df['python_methods_m2'][2:] = df['python_methods'][:-2]\r\n",
        "df['python_methods_m3'][3:] = df['python_methods'][:-3]\r\n",
        "df['python_methods_p1'][:-1] = df['python_methods'][1:]\r\n",
        "df['python_methods_p2'][:-2] = df['python_methods'][2:]\r\n",
        "df['python_methods_p3'][:-3] = df['python_methods'][3:]"
      ],
      "execution_count": null,
      "outputs": []
    },
    {
      "cell_type": "code",
      "metadata": {
        "colab": {
          "base_uri": "https://localhost:8080/",
          "height": 226
        },
        "id": "oszrfFMdsyv4",
        "outputId": "8dfafb17-58e4-4aa0-dd07-ed743a720c3e"
      },
      "source": [
        "df.head()"
      ],
      "execution_count": 89,
      "outputs": [
        {
          "output_type": "execute_result",
          "data": {
            "text/html": [
              "<div>\n",
              "<style scoped>\n",
              "    .dataframe tbody tr th:only-of-type {\n",
              "        vertical-align: middle;\n",
              "    }\n",
              "\n",
              "    .dataframe tbody tr th {\n",
              "        vertical-align: top;\n",
              "    }\n",
              "\n",
              "    .dataframe thead th {\n",
              "        text-align: right;\n",
              "    }\n",
              "</style>\n",
              "<table border=\"1\" class=\"dataframe\">\n",
              "  <thead>\n",
              "    <tr style=\"text-align: right;\">\n",
              "      <th></th>\n",
              "      <th>code_block</th>\n",
              "      <th>python_methods</th>\n",
              "      <th>python_methods_p1</th>\n",
              "      <th>python_methods_p2</th>\n",
              "      <th>python_methods_p3</th>\n",
              "      <th>python_methods_m1</th>\n",
              "      <th>python_methods_m2</th>\n",
              "      <th>python_methods_m3</th>\n",
              "    </tr>\n",
              "  </thead>\n",
              "  <tbody>\n",
              "    <tr>\n",
              "      <th>1</th>\n",
              "      <td>p = ast.parse(code)</td>\n",
              "      <td>[parse]</td>\n",
              "      <td>[walk]</td>\n",
              "      <td>[up]</td>\n",
              "      <td>[drop]</td>\n",
              "      <td>NaN</td>\n",
              "      <td>NaN</td>\n",
              "      <td>NaN</td>\n",
              "    </tr>\n",
              "    <tr>\n",
              "      <th>2</th>\n",
              "      <td>p = ast.walk()</td>\n",
              "      <td>[walk]</td>\n",
              "      <td>[up]</td>\n",
              "      <td>[drop]</td>\n",
              "      <td>NaN</td>\n",
              "      <td>[parse]</td>\n",
              "      <td>NaN</td>\n",
              "      <td>NaN</td>\n",
              "    </tr>\n",
              "    <tr>\n",
              "      <th>3</th>\n",
              "      <td>give.up()</td>\n",
              "      <td>[up]</td>\n",
              "      <td>[drop]</td>\n",
              "      <td>NaN</td>\n",
              "      <td>NaN</td>\n",
              "      <td>[walk]</td>\n",
              "      <td>[parse]</td>\n",
              "      <td>NaN</td>\n",
              "    </tr>\n",
              "    <tr>\n",
              "      <th>4</th>\n",
              "      <td>df = df.drop(index=0)</td>\n",
              "      <td>[drop]</td>\n",
              "      <td>NaN</td>\n",
              "      <td>NaN</td>\n",
              "      <td>NaN</td>\n",
              "      <td>[up]</td>\n",
              "      <td>[walk]</td>\n",
              "      <td>[parse]</td>\n",
              "    </tr>\n",
              "  </tbody>\n",
              "</table>\n",
              "</div>"
            ],
            "text/plain": [
              "0             code_block python_methods  ... python_methods_m2 python_methods_m3\n",
              "1    p = ast.parse(code)        [parse]  ...               NaN               NaN\n",
              "2         p = ast.walk()         [walk]  ...               NaN               NaN\n",
              "3              give.up()           [up]  ...           [parse]               NaN\n",
              "4  df = df.drop(index=0)         [drop]  ...            [walk]           [parse]\n",
              "\n",
              "[4 rows x 8 columns]"
            ]
          },
          "metadata": {
            "tags": []
          },
          "execution_count": 89
        }
      ]
    },
    {
      "cell_type": "code",
      "metadata": {
        "id": "KStIddgpmgF6"
      },
      "source": [
        "df.to_csv(filename[:-4] + \"python_methods.csv\", index=False)"
      ],
      "execution_count": 90,
      "outputs": []
    }
  ]
}