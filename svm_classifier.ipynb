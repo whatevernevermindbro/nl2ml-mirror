{
 "cells": [
  {
   "cell_type": "code",
   "execution_count": 4,
   "metadata": {
    "colab": {
     "base_uri": "https://localhost:8080/",
     "height": 118
    },
    "colab_type": "code",
    "id": "RGwxBtR_wDMN",
    "outputId": "9b732a87-41b6-473d-9d64-051ac71e1561"
   },
   "outputs": [
    {
     "name": "stdout",
     "output_type": "stream",
     "text": [
      "Go to this URL in a browser: https://accounts.google.com/o/oauth2/auth?client_id=947318989803-6bn6qk8qdgf4n4g3pfee6491hc0brc4i.apps.googleusercontent.com&redirect_uri=urn%3aietf%3awg%3aoauth%3a2.0%3aoob&response_type=code&scope=email%20https%3a%2f%2fwww.googleapis.com%2fauth%2fdocs.test%20https%3a%2f%2fwww.googleapis.com%2fauth%2fdrive%20https%3a%2f%2fwww.googleapis.com%2fauth%2fdrive.photos.readonly%20https%3a%2f%2fwww.googleapis.com%2fauth%2fpeopleapi.readonly\n",
      "\n",
      "Enter your authorization code:\n",
      "··········\n",
      "Mounted at /content/drive\n"
     ]
    }
   ],
   "source": [
    "from google.colab import drive\n",
    "drive.mount('/content/drive')"
   ]
  },
  {
   "cell_type": "code",
   "execution_count": 0,
   "metadata": {
    "colab": {},
    "colab_type": "code",
    "id": "bjUa4DGTMtHz"
   },
   "outputs": [],
   "source": [
    "import pandas as pd\n",
    "import re\n",
    "from nltk.tokenize import RegexpTokenizer\n",
    "import numpy as np\n",
    "import sys"
   ]
  },
  {
   "cell_type": "code",
   "execution_count": 6,
   "metadata": {
    "colab": {
     "base_uri": "https://localhost:8080/",
     "height": 1000
    },
    "colab_type": "code",
    "id": "f4SxVoVfMtIG",
    "outputId": "67faae89-e7d9-4304-bd05-afca2081805c"
   },
   "outputs": [
    {
     "name": "stderr",
     "output_type": "stream",
     "text": [
      "Skipping line 7662: field larger than field limit (131072)\n",
      "Skipping line 24774: field larger than field limit (131072)\n",
      "Skipping line 45491: field larger than field limit (131072)\n",
      "Skipping line 53234: field larger than field limit (131072)\n",
      "Skipping line 53235: field larger than field limit (131072)\n",
      "Skipping line 53236: field larger than field limit (131072)\n",
      "Skipping line 54382: field larger than field limit (131072)\n",
      "Skipping line 60222: field larger than field limit (131072)\n",
      "Skipping line 60223: field larger than field limit (131072)\n",
      "Skipping line 60224: field larger than field limit (131072)\n",
      "Skipping line 60225: field larger than field limit (131072)\n",
      "Skipping line 60226: field larger than field limit (131072)\n",
      "Skipping line 60227: field larger than field limit (131072)\n",
      "Skipping line 60228: field larger than field limit (131072)\n",
      "Skipping line 60229: field larger than field limit (131072)\n",
      "Skipping line 60230: field larger than field limit (131072)\n",
      "Skipping line 60231: field larger than field limit (131072)\n",
      "Skipping line 60232: field larger than field limit (131072)\n",
      "Skipping line 60233: field larger than field limit (131072)\n",
      "Skipping line 60234: field larger than field limit (131072)\n",
      "Skipping line 60235: field larger than field limit (131072)\n",
      "Skipping line 60236: field larger than field limit (131072)\n",
      "Skipping line 60237: field larger than field limit (131072)\n",
      "Skipping line 60238: field larger than field limit (131072)\n",
      "Skipping line 60239: field larger than field limit (131072)\n",
      "Skipping line 60240: field larger than field limit (131072)\n",
      "Skipping line 60241: field larger than field limit (131072)\n",
      "Skipping line 60242: field larger than field limit (131072)\n",
      "Skipping line 60243: field larger than field limit (131072)\n",
      "Skipping line 60925: field larger than field limit (131072)\n",
      "Skipping line 60926: field larger than field limit (131072)\n",
      "Skipping line 60927: field larger than field limit (131072)\n",
      "Skipping line 61315: field larger than field limit (131072)\n",
      "Skipping line 61316: field larger than field limit (131072)\n",
      "Skipping line 65447: field larger than field limit (131072)\n",
      "Skipping line 66776: field larger than field limit (131072)\n",
      "Skipping line 69667: field larger than field limit (131072)\n",
      "Skipping line 69668: field larger than field limit (131072)\n",
      "Skipping line 69669: field larger than field limit (131072)\n",
      "Skipping line 69670: field larger than field limit (131072)\n",
      "Skipping line 69671: field larger than field limit (131072)\n",
      "Skipping line 69672: field larger than field limit (131072)\n",
      "Skipping line 69673: field larger than field limit (131072)\n",
      "Skipping line 69674: field larger than field limit (131072)\n",
      "Skipping line 69675: field larger than field limit (131072)\n",
      "Skipping line 69676: field larger than field limit (131072)\n",
      "Skipping line 69677: field larger than field limit (131072)\n",
      "Skipping line 69678: field larger than field limit (131072)\n",
      "Skipping line 69679: field larger than field limit (131072)\n",
      "Skipping line 69680: field larger than field limit (131072)\n",
      "Skipping line 69681: field larger than field limit (131072)\n",
      "Skipping line 72419: field larger than field limit (131072)\n",
      "Skipping line 72941: field larger than field limit (131072)\n",
      "Skipping line 72942: field larger than field limit (131072)\n",
      "Skipping line 72943: field larger than field limit (131072)\n",
      "Skipping line 72944: field larger than field limit (131072)\n",
      "Skipping line 73159: field larger than field limit (131072)\n",
      "Skipping line 75702: field larger than field limit (131072)\n",
      "Skipping line 75731: field larger than field limit (131072)\n",
      "Skipping line 75732: field larger than field limit (131072)\n",
      "Skipping line 75733: field larger than field limit (131072)\n",
      "Skipping line 86545: field larger than field limit (131072)\n",
      "Skipping line 86546: field larger than field limit (131072)\n",
      "Skipping line 104036: field larger than field limit (131072)\n",
      "Skipping line 104037: field larger than field limit (131072)\n",
      "Skipping line 104039: field larger than field limit (131072)\n",
      "Skipping line 104040: field larger than field limit (131072)\n",
      "Skipping line 104042: field larger than field limit (131072)\n",
      "Skipping line 104043: field larger than field limit (131072)\n",
      "Skipping line 105930: field larger than field limit (131072)\n",
      "Skipping line 105934: field larger than field limit (131072)\n",
      "Skipping line 105935: field larger than field limit (131072)\n",
      "Skipping line 105936: field larger than field limit (131072)\n",
      "Skipping line 105937: field larger than field limit (131072)\n",
      "Skipping line 108115: field larger than field limit (131072)\n",
      "Skipping line 120097: field larger than field limit (131072)\n",
      "Skipping line 120736: field larger than field limit (131072)\n",
      "Skipping line 120737: field larger than field limit (131072)\n",
      "Skipping line 120738: field larger than field limit (131072)\n",
      "Skipping line 120745: field larger than field limit (131072)\n",
      "Skipping line 120746: field larger than field limit (131072)\n",
      "Skipping line 120747: field larger than field limit (131072)\n",
      "Skipping line 126670: field larger than field limit (131072)\n",
      "Skipping line 126956: field larger than field limit (131072)\n",
      "Skipping line 126957: field larger than field limit (131072)\n",
      "Skipping line 127065: field larger than field limit (131072)\n",
      "Skipping line 127066: field larger than field limit (131072)\n",
      "Skipping line 130935: field larger than field limit (131072)\n",
      "Skipping line 130936: field larger than field limit (131072)\n",
      "Skipping line 133510: field larger than field limit (131072)\n",
      "Skipping line 136468: field larger than field limit (131072)\n",
      "Skipping line 136469: field larger than field limit (131072)\n",
      "Skipping line 136470: field larger than field limit (131072)\n",
      "Skipping line 136471: field larger than field limit (131072)\n",
      "Skipping line 136472: field larger than field limit (131072)\n",
      "Skipping line 136473: field larger than field limit (131072)\n",
      "Skipping line 136474: field larger than field limit (131072)\n",
      "Skipping line 136475: field larger than field limit (131072)\n",
      "Skipping line 136476: field larger than field limit (131072)\n",
      "Skipping line 136477: field larger than field limit (131072)\n",
      "Skipping line 136478: field larger than field limit (131072)\n",
      "Skipping line 136479: field larger than field limit (131072)\n",
      "Skipping line 137035: field larger than field limit (131072)\n",
      "Skipping line 137036: field larger than field limit (131072)\n",
      "Skipping line 137037: field larger than field limit (131072)\n",
      "Skipping line 146567: field larger than field limit (131072)\n",
      "Skipping line 146568: field larger than field limit (131072)\n",
      "Skipping line 146569: field larger than field limit (131072)\n",
      "Skipping line 146570: field larger than field limit (131072)\n",
      "Skipping line 146571: field larger than field limit (131072)\n",
      "Skipping line 146572: field larger than field limit (131072)\n",
      "Skipping line 151001: field larger than field limit (131072)\n",
      "Skipping line 151070: field larger than field limit (131072)\n",
      "Skipping line 151530: field larger than field limit (131072)\n",
      "Skipping line 160730: field larger than field limit (131072)\n",
      "Skipping line 160731: field larger than field limit (131072)\n",
      "Skipping line 160736: field larger than field limit (131072)\n",
      "Skipping line 160738: field larger than field limit (131072)\n",
      "Skipping line 178905: field larger than field limit (131072)\n",
      "Skipping line 178906: field larger than field limit (131072)\n",
      "Skipping line 178907: field larger than field limit (131072)\n",
      "Skipping line 178908: field larger than field limit (131072)\n",
      "Skipping line 178909: field larger than field limit (131072)\n",
      "Skipping line 178910: field larger than field limit (131072)\n",
      "Skipping line 178911: field larger than field limit (131072)\n",
      "Skipping line 178912: field larger than field limit (131072)\n",
      "Skipping line 178913: field larger than field limit (131072)\n",
      "Skipping line 178914: field larger than field limit (131072)\n",
      "Skipping line 178915: field larger than field limit (131072)\n",
      "Skipping line 178916: field larger than field limit (131072)\n",
      "Skipping line 178917: field larger than field limit (131072)\n",
      "Skipping line 178918: field larger than field limit (131072)\n",
      "Skipping line 178919: field larger than field limit (131072)\n",
      "Skipping line 183396: field larger than field limit (131072)\n",
      "Skipping line 183397: field larger than field limit (131072)\n",
      "Skipping line 183398: field larger than field limit (131072)\n",
      "Skipping line 183399: field larger than field limit (131072)\n",
      "Skipping line 183400: field larger than field limit (131072)\n",
      "Skipping line 183401: field larger than field limit (131072)\n",
      "Skipping line 183402: field larger than field limit (131072)\n",
      "Skipping line 183860: field larger than field limit (131072)\n",
      "Skipping line 183861: field larger than field limit (131072)\n",
      "Skipping line 183862: field larger than field limit (131072)\n",
      "Skipping line 183863: field larger than field limit (131072)\n",
      "Skipping line 183864: field larger than field limit (131072)\n",
      "Skipping line 188522: field larger than field limit (131072)\n",
      "Skipping line 188523: field larger than field limit (131072)\n",
      "Skipping line 208804: field larger than field limit (131072)\n",
      "Skipping line 208805: field larger than field limit (131072)\n",
      "Skipping line 208806: field larger than field limit (131072)\n",
      "Skipping line 208807: field larger than field limit (131072)\n",
      "Skipping line 208808: field larger than field limit (131072)\n",
      "Skipping line 208826: field larger than field limit (131072)\n",
      "Skipping line 208827: field larger than field limit (131072)\n",
      "Skipping line 208828: field larger than field limit (131072)\n",
      "Skipping line 208829: field larger than field limit (131072)\n",
      "Skipping line 208830: field larger than field limit (131072)\n",
      "Skipping line 208831: field larger than field limit (131072)\n",
      "Skipping line 208832: field larger than field limit (131072)\n",
      "Skipping line 208833: field larger than field limit (131072)\n",
      "Skipping line 208834: field larger than field limit (131072)\n",
      "Skipping line 208835: field larger than field limit (131072)\n",
      "Skipping line 208836: field larger than field limit (131072)\n",
      "Skipping line 208837: field larger than field limit (131072)\n",
      "Skipping line 208838: field larger than field limit (131072)\n",
      "Skipping line 208839: field larger than field limit (131072)\n",
      "Skipping line 208840: field larger than field limit (131072)\n",
      "Skipping line 214482: field larger than field limit (131072)\n",
      "Skipping line 214483: field larger than field limit (131072)\n",
      "Skipping line 214484: field larger than field limit (131072)\n",
      "Skipping line 241946: field larger than field limit (131072)\n",
      "Skipping line 241947: field larger than field limit (131072)\n",
      "Skipping line 247623: field larger than field limit (131072)\n",
      "Skipping line 247863: field larger than field limit (131072)\n",
      "Skipping line 249407: field larger than field limit (131072)\n",
      "Skipping line 249408: field larger than field limit (131072)\n",
      "Skipping line 250473: field larger than field limit (131072)\n",
      "Skipping line 250474: field larger than field limit (131072)\n",
      "Skipping line 250475: field larger than field limit (131072)\n",
      "Skipping line 250477: field larger than field limit (131072)\n",
      "Skipping line 257013: field larger than field limit (131072)\n",
      "Skipping line 257014: field larger than field limit (131072)\n",
      "Skipping line 264457: field larger than field limit (131072)\n",
      "Skipping line 264475: field larger than field limit (131072)\n",
      "Skipping line 264538: field larger than field limit (131072)\n",
      "Skipping line 264539: field larger than field limit (131072)\n",
      "Skipping line 264540: field larger than field limit (131072)\n",
      "Skipping line 264541: field larger than field limit (131072)\n",
      "Skipping line 264542: field larger than field limit (131072)\n",
      "Skipping line 264543: field larger than field limit (131072)\n"
     ]
    },
    {
     "name": "stdout",
     "output_type": "stream",
     "text": [
      "CPU times: user 3.45 s, sys: 441 ms, total: 3.89 s\n",
      "Wall time: 5.7 s\n"
     ]
    }
   ],
   "source": [
    "%%time\n",
    "\n",
    "df = pd.read_csv('/content/drive/My Drive/nl2ml_data/code_blocks.csv', sep='\\t', delimiter='\\t',\n",
    "                 encoding='utf-8', error_bad_lines=False, engine='python')"
   ]
  },
  {
   "cell_type": "code",
   "execution_count": 7,
   "metadata": {
    "colab": {
     "base_uri": "https://localhost:8080/",
     "height": 65
    },
    "colab_type": "code",
    "id": "PtZRDYGb8uGg",
    "outputId": "88771014-61da-41fe-a859-9947bfcdc0e5"
   },
   "outputs": [
    {
     "name": "stdout",
     "output_type": "stream",
     "text": [
      "origical df shape: (271587, 2) \n",
      "number of unique code blocks: 197216\n",
      "new df shape: (197216, 2)\n"
     ]
    }
   ],
   "source": [
    "print('origical df shape:', df.shape, '\\nnumber of unique code blocks:', df['code_block'].nunique())\n",
    "df.drop_duplicates(subset='code_block', inplace=True)\n",
    "df.reset_index(drop=True)\n",
    "print('new df shape:', df.shape)"
   ]
  },
  {
   "cell_type": "code",
   "execution_count": 0,
   "metadata": {
    "colab": {},
    "colab_type": "code",
    "id": "0SqPIgm4oakw"
   },
   "outputs": [],
   "source": [
    "df.to_csv('/content/drive/My Drive/nl2ml_data/code_blocks_unique.csv', sep='\\t', encoding='utf-8', index=False)"
   ]
  },
  {
   "cell_type": "code",
   "execution_count": 0,
   "metadata": {
    "colab": {},
    "colab_type": "code",
    "id": "od5fKdL3okUX"
   },
   "outputs": [],
   "source": [
    "df = pd.read_csv('/content/drive/My Drive/nl2ml_data/code_blocks_unique.csv', sep='\\t', delimiter='\\t',\n",
    "                 encoding='utf-8', error_bad_lines=False, engine='python')"
   ]
  },
  {
   "cell_type": "code",
   "execution_count": 10,
   "metadata": {
    "colab": {
     "base_uri": "https://localhost:8080/",
     "height": 201
    },
    "colab_type": "code",
    "id": "op7Z_WRDoz8Z",
    "outputId": "3e005784-e51d-4109-f08a-251f67a49f07"
   },
   "outputs": [
    {
     "data": {
      "text/html": [
       "<div>\n",
       "<style scoped>\n",
       "    .dataframe tbody tr th:only-of-type {\n",
       "        vertical-align: middle;\n",
       "    }\n",
       "\n",
       "    .dataframe tbody tr th {\n",
       "        vertical-align: top;\n",
       "    }\n",
       "\n",
       "    .dataframe thead th {\n",
       "        text-align: right;\n",
       "    }\n",
       "</style>\n",
       "<table border=\"1\" class=\"dataframe\">\n",
       "  <thead>\n",
       "    <tr style=\"text-align: right;\">\n",
       "      <th></th>\n",
       "      <th>code_block</th>\n",
       "      <th>tag</th>\n",
       "    </tr>\n",
       "  </thead>\n",
       "  <tbody>\n",
       "    <tr>\n",
       "      <th>0</th>\n",
       "      <td>\\nimport pandas as pd\\nimport matplotlib.pyplo...</td>\n",
       "      <td>['invite people for the kaggle party']</td>\n",
       "    </tr>\n",
       "    <tr>\n",
       "      <th>1</th>\n",
       "      <td>\\ndf_train = pd.read_csv('../input/train.csv'),</td>\n",
       "      <td>['bring in the six packs']</td>\n",
       "    </tr>\n",
       "    <tr>\n",
       "      <th>2</th>\n",
       "      <td>\\ndf_train.columns,</td>\n",
       "      <td>['check the decoration']</td>\n",
       "    </tr>\n",
       "    <tr>\n",
       "      <th>3</th>\n",
       "      <td>\\ndf_train['SalePrice'].describe(),</td>\n",
       "      <td>['descriptive statistics summary']</td>\n",
       "    </tr>\n",
       "    <tr>\n",
       "      <th>4</th>\n",
       "      <td>\\nsns.distplot(df_train['SalePrice']);,</td>\n",
       "      <td>['histogram']</td>\n",
       "    </tr>\n",
       "  </tbody>\n",
       "</table>\n",
       "</div>"
      ],
      "text/plain": [
       "                                          code_block                                     tag\n",
       "0  \\nimport pandas as pd\\nimport matplotlib.pyplo...  ['invite people for the kaggle party']\n",
       "1    \\ndf_train = pd.read_csv('../input/train.csv'),              ['bring in the six packs']\n",
       "2                                \\ndf_train.columns,                ['check the decoration']\n",
       "3                \\ndf_train['SalePrice'].describe(),      ['descriptive statistics summary']\n",
       "4            \\nsns.distplot(df_train['SalePrice']);,                           ['histogram']"
      ]
     },
     "execution_count": 10,
     "metadata": {
      "tags": []
     },
     "output_type": "execute_result"
    }
   ],
   "source": [
    "df.head()"
   ]
  },
  {
   "cell_type": "markdown",
   "metadata": {
    "colab_type": "text",
    "id": "oycddUVRXS7V"
   },
   "source": [
    "**TAGGING**"
   ]
  },
  {
   "cell_type": "code",
   "execution_count": 0,
   "metadata": {
    "colab": {},
    "colab_type": "code",
    "id": "5Llb7lHdYWyz"
   },
   "outputs": [],
   "source": [
    "graph = {'imports': ['import ', ' from ']\n",
    "          ,'data_load': ['.load', '_load', '_dump', 'load_', '.csv', 'glob', 'pickle.', 'read_', 'download', '.txt', '.json', '.png', '.jpg', '.jpeg']\n",
    "          ,'preprocessing': ['train_test_split(', 'Normalizer(', 'StandardScaler(', 'normalize(', 'scale(', 'DictVectorizer(', 'CountVectorizer(', 'HashingVectorizer(', 'TfidfVectorizer(', 'Stemmer(', 'Lemmatizer(', 'convert', '.resize', 'encode(', '.fill(', '.fillna(', '.concat', 'merge'\n",
    "                              ,'train_test_split (', 'Normalizer (', 'StandardScaler (', 'normalize (', 'scale (', 'DictVectorizer (', 'CountVectorizer (', 'HashingVectorizer (', 'TfidfVectorizer (', 'Stemmer (', 'Lemmatizer (', 'encode (', '.fill (', '.fillna (']\n",
    "          ,'visualization': ['plot.', 'plt.', 'graph', 'histogram', 'hist', 'sns.', 'plotline', 'chart', 'diagram', 'heatmap', 'figure', 'plot_tree(', 'plot_tree (']\n",
    "          ,'model': ['LinearRegression(', 'RandomForest(', 'Ridge(', 'RidgeCV(', 'RidgeClassifier(', 'RidgeClassifierCV(', 'Lasso(', 'SGD(', 'LogisticRegression(', 'LogisticRegressionCV(', 'SVC(', 'SVR(', 'Layer(', 'XGboost(', 'LGBM(', 'CatBoost('\n",
    "                      , 'Perceptron(', 'KNeighborsRegressor(', 'KNeighborsClassifier(', 'SGDRegressor(', 'ElasticNet(', 'ElasticNetCV(', 'KMeans(', 'AgglomerativeClustering(', 'SpectralClustering(', 'CategoricalNB(', 'ComplementNB(', 'DecisionTreeClassifier(', 'DecisionTreeRegressor('\n",
    "                      ,'LinearRegression (', 'RandomForest (', 'Ridge (', 'RidgeCV (', 'RidgeClassifier (', 'RidgeClassifierCV (', 'Lasso (', 'SGD (', 'LogisticRegression (', 'LogisticRegressionCV (', 'SVC (', 'SVR (', 'Layer (', 'XGboost (', 'LGBM (', 'CatBoost ('\n",
    "                      , 'Perceptron (', 'KNeighborsRegressor (', 'KNeighborsClassifier (', 'SGDRegressor (', 'ElasticNet (', 'ElasticNetCV (', 'KMeans (', 'AgglomerativeClustering (', 'SpectralClustering (', 'CategoricalNB (', 'ComplementNB (', 'DecisionTreeClassifier (', 'DecisionTreeRegressor (']\n",
    "          ,'train': ['.fit_transform', '.fit', 'epoch', 'loss', 'optimizer']\n",
    "          ,'predict': ['.predict', '_error', '.mean_', '_score', '_distance']\n",
    "}"
   ]
  },
  {
   "cell_type": "code",
   "execution_count": 0,
   "metadata": {
    "colab": {},
    "colab_type": "code",
    "id": "PZ-3q2afMtIm"
   },
   "outputs": [],
   "source": [
    "def tokens_search(df, tokens, new_column_name):\n",
    "    df[new_column_name] = 0\n",
    "    for i in range(len(df)):\n",
    "        for token in tokens:\n",
    "            if token in df.loc[i, 'code_block']:\n",
    "                df.at[i, new_column_name] = 1\n",
    "                break\n",
    "    return df"
   ]
  },
  {
   "cell_type": "code",
   "execution_count": 13,
   "metadata": {
    "colab": {
     "base_uri": "https://localhost:8080/",
     "height": 49
    },
    "colab_type": "code",
    "id": "DAyIjla3MtIt",
    "outputId": "756027bc-8f12-4fb7-b44a-249bcc820938"
   },
   "outputs": [
    {
     "name": "stdout",
     "output_type": "stream",
     "text": [
      "CPU times: user 3min, sys: 57.6 ms, total: 3min\n",
      "Wall time: 3min\n"
     ]
    }
   ],
   "source": [
    "%%time\n",
    "\n",
    "for i in range(0, len(graph)):\n",
    "    vertex = list(graph.keys())[i]\n",
    "    tokens = graph[vertex]\n",
    "    df = tokens_search(df, tokens, vertex)"
   ]
  },
  {
   "cell_type": "code",
   "execution_count": 14,
   "metadata": {
    "colab": {
     "base_uri": "https://localhost:8080/",
     "height": 300
    },
    "colab_type": "code",
    "id": "fjr8tEYBpq4A",
    "outputId": "90026cc3-e109-4622-95f1-5eb0f2d6ec18"
   },
   "outputs": [
    {
     "data": {
      "text/html": [
       "<div>\n",
       "<style scoped>\n",
       "    .dataframe tbody tr th:only-of-type {\n",
       "        vertical-align: middle;\n",
       "    }\n",
       "\n",
       "    .dataframe tbody tr th {\n",
       "        vertical-align: top;\n",
       "    }\n",
       "\n",
       "    .dataframe thead th {\n",
       "        text-align: right;\n",
       "    }\n",
       "</style>\n",
       "<table border=\"1\" class=\"dataframe\">\n",
       "  <thead>\n",
       "    <tr style=\"text-align: right;\">\n",
       "      <th></th>\n",
       "      <th>code_block</th>\n",
       "      <th>tag</th>\n",
       "      <th>imports</th>\n",
       "      <th>data_load</th>\n",
       "      <th>preprocessing</th>\n",
       "      <th>visualization</th>\n",
       "      <th>model</th>\n",
       "      <th>train</th>\n",
       "      <th>predict</th>\n",
       "    </tr>\n",
       "  </thead>\n",
       "  <tbody>\n",
       "    <tr>\n",
       "      <th>0</th>\n",
       "      <td>\\nimport pandas as pd\\nimport matplotlib.pyplo...</td>\n",
       "      <td>['invite people for the kaggle party']</td>\n",
       "      <td>1</td>\n",
       "      <td>0</td>\n",
       "      <td>0</td>\n",
       "      <td>0</td>\n",
       "      <td>0</td>\n",
       "      <td>0</td>\n",
       "      <td>0</td>\n",
       "    </tr>\n",
       "    <tr>\n",
       "      <th>1</th>\n",
       "      <td>\\ndf_train = pd.read_csv('../input/train.csv'),</td>\n",
       "      <td>['bring in the six packs']</td>\n",
       "      <td>0</td>\n",
       "      <td>1</td>\n",
       "      <td>0</td>\n",
       "      <td>0</td>\n",
       "      <td>0</td>\n",
       "      <td>0</td>\n",
       "      <td>0</td>\n",
       "    </tr>\n",
       "    <tr>\n",
       "      <th>2</th>\n",
       "      <td>\\ndf_train.columns,</td>\n",
       "      <td>['check the decoration']</td>\n",
       "      <td>0</td>\n",
       "      <td>0</td>\n",
       "      <td>0</td>\n",
       "      <td>0</td>\n",
       "      <td>0</td>\n",
       "      <td>0</td>\n",
       "      <td>0</td>\n",
       "    </tr>\n",
       "    <tr>\n",
       "      <th>3</th>\n",
       "      <td>\\ndf_train['SalePrice'].describe(),</td>\n",
       "      <td>['descriptive statistics summary']</td>\n",
       "      <td>0</td>\n",
       "      <td>0</td>\n",
       "      <td>0</td>\n",
       "      <td>0</td>\n",
       "      <td>0</td>\n",
       "      <td>0</td>\n",
       "      <td>0</td>\n",
       "    </tr>\n",
       "    <tr>\n",
       "      <th>4</th>\n",
       "      <td>\\nsns.distplot(df_train['SalePrice']);,</td>\n",
       "      <td>['histogram']</td>\n",
       "      <td>0</td>\n",
       "      <td>0</td>\n",
       "      <td>0</td>\n",
       "      <td>1</td>\n",
       "      <td>0</td>\n",
       "      <td>0</td>\n",
       "      <td>0</td>\n",
       "    </tr>\n",
       "  </tbody>\n",
       "</table>\n",
       "</div>"
      ],
      "text/plain": [
       "                                          code_block  ... predict\n",
       "0  \\nimport pandas as pd\\nimport matplotlib.pyplo...  ...       0\n",
       "1    \\ndf_train = pd.read_csv('../input/train.csv'),  ...       0\n",
       "2                                \\ndf_train.columns,  ...       0\n",
       "3                \\ndf_train['SalePrice'].describe(),  ...       0\n",
       "4            \\nsns.distplot(df_train['SalePrice']);,  ...       0\n",
       "\n",
       "[5 rows x 9 columns]"
      ]
     },
     "execution_count": 14,
     "metadata": {
      "tags": []
     },
     "output_type": "execute_result"
    }
   ],
   "source": [
    "df.head()"
   ]
  },
  {
   "cell_type": "code",
   "execution_count": 15,
   "metadata": {
    "colab": {
     "base_uri": "https://localhost:8080/",
     "height": 131
    },
    "colab_type": "code",
    "id": "xVPRj3Ny3klh",
    "outputId": "1382af62-223d-4124-c56c-9ed20b0f498e"
   },
   "outputs": [
    {
     "data": {
      "text/plain": [
       "{'data_load': '12.47',\n",
       " 'imports': '12.99',\n",
       " 'model': '2.60',\n",
       " 'predict': '9.56',\n",
       " 'preprocessing': '8.82',\n",
       " 'train': '10.66',\n",
       " 'visualization': '19.24'}"
      ]
     },
     "execution_count": 15,
     "metadata": {
      "tags": []
     },
     "output_type": "execute_result"
    }
   ],
   "source": [
    "stats = {'imports': f\"{100 * df['imports'].value_counts()[1]/len(df):.2f}\"\n",
    "          ,'data_load': f\"{100 * df['data_load'].value_counts()[1]/len(df):.2f}\"\n",
    "          ,'preprocessing': f\"{100 * df['preprocessing'].value_counts()[1]/len(df):.2f}\"\n",
    "          ,'visualization': f\"{100 * df['visualization'].value_counts()[1]/len(df):.2f}\"\n",
    "          ,'model': f\"{100 * df['model'].value_counts()[1]/len(df):.2f}\"\n",
    "          ,'train': f\"{100 * df['train'].value_counts()[1]/len(df):.2f}\"\n",
    "          ,'predict': f\"{100 * df['predict'].value_counts()[1]/len(df):.2f}\"\n",
    "}\n",
    "\n",
    "stats"
   ]
  },
  {
   "cell_type": "markdown",
   "metadata": {
    "colab_type": "text",
    "id": "bS-T_Q4HMtI7"
   },
   "source": [
    "**SVM** for the 'imports' tag"
   ]
  },
  {
   "cell_type": "code",
   "execution_count": 0,
   "metadata": {
    "colab": {},
    "colab_type": "code",
    "id": "jZ816ND9MtI8"
   },
   "outputs": [],
   "source": [
    "from sklearn.feature_extraction.text import TfidfVectorizer\n",
    "from sklearn.model_selection import KFold, GridSearchCV\n",
    "from sklearn.svm import SVC\n",
    "from sklearn.model_selection import train_test_split\n",
    "from sklearn.ensemble import BaggingClassifier\n",
    "from sklearn.multiclass import OneVsRestClassifier"
   ]
  },
  {
   "cell_type": "code",
   "execution_count": 0,
   "metadata": {
    "colab": {},
    "colab_type": "code",
    "id": "8E4UOMk3MtJE"
   },
   "outputs": [],
   "source": [
    "X = df['code_block']\n",
    "y = df['imports']"
   ]
  },
  {
   "cell_type": "code",
   "execution_count": 0,
   "metadata": {
    "colab": {},
    "colab_type": "code",
    "id": "lFXh9IZ4lrX0"
   },
   "outputs": [],
   "source": [
    "vectorizer = TfidfVectorizer(ngram_range = (1,2), smooth_idf = True)\n",
    "X = vectorizer.fit_transform(X)"
   ]
  },
  {
   "cell_type": "code",
   "execution_count": 0,
   "metadata": {
    "colab": {},
    "colab_type": "code",
    "id": "xCW_4HlFfnFe"
   },
   "outputs": [],
   "source": [
    "X_train, X_test, y_train, y_test = train_test_split(X, y, test_size=0.3)"
   ]
  },
  {
   "cell_type": "code",
   "execution_count": 0,
   "metadata": {
    "colab": {},
    "colab_type": "code",
    "id": "knAmYP0qMtJN"
   },
   "outputs": [],
   "source": [
    "grid = {\"C\": [1, 10, 100]}\n",
    "cv = KFold(n_splits=5, shuffle=True, random_state=241)\n",
    "model = SVC(kernel=\"linear\", random_state=241)\n",
    "gs = GridSearchCV(model, grid, scoring=\"accuracy\", cv=cv, verbose=1, n_jobs=-1)"
   ]
  },
  {
   "cell_type": "code",
   "execution_count": 18,
   "metadata": {
    "colab": {
     "base_uri": "https://localhost:8080/",
     "height": 98
    },
    "colab_type": "code",
    "id": "aZ_bieCnQMoC",
    "outputId": "43a0c5c6-9c2c-43a3-fce2-361a305035a6"
   },
   "outputs": [
    {
     "name": "stdout",
     "output_type": "stream",
     "text": [
      "Fitting 5 folds for each of 3 candidates, totalling 15 fits\n"
     ]
    },
    {
     "name": "stderr",
     "output_type": "stream",
     "text": [
      "[Parallel(n_jobs=-1)]: Using backend LokyBackend with 2 concurrent workers.\n",
      "[Parallel(n_jobs=-1)]: Done  15 out of  15 | elapsed: 31.4min finished\n"
     ]
    },
    {
     "name": "stdout",
     "output_type": "stream",
     "text": [
      "CPU times: user 4min 27s, sys: 603 ms, total: 4min 27s\n",
      "Wall time: 35min 49s\n"
     ]
    }
   ],
   "source": [
    "%%time\n",
    "\n",
    "gs.fit(X_train[:25000], y_train.ravel()[:25000])\n",
    "\n",
    "C = gs.best_params_.get('C')\n",
    "\n",
    "# total runtime:\n",
    "# Fitting 5 folds for each of 3 candidates, totalling 15 fits\n",
    "# [ Parallel(n_jobs=-1)]: Using backend LokyBackend with 2 concurrent workers.\n",
    "# [Parallel(n_jobs=-1)]: Done  15 out of  15 | elapsed: 117.0min finished\n",
    "# CPU times: user 8min 19s, sys: 1.09 s, total: 8min 20s\n",
    "# Wall time: 2h 5min 18s"
   ]
  },
  {
   "cell_type": "code",
   "execution_count": 19,
   "metadata": {
    "colab": {
     "base_uri": "https://localhost:8080/",
     "height": 32
    },
    "colab_type": "code",
    "id": "rDPG0syu37ko",
    "outputId": "3b5e7deb-493c-4f8a-da85-753a0671e987"
   },
   "outputs": [
    {
     "data": {
      "text/plain": [
       "100"
      ]
     },
     "execution_count": 19,
     "metadata": {
      "tags": []
     },
     "output_type": "execute_result"
    }
   ],
   "source": [
    "C"
   ]
  },
  {
   "cell_type": "markdown",
   "metadata": {
    "colab_type": "text",
    "id": "PY0YTmARhpM-"
   },
   "source": [
    "**LINEAR KERNEL**"
   ]
  },
  {
   "cell_type": "code",
   "execution_count": 20,
   "metadata": {
    "colab": {
     "base_uri": "https://localhost:8080/",
     "height": 49
    },
    "colab_type": "code",
    "id": "g3cb3j9JMtJS",
    "outputId": "020f1c82-96c0-4b4f-c3f0-03e93c05da6c"
   },
   "outputs": [
    {
     "name": "stdout",
     "output_type": "stream",
     "text": [
      "CPU times: user 8min 48s, sys: 898 ms, total: 8min 49s\n",
      "Wall time: 8min 49s\n"
     ]
    }
   ],
   "source": [
    "%%time\n",
    "\n",
    "# model = SVC(C=C, kernel=\"linear\", random_state=241)\n",
    "# model.fit(X_train, y_train.ravel())\n",
    "\n",
    "# a faster option:\n",
    "# 1: usage of BagginClassifier decreased the fitting time from 38 mins to 8\n",
    "n_estimators = 10\n",
    "clf = BaggingClassifier(SVC(C=C, kernel='linear', random_state=241), max_samples=1.0 / n_estimators, n_estimators=n_estimators)\n",
    "clf.fit(X_train, y_train.ravel())"
   ]
  },
  {
   "cell_type": "code",
   "execution_count": 0,
   "metadata": {
    "colab": {},
    "colab_type": "code",
    "id": "YivC-o4ZMtJY"
   },
   "outputs": [],
   "source": [
    "from sklearn import metrics\n",
    "import matplotlib.pyplot as plt"
   ]
  },
  {
   "cell_type": "code",
   "execution_count": 22,
   "metadata": {
    "colab": {
     "base_uri": "https://localhost:8080/",
     "height": 49
    },
    "colab_type": "code",
    "id": "DXh0RAHnHwM9",
    "outputId": "278d617c-d551-4be4-9f8c-f4eb562fb2ce"
   },
   "outputs": [
    {
     "name": "stdout",
     "output_type": "stream",
     "text": [
      "CPU times: user 16min 17s, sys: 2.01 s, total: 16min 19s\n",
      "Wall time: 16min 16s\n"
     ]
    }
   ],
   "source": [
    "%%time\n",
    "\n",
    "# y_pred = model.predict(X_test)\n",
    "y_pred = clf.predict(X_test)"
   ]
  },
  {
   "cell_type": "code",
   "execution_count": 23,
   "metadata": {
    "colab": {
     "base_uri": "https://localhost:8080/",
     "height": 32
    },
    "colab_type": "code",
    "id": "Y0pg7r8NTeUj",
    "outputId": "80be566e-f424-4d17-91a9-abb24b05f67e"
   },
   "outputs": [
    {
     "data": {
      "text/plain": [
       "0.9972805559752228"
      ]
     },
     "execution_count": 23,
     "metadata": {
      "tags": []
     },
     "output_type": "execute_result"
    }
   ],
   "source": [
    "metrics.precision_score(y_test, y_pred)"
   ]
  },
  {
   "cell_type": "code",
   "execution_count": 24,
   "metadata": {
    "colab": {
     "base_uri": "https://localhost:8080/",
     "height": 32
    },
    "colab_type": "code",
    "id": "BBJ414ZaWr3Y",
    "outputId": "5b8c330e-13df-4beb-d484-2d908ade8b07"
   },
   "outputs": [
    {
     "data": {
      "text/plain": [
       "0.9234750979294907"
      ]
     },
     "execution_count": 24,
     "metadata": {
      "tags": []
     },
     "output_type": "execute_result"
    }
   ],
   "source": [
    "metrics.f1_score(y_test, y_pred)"
   ]
  },
  {
   "cell_type": "code",
   "execution_count": 25,
   "metadata": {
    "colab": {
     "base_uri": "https://localhost:8080/",
     "height": 294
    },
    "colab_type": "code",
    "id": "j3kpPAdBV68M",
    "outputId": "b26f405e-8919-4735-b3a4-fff06db51fc0"
   },
   "outputs": [
    {
     "data": {
      "text/plain": [
       "<sklearn.metrics._plot.confusion_matrix.ConfusionMatrixDisplay at 0x7f9b8663dcf8>"
      ]
     },
     "execution_count": 25,
     "metadata": {
      "tags": []
     },
     "output_type": "execute_result"
    },
    {
     "data": {
      "image/png": "[encoded data removed]",
      "text/plain": [
       "<Figure size 432x288 with 2 Axes>"
      ]
     },
     "metadata": {
      "needs_background": "light",
      "tags": []
     },
     "output_type": "display_data"
    }
   ],
   "source": [
    "# metrics.plot_confusion_matrix(model, X_test, y_test)\n",
    "metrics.plot_confusion_matrix(clf, X_test, y_test)"
   ]
  },
  {
   "cell_type": "markdown",
   "metadata": {
    "colab_type": "text",
    "id": "SLgMk6d92Jco"
   },
   "source": [
    "**SVM** for the 'data_load' tag"
   ]
  },
  {
   "cell_type": "code",
   "execution_count": 0,
   "metadata": {
    "colab": {},
    "colab_type": "code",
    "id": "tEUxZXh4h-1L"
   },
   "outputs": [],
   "source": [
    "X = df['code_block']\n",
    "y = df['data_load']\n",
    "\n",
    "vectorizer = TfidfVectorizer(ngram_range = (1,2), smooth_idf = True)\n",
    "X = vectorizer.fit_transform(X)\n",
    "\n",
    "X_train, X_test, y_train, y_test = train_test_split(X, y, test_size=0.3)"
   ]
  },
  {
   "cell_type": "code",
   "execution_count": 27,
   "metadata": {
    "colab": {
     "base_uri": "https://localhost:8080/",
     "height": 98
    },
    "colab_type": "code",
    "id": "JgPxVyEc2d7u",
    "outputId": "cbe031f2-b727-41b0-8463-efb9fbd43b74"
   },
   "outputs": [
    {
     "name": "stdout",
     "output_type": "stream",
     "text": [
      "Fitting 5 folds for each of 3 candidates, totalling 15 fits\n"
     ]
    },
    {
     "name": "stderr",
     "output_type": "stream",
     "text": [
      "[Parallel(n_jobs=-1)]: Using backend LokyBackend with 2 concurrent workers.\n",
      "[Parallel(n_jobs=-1)]: Done  15 out of  15 | elapsed: 36.2min finished\n"
     ]
    },
    {
     "name": "stdout",
     "output_type": "stream",
     "text": [
      "CPU times: user 6min 7s, sys: 388 ms, total: 6min 8s\n",
      "Wall time: 42min 19s\n"
     ]
    }
   ],
   "source": [
    "%%time\n",
    "\n",
    "grid = {\"C\": [1, 10, 100]}\n",
    "cv = KFold(n_splits=5, shuffle=True, random_state=241)\n",
    "model = SVC(kernel=\"linear\", random_state=241)\n",
    "gs = GridSearchCV(model, grid, scoring=\"accuracy\", cv=cv, verbose=1, n_jobs=-1)\n",
    "gs.fit(X_train[:25000], y_train.ravel()[:25000])\n",
    "C = gs.best_params_.get('C')"
   ]
  },
  {
   "cell_type": "code",
   "execution_count": 28,
   "metadata": {
    "colab": {
     "base_uri": "https://localhost:8080/",
     "height": 32
    },
    "colab_type": "code",
    "id": "hI4QS1Bu4EtU",
    "outputId": "3140da9d-3114-4580-ca8c-813666d36991"
   },
   "outputs": [
    {
     "data": {
      "text/plain": [
       "100"
      ]
     },
     "execution_count": 28,
     "metadata": {
      "tags": []
     },
     "output_type": "execute_result"
    }
   ],
   "source": [
    "C"
   ]
  },
  {
   "cell_type": "code",
   "execution_count": 29,
   "metadata": {
    "colab": {
     "base_uri": "https://localhost:8080/",
     "height": 49
    },
    "colab_type": "code",
    "id": "qgGUpUUs2dwX",
    "outputId": "9320c09c-dfcc-4415-c746-346ba4d1b0c6"
   },
   "outputs": [
    {
     "name": "stdout",
     "output_type": "stream",
     "text": [
      "CPU times: user 13min 37s, sys: 673 ms, total: 13min 37s\n",
      "Wall time: 13min 38s\n"
     ]
    }
   ],
   "source": [
    "%%time\n",
    "\n",
    "n_estimators = 10\n",
    "model = BaggingClassifier(SVC(C=C, kernel='linear', random_state=241), max_samples=1.0 / n_estimators, n_estimators=n_estimators)\n",
    "model.fit(X_train, y_train.ravel())"
   ]
  },
  {
   "cell_type": "code",
   "execution_count": 30,
   "metadata": {
    "colab": {
     "base_uri": "https://localhost:8080/",
     "height": 49
    },
    "colab_type": "code",
    "id": "E0a-gX4y2dl5",
    "outputId": "069cde2b-6b46-43fe-fe53-cf1bea50dc01"
   },
   "outputs": [
    {
     "name": "stdout",
     "output_type": "stream",
     "text": [
      "CPU times: user 18min 32s, sys: 2.05 s, total: 18min 34s\n",
      "Wall time: 18min 31s\n"
     ]
    }
   ],
   "source": [
    "%%time\n",
    "\n",
    "y_pred = model.predict(X_test)"
   ]
  },
  {
   "cell_type": "code",
   "execution_count": 31,
   "metadata": {
    "colab": {
     "base_uri": "https://localhost:8080/",
     "height": 32
    },
    "colab_type": "code",
    "id": "9OtLIKGK2dZ5",
    "outputId": "e74d1bee-0044-4632-cba2-110ab583fd07"
   },
   "outputs": [
    {
     "data": {
      "text/plain": [
       "0.9854039375424304"
      ]
     },
     "execution_count": 31,
     "metadata": {
      "tags": []
     },
     "output_type": "execute_result"
    }
   ],
   "source": [
    "metrics.precision_score(y_test, y_pred)"
   ]
  },
  {
   "cell_type": "code",
   "execution_count": 32,
   "metadata": {
    "colab": {
     "base_uri": "https://localhost:8080/",
     "height": 32
    },
    "colab_type": "code",
    "id": "E77a5Ec92dCh",
    "outputId": "4c75b74f-0098-4e12-f61a-00359de10a76"
   },
   "outputs": [
    {
     "data": {
      "text/plain": [
       "0.869747584450603"
      ]
     },
     "execution_count": 32,
     "metadata": {
      "tags": []
     },
     "output_type": "execute_result"
    }
   ],
   "source": [
    "metrics.f1_score(y_test, y_pred)"
   ]
  },
  {
   "cell_type": "code",
   "execution_count": 33,
   "metadata": {
    "colab": {
     "base_uri": "https://localhost:8080/",
     "height": 294
    },
    "colab_type": "code",
    "id": "opKeuowH2dOC",
    "outputId": "ee04a373-1b70-4a7d-801b-4f27f523b2db"
   },
   "outputs": [
    {
     "data": {
      "text/plain": [
       "<sklearn.metrics._plot.confusion_matrix.ConfusionMatrixDisplay at 0x7f9b7325b518>"
      ]
     },
     "execution_count": 33,
     "metadata": {
      "tags": []
     },
     "output_type": "execute_result"
    },
    {
     "data": {
      "image/png": "[encoded data removed]",
      "text/plain": [
       "<Figure size 432x288 with 2 Axes>"
      ]
     },
     "metadata": {
      "needs_background": "light",
      "tags": []
     },
     "output_type": "display_data"
    }
   ],
   "source": [
    "metrics.plot_confusion_matrix(model, X_test, y_test)"
   ]
  },
  {
   "cell_type": "markdown",
   "metadata": {
    "colab_type": "text",
    "id": "x6-iAsgk3IBK"
   },
   "source": [
    "**SVM** for the 'preprocessing' tag"
   ]
  },
  {
   "cell_type": "code",
   "execution_count": 0,
   "metadata": {
    "colab": {},
    "colab_type": "code",
    "id": "PmtCRFpp2cws"
   },
   "outputs": [],
   "source": [
    "X = df['code_block']\n",
    "y = df['preprocessing']\n",
    "\n",
    "vectorizer = TfidfVectorizer(ngram_range = (1,2), smooth_idf = True)\n",
    "X = vectorizer.fit_transform(X)\n",
    "\n",
    "X_train, X_test, y_train, y_test = train_test_split(X, y, test_size=0.3)"
   ]
  },
  {
   "cell_type": "code",
   "execution_count": 35,
   "metadata": {
    "colab": {
     "base_uri": "https://localhost:8080/",
     "height": 98
    },
    "colab_type": "code",
    "id": "RdNhAbue2cnh",
    "outputId": "727b9702-f655-45d1-cd00-7165fd0337d2"
   },
   "outputs": [
    {
     "name": "stdout",
     "output_type": "stream",
     "text": [
      "Fitting 5 folds for each of 3 candidates, totalling 15 fits\n"
     ]
    },
    {
     "name": "stderr",
     "output_type": "stream",
     "text": [
      "[Parallel(n_jobs=-1)]: Using backend LokyBackend with 2 concurrent workers.\n",
      "[Parallel(n_jobs=-1)]: Done  15 out of  15 | elapsed: 44.1min finished\n"
     ]
    },
    {
     "name": "stdout",
     "output_type": "stream",
     "text": [
      "CPU times: user 7min 53s, sys: 427 ms, total: 7min 53s\n",
      "Wall time: 51min 59s\n"
     ]
    }
   ],
   "source": [
    "%%time\n",
    "\n",
    "grid = {\"C\": [1, 10, 100]}\n",
    "cv = KFold(n_splits=5, shuffle=True, random_state=241)\n",
    "model = SVC(kernel=\"linear\", random_state=241)\n",
    "gs = GridSearchCV(model, grid, scoring=\"accuracy\", cv=cv, verbose=1, n_jobs=-1)\n",
    "gs.fit(X_train[:25000], y_train.ravel()[:25000])\n",
    "C = gs.best_params_.get('C')"
   ]
  },
  {
   "cell_type": "code",
   "execution_count": 36,
   "metadata": {
    "colab": {
     "base_uri": "https://localhost:8080/",
     "height": 32
    },
    "colab_type": "code",
    "id": "n3dfauye4Hds",
    "outputId": "fe343f85-9792-4206-d765-caa8ea5c2a15"
   },
   "outputs": [
    {
     "data": {
      "text/plain": [
       "100"
      ]
     },
     "execution_count": 36,
     "metadata": {
      "tags": []
     },
     "output_type": "execute_result"
    }
   ],
   "source": [
    "C"
   ]
  },
  {
   "cell_type": "code",
   "execution_count": 37,
   "metadata": {
    "colab": {
     "base_uri": "https://localhost:8080/",
     "height": 49
    },
    "colab_type": "code",
    "id": "ye8QEh_Y2cem",
    "outputId": "5debce92-e95b-4fd8-c40b-482e1699a621"
   },
   "outputs": [
    {
     "name": "stdout",
     "output_type": "stream",
     "text": [
      "CPU times: user 19min 10s, sys: 731 ms, total: 19min 11s\n",
      "Wall time: 19min 12s\n"
     ]
    }
   ],
   "source": [
    "%%time\n",
    "\n",
    "n_estimators = 10\n",
    "model = BaggingClassifier(SVC(C=C, kernel='linear', random_state=241), max_samples=1.0 / n_estimators, n_estimators=n_estimators)\n",
    "model.fit(X_train, y_train.ravel())"
   ]
  },
  {
   "cell_type": "code",
   "execution_count": 38,
   "metadata": {
    "colab": {
     "base_uri": "https://localhost:8080/",
     "height": 49
    },
    "colab_type": "code",
    "id": "w1nVkYUI2cVe",
    "outputId": "6815388f-e7d6-4328-e2f3-17c3385a5dc6"
   },
   "outputs": [
    {
     "name": "stdout",
     "output_type": "stream",
     "text": [
      "CPU times: user 22min 46s, sys: 3.48 s, total: 22min 50s\n",
      "Wall time: 22min 45s\n"
     ]
    }
   ],
   "source": [
    "%%time\n",
    "\n",
    "y_pred = model.predict(X_test)"
   ]
  },
  {
   "cell_type": "code",
   "execution_count": 39,
   "metadata": {
    "colab": {
     "base_uri": "https://localhost:8080/",
     "height": 32
    },
    "colab_type": "code",
    "id": "e7ADyPLa2cMw",
    "outputId": "2ac795e7-dd17-4985-e333-7c53d5547667"
   },
   "outputs": [
    {
     "data": {
      "text/plain": [
       "0.9881782358290391"
      ]
     },
     "execution_count": 39,
     "metadata": {
      "tags": []
     },
     "output_type": "execute_result"
    }
   ],
   "source": [
    "metrics.precision_score(y_test, y_pred)"
   ]
  },
  {
   "cell_type": "code",
   "execution_count": 40,
   "metadata": {
    "colab": {
     "base_uri": "https://localhost:8080/",
     "height": 32
    },
    "colab_type": "code",
    "id": "NJJ96u_02cBC",
    "outputId": "9c083e46-024a-4cf0-a34e-c41dd59161ca"
   },
   "outputs": [
    {
     "data": {
      "text/plain": [
       "0.7617712349573548"
      ]
     },
     "execution_count": 40,
     "metadata": {
      "tags": []
     },
     "output_type": "execute_result"
    }
   ],
   "source": [
    "metrics.f1_score(y_test, y_pred)"
   ]
  },
  {
   "cell_type": "code",
   "execution_count": 41,
   "metadata": {
    "colab": {
     "base_uri": "https://localhost:8080/",
     "height": 294
    },
    "colab_type": "code",
    "id": "a0AHyqPe2cDN",
    "outputId": "fd9bfc45-47cb-4d23-9f1f-eaa5d45f9d5d"
   },
   "outputs": [
    {
     "data": {
      "text/plain": [
       "<sklearn.metrics._plot.confusion_matrix.ConfusionMatrixDisplay at 0x7f9b85aa41d0>"
      ]
     },
     "execution_count": 41,
     "metadata": {
      "tags": []
     },
     "output_type": "execute_result"
    },
    {
     "data": {
      "image/png": "[encoded data removed]",
      "text/plain": [
       "<Figure size 432x288 with 2 Axes>"
      ]
     },
     "metadata": {
      "needs_background": "light",
      "tags": []
     },
     "output_type": "display_data"
    }
   ],
   "source": [
    "metrics.plot_confusion_matrix(model, X_test, y_test)"
   ]
  },
  {
   "cell_type": "markdown",
   "metadata": {
    "colab_type": "text",
    "id": "NPpqWQAOB-Ya"
   },
   "source": [
    "**SVM** for the 'visualization' tag"
   ]
  },
  {
   "cell_type": "code",
   "execution_count": 0,
   "metadata": {
    "colab": {},
    "colab_type": "code",
    "id": "IPWbgz11B9Qc"
   },
   "outputs": [],
   "source": [
    "X = df['code_block']\n",
    "y = df['visualization']\n",
    "\n",
    "vectorizer = TfidfVectorizer(ngram_range = (1,2), smooth_idf = True)\n",
    "X = vectorizer.fit_transform(X)\n",
    "\n",
    "X_train, X_test, y_train, y_test = train_test_split(X, y, test_size=0.3)"
   ]
  },
  {
   "cell_type": "code",
   "execution_count": 43,
   "metadata": {
    "colab": {
     "base_uri": "https://localhost:8080/",
     "height": 98
    },
    "colab_type": "code",
    "id": "YeH2oI9eCJ0v",
    "outputId": "50ec2bfd-d0a7-47de-fb07-0c65e0a3a091"
   },
   "outputs": [
    {
     "name": "stdout",
     "output_type": "stream",
     "text": [
      "Fitting 5 folds for each of 3 candidates, totalling 15 fits\n"
     ]
    },
    {
     "name": "stderr",
     "output_type": "stream",
     "text": [
      "[Parallel(n_jobs=-1)]: Using backend LokyBackend with 2 concurrent workers.\n",
      "[Parallel(n_jobs=-1)]: Done  15 out of  15 | elapsed: 42.1min finished\n"
     ]
    },
    {
     "name": "stdout",
     "output_type": "stream",
     "text": [
      "CPU times: user 7min 13s, sys: 473 ms, total: 7min 13s\n",
      "Wall time: 49min 22s\n"
     ]
    }
   ],
   "source": [
    "%%time\n",
    "\n",
    "grid = {\"C\": [1, 10, 100]}\n",
    "cv = KFold(n_splits=5, shuffle=True, random_state=241)\n",
    "model = SVC(kernel=\"linear\", random_state=241)\n",
    "gs = GridSearchCV(model, grid, scoring=\"accuracy\", cv=cv, verbose=1, n_jobs=-1)\n",
    "gs.fit(X_train[:25000], y_train.ravel()[:25000])\n",
    "C = gs.best_params_.get('C')"
   ]
  },
  {
   "cell_type": "code",
   "execution_count": 44,
   "metadata": {
    "colab": {
     "base_uri": "https://localhost:8080/",
     "height": 32
    },
    "colab_type": "code",
    "id": "mYh3SHL2CLg2",
    "outputId": "f1b6f3c1-c221-42f0-8b89-539e01a5acb5"
   },
   "outputs": [
    {
     "data": {
      "text/plain": [
       "10"
      ]
     },
     "execution_count": 44,
     "metadata": {
      "tags": []
     },
     "output_type": "execute_result"
    }
   ],
   "source": [
    "C"
   ]
  },
  {
   "cell_type": "code",
   "execution_count": 45,
   "metadata": {
    "colab": {
     "base_uri": "https://localhost:8080/",
     "height": 49
    },
    "colab_type": "code",
    "id": "Lp6fa5ReCMss",
    "outputId": "7b6f5126-7c8e-4fe1-9798-f9902a77a84e"
   },
   "outputs": [
    {
     "name": "stdout",
     "output_type": "stream",
     "text": [
      "CPU times: user 19min 20s, sys: 822 ms, total: 19min 21s\n",
      "Wall time: 19min 22s\n"
     ]
    }
   ],
   "source": [
    "%%time\n",
    "\n",
    "n_estimators = 10\n",
    "model = BaggingClassifier(SVC(C=C, kernel='linear', random_state=241), max_samples=1.0 / n_estimators, n_estimators=n_estimators)\n",
    "model.fit(X_train, y_train.ravel())"
   ]
  },
  {
   "cell_type": "code",
   "execution_count": 46,
   "metadata": {
    "colab": {
     "base_uri": "https://localhost:8080/",
     "height": 49
    },
    "colab_type": "code",
    "id": "E66t7PScCRFg",
    "outputId": "3fd427b2-4c1b-4386-d15d-f51c82b5c8ef"
   },
   "outputs": [
    {
     "name": "stdout",
     "output_type": "stream",
     "text": [
      "CPU times: user 24min 31s, sys: 3.91 s, total: 24min 35s\n",
      "Wall time: 24min 30s\n"
     ]
    }
   ],
   "source": [
    "%%time\n",
    "\n",
    "y_pred = model.predict(X_test)"
   ]
  },
  {
   "cell_type": "code",
   "execution_count": 47,
   "metadata": {
    "colab": {
     "base_uri": "https://localhost:8080/",
     "height": 32
    },
    "colab_type": "code",
    "id": "f9HHmOvvCTA0",
    "outputId": "f54ef5ad-aae2-4f02-c62d-32da5f56052f"
   },
   "outputs": [
    {
     "data": {
      "text/plain": [
       "0.9961192810457516"
      ]
     },
     "execution_count": 47,
     "metadata": {
      "tags": []
     },
     "output_type": "execute_result"
    }
   ],
   "source": [
    "metrics.precision_score(y_test, y_pred)"
   ]
  },
  {
   "cell_type": "code",
   "execution_count": 48,
   "metadata": {
    "colab": {
     "base_uri": "https://localhost:8080/",
     "height": 32
    },
    "colab_type": "code",
    "id": "NcdyO2XSCW_r",
    "outputId": "99a8097d-d542-4896-e8b5-b799ce3c4f5d"
   },
   "outputs": [
    {
     "data": {
      "text/plain": [
       "0.9245935826342481"
      ]
     },
     "execution_count": 48,
     "metadata": {
      "tags": []
     },
     "output_type": "execute_result"
    }
   ],
   "source": [
    "metrics.f1_score(y_test, y_pred)"
   ]
  },
  {
   "cell_type": "code",
   "execution_count": 49,
   "metadata": {
    "colab": {
     "base_uri": "https://localhost:8080/",
     "height": 294
    },
    "colab_type": "code",
    "id": "dimF72q3CUPZ",
    "outputId": "0ff8345d-2aa3-4b40-b41c-cfeeb43dfe0a"
   },
   "outputs": [
    {
     "data": {
      "text/plain": [
       "<sklearn.metrics._plot.confusion_matrix.ConfusionMatrixDisplay at 0x7f9b85aa4ba8>"
      ]
     },
     "execution_count": 49,
     "metadata": {
      "tags": []
     },
     "output_type": "execute_result"
    },
    {
     "data": {
      "image/png": "[encoded data removed]",
      "text/plain": [
       "<Figure size 432x288 with 2 Axes>"
      ]
     },
     "metadata": {
      "needs_background": "light",
      "tags": []
     },
     "output_type": "display_data"
    }
   ],
   "source": [
    "metrics.plot_confusion_matrix(model, X_test, y_test)"
   ]
  },
  {
   "cell_type": "markdown",
   "metadata": {
    "colab_type": "text",
    "id": "AECzxhtS3t1h"
   },
   "source": [
    "**SVM** for the 'model' tag"
   ]
  },
  {
   "cell_type": "code",
   "execution_count": 0,
   "metadata": {
    "colab": {},
    "colab_type": "code",
    "id": "Ecwzx9Dz2b2h"
   },
   "outputs": [],
   "source": [
    "X = df['code_block']\n",
    "y = df['model']\n",
    "\n",
    "vectorizer = TfidfVectorizer(ngram_range = (1,2), smooth_idf = True)\n",
    "X = vectorizer.fit_transform(X)\n",
    "\n",
    "X_train, X_test, y_train, y_test = train_test_split(X, y, test_size=0.3)"
   ]
  },
  {
   "cell_type": "code",
   "execution_count": 51,
   "metadata": {
    "colab": {
     "base_uri": "https://localhost:8080/",
     "height": 98
    },
    "colab_type": "code",
    "id": "S7C_zX6Z2bnc",
    "outputId": "a790f384-b5b2-401c-c057-e58242baa87b"
   },
   "outputs": [
    {
     "name": "stdout",
     "output_type": "stream",
     "text": [
      "Fitting 5 folds for each of 3 candidates, totalling 15 fits\n"
     ]
    },
    {
     "name": "stderr",
     "output_type": "stream",
     "text": [
      "[Parallel(n_jobs=-1)]: Using backend LokyBackend with 2 concurrent workers.\n",
      "[Parallel(n_jobs=-1)]: Done  15 out of  15 | elapsed:  5.9min finished\n"
     ]
    },
    {
     "name": "stdout",
     "output_type": "stream",
     "text": [
      "CPU times: user 1min 35s, sys: 313 ms, total: 1min 35s\n",
      "Wall time: 7min 31s\n"
     ]
    }
   ],
   "source": [
    "%%time\n",
    "\n",
    "grid = {\"C\": [1, 10, 100]}\n",
    "cv = KFold(n_splits=5, shuffle=True, random_state=241)\n",
    "model = SVC(kernel=\"linear\", random_state=241)\n",
    "gs = GridSearchCV(model, grid, scoring=\"accuracy\", cv=cv, verbose=1, n_jobs=-1)\n",
    "gs.fit(X_train[:25000], y_train.ravel()[:25000])\n",
    "C = gs.best_params_.get('C')"
   ]
  },
  {
   "cell_type": "code",
   "execution_count": 52,
   "metadata": {
    "colab": {
     "base_uri": "https://localhost:8080/",
     "height": 32
    },
    "colab_type": "code",
    "id": "0W6NlDOV2be8",
    "outputId": "8981ba98-ad00-4d36-85d7-6673b1c67722"
   },
   "outputs": [
    {
     "data": {
      "text/plain": [
       "100"
      ]
     },
     "execution_count": 52,
     "metadata": {
      "tags": []
     },
     "output_type": "execute_result"
    }
   ],
   "source": [
    "C"
   ]
  },
  {
   "cell_type": "code",
   "execution_count": 53,
   "metadata": {
    "colab": {
     "base_uri": "https://localhost:8080/",
     "height": 49
    },
    "colab_type": "code",
    "id": "JzzcTNNJ2bQ6",
    "outputId": "cad52cff-437a-4eab-bd33-445a67ad1ee9"
   },
   "outputs": [
    {
     "name": "stdout",
     "output_type": "stream",
     "text": [
      "CPU times: user 3min 3s, sys: 301 ms, total: 3min 3s\n",
      "Wall time: 3min 4s\n"
     ]
    }
   ],
   "source": [
    "%%time\n",
    "\n",
    "n_estimators = 10\n",
    "model = BaggingClassifier(SVC(C=C, kernel='linear', random_state=241), max_samples=1.0 / n_estimators, n_estimators=n_estimators)\n",
    "model.fit(X_train, y_train.ravel())"
   ]
  },
  {
   "cell_type": "code",
   "execution_count": 54,
   "metadata": {
    "colab": {
     "base_uri": "https://localhost:8080/",
     "height": 49
    },
    "colab_type": "code",
    "id": "LtghVMsj2bIw",
    "outputId": "3e8cdc60-32d0-4199-8338-e5e9e3abc88b"
   },
   "outputs": [
    {
     "name": "stdout",
     "output_type": "stream",
     "text": [
      "CPU times: user 7min 2s, sys: 1.12 s, total: 7min 3s\n",
      "Wall time: 7min 2s\n"
     ]
    }
   ],
   "source": [
    "%%time\n",
    "\n",
    "y_pred = model.predict(X_test)"
   ]
  },
  {
   "cell_type": "code",
   "execution_count": 55,
   "metadata": {
    "colab": {
     "base_uri": "https://localhost:8080/",
     "height": 32
    },
    "colab_type": "code",
    "id": "YXsPVR2p2bGz",
    "outputId": "08ea6cb3-c88c-42da-968f-a6b890fd2e4a"
   },
   "outputs": [
    {
     "data": {
      "text/plain": [
       "0.9686450167973124"
      ]
     },
     "execution_count": 55,
     "metadata": {
      "tags": []
     },
     "output_type": "execute_result"
    }
   ],
   "source": [
    "metrics.precision_score(y_test, y_pred)"
   ]
  },
  {
   "cell_type": "code",
   "execution_count": 56,
   "metadata": {
    "colab": {
     "base_uri": "https://localhost:8080/",
     "height": 32
    },
    "colab_type": "code",
    "id": "aMq-Loe02a2s",
    "outputId": "a2cd175c-19cc-46ec-ee9b-cab6abf3d4c1"
   },
   "outputs": [
    {
     "data": {
      "text/plain": [
       "0.7101806239737274"
      ]
     },
     "execution_count": 56,
     "metadata": {
      "tags": []
     },
     "output_type": "execute_result"
    }
   ],
   "source": [
    "metrics.f1_score(y_test, y_pred)"
   ]
  },
  {
   "cell_type": "code",
   "execution_count": 57,
   "metadata": {
    "colab": {
     "base_uri": "https://localhost:8080/",
     "height": 294
    },
    "colab_type": "code",
    "id": "uTqBZoAE2a-0",
    "outputId": "41646a41-9657-48d6-8c47-218f3ac0b89d"
   },
   "outputs": [
    {
     "data": {
      "text/plain": [
       "<sklearn.metrics._plot.confusion_matrix.ConfusionMatrixDisplay at 0x7f9b7353f898>"
      ]
     },
     "execution_count": 57,
     "metadata": {
      "tags": []
     },
     "output_type": "execute_result"
    },
    {
     "data": {
      "image/png": "[encoded data removed]",
      "text/plain": [
       "<Figure size 432x288 with 2 Axes>"
      ]
     },
     "metadata": {
      "needs_background": "light",
      "tags": []
     },
     "output_type": "display_data"
    }
   ],
   "source": [
    "metrics.plot_confusion_matrix(model, X_test, y_test)"
   ]
  },
  {
   "cell_type": "markdown",
   "metadata": {
    "colab_type": "text",
    "id": "WV0o3KnD4ZLs"
   },
   "source": [
    "**SVM** for the 'train' tag"
   ]
  },
  {
   "cell_type": "code",
   "execution_count": 0,
   "metadata": {
    "colab": {},
    "colab_type": "code",
    "id": "AhfhSJ1C2a0s"
   },
   "outputs": [],
   "source": [
    "X = df['code_block']\n",
    "y = df['train']\n",
    "\n",
    "vectorizer = TfidfVectorizer(ngram_range = (1,2), smooth_idf = True)\n",
    "X = vectorizer.fit_transform(X)\n",
    "\n",
    "X_train, X_test, y_train, y_test = train_test_split(X, y, test_size=0.3)"
   ]
  },
  {
   "cell_type": "code",
   "execution_count": 59,
   "metadata": {
    "colab": {
     "base_uri": "https://localhost:8080/",
     "height": 98
    },
    "colab_type": "code",
    "id": "3pmeuR_J2asJ",
    "outputId": "ad997892-5c23-4840-ad59-24917d50d9c8"
   },
   "outputs": [
    {
     "name": "stdout",
     "output_type": "stream",
     "text": [
      "Fitting 5 folds for each of 3 candidates, totalling 15 fits\n"
     ]
    },
    {
     "name": "stderr",
     "output_type": "stream",
     "text": [
      "[Parallel(n_jobs=-1)]: Using backend LokyBackend with 2 concurrent workers.\n",
      "[Parallel(n_jobs=-1)]: Done  15 out of  15 | elapsed: 34.2min finished\n"
     ]
    },
    {
     "name": "stdout",
     "output_type": "stream",
     "text": [
      "CPU times: user 5min 46s, sys: 433 ms, total: 5min 46s\n",
      "Wall time: 39min 59s\n"
     ]
    }
   ],
   "source": [
    "%%time\n",
    "\n",
    "grid = {\"C\": [1, 10, 100]}\n",
    "cv = KFold(n_splits=5, shuffle=True, random_state=241)\n",
    "model = SVC(kernel=\"linear\", random_state=241)\n",
    "gs = GridSearchCV(model, grid, scoring=\"accuracy\", cv=cv, verbose=1, n_jobs=-1)\n",
    "gs.fit(X_train[:25000], y_train.ravel()[:25000])\n",
    "C = gs.best_params_.get('C')"
   ]
  },
  {
   "cell_type": "code",
   "execution_count": 60,
   "metadata": {
    "colab": {
     "base_uri": "https://localhost:8080/",
     "height": 32
    },
    "colab_type": "code",
    "id": "Koz1BCzL2ai3",
    "outputId": "06004e36-48a5-4724-9788-3b4bb777289d"
   },
   "outputs": [
    {
     "data": {
      "text/plain": [
       "10"
      ]
     },
     "execution_count": 60,
     "metadata": {
      "tags": []
     },
     "output_type": "execute_result"
    }
   ],
   "source": [
    "C"
   ]
  },
  {
   "cell_type": "code",
   "execution_count": 61,
   "metadata": {
    "colab": {
     "base_uri": "https://localhost:8080/",
     "height": 49
    },
    "colab_type": "code",
    "id": "uI7tfT-O2aVL",
    "outputId": "75fca042-e238-40de-e287-99d396929a87"
   },
   "outputs": [
    {
     "name": "stdout",
     "output_type": "stream",
     "text": [
      "CPU times: user 13min 9s, sys: 582 ms, total: 13min 10s\n",
      "Wall time: 13min 11s\n"
     ]
    }
   ],
   "source": [
    "%%time\n",
    "\n",
    "n_estimators = 10\n",
    "model = BaggingClassifier(SVC(C=C, kernel='linear', random_state=241), max_samples=1.0 / n_estimators, n_estimators=n_estimators)\n",
    "model.fit(X_train, y_train.ravel())"
   ]
  },
  {
   "cell_type": "code",
   "execution_count": 62,
   "metadata": {
    "colab": {
     "base_uri": "https://localhost:8080/",
     "height": 49
    },
    "colab_type": "code",
    "id": "voslTQ9u4nTf",
    "outputId": "34800bcc-3e34-44b1-99a9-0b359e2d12e7"
   },
   "outputs": [
    {
     "name": "stdout",
     "output_type": "stream",
     "text": [
      "CPU times: user 19min 42s, sys: 3.17 s, total: 19min 46s\n",
      "Wall time: 19min 41s\n"
     ]
    }
   ],
   "source": [
    "%%time\n",
    "\n",
    "y_pred = model.predict(X_test)"
   ]
  },
  {
   "cell_type": "code",
   "execution_count": 63,
   "metadata": {
    "colab": {
     "base_uri": "https://localhost:8080/",
     "height": 32
    },
    "colab_type": "code",
    "id": "BfHgVo_E4paa",
    "outputId": "165ffc54-50e7-4358-b18f-ba4a4c4fec67"
   },
   "outputs": [
    {
     "data": {
      "text/plain": [
       "0.9813664596273292"
      ]
     },
     "execution_count": 63,
     "metadata": {
      "tags": []
     },
     "output_type": "execute_result"
    }
   ],
   "source": [
    "metrics.precision_score(y_test, y_pred)"
   ]
  },
  {
   "cell_type": "code",
   "execution_count": 65,
   "metadata": {
    "colab": {
     "base_uri": "https://localhost:8080/",
     "height": 32
    },
    "colab_type": "code",
    "id": "rowICTLs4o7w",
    "outputId": "78a3fa64-6792-4ebd-aa7d-fc64208bc25a"
   },
   "outputs": [
    {
     "data": {
      "text/plain": [
       "0.8833755569144754"
      ]
     },
     "execution_count": 65,
     "metadata": {
      "tags": []
     },
     "output_type": "execute_result"
    }
   ],
   "source": [
    "metrics.f1_score(y_test, y_pred)"
   ]
  },
  {
   "cell_type": "code",
   "execution_count": 64,
   "metadata": {
    "colab": {
     "base_uri": "https://localhost:8080/",
     "height": 294
    },
    "colab_type": "code",
    "id": "2_wO8cH04pLF",
    "outputId": "c1e4bf96-35b7-4b15-fa90-bb80edb22632"
   },
   "outputs": [
    {
     "data": {
      "text/plain": [
       "<sklearn.metrics._plot.confusion_matrix.ConfusionMatrixDisplay at 0x7f9b80da9518>"
      ]
     },
     "execution_count": 64,
     "metadata": {
      "tags": []
     },
     "output_type": "execute_result"
    },
    {
     "data": {
      "image/png": "[encoded data removed]",
      "text/plain": [
       "<Figure size 432x288 with 2 Axes>"
      ]
     },
     "metadata": {
      "needs_background": "light",
      "tags": []
     },
     "output_type": "display_data"
    }
   ],
   "source": [
    "metrics.plot_confusion_matrix(model, X_test, y_test)"
   ]
  },
  {
   "cell_type": "markdown",
   "metadata": {
    "colab_type": "text",
    "id": "t5yoTYkl4xhS"
   },
   "source": [
    "**SVM** for the 'predict' tag"
   ]
  },
  {
   "cell_type": "code",
   "execution_count": 0,
   "metadata": {
    "colab": {},
    "colab_type": "code",
    "id": "VUZdtJGM4orQ"
   },
   "outputs": [],
   "source": [
    "X = df['code_block']\n",
    "y = df['predict']\n",
    "\n",
    "vectorizer = TfidfVectorizer(ngram_range = (1,2), smooth_idf = True)\n",
    "X = vectorizer.fit_transform(X)\n",
    "\n",
    "X_train, X_test, y_train, y_test = train_test_split(X, y, test_size=0.3)"
   ]
  },
  {
   "cell_type": "code",
   "execution_count": 21,
   "metadata": {
    "colab": {
     "base_uri": "https://localhost:8080/",
     "height": 98
    },
    "colab_type": "code",
    "id": "JgXuuJc6NWB7",
    "outputId": "438ec586-31d1-41de-c301-af840079fc3f"
   },
   "outputs": [
    {
     "name": "stdout",
     "output_type": "stream",
     "text": [
      "Fitting 5 folds for each of 3 candidates, totalling 15 fits\n"
     ]
    },
    {
     "name": "stderr",
     "output_type": "stream",
     "text": [
      "[Parallel(n_jobs=1)]: Using backend SequentialBackend with 1 concurrent workers.\n",
      "[Parallel(n_jobs=1)]: Done  15 out of  15 | elapsed: 41.6min finished\n"
     ]
    },
    {
     "name": "stdout",
     "output_type": "stream",
     "text": [
      "CPU times: user 46min, sys: 1.78 s, total: 46min 1s\n",
      "Wall time: 46min 3s\n"
     ]
    }
   ],
   "source": [
    "%%time\n",
    "\n",
    "grid = {\"C\": [1, 10, 100]}\n",
    "cv = KFold(n_splits=5, shuffle=True, random_state=241)\n",
    "model = SVC(kernel=\"linear\", random_state=241)\n",
    "gs = GridSearchCV(model, grid, scoring=\"accuracy\", cv=cv, verbose=1, n_jobs=1)\n",
    "gs.fit(X_train[:25000], y_train.ravel()[:25000])  # n = 25k caused memory leaks + n_jobs=-1, so it did with n = 20k\n",
    "C = gs.best_params_.get('C')"
   ]
  },
  {
   "cell_type": "code",
   "execution_count": 22,
   "metadata": {
    "colab": {
     "base_uri": "https://localhost:8080/",
     "height": 32
    },
    "colab_type": "code",
    "id": "j0mK6D5M4oKa",
    "outputId": "eefad445-a0dc-48b0-eae2-b610aa12dd66"
   },
   "outputs": [
    {
     "data": {
      "text/plain": [
       "100"
      ]
     },
     "execution_count": 22,
     "metadata": {
      "tags": []
     },
     "output_type": "execute_result"
    }
   ],
   "source": [
    "C"
   ]
  },
  {
   "cell_type": "code",
   "execution_count": 23,
   "metadata": {
    "colab": {
     "base_uri": "https://localhost:8080/",
     "height": 49
    },
    "colab_type": "code",
    "id": "6ArbldTY4nFU",
    "outputId": "d539171d-d89b-43a1-c7fd-2a52af25b44d"
   },
   "outputs": [
    {
     "name": "stdout",
     "output_type": "stream",
     "text": [
      "CPU times: user 8min 55s, sys: 771 ms, total: 8min 55s\n",
      "Wall time: 8min 56s\n"
     ]
    }
   ],
   "source": [
    "%%time\n",
    "\n",
    "n_estimators = 10\n",
    "model = BaggingClassifier(SVC(C=C, kernel='linear', random_state=241), max_samples=1.0 / n_estimators, n_estimators=n_estimators)\n",
    "model.fit(X_train, y_train.ravel())"
   ]
  },
  {
   "cell_type": "code",
   "execution_count": 24,
   "metadata": {
    "colab": {
     "base_uri": "https://localhost:8080/",
     "height": 49
    },
    "colab_type": "code",
    "id": "kMznZg-q4m2o",
    "outputId": "856c3aeb-fa80-4c33-920a-375d6c6b6c33"
   },
   "outputs": [
    {
     "name": "stdout",
     "output_type": "stream",
     "text": [
      "CPU times: user 15min 31s, sys: 1.04 s, total: 15min 32s\n",
      "Wall time: 15min 31s\n"
     ]
    }
   ],
   "source": [
    "%%time\n",
    "\n",
    "y_pred = model.predict(X_test)"
   ]
  },
  {
   "cell_type": "code",
   "execution_count": 25,
   "metadata": {
    "colab": {
     "base_uri": "https://localhost:8080/",
     "height": 32
    },
    "colab_type": "code",
    "id": "BWQCEh4E4mVk",
    "outputId": "2e08612f-4464-41a3-ec37-9e24240c6c4f"
   },
   "outputs": [
    {
     "data": {
      "text/plain": [
       "0.9709090909090909"
      ]
     },
     "execution_count": 25,
     "metadata": {
      "tags": []
     },
     "output_type": "execute_result"
    }
   ],
   "source": [
    "metrics.precision_score(y_test, y_pred)"
   ]
  },
  {
   "cell_type": "code",
   "execution_count": 26,
   "metadata": {
    "colab": {
     "base_uri": "https://localhost:8080/",
     "height": 32
    },
    "colab_type": "code",
    "id": "jYe1VbXWNZN5",
    "outputId": "da21b304-d976-4e5a-8360-3dc82f083fd5"
   },
   "outputs": [
    {
     "data": {
      "text/plain": [
       "0.8147696063472689"
      ]
     },
     "execution_count": 26,
     "metadata": {
      "tags": []
     },
     "output_type": "execute_result"
    }
   ],
   "source": [
    "metrics.f1_score(y_test, y_pred)"
   ]
  },
  {
   "cell_type": "code",
   "execution_count": 27,
   "metadata": {
    "colab": {
     "base_uri": "https://localhost:8080/",
     "height": 294
    },
    "colab_type": "code",
    "id": "SdH2FtIF4mS1",
    "outputId": "b3b71ddb-dac2-452d-c751-3fbefbee917c"
   },
   "outputs": [
    {
     "data": {
      "text/plain": [
       "<sklearn.metrics._plot.confusion_matrix.ConfusionMatrixDisplay at 0x7fd0be098d68>"
      ]
     },
     "execution_count": 27,
     "metadata": {
      "tags": []
     },
     "output_type": "execute_result"
    },
    {
     "data": {
      "image/png": "[encoded data removed]",
      "text/plain": [
       "<Figure size 432x288 with 2 Axes>"
      ]
     },
     "metadata": {
      "needs_background": "light",
      "tags": []
     },
     "output_type": "display_data"
    }
   ],
   "source": [
    "metrics.plot_confusion_matrix(model, X_test, y_test)"
   ]
  }
 ],
 "metadata": {
  "accelerator": "TPU",
  "colab": {
   "collapsed_sections": [],
   "name": "svc.ipynb",
   "provenance": []
  },
  "kernelspec": {
   "display_name": "Python 3",
   "language": "python",
   "name": "python3"
  },
  "language_info": {
   "codemirror_mode": {
    "name": "ipython",
    "version": 3
   },
   "file_extension": ".py",
   "mimetype": "text/x-python",
   "name": "python",
   "nbconvert_exporter": "python",
   "pygments_lexer": "ipython3",
   "version": "3.7.4"
  }
 },
 "nbformat": 4,
 "nbformat_minor": 1
}
