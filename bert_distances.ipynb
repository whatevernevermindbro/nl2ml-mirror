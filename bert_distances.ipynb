{
  "nbformat": 4,
  "nbformat_minor": 0,
  "metadata": {
    "kernelspec": {
      "language": "python",
      "display_name": "Python 3",
      "name": "python3"
    },
    "language_info": {
      "pygments_lexer": "ipython3",
      "nbconvert_exporter": "python",
      "version": "3.6.4",
      "file_extension": ".py",
      "codemirror_mode": {
        "name": "ipython",
        "version": 3
      },
      "name": "python",
      "mimetype": "text/x-python"
    },
    "colab": {
      "name": "NL2ML: BERT Distances",
      "provenance": [],
      "collapsed_sections": [],
      "toc_visible": true
    }
  },
  "cells": [
    {
      "cell_type": "code",
      "metadata": {
        "trusted": true,
        "id": "i2PK_6ES7ysS",
        "colab_type": "code",
        "colab": {
          "base_uri": "https://localhost:8080/",
          "height": 1000
        },
        "outputId": "704ee82b-1953-4c28-d930-d9bee0d87b0a"
      },
      "source": [
        "!pip install tensorflow_hub==0.7\n",
        "!pip install tensorflow==2.0.0\n",
        "!pip install bert-for-tf2\n",
        "!pip install sentencepiece"
      ],
      "execution_count": null,
      "outputs": [
        {
          "output_type": "stream",
          "text": [
            "Collecting tensorflow_hub==0.7\n",
            "\u001b[?25l  Downloading https://files.pythonhosted.org/packages/00/0e/a91780d07592b1abf9c91344ce459472cc19db3b67fdf3a61dca6ebb2f5c/tensorflow_hub-0.7.0-py2.py3-none-any.whl (89kB)\n",
            "\r\u001b[K     |███▊                            | 10kB 16.8MB/s eta 0:00:01\r\u001b[K     |███████▍                        | 20kB 1.6MB/s eta 0:00:01\r\u001b[K     |███████████                     | 30kB 1.9MB/s eta 0:00:01\r\u001b[K     |██████████████▊                 | 40kB 2.2MB/s eta 0:00:01\r\u001b[K     |██████████████████▍             | 51kB 2.0MB/s eta 0:00:01\r\u001b[K     |██████████████████████          | 61kB 2.2MB/s eta 0:00:01\r\u001b[K     |█████████████████████████▊      | 71kB 2.4MB/s eta 0:00:01\r\u001b[K     |█████████████████████████████▍  | 81kB 2.6MB/s eta 0:00:01\r\u001b[K     |████████████████████████████████| 92kB 2.3MB/s \n",
            "\u001b[?25hRequirement already satisfied: protobuf>=3.4.0 in /usr/local/lib/python3.6/dist-packages (from tensorflow_hub==0.7) (3.10.0)\n",
            "Requirement already satisfied: numpy>=1.12.0 in /usr/local/lib/python3.6/dist-packages (from tensorflow_hub==0.7) (1.18.4)\n",
            "Requirement already satisfied: six>=1.10.0 in /usr/local/lib/python3.6/dist-packages (from tensorflow_hub==0.7) (1.12.0)\n",
            "Requirement already satisfied: setuptools in /usr/local/lib/python3.6/dist-packages (from protobuf>=3.4.0->tensorflow_hub==0.7) (46.3.0)\n",
            "Installing collected packages: tensorflow-hub\n",
            "  Found existing installation: tensorflow-hub 0.8.0\n",
            "    Uninstalling tensorflow-hub-0.8.0:\n",
            "      Successfully uninstalled tensorflow-hub-0.8.0\n",
            "Successfully installed tensorflow-hub-0.7.0\n",
            "Collecting tensorflow==2.0.0\n",
            "\u001b[?25l  Downloading https://files.pythonhosted.org/packages/46/0f/7bd55361168bb32796b360ad15a25de6966c9c1beb58a8e30c01c8279862/tensorflow-2.0.0-cp36-cp36m-manylinux2010_x86_64.whl (86.3MB)\n",
            "\u001b[K     |████████████████████████████████| 86.3MB 63kB/s \n",
            "\u001b[?25hRequirement already satisfied: keras-preprocessing>=1.0.5 in /usr/local/lib/python3.6/dist-packages (from tensorflow==2.0.0) (1.1.0)\n",
            "Requirement already satisfied: astor>=0.6.0 in /usr/local/lib/python3.6/dist-packages (from tensorflow==2.0.0) (0.8.1)\n",
            "Collecting tensorflow-estimator<2.1.0,>=2.0.0\n",
            "\u001b[?25l  Downloading https://files.pythonhosted.org/packages/fc/08/8b927337b7019c374719145d1dceba21a8bb909b93b1ad6f8fb7d22c1ca1/tensorflow_estimator-2.0.1-py2.py3-none-any.whl (449kB)\n",
            "\u001b[K     |████████████████████████████████| 450kB 44.7MB/s \n",
            "\u001b[?25hRequirement already satisfied: wheel>=0.26 in /usr/local/lib/python3.6/dist-packages (from tensorflow==2.0.0) (0.34.2)\n",
            "Requirement already satisfied: six>=1.10.0 in /usr/local/lib/python3.6/dist-packages (from tensorflow==2.0.0) (1.12.0)\n",
            "Collecting tensorboard<2.1.0,>=2.0.0\n",
            "\u001b[?25l  Downloading https://files.pythonhosted.org/packages/76/54/99b9d5d52d5cb732f099baaaf7740403e83fe6b0cedde940fabd2b13d75a/tensorboard-2.0.2-py3-none-any.whl (3.8MB)\n",
            "\u001b[K     |████████████████████████████████| 3.8MB 44.8MB/s \n",
            "\u001b[?25hRequirement already satisfied: absl-py>=0.7.0 in /usr/local/lib/python3.6/dist-packages (from tensorflow==2.0.0) (0.9.0)\n",
            "Requirement already satisfied: wrapt>=1.11.1 in /usr/local/lib/python3.6/dist-packages (from tensorflow==2.0.0) (1.12.1)\n",
            "Requirement already satisfied: protobuf>=3.6.1 in /usr/local/lib/python3.6/dist-packages (from tensorflow==2.0.0) (3.10.0)\n",
            "Requirement already satisfied: grpcio>=1.8.6 in /usr/local/lib/python3.6/dist-packages (from tensorflow==2.0.0) (1.28.1)\n",
            "Requirement already satisfied: termcolor>=1.1.0 in /usr/local/lib/python3.6/dist-packages (from tensorflow==2.0.0) (1.1.0)\n",
            "Collecting gast==0.2.2\n",
            "  Downloading https://files.pythonhosted.org/packages/4e/35/11749bf99b2d4e3cceb4d55ca22590b0d7c2c62b9de38ac4a4a7f4687421/gast-0.2.2.tar.gz\n",
            "Requirement already satisfied: keras-applications>=1.0.8 in /usr/local/lib/python3.6/dist-packages (from tensorflow==2.0.0) (1.0.8)\n",
            "Requirement already satisfied: numpy<2.0,>=1.16.0 in /usr/local/lib/python3.6/dist-packages (from tensorflow==2.0.0) (1.18.4)\n",
            "Requirement already satisfied: opt-einsum>=2.3.2 in /usr/local/lib/python3.6/dist-packages (from tensorflow==2.0.0) (3.2.1)\n",
            "Requirement already satisfied: google-pasta>=0.1.6 in /usr/local/lib/python3.6/dist-packages (from tensorflow==2.0.0) (0.2.0)\n",
            "Requirement already satisfied: markdown>=2.6.8 in /usr/local/lib/python3.6/dist-packages (from tensorboard<2.1.0,>=2.0.0->tensorflow==2.0.0) (3.2.1)\n",
            "Requirement already satisfied: setuptools>=41.0.0 in /usr/local/lib/python3.6/dist-packages (from tensorboard<2.1.0,>=2.0.0->tensorflow==2.0.0) (46.3.0)\n",
            "Requirement already satisfied: google-auth<2,>=1.6.3 in /usr/local/lib/python3.6/dist-packages (from tensorboard<2.1.0,>=2.0.0->tensorflow==2.0.0) (1.7.2)\n",
            "Requirement already satisfied: google-auth-oauthlib<0.5,>=0.4.1 in /usr/local/lib/python3.6/dist-packages (from tensorboard<2.1.0,>=2.0.0->tensorflow==2.0.0) (0.4.1)\n",
            "Requirement already satisfied: requests<3,>=2.21.0 in /usr/local/lib/python3.6/dist-packages (from tensorboard<2.1.0,>=2.0.0->tensorflow==2.0.0) (2.23.0)\n",
            "Requirement already satisfied: werkzeug>=0.11.15 in /usr/local/lib/python3.6/dist-packages (from tensorboard<2.1.0,>=2.0.0->tensorflow==2.0.0) (1.0.1)\n",
            "Requirement already satisfied: h5py in /usr/local/lib/python3.6/dist-packages (from keras-applications>=1.0.8->tensorflow==2.0.0) (2.10.0)\n",
            "Requirement already satisfied: pyasn1-modules>=0.2.1 in /usr/local/lib/python3.6/dist-packages (from google-auth<2,>=1.6.3->tensorboard<2.1.0,>=2.0.0->tensorflow==2.0.0) (0.2.8)\n",
            "Requirement already satisfied: rsa<4.1,>=3.1.4 in /usr/local/lib/python3.6/dist-packages (from google-auth<2,>=1.6.3->tensorboard<2.1.0,>=2.0.0->tensorflow==2.0.0) (4.0)\n",
            "Requirement already satisfied: cachetools<3.2,>=2.0.0 in /usr/local/lib/python3.6/dist-packages (from google-auth<2,>=1.6.3->tensorboard<2.1.0,>=2.0.0->tensorflow==2.0.0) (3.1.1)\n",
            "Requirement already satisfied: requests-oauthlib>=0.7.0 in /usr/local/lib/python3.6/dist-packages (from google-auth-oauthlib<0.5,>=0.4.1->tensorboard<2.1.0,>=2.0.0->tensorflow==2.0.0) (1.3.0)\n",
            "Requirement already satisfied: certifi>=2017.4.17 in /usr/local/lib/python3.6/dist-packages (from requests<3,>=2.21.0->tensorboard<2.1.0,>=2.0.0->tensorflow==2.0.0) (2020.4.5.1)\n",
            "Requirement already satisfied: urllib3!=1.25.0,!=1.25.1,<1.26,>=1.21.1 in /usr/local/lib/python3.6/dist-packages (from requests<3,>=2.21.0->tensorboard<2.1.0,>=2.0.0->tensorflow==2.0.0) (1.24.3)\n",
            "Requirement already satisfied: chardet<4,>=3.0.2 in /usr/local/lib/python3.6/dist-packages (from requests<3,>=2.21.0->tensorboard<2.1.0,>=2.0.0->tensorflow==2.0.0) (3.0.4)\n",
            "Requirement already satisfied: idna<3,>=2.5 in /usr/local/lib/python3.6/dist-packages (from requests<3,>=2.21.0->tensorboard<2.1.0,>=2.0.0->tensorflow==2.0.0) (2.9)\n",
            "Requirement already satisfied: pyasn1<0.5.0,>=0.4.6 in /usr/local/lib/python3.6/dist-packages (from pyasn1-modules>=0.2.1->google-auth<2,>=1.6.3->tensorboard<2.1.0,>=2.0.0->tensorflow==2.0.0) (0.4.8)\n",
            "Requirement already satisfied: oauthlib>=3.0.0 in /usr/local/lib/python3.6/dist-packages (from requests-oauthlib>=0.7.0->google-auth-oauthlib<0.5,>=0.4.1->tensorboard<2.1.0,>=2.0.0->tensorflow==2.0.0) (3.1.0)\n",
            "Building wheels for collected packages: gast\n",
            "  Building wheel for gast (setup.py) ... \u001b[?25l\u001b[?25hdone\n",
            "  Created wheel for gast: filename=gast-0.2.2-cp36-none-any.whl size=7540 sha256=da4ef9ce8314a4ebc6d89809a9596fb825db197922c28947e864d8d9cb7798e6\n",
            "  Stored in directory: /root/.cache/pip/wheels/5c/2e/7e/a1d4d4fcebe6c381f378ce7743a3ced3699feb89bcfbdadadd\n",
            "Successfully built gast\n",
            "\u001b[31mERROR: tensorflow-probability 0.10.0rc0 has requirement gast>=0.3.2, but you'll have gast 0.2.2 which is incompatible.\u001b[0m\n",
            "Installing collected packages: tensorflow-estimator, tensorboard, gast, tensorflow\n",
            "  Found existing installation: tensorflow-estimator 2.2.0\n",
            "    Uninstalling tensorflow-estimator-2.2.0:\n",
            "      Successfully uninstalled tensorflow-estimator-2.2.0\n",
            "  Found existing installation: tensorboard 2.2.1\n",
            "    Uninstalling tensorboard-2.2.1:\n",
            "      Successfully uninstalled tensorboard-2.2.1\n",
            "  Found existing installation: gast 0.3.3\n",
            "    Uninstalling gast-0.3.3:\n",
            "      Successfully uninstalled gast-0.3.3\n",
            "  Found existing installation: tensorflow 2.2.0\n",
            "    Uninstalling tensorflow-2.2.0:\n",
            "      Successfully uninstalled tensorflow-2.2.0\n",
            "Successfully installed gast-0.2.2 tensorboard-2.0.2 tensorflow-2.0.0 tensorflow-estimator-2.0.1\n",
            "Collecting bert-for-tf2\n",
            "\u001b[?25l  Downloading https://files.pythonhosted.org/packages/35/5c/6439134ecd17b33fe0396fb0b7d6ce3c5a120c42a4516ba0e9a2d6e43b25/bert-for-tf2-0.14.4.tar.gz (40kB)\n",
            "\u001b[K     |████████████████████████████████| 40kB 1.8MB/s \n",
            "\u001b[?25hCollecting py-params>=0.9.6\n",
            "  Downloading https://files.pythonhosted.org/packages/a4/bf/c1c70d5315a8677310ea10a41cfc41c5970d9b37c31f9c90d4ab98021fd1/py-params-0.9.7.tar.gz\n",
            "Collecting params-flow>=0.8.0\n",
            "  Downloading https://files.pythonhosted.org/packages/a9/95/ff49f5ebd501f142a6f0aaf42bcfd1c192dc54909d1d9eb84ab031d46056/params-flow-0.8.2.tar.gz\n",
            "Requirement already satisfied: numpy in /usr/local/lib/python3.6/dist-packages (from params-flow>=0.8.0->bert-for-tf2) (1.18.4)\n",
            "Requirement already satisfied: tqdm in /usr/local/lib/python3.6/dist-packages (from params-flow>=0.8.0->bert-for-tf2) (4.41.1)\n",
            "Building wheels for collected packages: bert-for-tf2, py-params, params-flow\n",
            "  Building wheel for bert-for-tf2 (setup.py) ... \u001b[?25l\u001b[?25hdone\n",
            "  Created wheel for bert-for-tf2: filename=bert_for_tf2-0.14.4-cp36-none-any.whl size=30114 sha256=3b118ef9e160829a37080d13d4e1655d08926e9d64d38dd84efeab1e01d0799d\n",
            "  Stored in directory: /root/.cache/pip/wheels/cf/3f/4d/79d7735015a5f523648df90d871ce8e89a7df8185f7703eeab\n",
            "  Building wheel for py-params (setup.py) ... \u001b[?25l\u001b[?25hdone\n",
            "  Created wheel for py-params: filename=py_params-0.9.7-cp36-none-any.whl size=7302 sha256=bc2bb936ea475144233b309e222f0b00cd8fbea771c823bbd85771f8413e6704\n",
            "  Stored in directory: /root/.cache/pip/wheels/67/f5/19/b461849a50aefdf4bab47c4756596e82ee2118b8278e5a1980\n",
            "  Building wheel for params-flow (setup.py) ... \u001b[?25l\u001b[?25hdone\n",
            "  Created wheel for params-flow: filename=params_flow-0.8.2-cp36-none-any.whl size=19473 sha256=c977bc5b0d8f2a927ef60db91a8e1120e53cc237040ff7bba688a2f010bdb9c8\n",
            "  Stored in directory: /root/.cache/pip/wheels/08/c8/7f/81c86b9ff2b86e2c477e3914175be03e679e596067dc630c06\n",
            "Successfully built bert-for-tf2 py-params params-flow\n",
            "Installing collected packages: py-params, params-flow, bert-for-tf2\n",
            "Successfully installed bert-for-tf2-0.14.4 params-flow-0.8.2 py-params-0.9.7\n",
            "Collecting sentencepiece\n",
            "\u001b[?25l  Downloading https://files.pythonhosted.org/packages/3b/88/49e772d686088e1278766ad68a463513642a2a877487decbd691dec02955/sentencepiece-0.1.90-cp36-cp36m-manylinux1_x86_64.whl (1.1MB)\n",
            "\u001b[K     |████████████████████████████████| 1.1MB 2.8MB/s \n",
            "\u001b[?25hInstalling collected packages: sentencepiece\n",
            "Successfully installed sentencepiece-0.1.90\n"
          ],
          "name": "stdout"
        }
      ]
    },
    {
      "cell_type": "code",
      "metadata": {
        "trusted": true,
        "id": "jinUj9ik7yse",
        "colab_type": "code",
        "colab": {
          "base_uri": "https://localhost:8080/",
          "height": 50
        },
        "outputId": "7ec060fc-48f3-4265-eeeb-cdf1ff20f13a"
      },
      "source": [
        "import tensorflow as tf\n",
        "import tensorflow_hub as hub\n",
        "print(\"TF version: \", tf.__version__)\n",
        "print(\"Hub version: \", hub.__version__)"
      ],
      "execution_count": null,
      "outputs": [
        {
          "output_type": "stream",
          "text": [
            "TF version:  2.0.0\n",
            "Hub version:  0.7.0\n"
          ],
          "name": "stdout"
        }
      ]
    },
    {
      "cell_type": "code",
      "metadata": {
        "trusted": true,
        "id": "o8xxNpou7ysm",
        "colab_type": "code",
        "colab": {}
      },
      "source": [
        "import tensorflow_hub as hub\n",
        "import tensorflow as tf\n",
        "import bert\n",
        "from tensorflow.keras.models import Model       # Keras is the new high level API for TensorFlow\n",
        "import math\n",
        "import numpy as np\n",
        "import pandas as pd\n",
        "from scipy.stats import wasserstein_distance"
      ],
      "execution_count": null,
      "outputs": []
    },
    {
      "cell_type": "markdown",
      "metadata": {
        "id": "TfqjQDMKp3P9",
        "colab_type": "text"
      },
      "source": [
        "### Preparing BERT and Functions\n"
      ]
    },
    {
      "cell_type": "code",
      "metadata": {
        "trusted": true,
        "id": "as1Cu7Th7yst",
        "colab_type": "code",
        "colab": {}
      },
      "source": [
        "max_seq_length = 512\n",
        "\n",
        "input_word_ids = tf.keras.layers.Input(shape=(max_seq_length,), dtype=tf.int32, name=\"input_word_ids\")\n",
        "input_mask = tf.keras.layers.Input(shape=(max_seq_length,), dtype=tf.int32, name=\"input_mask\")\n",
        "segment_ids = tf.keras.layers.Input(shape=(max_seq_length,), dtype=tf.int32, name=\"segment_ids\")\n",
        "\n",
        "BERT_HUB_URL = 'https://tfhub.dev/tensorflow/bert_en_cased_L-24_H-1024_A-16/2'\n",
        "bert_layer = hub.KerasLayer(BERT_HUB_URL, trainable=True)\n",
        "pooled_output, sequence_output = bert_layer([input_word_ids, input_mask, segment_ids])\n",
        "model = Model(inputs=[input_word_ids, input_mask, segment_ids], outputs=[pooled_output, sequence_output])\n",
        "\n",
        "vocab_file = bert_layer.resolved_object.vocab_file.asset_path.numpy()\n",
        "do_lower_case = bert_layer.resolved_object.do_lower_case.numpy()\n",
        "FullTokenizer = bert.bert_tokenization.FullTokenizer\n",
        "tokenizer = FullTokenizer(vocab_file, do_lower_case)"
      ],
      "execution_count": null,
      "outputs": []
    },
    {
      "cell_type": "code",
      "metadata": {
        "trusted": true,
        "id": "gQ5Arwvl7ys0",
        "colab_type": "code",
        "colab": {}
      },
      "source": [
        "def get_masks(tokens, max_seq_length):\n",
        "    \"\"\"Mask for padding\"\"\"\n",
        "    if len(tokens)>max_seq_length:\n",
        "        raise IndexError(\"Token length more than max seq length!\")\n",
        "    return [1]*len(tokens) + [0] * (max_seq_length - len(tokens))\n",
        "\n",
        "\n",
        "def get_segments(tokens, max_seq_length):\n",
        "    \"\"\"Segments: 0 for the first sequence, 1 for the second\"\"\"\n",
        "    if len(tokens)>max_seq_length:\n",
        "        raise IndexError(\"Token length more than max seq length!\")\n",
        "    segments = []\n",
        "    current_segment_id = 0\n",
        "    for token in tokens:\n",
        "        segments.append(current_segment_id)\n",
        "        if token == \"[SEP]\":\n",
        "            current_segment_id = 1\n",
        "    return segments + [0] * (max_seq_length - len(tokens))\n",
        "\n",
        "\n",
        "def get_ids(tokens, tokenizer, max_seq_length):\n",
        "    \"\"\"Token ids from Tokenizer vocab\"\"\"\n",
        "    token_ids = tokenizer.convert_tokens_to_ids(tokens)\n",
        "    input_ids = token_ids + [0] * (max_seq_length-len(token_ids))\n",
        "    return input_ids"
      ],
      "execution_count": null,
      "outputs": []
    },
    {
      "cell_type": "code",
      "metadata": {
        "trusted": true,
        "id": "ACmlB2yr7ys_",
        "colab_type": "code",
        "colab": {}
      },
      "source": [
        "def tokenize_sentence(sentence):\n",
        "    stokens = tokenizer.tokenize(sentence)\n",
        "    stokens = [\"[CLS]\"] + stokens + [\"[SEP]\"]\n",
        "    \n",
        "    input_ids = get_ids(stokens, tokenizer, max_seq_length)\n",
        "    input_masks = get_masks(stokens, max_seq_length)\n",
        "    input_segments = get_segments(stokens, max_seq_length)\n",
        "    \n",
        "    return input_ids, input_masks, input_segments\n",
        "\n",
        "def compare_sentences(sentence_1, sentence_2, distance_metric):\n",
        "    input_ids_1, input_masks_1, input_segments_1 = tokenize_sentence(sentence_1)\n",
        "    input_ids_2, input_masks_2, input_segments_2 = tokenize_sentence(sentence_2)\n",
        "    \n",
        "    pool_embs_1, all_embs_1 = model.predict([[input_ids_1],[input_masks_1],[input_segments_1]])\n",
        "    pool_embs_2, all_embs_2 = model.predict([[input_ids_2],[input_masks_2],[input_segments_2]])\n",
        "#     print(pool_embs_1, all_embs_1)\n",
        "#     print(pool_embs_2, all_embs_2)\n",
        "    return distance_metric(pool_embs_1[0], pool_embs_2[0])\n",
        "\n",
        "def distance_between_sentences(sentence_1, sentence_2, distance_metric):\n",
        "    input_ids_1, input_masks_1, input_segments_1 = tokenize_sentence(sentence_1)\n",
        "    input_ids_2, input_masks_2, input_segments_2 = tokenize_sentence(sentence_2)\n",
        "    pool_embs_1, all_embs_1 = model.predict([[input_ids_1],[input_masks_1],[input_segments_1]])\n",
        "    pool_embs_2, all_embs_2 = model.predict([[input_ids_2],[input_masks_2],[input_segments_2]])\n",
        "    distances = []\n",
        "    for i in range(0,max_seq_length):\n",
        "      distances.append(distance_metric(all_embs_1[0][i], all_embs_2[0][i]))\n",
        "    distance = np.mean(distances)\n",
        "    return distance\n",
        "\n",
        "def get_embs(sentence):\n",
        "    input_ids, input_masks, input_segments = tokenize_sentence(sentence)\n",
        "    pool_embs, all_embs = model.predict([[input_ids],[input_masks],[input_segments]])\n",
        "    return pool_embs, all_embs\n",
        "\n",
        "def get_all_embs(sentence):\n",
        "    input_ids, input_masks, input_segments = tokenize_sentence(sentence)\n",
        "    pool_embs, _ = model.predict([[input_ids],[input_masks],[input_segments]])\n",
        "    return pool_embs\n",
        "\n",
        "def square_rooted(x):\n",
        "    return math.sqrt(sum([a*a for a in x]))\n",
        "\n",
        "def cosine_similxarity(x,y):\n",
        "    numerator = sum(a*b for a,b in zip(x,y))\n",
        "    denominator = square_rooted(x)*square_rooted(y)\n",
        "    return 1-numerator/float(denominator)\n",
        "\n",
        "def dummy_metric(x,y):\n",
        "    return 42\n",
        "\n",
        "def create_single_input(sentence, MAX_LEN):\n",
        "  \n",
        "    stokens = tokenizer.tokenize(sentence)\n",
        "    \n",
        "    stokens = stokens[:MAX_LEN]\n",
        "    \n",
        "    stokens = [\"[CLS]\"] + stokens + [\"[SEP]\"]\n",
        "  \n",
        "    ids = get_ids(stokens, tokenizer, max_seq_length)\n",
        "    masks = get_masks(stokens, max_seq_length)\n",
        "    segments = get_segments(stokens, max_seq_length)\n",
        "\n",
        "    return ids,masks,segments\n",
        "\n",
        "def create_input_array(sentences):\n",
        "\n",
        "    input_ids, input_masks, input_segments = [], [], []\n",
        "\n",
        "    for sentence in tqdm(sentences,position=0, leave=True):\n",
        "    \n",
        "      ids,masks,segments=create_single_input(sentence,max_seq_length-2)\n",
        "\n",
        "      input_ids.append(ids)\n",
        "      input_masks.append(masks)\n",
        "      input_segments.append(segments)\n",
        "\n",
        "    return [np.asarray(input_ids, dtype=np.int32), \n",
        "              np.asarray(input_masks, dtype=np.int32), \n",
        "              np.asarray(input_segments, dtype=np.int32)]"
      ],
      "execution_count": null,
      "outputs": []
    },
    {
      "cell_type": "markdown",
      "metadata": {
        "id": "8Qul1odRtje9",
        "colab_type": "text"
      },
      "source": [
        "# Distances"
      ]
    },
    {
      "cell_type": "markdown",
      "metadata": {
        "id": "Vc8DgS51xR22",
        "colab_type": "text"
      },
      "source": [
        "### Natural Language"
      ]
    },
    {
      "cell_type": "code",
      "metadata": {
        "id": "U8w0XXYDw0ty",
        "colab_type": "code",
        "colab": {
          "base_uri": "https://localhost:8080/",
          "height": 277
        },
        "outputId": "85134e98-61ea-4e42-c3b5-183a1c5b70f5"
      },
      "source": [
        "s = []\n",
        "s.append('How are you doing?')\n",
        "s.append('How much are we feeling?')\n",
        "s.append('What are you doing?')\n",
        "s.append('What`s up?')\n",
        "s.append('Are you doing?')\n",
        "central = s[0]\n",
        "print(\"Central phrase: '{}'\".format(central))\n",
        "for sentence in s:\n",
        "    print(\"Cosine Distance to '{}' = {}\".format(sentence, round(distance_between_sentences(central, sentence, cosine_similarity), 3)))\n",
        "    print(\"Wasserstein Distance to '{}' = {}\".format(sentence, round(distance_between_sentences(central, sentence, wasserstein_distance), 3)))\n",
        "    print(\"-----------------\")"
      ],
      "execution_count": null,
      "outputs": [
        {
          "output_type": "stream",
          "text": [
            "Central phrase: 'How are you doing?'\n",
            "Cosine Distance to 'How are you doing?' = -0.0\n",
            "Wasserstein Distance to 'How are you doing?' = 0.0\n",
            "-----------------\n",
            "Cosine Distance to 'How much are we feeling?' = 0.438\n",
            "Wasserstein Distance to 'How much are we feeling?' = 0.06\n",
            "-----------------\n",
            "Cosine Distance to 'What are you doing?' = 0.349\n",
            "Wasserstein Distance to 'What are you doing?' = 0.08\n",
            "-----------------\n",
            "Cosine Distance to 'What`s up?' = 0.526\n",
            "Wasserstein Distance to 'What`s up?' = 0.089\n",
            "-----------------\n",
            "Cosine Distance to 'Are you doing?' = 0.456\n",
            "Wasserstein Distance to 'Are you doing?' = 0.109\n",
            "-----------------\n"
          ],
          "name": "stdout"
        }
      ]
    },
    {
      "cell_type": "markdown",
      "metadata": {
        "id": "h7BABWRdV7KG",
        "colab_type": "text"
      },
      "source": [
        "## Source Code Tokens"
      ]
    },
    {
      "cell_type": "code",
      "metadata": {
        "id": "c_vIcIgNV7KG",
        "colab_type": "code",
        "colab": {
          "base_uri": "https://localhost:8080/",
          "height": 472
        },
        "outputId": "5a1774e0-d08f-40c6-8b87-7d9633fcfb4f"
      },
      "source": [
        "w = []\n",
        "w.append('data')\n",
        "w.append('Data')\n",
        "w.append('Data Set')\n",
        "w.append('datadata')\n",
        "w.append('dataset')\n",
        "w.append('DataFrame')\n",
        "w.append('dataframe')\n",
        "w.append('df')\n",
        "w.append('pd.DataFrame')\n",
        "central = w[6]\n",
        "print(\"Central phrase: '{}'\".format(central))\n",
        "for word in w:\n",
        "    print(\"Cosine Distance to '{}' = {}\".format(word, round(distance_between_sentences(central, word, cosine_similarity), 3)))\n",
        "    print(\"Wasserstein Distance to '{}' = {}\".format(word, round(distance_between_sentences(central, word, wasserstein_distance), 3)))\n",
        "    print(\"-----------------\")"
      ],
      "execution_count": null,
      "outputs": [
        {
          "output_type": "stream",
          "text": [
            "Central phrase: 'dataframe'\n",
            "Cosine Distance to 'data' = 0.533\n",
            "Wasserstein Distance to 'data' = 0.09\n",
            "-----------------\n",
            "Cosine Distance to 'Data' = 0.564\n",
            "Wasserstein Distance to 'Data' = 0.093\n",
            "-----------------\n",
            "Cosine Distance to 'Data Set' = 0.568\n",
            "Wasserstein Distance to 'Data Set' = 0.099\n",
            "-----------------\n",
            "Cosine Distance to 'datadata' = 0.425\n",
            "Wasserstein Distance to 'datadata' = 0.09\n",
            "-----------------\n",
            "Cosine Distance to 'dataset' = 0.44\n",
            "Wasserstein Distance to 'dataset' = 0.085\n",
            "-----------------\n",
            "Cosine Distance to 'DataFrame' = 0.63\n",
            "Wasserstein Distance to 'DataFrame' = 0.146\n",
            "-----------------\n",
            "Cosine Distance to 'dataframe' = -0.0\n",
            "Wasserstein Distance to 'dataframe' = 0.0\n",
            "-----------------\n",
            "Cosine Distance to 'df' = 0.659\n",
            "Wasserstein Distance to 'df' = 0.088\n",
            "-----------------\n",
            "Cosine Distance to 'pd.DataFrame' = 0.637\n",
            "Wasserstein Distance to 'pd.DataFrame' = 0.128\n",
            "-----------------\n"
          ],
          "name": "stdout"
        }
      ]
    },
    {
      "cell_type": "markdown",
      "metadata": {
        "id": "oLSKZ-RyV7KK",
        "colab_type": "text"
      },
      "source": [
        "## Source Code Chunks"
      ]
    },
    {
      "cell_type": "code",
      "metadata": {
        "id": "Ar1Elwc_V7KN",
        "colab_type": "code",
        "colab": {
          "base_uri": "https://localhost:8080/",
          "height": 50
        },
        "outputId": "3bb400ab-30d9-4857-8010-ee7f260f954a"
      },
      "source": [
        "c = []\n",
        "cnot = []\n",
        "c.append(\"\"\"\n",
        "def apply_window(image, center, width):\n",
        "    image = image.copy()\n",
        "\n",
        "    min_value = center - width // 2\n",
        "    max_value = center + width // 2\n",
        "\n",
        "    image[image < min_value] = min_value\n",
        "    image[image > max_value] = max_value\n",
        "\n",
        "    return image\n",
        "\"\"\")\n",
        "c.append(\"\"\"\n",
        "def image_windowed(image, custom_center=50, custom_width=130, out_side_val=False):\n",
        "    '''\n",
        "    Important thing to note in this function: The image migth be changed in place!\n",
        "    '''\n",
        "    # see: https://www.kaggle.com/allunia/rsna-ih-detection-eda-baseline\n",
        "    min_value = custom_center - (custom_width/2)\n",
        "    max_value = custom_center + (custom_width/2)\n",
        "    \n",
        "    # Including another value for values way outside the range, to (hopefully) make segmentation processes easier. \n",
        "    out_value_min = custom_center - custom_width\n",
        "    out_value_max = custom_center + custom_width\n",
        "    \n",
        "    if out_side_val:\n",
        "        image[np.logical_and(image < min_value, image > out_value_min)] = min_value\n",
        "        image[np.logical_and(image > max_value, image < out_value_max)] = max_value\n",
        "        image[image < out_value_min] = out_value_min\n",
        "        image[image > out_value_max] = out_value_max\n",
        "    \n",
        "    else:\n",
        "        image[image < min_value] = min_value\n",
        "        image[image > max_value] = max_value\n",
        "    \n",
        "    return image\n",
        "\"\"\")\n",
        "c.append(\"\"\"\n",
        "def image_crop(image):\n",
        "    # Based on this stack overflow post: https://stackoverflow.com/questions/26310873/how-do-i-crop-an-image-on-a-white-background-with-python\n",
        "    mask = image == 0\n",
        "\n",
        "    # Find the bounding box of those pixels\n",
        "    coords = np.array(np.nonzero(~mask))\n",
        "    top_left = np.min(coords, axis=1)\n",
        "    bottom_right = np.max(coords, axis=1)\n",
        "\n",
        "    out = image[top_left[0]:bottom_right[0],\n",
        "                top_left[1]:bottom_right[1]]\n",
        "    \n",
        "    return out\n",
        "\"\"\")\n",
        "cnot.append(\"\"\"\n",
        "def normalize_minmax(img):\n",
        "    mi, ma = img.min(), img.max()\n",
        "    return (img - mi) / (ma - mi)\"\"\")\n",
        "cnot.append(\"\"\"def normalize(img, means, stds, tensor=False):\n",
        "    return (img - means)/stds\"\"\")\n",
        "cnot.append(\"\"\"X_train = X_train / 255.0\n",
        "test = test / 255.0\n",
        "mean_px = X_train.mean().astype(np.float32)\n",
        "std_px = X_train.std().astype(np.float32)\"\"\")\n",
        "cnot.append(\"\"\"def standardize(x): \n",
        "    return (x-mean_px)/std_px\"\"\")\n",
        "cnot.append(\"\"\"def rle_decode(mask_rle, shape=(768, 768)):\n",
        "    s = mask_rle.split()\n",
        "    starts, lengths = [np.asarray(x, dtype=int) for x in (s[0:][::2], s[1:][::2])]\n",
        "    starts -= 1\n",
        "    ends = starts + lengths\n",
        "    img = np.zeros(shape[0]*shape[1], dtype=np.uint8)\n",
        "    for lo, hi in zip(starts, ends):\n",
        "        img[lo:hi] = 1\n",
        "    return img.reshape(shape).T  # Needed to align to RLE direction\"\"\")\n",
        "cnot.append(\"\"\"def mask2rle(img):\n",
        "    pixels = img.T.flatten()\n",
        "    pixels = np.concatenate([[0], pixels, [0]])\n",
        "    runs = np.where(pixels[1:] != pixels[:-1])[0] + 1\n",
        "    runs[1::2] -= runs[::2]\n",
        "    return ' '.join(str(x) for x in runs)\"\"\")\n",
        "cnot.append(\"\"\"def deskew(img):\n",
        "    m = cv2.moments(img)\n",
        "    if abs(m['mu02']) < 1e-2:\n",
        "        return img.copy()\n",
        "    skew = m['mu11']/m['mu02']\n",
        "    M = np.float32([[1, skew, -0.5*SZ*skew], [0, 1, 0]])\n",
        "    img = cv2.warpAffine(img,M,(SZ, SZ),flags=affine_flags)\n",
        "    return img\"\"\")\n",
        "cnot.append(\"\"\"image = imageio.imread('../input/image1.jpg')\n",
        "image_rotated = rotate.augment_images([image])\n",
        "image_noise = gaussian_noise.augment_images([image])\n",
        "image_crop = crop.augment_images([image])\n",
        "image_hue = hue.augment_images([image])\n",
        "image_trans = elastic_trans.augment_images([image])\n",
        "image_coarse = coarse_drop.augment_images([image])\"\"\")\n",
        "\n",
        "central = c[0]\n",
        "results_c = []\n",
        "results_c_wasserstein = []\n",
        "for chunk in c:\n",
        "    results_c.append(distance_between_sentences(central, chunk, cosine_similarity))\n",
        "    results_c_wasserstein.append(distance_between_sentences(central, chunk, wasserstein_distance))\n",
        "\n",
        "results_cnot = []\n",
        "results_cnot_wasserstein = []\n",
        "for chunk in cnot:\n",
        "    results_cnot.append(distance_between_sentences(central, chunk, cosine_similarity))\n",
        "    results_cnot_wasserstein.append(distance_between_sentences(central, chunk, wasserstein_distance))\n",
        "    \n",
        "# print(np.mean(results_c), np.mean(results_cnot))\n",
        "# print(np.mean(results_c_wasserstein), np.mean(results_cnot_wasserstein))\n",
        "print(\"Cosine Distance to self = {}. Cosine Distance to others = {}\".format(np.mean(results_c), np.mean(results_cnot)))\n",
        "print(\"Wasserstein Distance to self = {}. Wasserstein Distance to others = {}\".format(np.mean(results_c_wasserstein), np.mean(results_cnot_wasserstein)))"
      ],
      "execution_count": null,
      "outputs": [
        {
          "output_type": "stream",
          "text": [
            "Cosine Distance to self = 0.3662805818640842. Cosine Distance to others = 0.5075674165719293\n",
            "Wasserstein Distance to self = 0.04132003051083177. Wasserstein Distance to others = 0.047235734195476275\n"
          ],
          "name": "stdout"
        }
      ]
    },
    {
      "cell_type": "markdown",
      "metadata": {
        "id": "2oi3xIwRV7KS",
        "colab_type": "text"
      },
      "source": [
        "## NL2ML Data"
      ]
    },
    {
      "cell_type": "code",
      "metadata": {
        "id": "ds3PdEazV7KY",
        "colab_type": "code",
        "colab": {}
      },
      "source": [
        "nl2ml = pd.read_csv('/content/nl2ml_images.csv')"
      ],
      "execution_count": null,
      "outputs": []
    },
    {
      "cell_type": "code",
      "metadata": {
        "id": "Kzr3ZCz-V7Kc",
        "colab_type": "code",
        "colab": {}
      },
      "source": [
        "cat_names = nl2ml['Preprocessing class (for doc about methods)'].value_counts().head(5).keys().tolist()"
      ],
      "execution_count": null,
      "outputs": []
    },
    {
      "cell_type": "code",
      "metadata": {
        "id": "RukTdQJTV7Ke",
        "colab_type": "code",
        "colab": {
          "base_uri": "https://localhost:8080/",
          "height": 115
        },
        "outputId": "82f954b7-2228-4dc9-9b8a-6007feb3e136"
      },
      "source": [
        "central = nl2ml[(nl2ml['Preprocessing class (for doc about methods)']\\ ==\\\n",
        "                 cat_names[1])]['Code'].reset_index(drop=True)[0]\n",
        "results = {\"central\":cat_names[0]}\n",
        "for cat in cat_names:\n",
        "    print(cat)\n",
        "    rows = nl2ml[(nl2ml['Preprocessing class (for doc about methods)'] == cat)]\\\n",
        "                  .reset_index(drop=True)\n",
        "    chunks = rows['Code']\n",
        "    results_c = []\n",
        "    for chunk in chunks:\n",
        "        if len(chunk) <= 512:\n",
        "            results_c.append(distance_between_sentences\\\n",
        "                             (central, chunk, cosine_distance))\n",
        "        else: continue\n",
        "    results.update({cat:round(np.mean(results_c), 3)})\n",
        "    del results_c\n",
        "print(results)"
      ],
      "execution_count": null,
      "outputs": [
        {
          "output_type": "stream",
          "text": [
            "Getting annotations\n",
            "Visualization\n",
            "Augmentation\n",
            "Converting (coordinates)\n",
            "Resizing\n",
            "{'central': 'Getting annotations', 'Getting annotations': 0.054, 'Visualization': 0.049, 'Augmentation': 0.061, 'Converting (coordinates)': 0.047, 'Resizing': 0.056}\n"
          ],
          "name": "stdout"
        }
      ]
    },
    {
      "cell_type": "code",
      "metadata": {
        "id": "izdGeYHu2_VE",
        "colab_type": "code",
        "colab": {}
      },
      "source": [
        "results"
      ],
      "execution_count": null,
      "outputs": []
    },
    {
      "cell_type": "markdown",
      "metadata": {
        "id": "8HOrE2VurBvs",
        "colab_type": "text"
      },
      "source": [
        "!!! Very little amount of data used here"
      ]
    },
    {
      "cell_type": "markdown",
      "metadata": {
        "id": "uagdJ4dzpq7m",
        "colab_type": "text"
      },
      "source": [
        "# Getting the Embeddings for the Dataset\n",
        "Use __get_embs(chunk)__ to get embedding for a chunk\n",
        "\n",
        "Use __distance_between_sentences(chunk_1, chunk_2, distance_metric)__ to get distance between two chunks"
      ]
    },
    {
      "cell_type": "code",
      "metadata": {
        "id": "dEYcvO6ZqUlt",
        "colab_type": "code",
        "colab": {}
      },
      "source": [
        "sc_chunk_1 = \"\"\"\n",
        "def apply_window(image, center, width):\n",
        "    image = image.copy()\n",
        "\n",
        "    min_value = center - width // 2\n",
        "    max_value = center + width // 2\n",
        "\n",
        "    image[image < min_value] = min_value\n",
        "    image[image > max_value] = max_value\n",
        "\n",
        "    return image\n",
        "\"\"\"\n",
        "sc_chunk_2 = \"\"\"\n",
        "def normalize_minmax(img):\n",
        "    mi, ma = img.min(), img.max()\n",
        "    return (img - mi) / (ma - mi)\n",
        "\"\"\"\n",
        "sc_chunk_3 = \"\"\"\n",
        "def lalalalallalalala:\n",
        "  np.argmax([1,2,3,4,5,6,7,8,9,10])\n",
        "\"\"\""
      ],
      "execution_count": null,
      "outputs": []
    },
    {
      "cell_type": "code",
      "metadata": {
        "id": "fDunlg5wppJV",
        "colab_type": "code",
        "colab": {}
      },
      "source": [
        "pool_embs, all_embs = get_embs(sc_chunk_1)"
      ],
      "execution_count": null,
      "outputs": []
    },
    {
      "cell_type": "code",
      "metadata": {
        "id": "2gc8vCEWqZFK",
        "colab_type": "code",
        "colab": {
          "base_uri": "https://localhost:8080/",
          "height": 50
        },
        "outputId": "97cdd04e-3156-4df7-e545-8b3493cb4440"
      },
      "source": [
        "print(distance_between_sentences(sc_chunk_1, sc_chunk_2, cosine_similarity))\n",
        "print(distance_between_sentences(sc_chunk_1, sc_chunk_2, wasserstein_distance))"
      ],
      "execution_count": null,
      "outputs": [
        {
          "output_type": "stream",
          "text": [
            "0.5159867444123092\n",
            "0.03975974721303277\n"
          ],
          "name": "stdout"
        }
      ]
    },
    {
      "cell_type": "code",
      "metadata": {
        "id": "Ipyfdu4xx3K_",
        "colab_type": "code",
        "colab": {
          "base_uri": "https://localhost:8080/",
          "height": 50
        },
        "outputId": "86c18577-4d9d-4ac8-c156-e7cf3c2c3ecb"
      },
      "source": [
        "print(distance_between_sentences(sc_chunk_2, sc_chunk_3, cosine_similarity))\n",
        "print(distance_between_sentences(sc_chunk_2, sc_chunk_3, wasserstein_distance))"
      ],
      "execution_count": null,
      "outputs": [
        {
          "output_type": "stream",
          "text": [
            "0.5075740003054737\n",
            "0.044230031710237594\n"
          ],
          "name": "stdout"
        }
      ]
    },
    {
      "cell_type": "code",
      "metadata": {
        "id": "3nLGMMK5x4Mt",
        "colab_type": "code",
        "colab": {
          "base_uri": "https://localhost:8080/",
          "height": 50
        },
        "outputId": "69031cad-793a-428c-d279-e0ee238328d3"
      },
      "source": [
        "print(distance_between_sentences(sc_chunk_1, sc_chunk_3, cosine_similarity))\n",
        "print(distance_between_sentences(sc_chunk_1, sc_chunk_3, wasserstein_distance))"
      ],
      "execution_count": null,
      "outputs": [
        {
          "output_type": "stream",
          "text": [
            "0.5989751675893542\n",
            "0.05297369806396607\n"
          ],
          "name": "stdout"
        }
      ]
    },
    {
      "cell_type": "markdown",
      "metadata": {
        "id": "VvfOR5Qr3yDZ",
        "colab_type": "text"
      },
      "source": [
        "## Chunks into Embeddings"
      ]
    },
    {
      "cell_type": "code",
      "metadata": {
        "id": "VDXoZ7h3o7a2",
        "colab_type": "code",
        "colab": {}
      },
      "source": [
        "import pandas as pd\n",
        "import numpy as np"
      ],
      "execution_count": null,
      "outputs": []
    },
    {
      "cell_type": "code",
      "metadata": {
        "id": "oPt9Qg5ZdX_t",
        "colab_type": "code",
        "colab": {}
      },
      "source": [
        "from google.colab import drive\n",
        "drive.mount('/content/drive')"
      ],
      "execution_count": null,
      "outputs": []
    },
    {
      "cell_type": "code",
      "metadata": {
        "id": "a_CklmUL35at",
        "colab_type": "code",
        "colab": {}
      },
      "source": [
        "KK_PATH = '/content/drive/My Drive/NL2ML/Tigran_parser/kaggle_kernels/'"
      ],
      "execution_count": null,
      "outputs": []
    },
    {
      "cell_type": "code",
      "metadata": {
        "id": "uNMxMypsx63n",
        "colab_type": "code",
        "colab": {}
      },
      "source": [
        "df = pd.read_csv(KK_PATH + 'code_blocks.csv', sep='\\t')\n",
        "df = df.dropna()\n",
        "df = df.drop_duplicates()\n",
        "df = df.reset_index(drop=True)\n",
        "df['code_block_length'] = np.zeros(len(df))\n",
        "for i in range(len(df)):\n",
        "  df['code_block_length'][i] = len(df['code_block'][i])\n",
        "  print(str(i)+'\\r', end='')\n",
        "df = df.drop(df[df['code_block_length'] > 512].index)\n",
        "df.shape\n",
        "df.to_csv(KK_PATH + 'code_blocks_with_embeddings.csv', sep='\\t', index=False)"
      ],
      "execution_count": null,
      "outputs": []
    },
    {
      "cell_type": "code",
      "metadata": {
        "id": "cvyM07BJsvwg",
        "colab_type": "code",
        "colab": {}
      },
      "source": [
        "df = pd.read_csv(KK_PATH + 'code_blocks_with_embeddings.csv', sep='\\t')\n",
        "df.shape"
      ],
      "execution_count": null,
      "outputs": []
    },
    {
      "cell_type": "code",
      "metadata": {
        "id": "Bs3dH9fDdiu1",
        "colab_type": "code",
        "colab": {}
      },
      "source": [
        "# %time\n",
        "# df['embeddings'] = np.zeros(df.shape[0])\n",
        "# df['embeddings'] = df['code_block'].apply(get_all_embs)\n",
        "# df.to_csv(KK_PATH + 'code_blocks_with_embeddings.csv', sep='\\t', index=False)"
      ],
      "execution_count": null,
      "outputs": []
    },
    {
      "cell_type": "code",
      "metadata": {
        "id": "etyymryT6NXk",
        "colab_type": "code",
        "colab": {}
      },
      "source": [
        "# %time\n",
        "# ### По старинке\n",
        "# df['embeddings'] = np.zeros(df.shape[0])\n",
        "# for i in range(10):\n",
        "#   print(i)\n",
        "#   df['embeddings'][i] = get_all_embs(df.loc[i]['code_block']).astype('object')\n",
        "#   df.to_csv(KK_PATH + 'code_blocks_with_embeddings.csv', sep='\\t', index=False, mode='a')"
      ],
      "execution_count": null,
      "outputs": []
    }
  ]
}