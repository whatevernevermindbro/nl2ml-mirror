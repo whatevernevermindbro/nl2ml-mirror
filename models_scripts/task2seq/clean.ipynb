{
 "metadata": {
  "language_info": {
   "codemirror_mode": {
    "name": "ipython",
    "version": 3
   },
   "file_extension": ".py",
   "mimetype": "text/x-python",
   "name": "python",
   "nbconvert_exporter": "python",
   "pygments_lexer": "ipython3",
   "version": "3.8.6"
  },
  "orig_nbformat": 2,
  "kernelspec": {
   "name": "python386jvsc74a57bd00de36b31320ba4c88b4f85a74724f3d16c36a44df48581253710b1065e752d9e",
   "display_name": "Python 3.8.6 64-bit ('Python38')"
  },
  "metadata": {
   "interpreter": {
    "hash": "0de36b31320ba4c88b4f85a74724f3d16c36a44df48581253710b1065e752d9e"
   }
  }
 },
 "nbformat": 4,
 "nbformat_minor": 2,
 "cells": [
  {
   "cell_type": "code",
   "execution_count": null,
   "metadata": {},
   "outputs": [],
   "source": [
    "import gc\n",
    "\n",
    "import pandas as pd\n",
    "import numpy as np\n",
    "from sqlalchemy import create_engine"
   ]
  },
  {
   "cell_type": "code",
   "execution_count": null,
   "metadata": {},
   "outputs": [],
   "source": [
    "pd.set_option('mode.chained_assignment', None)"
   ]
  },
  {
   "cell_type": "code",
   "execution_count": null,
   "metadata": {},
   "outputs": [],
   "source": [
    "NEW_NOTEBOOKS_PATH = \"../../data/codeblocks_2021-04-01_concatenated.csv\"\n",
    "new_notebooks = pd.read_csv(NEW_NOTEBOOKS_PATH)#, nrows=25)\n",
    "new_notebooks.rename({'data_sources':'ref'}, axis=1, inplace=True)\n",
    "print('Parsed: {} chunks of {} notebooks from {} competitions'.format(new_notebooks.shape[0], new_notebooks['kaggle_link'].nunique(), new_notebooks['ref'].nunique()))\n",
    "def clean_comp(string:str) -> str:\n",
    "    string = string.strip('[').strip(']').replace(\"'\", \"\")\n",
    "    return string\n",
    "new_notebooks['ref'] = new_notebooks['ref'].apply(clean_comp)\n",
    "new_notebooks['ref'] = new_notebooks['ref'].apply(lambda x: x.split(',')[0].strip(' ').strip(\"'\"))"
   ]
  },
  {
   "cell_type": "code",
   "execution_count": null,
   "metadata": {},
   "outputs": [],
   "source": [
    "new_notebooks.drop_duplicates(inplace=True, subset=['code_block_id', 'kaggle_id'])\n",
    "print(new_notebooks.shape, new_notebooks.kaggle_link.nunique())\n",
    "new_notebooks.dropna(axis=0, subset=['code_block'], inplace=True)\n",
    "print(new_notebooks.shape, new_notebooks.kaggle_link.nunique())\n",
    "new_notebooks.dropna(axis=0, subset=['kaggle_score'], inplace=True) \n",
    "print(new_notebooks.shape, new_notebooks.kaggle_link.nunique())\n",
    "gc.collect()"
   ]
  },
  {
   "cell_type": "code",
   "execution_count": null,
   "metadata": {},
   "outputs": [],
   "source": [
    "new_notebooks['code_block'] = new_notebooks['code_block'].str.replace('`', '')"
   ]
  },
  {
   "cell_type": "code",
   "execution_count": null,
   "metadata": {},
   "outputs": [],
   "source": [
    "COMPETITIONS_PATH = \"../../data/competitions_info.csv\"\n",
    "competitions = pd.read_csv(COMPETITIONS_PATH)\n",
    "print(competitions.shape)\n",
    "competitions.drop_duplicates(inplace=True)\n",
    "competitions['ref'] = competitions['ref'].apply(clean_comp)\n",
    "print(competitions.shape)"
   ]
  },
  {
   "cell_type": "code",
   "execution_count": null,
   "metadata": {},
   "outputs": [],
   "source": [
    "new_notebooks = new_notebooks.merge(competitions, on=['ref'], how='inner')\n",
    "print('# Chunks: {}\\n# Notebooks: {}\\n# Competitions: {}'.format(new_notebooks.shape[0], new_notebooks.kaggle_link.nunique(), new_notebooks.ref.nunique()))"
   ]
  },
  {
   "cell_type": "code",
   "execution_count": null,
   "metadata": {},
   "outputs": [],
   "source": [
    "# new_notebooks.drop('Unnamed: 0', axis=1, inplace=True)\n",
    "# new_notebooks.to_csv('../../data/codeblocks_2021-04-01_concatenated_cleaned.csv', index=False)"
   ]
  },
  {
   "cell_type": "code",
   "execution_count": null,
   "metadata": {},
   "outputs": [],
   "source": [
    "# new_notebooks['exists_in_competitions'] = new_notebooks.apply(lambda x: x['ref'] in competitions['ref'].unique(), axis=1)\n",
    "# print('# Chunks: {}\\n# Notebooks: {}\\n# Competitions: {}'.format(new_notebooks[new_notebooks['exists_in_competitions'] == True].shape[0], new_notebooks[new_notebooks['exists_in_competitions'] == True]['kaggle_link'].nunique(), new_notebooks[new_notebooks['exists_in_competitions'] == True]['ref'].nunique()))"
   ]
  },
  {
   "cell_type": "code",
   "execution_count": null,
   "metadata": {},
   "outputs": [],
   "source": [
    "competitions['has_notebooks'] = competitions.apply(lambda x: x['ref'] in new_notebooks['ref'].tolist(), axis=1)\n",
    "competitions_cleaned = competitions[competitions['has_notebooks']]\n",
    "competitions_cleaned.shape\n",
    "# competitions_cleaned.to_csv('../data/competitions_info_cleaned.csv', index=False)"
   ]
  },
  {
   "cell_type": "code",
   "execution_count": null,
   "metadata": {},
   "outputs": [],
   "source": [
    "COMPETITIONS_FILLED_PATH = \"../../data/competitions_info_cleaned.csv\"\n",
    "competitions_filled = pd.read_csv(COMPETITIONS_FILLED_PATH)\n",
    "competitions_filled.shape"
   ]
  },
  {
   "cell_type": "code",
   "execution_count": null,
   "metadata": {},
   "outputs": [],
   "source": [
    "competitions_cleaned_with_filled = competitions_cleaned[['ref', 'comp_name', 'comp_type']].merge(competitions_filled[['ref', 'Description',\n",
    "                                        'Metric', 'DataType', 'Subject', 'ProblemType']]\n",
    "                                    , on=['ref'], how='left')\n",
    "competitions_cleaned_with_filled.isna().sum()"
   ]
  },
  {
   "cell_type": "code",
   "execution_count": null,
   "metadata": {},
   "outputs": [],
   "source": [
    "# competitions_filled.to_csv('../../data/competitions_info_filled.csv', index=False)\n",
    "# competitions_filled.to_csv('../../data_mini/competitions_info_filled.csv', index=False)"
   ]
  },
  {
   "cell_type": "code",
   "execution_count": null,
   "metadata": {},
   "outputs": [],
   "source": [
    "# competitions_cleaned.to_csv('../../data/competitions_info_cleaned.csv', index=False)\n",
    "# competitions_cleaned.to_csv('../../data_mini/competitions_info_cleaned.csv', index=False)"
   ]
  },
  {
   "cell_type": "code",
   "execution_count": null,
   "metadata": {},
   "outputs": [],
   "source": [
    "# competitions_cleaned_with_filled.to_csv('../../data/competitions_info_cleaned_filled.csv', index=False)\n",
    "# competitions_cleaned_with_filled.to_csv('../../data_mini/competitions_info_cleaned_filled.csv', index=False)"
   ]
  },
  {
   "cell_type": "code",
   "execution_count": null,
   "metadata": {},
   "outputs": [],
   "source": []
  }
 ]
}