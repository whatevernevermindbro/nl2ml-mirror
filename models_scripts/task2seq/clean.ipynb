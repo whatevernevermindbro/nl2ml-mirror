{
 "metadata": {
  "language_info": {
   "codemirror_mode": {
    "name": "ipython",
    "version": 3
   },
   "file_extension": ".py",
   "mimetype": "text/x-python",
   "name": "python",
   "nbconvert_exporter": "python",
   "pygments_lexer": "ipython3",
   "version": "3.9.4"
  },
  "orig_nbformat": 2,
  "kernelspec": {
   "name": "python3",
   "display_name": "Python 3.9.4 64-bit"
  },
  "metadata": {
   "interpreter": {
    "hash": "0de36b31320ba4c88b4f85a74724f3d16c36a44df48581253710b1065e752d9e"
   }
  },
  "interpreter": {
   "hash": "fa674fb5f6cdc24eb5c9cc6738104f28cbed8563d07fbe9a025c38c5c7354d6b"
  }
 },
 "nbformat": 4,
 "nbformat_minor": 2,
 "cells": [
  {
   "cell_type": "code",
   "execution_count": 1,
   "metadata": {},
   "outputs": [],
   "source": [
    "# Каким образом Ваня собрал ноутбуки?\n",
    "# Что будет, если джойнить чанки с соревнованиями, которые Ваня собрал в конце?"
   ]
  },
  {
   "cell_type": "code",
   "execution_count": 2,
   "metadata": {},
   "outputs": [],
   "source": [
    "import gc\n",
    "\n",
    "import pandas as pd\n",
    "import numpy as np\n",
    "from sqlalchemy import create_engine"
   ]
  },
  {
   "cell_type": "code",
   "execution_count": 3,
   "metadata": {},
   "outputs": [],
   "source": [
    "connection_string_path = '../../.vscode/mariadb_connection.txt'\n",
    "connection_string = open(connection_string_path, 'r').read()\n",
    "engine = create_engine(connection_string)"
   ]
  },
  {
   "cell_type": "code",
   "execution_count": 4,
   "metadata": {
    "tags": []
   },
   "outputs": [
    {
     "output_type": "stream",
     "name": "stdout",
     "text": [
      "schema: #mysql50#lost+found\n",
      "schema: information_schema\n",
      "schema: mysql\n",
      "column_stats\n",
      "columns_priv\n",
      "db\n",
      "event\n",
      "func\n",
      "general_log\n",
      "global_priv\n",
      "gtid_slave_pos\n",
      "help_category\n",
      "help_keyword\n",
      "help_relation\n",
      "help_topic\n",
      "index_stats\n",
      "innodb_index_stats\n",
      "innodb_table_stats\n",
      "plugin\n",
      "proc\n",
      "procs_priv\n",
      "proxies_priv\n",
      "roles_mapping\n",
      "servers\n",
      "slow_log\n",
      "table_stats\n",
      "tables_priv\n",
      "time_zone\n",
      "time_zone_leap_second\n",
      "time_zone_name\n",
      "time_zone_transition\n",
      "time_zone_transition_type\n",
      "transaction_registry\n",
      "schema: nl2ml\n",
      "all_chunks\n",
      "all_notebooks\n",
      "almost_good_codeblocks\n",
      "chunks\n",
      "chunks_data\n",
      "codeblocks\n",
      "competitions\n",
      "data_prep4notebooks\n",
      "good_competitions\n",
      "good_notebooks\n",
      "good_notebooks_data\n",
      "graph_vertexes_m\n",
      "graph_vertices\n",
      "history\n",
      "howmany_notebooks\n",
      "id2comp_id\n",
      "migration_chunks\n",
      "migration_n\n",
      "newchunks\n",
      "not_good_enough_codeblocks\n",
      "notebooks\n",
      "notebooks_with_ref\n",
      "old_competitions\n",
      "raw_chunks_data\n",
      "raw_data\n",
      "ref_links\n",
      "results\n",
      "users\n",
      "schema: nl2ml_test\n",
      "chunks_data\n",
      "chunks_data_m\n",
      "codeblocks\n",
      "competition_links\n",
      "competitions\n",
      "notebooks\n",
      "schema: performance_schema\n",
      "accounts\n",
      "cond_instances\n",
      "events_stages_current\n",
      "events_stages_history\n",
      "events_stages_history_long\n",
      "events_stages_summary_by_account_by_event_name\n",
      "events_stages_summary_by_host_by_event_name\n",
      "events_stages_summary_by_thread_by_event_name\n",
      "events_stages_summary_by_user_by_event_name\n",
      "events_stages_summary_global_by_event_name\n",
      "events_statements_current\n",
      "events_statements_history\n",
      "events_statements_history_long\n",
      "events_statements_summary_by_account_by_event_name\n",
      "events_statements_summary_by_digest\n",
      "events_statements_summary_by_host_by_event_name\n",
      "events_statements_summary_by_thread_by_event_name\n",
      "events_statements_summary_by_user_by_event_name\n",
      "events_statements_summary_global_by_event_name\n",
      "events_waits_current\n",
      "events_waits_history\n",
      "events_waits_history_long\n",
      "events_waits_summary_by_account_by_event_name\n",
      "events_waits_summary_by_host_by_event_name\n",
      "events_waits_summary_by_instance\n",
      "events_waits_summary_by_thread_by_event_name\n",
      "events_waits_summary_by_user_by_event_name\n",
      "events_waits_summary_global_by_event_name\n",
      "file_instances\n",
      "file_summary_by_event_name\n",
      "file_summary_by_instance\n",
      "host_cache\n",
      "hosts\n",
      "mutex_instances\n",
      "objects_summary_global_by_type\n",
      "performance_timers\n",
      "rwlock_instances\n",
      "session_account_connect_attrs\n",
      "session_connect_attrs\n",
      "setup_actors\n",
      "setup_consumers\n",
      "setup_instruments\n",
      "setup_objects\n",
      "setup_timers\n",
      "socket_instances\n",
      "socket_summary_by_event_name\n",
      "socket_summary_by_instance\n",
      "table_io_waits_summary_by_index_usage\n",
      "table_io_waits_summary_by_table\n",
      "table_lock_waits_summary_by_table\n",
      "threads\n",
      "users\n"
     ]
    }
   ],
   "source": [
    "from sqlalchemy import inspect\n",
    "inspector = inspect(engine)\n",
    "schemas = inspector.get_schema_names()\n",
    "for schema in schemas:\n",
    "    print(\"schema: %s\" % schema)\n",
    "    for table_name in inspector.get_table_names(schema=schema):\n",
    "        print(table_name)\n",
    "        # for column in inspector.get_columns(table_name, schema=schema):\n",
    "        #     print(\"Column: %s\" % column)"
   ]
  },
  {
   "cell_type": "code",
   "execution_count": 101,
   "metadata": {},
   "outputs": [
    {
     "output_type": "execute_result",
     "data": {
      "text/plain": [
       "(621614, 23426, 553)"
      ]
     },
     "metadata": {},
     "execution_count": 101
    }
   ],
   "source": [
    "query = \"\"\"\n",
    "select * from chunks_data\n",
    "\"\"\"\n",
    "data = pd.read_sql_query(query, engine)\n",
    "data.shape[0], data.kaggle_id.nunique(), data.ref_link.nunique()"
   ]
  },
  {
   "cell_type": "code",
   "execution_count": 102,
   "metadata": {},
   "outputs": [
    {
     "output_type": "execute_result",
     "data": {
      "text/plain": [
       "983"
      ]
     },
     "metadata": {},
     "execution_count": 102
    }
   ],
   "source": [
    "query = \"\"\"\n",
    "select * from competitions\n",
    "\"\"\"\n",
    "competitions_db = pd.read_sql_query(query, engine)\n",
    "competitions_db.shape[0]"
   ]
  },
  {
   "cell_type": "code",
   "execution_count": 103,
   "metadata": {},
   "outputs": [
    {
     "output_type": "execute_result",
     "data": {
      "text/plain": [
       "   id                                   ref_link  \\\n",
       "0   1                                   c/roxie2   \n",
       "1   2   c/recruit-restaurant-visitor-forecasting   \n",
       "2   3       c/rsna-pneumonia-detection-challenge   \n",
       "3   4  c/reducing-commercial-aviation-fatalities   \n",
       "4   5                     c/rossmann-store-sales   \n",
       "\n",
       "                                     comp_name   comp_type  \\\n",
       "0       '`Predict the missing pixel value v2`'     inclass   \n",
       "1   '`Recruit Restaurant Visitor Forecasting`'    featured   \n",
       "2       '`RSNA Pneumonia Detection Challenge`'    featured   \n",
       "3  '`Reducing Commercial Aviation Fatalities`'  playground   \n",
       "4                     '`Rossmann Store Sales`'    featured   \n",
       "\n",
       "                                         description  \\\n",
       "0                    '`A small regression problem.`'   \n",
       "1  '`Running a thriving local restaurant isn't al...   \n",
       "2  '`In this competition, youre challenged to bui...   \n",
       "3  '`Most flight-related fatalities stem from a l...   \n",
       "4  '`Rossmann operates over 3,000 drug stores in ...   \n",
       "\n",
       "                          metric datatype subject problemtype  good  old_id  \n",
       "0                            mse     None    None        None     0  3175.0  \n",
       "1                          rmsle     None    None        None     1     NaN  \n",
       "2                  custom metric     None    None        None     1     NaN  \n",
       "3                 multiclassloss     None    None        None     1     NaN  \n",
       "4  rootmeansquarepercentageerror     None    None        None     1   352.0  "
      ],
      "text/html": "<div>\n<style scoped>\n    .dataframe tbody tr th:only-of-type {\n        vertical-align: middle;\n    }\n\n    .dataframe tbody tr th {\n        vertical-align: top;\n    }\n\n    .dataframe thead th {\n        text-align: right;\n    }\n</style>\n<table border=\"1\" class=\"dataframe\">\n  <thead>\n    <tr style=\"text-align: right;\">\n      <th></th>\n      <th>id</th>\n      <th>ref_link</th>\n      <th>comp_name</th>\n      <th>comp_type</th>\n      <th>description</th>\n      <th>metric</th>\n      <th>datatype</th>\n      <th>subject</th>\n      <th>problemtype</th>\n      <th>good</th>\n      <th>old_id</th>\n    </tr>\n  </thead>\n  <tbody>\n    <tr>\n      <th>0</th>\n      <td>1</td>\n      <td>c/roxie2</td>\n      <td>'`Predict the missing pixel value v2`'</td>\n      <td>inclass</td>\n      <td>'`A small regression problem.`'</td>\n      <td>mse</td>\n      <td>None</td>\n      <td>None</td>\n      <td>None</td>\n      <td>0</td>\n      <td>3175.0</td>\n    </tr>\n    <tr>\n      <th>1</th>\n      <td>2</td>\n      <td>c/recruit-restaurant-visitor-forecasting</td>\n      <td>'`Recruit Restaurant Visitor Forecasting`'</td>\n      <td>featured</td>\n      <td>'`Running a thriving local restaurant isn't al...</td>\n      <td>rmsle</td>\n      <td>None</td>\n      <td>None</td>\n      <td>None</td>\n      <td>1</td>\n      <td>NaN</td>\n    </tr>\n    <tr>\n      <th>2</th>\n      <td>3</td>\n      <td>c/rsna-pneumonia-detection-challenge</td>\n      <td>'`RSNA Pneumonia Detection Challenge`'</td>\n      <td>featured</td>\n      <td>'`In this competition, youre challenged to bui...</td>\n      <td>custom metric</td>\n      <td>None</td>\n      <td>None</td>\n      <td>None</td>\n      <td>1</td>\n      <td>NaN</td>\n    </tr>\n    <tr>\n      <th>3</th>\n      <td>4</td>\n      <td>c/reducing-commercial-aviation-fatalities</td>\n      <td>'`Reducing Commercial Aviation Fatalities`'</td>\n      <td>playground</td>\n      <td>'`Most flight-related fatalities stem from a l...</td>\n      <td>multiclassloss</td>\n      <td>None</td>\n      <td>None</td>\n      <td>None</td>\n      <td>1</td>\n      <td>NaN</td>\n    </tr>\n    <tr>\n      <th>4</th>\n      <td>5</td>\n      <td>c/rossmann-store-sales</td>\n      <td>'`Rossmann Store Sales`'</td>\n      <td>featured</td>\n      <td>'`Rossmann operates over 3,000 drug stores in ...</td>\n      <td>rootmeansquarepercentageerror</td>\n      <td>None</td>\n      <td>None</td>\n      <td>None</td>\n      <td>1</td>\n      <td>352.0</td>\n    </tr>\n  </tbody>\n</table>\n</div>"
     },
     "metadata": {},
     "execution_count": 103
    }
   ],
   "source": [
    "competitions_db.head()"
   ]
  },
  {
   "cell_type": "code",
   "execution_count": 99,
   "metadata": {},
   "outputs": [
    {
     "output_type": "execute_result",
     "data": {
      "text/plain": [
       "23394"
      ]
     },
     "metadata": {},
     "execution_count": 99
    }
   ],
   "source": [
    "query = \"\"\"\n",
    "select * from notebooks\n",
    "\"\"\"\n",
    "notebooks = pd.read_sql_query(query, engine)\n",
    "notebooks.shape[0]"
   ]
  },
  {
   "source": [
    "notebooks = notebooks.merge(competitions_db, left_on='competition_id', right_on='id', how='inner').drop_duplicates()"
   ],
   "cell_type": "code",
   "metadata": {},
   "execution_count": 112,
   "outputs": []
  },
  {
   "cell_type": "code",
   "execution_count": 115,
   "metadata": {},
   "outputs": [
    {
     "output_type": "execute_result",
     "data": {
      "text/plain": [
       "218"
      ]
     },
     "metadata": {},
     "execution_count": 115
    }
   ],
   "source": [
    "notebooks['ref_link'].nunique()"
   ]
  },
  {
   "cell_type": "code",
   "execution_count": 2,
   "metadata": {},
   "outputs": [],
   "source": [
    "pd.set_option('mode.chained_assignment', None)"
   ]
  },
  {
   "cell_type": "code",
   "execution_count": 78,
   "metadata": {},
   "outputs": [],
   "source": [
    "MARKUP_DATA_PATH = \"../../data/markup_data_2021-05-26.csv\"\n",
    "markup_data = pd.read_csv(MARKUP_DATA_PATH)#, nrows=25)\n",
    "print('Loaded: {} chunks of {} notebooks from {} competitions'.format(markup_data.shape[0], markup_data['kaggle_id'].nunique(), markup_data['competition_id'].nunique()))"
   ]
  },
  {
   "cell_type": "code",
   "execution_count": null,
   "metadata": {},
   "outputs": [],
   "source": [
    "NOT_YET_MARKUP_DATA_PATH = \"../../data/not_yet_markup_data_2021-05-26.csv\"\n",
    "not_yet_markup_data = pd.read_csv(NOT_YET_MARKUP_DATA_PATH)#, nrows=25)\n",
    "# not_yet_markup_data.head()\n",
    "print('Loaded: {} chunks of {} notebooks from {} competitions'.format(not_yet_markup_data.shape[0], not_yet_markup_data['kaggle_id'].nunique(), not_yet_markup_data['competition_id'].nunique()))\n",
    "# new_notebooks.rename({'data_sources':'ref'}, axis=1, inplace=True)\n",
    "# def clean_comp(string:str) -> str:\n",
    "#     string = string.strip('[').strip(']').replace(\"'\", \"\")\n",
    "#     return string\n",
    "# new_notebooks['ref'] = new_notebooks['ref'].apply(clean_comp)\n",
    "# new_notebooks['ref'] = new_notebooks['ref'].apply(lambda x: x.split(',')[0].strip(' ').strip(\"'\"))"
   ]
  },
  {
   "cell_type": "code",
   "execution_count": 5,
   "metadata": {},
   "outputs": [
    {
     "output_type": "stream",
     "name": "stdout",
     "text": [
      "Parsed: 2587074 chunks of 101071 notebooks from 22935 competitions\n"
     ]
    }
   ],
   "source": [
    "# Сколько у нас всего чанков по результатам последнего парсинга?\n",
    "NEW_NOTEBOOKS_PATH = \"../../data/codeblocks_2021-04-01_concatenated.csv\"\n",
    "new_notebooks = pd.read_csv(NEW_NOTEBOOKS_PATH)#, nrows=25)\n",
    "new_notebooks.rename({'data_sources':'ref'}, axis=1, inplace=True)\n",
    "print('Parsed: {} chunks of {} notebooks from {} competitions'.format(new_notebooks.shape[0], new_notebooks['kaggle_link'].nunique(), new_notebooks['ref'].nunique()))\n",
    "def clean_comp(string:str) -> str:\n",
    "    string = string.strip('[').strip(']').replace(\"'\", \"\")\n",
    "    return string\n",
    "new_notebooks['ref'] = new_notebooks['ref'].apply(clean_comp)\n",
    "new_notebooks['ref'] = new_notebooks['ref'].apply(lambda x: x.split(',')[0].strip(' ').strip(\"'\"))"
   ]
  },
  {
   "cell_type": "code",
   "execution_count": 6,
   "metadata": {},
   "outputs": [
    {
     "output_type": "stream",
     "name": "stdout",
     "text": [
      "After removing duplicates: 2441865 chunks of 101065 notebooks from 12984 competitions\n",
      "After dropping NaNs: 2441862 chunks of 101065 notebooks from 12984 competitions\n",
      "Parsed and cleaned: 2441862 chunks of 101065 notebooks from 12984 competitions\n"
     ]
    }
   ],
   "source": [
    "# Сколько останется чанков после удаления дубликатов и чанков без кода?\n",
    "new_notebooks.drop_duplicates(inplace=True, subset=['code_block_id', 'kaggle_id'])\n",
    "print('After removing duplicates: {} chunks of {} notebooks from {} competitions'.format(new_notebooks.shape[0], new_notebooks['kaggle_link'].nunique(), new_notebooks['ref'].nunique()))\n",
    "new_notebooks.dropna(axis=0, subset=['code_block'], inplace=True)\n",
    "new_notebooks = new_notebooks[~(new_notebooks['code_block'] == '`')]\n",
    "print('After dropping NaNs: {} chunks of {} notebooks from {} competitions'.format(new_notebooks.shape[0], new_notebooks['kaggle_link'].nunique(), new_notebooks['ref'].nunique()))\n",
    "gc.collect()\n",
    "print('Parsed and cleaned: {} chunks of {} notebooks from {} competitions'.format(new_notebooks.shape[0], new_notebooks['kaggle_link'].nunique(), new_notebooks['ref'].nunique()))"
   ]
  },
  {
   "cell_type": "code",
   "execution_count": 7,
   "metadata": {},
   "outputs": [
    {
     "output_type": "execute_result",
     "data": {
      "text/plain": [
       "   Unnamed: 0  kaggle_score  kaggle_comments  kaggle_upvotes  \\\n",
       "0           0       0.77609                0               1   \n",
       "1           1       0.77609                0               1   \n",
       "2           2       0.77609                0               1   \n",
       "3           3       0.77609                0               1   \n",
       "4           4       0.77609                0               1   \n",
       "\n",
       "                                     kaggle_link  kaggle_id             ref  \\\n",
       "0  /claudiohfg/gallivanters-public-score-0-77609    5849655  c/gallivanters   \n",
       "1  /claudiohfg/gallivanters-public-score-0-77609    5849655  c/gallivanters   \n",
       "2  /claudiohfg/gallivanters-public-score-0-77609    5849655  c/gallivanters   \n",
       "3  /claudiohfg/gallivanters-public-score-0-77609    5849655  c/gallivanters   \n",
       "4  /claudiohfg/gallivanters-public-score-0-77609    5849655  c/gallivanters   \n",
       "\n",
       "                                          code_block  code_block_id  \n",
       "0  %reload_ext autoreload\\n%autoreload 2\\n%matplo...              0  \n",
       "1  import numpy as np\\nimport pandas as pd\\n\\nfro...              1  \n",
       "2  dim = 256\\ntrain_files = []\\ntest_files = []\\n...              2  \n",
       "3  with open(country_file) as json_file:\\n    tmp...              3  \n",
       "4  train_set = []\\nfor f in train_files:\\n  idx =...              4  "
      ],
      "text/html": "<div>\n<style scoped>\n    .dataframe tbody tr th:only-of-type {\n        vertical-align: middle;\n    }\n\n    .dataframe tbody tr th {\n        vertical-align: top;\n    }\n\n    .dataframe thead th {\n        text-align: right;\n    }\n</style>\n<table border=\"1\" class=\"dataframe\">\n  <thead>\n    <tr style=\"text-align: right;\">\n      <th></th>\n      <th>Unnamed: 0</th>\n      <th>kaggle_score</th>\n      <th>kaggle_comments</th>\n      <th>kaggle_upvotes</th>\n      <th>kaggle_link</th>\n      <th>kaggle_id</th>\n      <th>ref</th>\n      <th>code_block</th>\n      <th>code_block_id</th>\n    </tr>\n  </thead>\n  <tbody>\n    <tr>\n      <th>0</th>\n      <td>0</td>\n      <td>0.77609</td>\n      <td>0</td>\n      <td>1</td>\n      <td>/claudiohfg/gallivanters-public-score-0-77609</td>\n      <td>5849655</td>\n      <td>c/gallivanters</td>\n      <td>%reload_ext autoreload\\n%autoreload 2\\n%matplo...</td>\n      <td>0</td>\n    </tr>\n    <tr>\n      <th>1</th>\n      <td>1</td>\n      <td>0.77609</td>\n      <td>0</td>\n      <td>1</td>\n      <td>/claudiohfg/gallivanters-public-score-0-77609</td>\n      <td>5849655</td>\n      <td>c/gallivanters</td>\n      <td>import numpy as np\\nimport pandas as pd\\n\\nfro...</td>\n      <td>1</td>\n    </tr>\n    <tr>\n      <th>2</th>\n      <td>2</td>\n      <td>0.77609</td>\n      <td>0</td>\n      <td>1</td>\n      <td>/claudiohfg/gallivanters-public-score-0-77609</td>\n      <td>5849655</td>\n      <td>c/gallivanters</td>\n      <td>dim = 256\\ntrain_files = []\\ntest_files = []\\n...</td>\n      <td>2</td>\n    </tr>\n    <tr>\n      <th>3</th>\n      <td>3</td>\n      <td>0.77609</td>\n      <td>0</td>\n      <td>1</td>\n      <td>/claudiohfg/gallivanters-public-score-0-77609</td>\n      <td>5849655</td>\n      <td>c/gallivanters</td>\n      <td>with open(country_file) as json_file:\\n    tmp...</td>\n      <td>3</td>\n    </tr>\n    <tr>\n      <th>4</th>\n      <td>4</td>\n      <td>0.77609</td>\n      <td>0</td>\n      <td>1</td>\n      <td>/claudiohfg/gallivanters-public-score-0-77609</td>\n      <td>5849655</td>\n      <td>c/gallivanters</td>\n      <td>train_set = []\\nfor f in train_files:\\n  idx =...</td>\n      <td>4</td>\n    </tr>\n  </tbody>\n</table>\n</div>"
     },
     "metadata": {},
     "execution_count": 7
    }
   ],
   "source": [
    "new_notebooks.head()"
   ]
  },
  {
   "cell_type": "code",
   "execution_count": 9,
   "metadata": {},
   "outputs": [
    {
     "output_type": "execute_result",
     "data": {
      "text/plain": [
       "   kaggle_score  kaggle_comments  kaggle_upvotes  \\\n",
       "0       0.77609                0               1   \n",
       "1       0.77609                0               1   \n",
       "2       0.77609                0               1   \n",
       "3       0.77609                0               1   \n",
       "4       0.77609                0               1   \n",
       "\n",
       "                                     kaggle_link  kaggle_id             ref  \\\n",
       "0  /claudiohfg/gallivanters-public-score-0-77609    5849655  c/gallivanters   \n",
       "1  /claudiohfg/gallivanters-public-score-0-77609    5849655  c/gallivanters   \n",
       "2  /claudiohfg/gallivanters-public-score-0-77609    5849655  c/gallivanters   \n",
       "3  /claudiohfg/gallivanters-public-score-0-77609    5849655  c/gallivanters   \n",
       "4  /claudiohfg/gallivanters-public-score-0-77609    5849655  c/gallivanters   \n",
       "\n",
       "                                          code_block  code_block_id  \n",
       "0  %reload_ext autoreload\\n%autoreload 2\\n%matplo...              0  \n",
       "1  import numpy as np\\nimport pandas as pd\\n\\nfro...              1  \n",
       "2  dim = 256\\ntrain_files = []\\ntest_files = []\\n...              2  \n",
       "3  with open(country_file) as json_file:\\n    tmp...              3  \n",
       "4  train_set = []\\nfor f in train_files:\\n  idx =...              4  "
      ],
      "text/html": "<div>\n<style scoped>\n    .dataframe tbody tr th:only-of-type {\n        vertical-align: middle;\n    }\n\n    .dataframe tbody tr th {\n        vertical-align: top;\n    }\n\n    .dataframe thead th {\n        text-align: right;\n    }\n</style>\n<table border=\"1\" class=\"dataframe\">\n  <thead>\n    <tr style=\"text-align: right;\">\n      <th></th>\n      <th>kaggle_score</th>\n      <th>kaggle_comments</th>\n      <th>kaggle_upvotes</th>\n      <th>kaggle_link</th>\n      <th>kaggle_id</th>\n      <th>ref</th>\n      <th>code_block</th>\n      <th>code_block_id</th>\n    </tr>\n  </thead>\n  <tbody>\n    <tr>\n      <th>0</th>\n      <td>0.77609</td>\n      <td>0</td>\n      <td>1</td>\n      <td>/claudiohfg/gallivanters-public-score-0-77609</td>\n      <td>5849655</td>\n      <td>c/gallivanters</td>\n      <td>%reload_ext autoreload\\n%autoreload 2\\n%matplo...</td>\n      <td>0</td>\n    </tr>\n    <tr>\n      <th>1</th>\n      <td>0.77609</td>\n      <td>0</td>\n      <td>1</td>\n      <td>/claudiohfg/gallivanters-public-score-0-77609</td>\n      <td>5849655</td>\n      <td>c/gallivanters</td>\n      <td>import numpy as np\\nimport pandas as pd\\n\\nfro...</td>\n      <td>1</td>\n    </tr>\n    <tr>\n      <th>2</th>\n      <td>0.77609</td>\n      <td>0</td>\n      <td>1</td>\n      <td>/claudiohfg/gallivanters-public-score-0-77609</td>\n      <td>5849655</td>\n      <td>c/gallivanters</td>\n      <td>dim = 256\\ntrain_files = []\\ntest_files = []\\n...</td>\n      <td>2</td>\n    </tr>\n    <tr>\n      <th>3</th>\n      <td>0.77609</td>\n      <td>0</td>\n      <td>1</td>\n      <td>/claudiohfg/gallivanters-public-score-0-77609</td>\n      <td>5849655</td>\n      <td>c/gallivanters</td>\n      <td>with open(country_file) as json_file:\\n    tmp...</td>\n      <td>3</td>\n    </tr>\n    <tr>\n      <th>4</th>\n      <td>0.77609</td>\n      <td>0</td>\n      <td>1</td>\n      <td>/claudiohfg/gallivanters-public-score-0-77609</td>\n      <td>5849655</td>\n      <td>c/gallivanters</td>\n      <td>train_set = []\\nfor f in train_files:\\n  idx =...</td>\n      <td>4</td>\n    </tr>\n  </tbody>\n</table>\n</div>"
     },
     "metadata": {},
     "execution_count": 9
    }
   ],
   "source": [
    "# Дропаем позорище\n",
    "new_notebooks.drop(['Unnamed: 0'], axis=1, inplace=True)\n",
    "new_notebooks.head()"
   ]
  },
  {
   "cell_type": "code",
   "execution_count": 13,
   "metadata": {},
   "outputs": [
    {
     "output_type": "execute_result",
     "data": {
      "text/plain": [
       "   kaggle_score  kaggle_comments  kaggle_upvotes  \\\n",
       "0       0.77609                0               1   \n",
       "1       0.77609                0               1   \n",
       "2       0.77609                0               1   \n",
       "3       0.77609                0               1   \n",
       "4       0.77609                0               1   \n",
       "\n",
       "                                     kaggle_link  kaggle_id             ref  \\\n",
       "0  /claudiohfg/gallivanters-public-score-0-77609    5849655  c/gallivanters   \n",
       "1  /claudiohfg/gallivanters-public-score-0-77609    5849655  c/gallivanters   \n",
       "2  /claudiohfg/gallivanters-public-score-0-77609    5849655  c/gallivanters   \n",
       "3  /claudiohfg/gallivanters-public-score-0-77609    5849655  c/gallivanters   \n",
       "4  /claudiohfg/gallivanters-public-score-0-77609    5849655  c/gallivanters   \n",
       "\n",
       "                                          code_block  code_block_id  \\\n",
       "0  %reload_ext autoreload\\n%autoreload 2\\n%matplo...              0   \n",
       "1  import numpy as np\\nimport pandas as pd\\n\\nfro...              1   \n",
       "2  dim = 256\\ntrain_files = []\\ntest_files = []\\n...              2   \n",
       "3  with open(country_file) as json_file:\\n    tmp...              3   \n",
       "4  train_set = []\\nfor f in train_files:\\n  idx =...              4   \n",
       "\n",
       "  assessor_label assessor_confidence classifier_label classifier_confidence  \n",
       "0            NaT                 NaT              NaT                   NaT  \n",
       "1            NaT                 NaT              NaT                   NaT  \n",
       "2            NaT                 NaT              NaT                   NaT  \n",
       "3            NaT                 NaT              NaT                   NaT  \n",
       "4            NaT                 NaT              NaT                   NaT  "
      ],
      "text/html": "<div>\n<style scoped>\n    .dataframe tbody tr th:only-of-type {\n        vertical-align: middle;\n    }\n\n    .dataframe tbody tr th {\n        vertical-align: top;\n    }\n\n    .dataframe thead th {\n        text-align: right;\n    }\n</style>\n<table border=\"1\" class=\"dataframe\">\n  <thead>\n    <tr style=\"text-align: right;\">\n      <th></th>\n      <th>kaggle_score</th>\n      <th>kaggle_comments</th>\n      <th>kaggle_upvotes</th>\n      <th>kaggle_link</th>\n      <th>kaggle_id</th>\n      <th>ref</th>\n      <th>code_block</th>\n      <th>code_block_id</th>\n      <th>assessor_label</th>\n      <th>assessor_confidence</th>\n      <th>classifier_label</th>\n      <th>classifier_confidence</th>\n    </tr>\n  </thead>\n  <tbody>\n    <tr>\n      <th>0</th>\n      <td>0.77609</td>\n      <td>0</td>\n      <td>1</td>\n      <td>/claudiohfg/gallivanters-public-score-0-77609</td>\n      <td>5849655</td>\n      <td>c/gallivanters</td>\n      <td>%reload_ext autoreload\\n%autoreload 2\\n%matplo...</td>\n      <td>0</td>\n      <td>NaT</td>\n      <td>NaT</td>\n      <td>NaT</td>\n      <td>NaT</td>\n    </tr>\n    <tr>\n      <th>1</th>\n      <td>0.77609</td>\n      <td>0</td>\n      <td>1</td>\n      <td>/claudiohfg/gallivanters-public-score-0-77609</td>\n      <td>5849655</td>\n      <td>c/gallivanters</td>\n      <td>import numpy as np\\nimport pandas as pd\\n\\nfro...</td>\n      <td>1</td>\n      <td>NaT</td>\n      <td>NaT</td>\n      <td>NaT</td>\n      <td>NaT</td>\n    </tr>\n    <tr>\n      <th>2</th>\n      <td>0.77609</td>\n      <td>0</td>\n      <td>1</td>\n      <td>/claudiohfg/gallivanters-public-score-0-77609</td>\n      <td>5849655</td>\n      <td>c/gallivanters</td>\n      <td>dim = 256\\ntrain_files = []\\ntest_files = []\\n...</td>\n      <td>2</td>\n      <td>NaT</td>\n      <td>NaT</td>\n      <td>NaT</td>\n      <td>NaT</td>\n    </tr>\n    <tr>\n      <th>3</th>\n      <td>0.77609</td>\n      <td>0</td>\n      <td>1</td>\n      <td>/claudiohfg/gallivanters-public-score-0-77609</td>\n      <td>5849655</td>\n      <td>c/gallivanters</td>\n      <td>with open(country_file) as json_file:\\n    tmp...</td>\n      <td>3</td>\n      <td>NaT</td>\n      <td>NaT</td>\n      <td>NaT</td>\n      <td>NaT</td>\n    </tr>\n    <tr>\n      <th>4</th>\n      <td>0.77609</td>\n      <td>0</td>\n      <td>1</td>\n      <td>/claudiohfg/gallivanters-public-score-0-77609</td>\n      <td>5849655</td>\n      <td>c/gallivanters</td>\n      <td>train_set = []\\nfor f in train_files:\\n  idx =...</td>\n      <td>4</td>\n      <td>NaT</td>\n      <td>NaT</td>\n      <td>NaT</td>\n      <td>NaT</td>\n    </tr>\n  </tbody>\n</table>\n</div>"
     },
     "metadata": {},
     "execution_count": 13
    }
   ],
   "source": [
    "# Добавляем новые будущие столбцы\n",
    "new_notebooks['assessor_label'] = pd.NaT\n",
    "new_notebooks['assessor_confidence'] = pd.NaT\n",
    "new_notebooks['classifier_label'] = pd.NaT\n",
    "new_notebooks['classifier_confidence'] = pd.NaT\n",
    "new_notebooks.head()"
   ]
  },
  {
   "cell_type": "code",
   "execution_count": null,
   "metadata": {},
   "outputs": [],
   "source": [
    "# Сохраняем базу корпуса\n",
    "new_notebooks.to_csv('../../corpus/MLCC_base.csv', index=False)"
   ]
  },
  {
   "cell_type": "code",
   "execution_count": 19,
   "metadata": {},
   "outputs": [
    {
     "output_type": "stream",
     "name": "stdout",
     "text": [
      "With kaggle_score: 617441 chunks of 23425 notebooks from 553 competitions\n"
     ]
    }
   ],
   "source": [
    "new_notebooks.dropna(axis=0, subset=['kaggle_score'], inplace=True) \n",
    "print('With kaggle_score: {} chunks of {} notebooks from {} competitions'.format(new_notebooks.shape[0], new_notebooks['kaggle_link'].nunique(), new_notebooks['ref'].nunique()))"
   ]
  },
  {
   "cell_type": "code",
   "execution_count": 20,
   "metadata": {},
   "outputs": [],
   "source": [
    "new_notebooks['code_block'] = new_notebooks['code_block'].str.replace('`', '')"
   ]
  },
  {
   "cell_type": "code",
   "execution_count": 21,
   "metadata": {},
   "outputs": [],
   "source": [
    "# new_notebooks.to_csv(\"../../data/codeblocks_2021-04-01_concatenated_cleaned.csv\", index=False)"
   ]
  },
  {
   "cell_type": "code",
   "execution_count": 22,
   "metadata": {},
   "outputs": [
    {
     "output_type": "stream",
     "name": "stdout",
     "text": [
      "(5060, 8)\n(4352, 8)\n"
     ]
    }
   ],
   "source": [
    "COMPETITIONS_PATH = \"../../data/competitions_info.csv\"\n",
    "competitions = pd.read_csv(COMPETITIONS_PATH)\n",
    "print(competitions.shape)\n",
    "competitions.drop_duplicates(inplace=True)\n",
    "competitions['ref'] = competitions['ref'].apply(clean_comp)\n",
    "print(competitions.shape)"
   ]
  },
  {
   "cell_type": "code",
   "execution_count": 144,
   "metadata": {},
   "outputs": [
    {
     "output_type": "stream",
     "name": "stdout",
     "text": [
      "Loaded: 617441 chunks of 23424 notebooks from 552 competitions\n0\n"
     ]
    }
   ],
   "source": [
    "# Сколько всего у нас есть чанков с непустым kaggle_score?\n",
    "CHUNKS_PATH = \"../../data/codeblocks_2021-04-01_concatenated_cleaned.csv\"\n",
    "chunks = pd.read_csv(CHUNKS_PATH)\n",
    "print('Loaded: {} chunks of {} notebooks from {} competitions'.format(chunks.shape[0], chunks['kaggle_id'].nunique(), chunks['ref'].nunique()))\n",
    "print(chunks['kaggle_score'].isna().sum())\n",
    "# How many competitions we have in competitions file\n",
    "print('We have {} competitions in competitions file'\\\n",
    "    .format(chunks[chunks['ref'].isin(competitions['ref'].unique())]['ref'].nunique()))\n",
    "# How many competions we do not have in competitions file\n",
    "print('We miss {} competitions in competitions file'\\\n",
    "    .format(chunks['ref'].nunique() - chunks[chunks['ref'].isin(competitions['ref'])]['ref'].nunique()))"
   ]
  },
  {
   "cell_type": "code",
   "execution_count": 23,
   "metadata": {},
   "outputs": [
    {
     "output_type": "stream",
     "name": "stdout",
     "text": [
      "# Chunks: 77649\n# Notebooks: 2827\n# Competitions: 266\n"
     ]
    }
   ],
   "source": [
    "new_notebooks = new_notebooks.merge(competitions, on=['ref'], how='inner')\n",
    "# new_notebooks.merge(competitions, on=['ref'], how='right').shape\n",
    "print('# Chunks: {}\\n# Notebooks: {}\\n# Competitions: {}'.format(new_notebooks.shape[0], new_notebooks.kaggle_link.nunique(), new_notebooks.ref.nunique()))"
   ]
  },
  {
   "cell_type": "code",
   "execution_count": 24,
   "metadata": {},
   "outputs": [
    {
     "output_type": "execute_result",
     "data": {
      "text/plain": [
       "0"
      ]
     },
     "metadata": {},
     "execution_count": 24
    }
   ],
   "source": [
    "# Check number of \"non competition\" refs\n",
    "new_notebooks[~new_notebooks['ref'].str.contains('c/')].shape[0]"
   ]
  },
  {
   "cell_type": "code",
   "execution_count": null,
   "metadata": {},
   "outputs": [],
   "source": [
    "# new_notebooks.drop('Unnamed: 0', axis=1, inplace=True)\n",
    "# new_notebooks.to_csv('../../data/codeblocks_2021-04-01_concatenated_cleaned.csv', index=False)"
   ]
  },
  {
   "cell_type": "code",
   "execution_count": 10,
   "metadata": {},
   "outputs": [
    {
     "output_type": "stream",
     "name": "stdout",
     "text": [
      "# Chunks: 77649\n# Notebooks: 2827\n# Competitions: 266\n"
     ]
    }
   ],
   "source": [
    "# new_notebooks['exists_in_competitions'] = new_notebooks.apply(lambda x: x['ref'] in competitions['ref'].unique(), axis=1)\n",
    "# print('# Chunks: {}\\n# Notebooks: {}\\n# Competitions: {}'.format(new_notebooks[new_notebooks['exists_in_competitions'] == True].shape[0], new_notebooks[new_notebooks['exists_in_competitions'] == True]['kaggle_link'].nunique(), new_notebooks[new_notebooks['exists_in_competitions'] == True]['ref'].nunique()))"
   ]
  },
  {
   "cell_type": "code",
   "execution_count": null,
   "metadata": {},
   "outputs": [],
   "source": [
    "competitions['has_notebooks'] = competitions.apply(lambda x: x['ref'] in new_notebooks['ref'].tolist(), axis=1)\n",
    "competitions_cleaned = competitions[competitions['has_notebooks']]\n",
    "competitions_cleaned.shape\n",
    "# competitions_cleaned.to_csv('../data/competitions_info_cleaned.csv', index=False)"
   ]
  },
  {
   "cell_type": "code",
   "execution_count": null,
   "metadata": {},
   "outputs": [],
   "source": [
    "COMPETITIONS_FILLED_PATH = \"../../data/competitions_info_cleaned.csv\"\n",
    "competitions_filled = pd.read_csv(COMPETITIONS_FILLED_PATH)\n",
    "competitions_filled.shape"
   ]
  },
  {
   "cell_type": "code",
   "execution_count": null,
   "metadata": {},
   "outputs": [],
   "source": [
    "competitions_cleaned_with_filled = competitions_cleaned[['ref', 'comp_name', 'comp_type']].merge(competitions_filled[['ref', 'Description',\n",
    "                                        'Metric', 'DataType', 'Subject', 'ProblemType']]\n",
    "                                    , on=['ref'], how='left')\n",
    "competitions_cleaned_with_filled.isna().sum()"
   ]
  },
  {
   "cell_type": "code",
   "execution_count": null,
   "metadata": {},
   "outputs": [],
   "source": [
    "# competitions_filled.to_csv('../../data/competitions_info_filled.csv', index=False)\n",
    "# competitions_filled.to_csv('../../data_mini/competitions_info_filled.csv', index=False)"
   ]
  },
  {
   "cell_type": "code",
   "execution_count": null,
   "metadata": {},
   "outputs": [],
   "source": [
    "# competitions_cleaned.to_csv('../../data/competitions_info_cleaned.csv', index=False)\n",
    "# competitions_cleaned.to_csv('../../data_mini/competitions_info_cleaned.csv', index=False)"
   ]
  },
  {
   "cell_type": "code",
   "execution_count": null,
   "metadata": {},
   "outputs": [],
   "source": [
    "# competitions_cleaned_with_filled.to_csv('../../data/competitions_info_cleaned_filled.csv', index=False)\n",
    "# competitions_cleaned_with_filled.to_csv('../../data_mini/competitions_info_cleaned_filled.csv', index=False)"
   ]
  },
  {
   "cell_type": "code",
   "execution_count": null,
   "metadata": {},
   "outputs": [],
   "source": []
  }
 ]
}