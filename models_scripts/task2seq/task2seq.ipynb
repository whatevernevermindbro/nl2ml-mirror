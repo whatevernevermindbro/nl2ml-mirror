{
 "metadata": {
  "language_info": {
   "codemirror_mode": {
    "name": "ipython",
    "version": 3
   },
   "file_extension": ".py",
   "mimetype": "text/x-python",
   "name": "python",
   "nbconvert_exporter": "python",
   "pygments_lexer": "ipython3",
   "version": "3.8.5"
  },
  "orig_nbformat": 2,
  "kernelspec": {
   "name": "python385jvsc74a57bd0d0ddd292140de7144a2e52e7cfaaa287bc93c7991ea231311f4a8d4f39ae4756",
   "display_name": "Python 3.8.5 64-bit ('base': conda)"
  },
  "metadata": {
   "interpreter": {
    "hash": "0de36b31320ba4c88b4f85a74724f3d16c36a44df48581253710b1065e752d9e"
   }
  }
 },
 "nbformat": 4,
 "nbformat_minor": 2,
 "cells": [
  {
   "cell_type": "code",
   "execution_count": 1,
   "metadata": {},
   "outputs": [],
   "source": [
    "###TODO: Check CE calculation\n",
    "###TODO: Stack more layers"
   ]
  },
  {
   "cell_type": "code",
   "execution_count": 2,
   "metadata": {},
   "outputs": [],
   "source": [
    "import time\n",
    "import gc\n",
    "from datetime import datetime\n",
    "\n",
    "import pandas as pd\n",
    "import numpy as np\n",
    "import tensorflow as tf\n",
    "from tensorflow import keras\n",
    "from tensorflow.keras import layers\n",
    "from tensorflow.keras import backend as K\n",
    "from sklearn.model_selection import train_test_split\n",
    "from sklearn.metrics import log_loss\n",
    "from sqlalchemy import create_engine\n",
    "import matplotlib.pyplot as plt"
   ]
  },
  {
   "cell_type": "code",
   "execution_count": 3,
   "metadata": {},
   "outputs": [],
   "source": [
    "pd.set_option('mode.chained_assignment', None)"
   ]
  },
  {
   "cell_type": "code",
   "execution_count": 4,
   "metadata": {},
   "outputs": [],
   "source": [
    "run_params = {\"Task\": \"train\"\n",
    "            , \"Model\": \"generative task2seq\"}"
   ]
  },
  {
   "source": [
    "### Defining Methods"
   ],
   "cell_type": "markdown",
   "metadata": {}
  },
  {
   "cell_type": "code",
   "execution_count": 5,
   "metadata": {},
   "outputs": [],
   "source": [
    "def get_key(my_dict, val):\n",
    "    for key, value in my_dict.items():\n",
    "         if val == value:\n",
    "             return key\n",
    " \n",
    "    return \"key doesn't exist\""
   ]
  },
  {
   "cell_type": "code",
   "execution_count": 6,
   "metadata": {},
   "outputs": [],
   "source": [
    "def preprocess_task(task_vector):\n",
    "    # either convert to float32 or encode to categoricals\n",
    "    for i, el in enumerate(task_vector):\n",
    "        try:\n",
    "            task_vector[i] = float(task_vector[i])\n",
    "        except:\n",
    "            task_vector[i] = get_key(cat_encodings[i], task_vector[i])\n",
    "    return task_vector.astype('float32')"
   ]
  },
  {
   "cell_type": "code",
   "execution_count": 7,
   "metadata": {},
   "outputs": [],
   "source": [
    "def group_by_notebooks(data:pd.DataFrame, vertex_col:str='vertex_l1') -> pd.DataFrame:\n",
    "    notebook_cols = [[notebook_id_col, vertex_col, competition_id_col] + TASK_FEATURES]\n",
    "    df = pd.DataFrame(columns=notebook_cols)\n",
    "    for i, notebook_id in enumerate(data[notebook_id_col].unique()):\n",
    "        notebook = data[data[notebook_id_col] == notebook_id].reset_index(drop=True)\n",
    "        vertices_seq = \" \".join(notebook[vertex_col])\n",
    "        task_features = notebook[TASK_FEATURES].loc[0]\n",
    "        competition_id = notebook[competition_id_col].unique()[0]\n",
    "        row = [notebook_id, vertices_seq, competition_id] + task_features.tolist()\n",
    "        df.loc[i] = row\n",
    "        print('notebook #{} done'.format(notebook_id))\n",
    "    return df "
   ]
  },
  {
   "cell_type": "code",
   "execution_count": 8,
   "metadata": {},
   "outputs": [],
   "source": [
    "def encode_vertices(vertices_seq): #, lang\n",
    "    # print(vertices_seq[0], type(vertices_seq[0]), vertices_seq[0].split(' '))\n",
    "    try:\n",
    "        encoded = np.append(np.flip(np.array([lang[vertex] for vertex in vertices_seq[0].split(' ')] + [lang['<end>']])), lang['<start>'])\n",
    "        # encoded = np.append(lang['<start>'], np.array([lang[vertex] for vertex in vertices_seq[0].split(' ')] + [lang['<end>']]))\n",
    "    except:\n",
    "        print(vertices_seq[0].split(' '))\n",
    "        raise Exception(\"Can't encode vertices\")\n",
    "    return encoded"
   ]
  },
  {
   "cell_type": "code",
   "execution_count": 9,
   "metadata": {},
   "outputs": [],
   "source": [
    "class Decoder(tf.keras.Model):\n",
    "  def __init__(self, vocab_size, embedding_dim, dec_units, batch_sz):\n",
    "    super(Decoder, self).__init__()\n",
    "    self.batch_sz = batch_sz\n",
    "    self.dec_units = dec_units\n",
    "    self.embedding = tf.keras.layers.Embedding(vocab_size, embedding_dim)\n",
    "    self.gru = tf.keras.layers.GRU(self.dec_units,\n",
    "                                   return_sequences=True,\n",
    "                                   return_state=True,\n",
    "                                   recurrent_initializer='glorot_uniform')\n",
    "    self.gru_1 = tf.keras.layers.GRU(self.dec_units,\n",
    "                                   return_sequences=True,\n",
    "                                   return_state=True,\n",
    "                                   recurrent_initializer='glorot_uniform')\n",
    "    self.dropout = tf.keras.layers.Dropout(dropout_rate)\n",
    "    self.fc = tf.keras.layers.Dense(vocab_size, activation='sigmoid')\n",
    "    self.fc_vec = tf.keras.layers.Dense(dec_units, activation='sigmoid')\n",
    "\n",
    "  def call(self, x, hidden, vec_input):\n",
    "    x = self.embedding(x)\n",
    "    output, state = self.gru(x, initial_state=hidden)\n",
    "    output, state = self.gru_1(x, initial_state=state)\n",
    "    output = tf.reshape(output, (-1, output.shape[2]))\n",
    "    output = self.dropout(output)\n",
    "    vec = self.fc_vec(vec_input)\n",
    "    concatenated = tf.keras.layers.concatenate([vec, output], axis=1)\n",
    "    x = self.fc(concatenated)\n",
    "    return x, state"
   ]
  },
  {
   "cell_type": "code",
   "execution_count": 10,
   "metadata": {},
   "outputs": [],
   "source": [
    "def loss_function(real, pred):\n",
    "  mask = tf.math.logical_not(tf.math.equal(real, 0))\n",
    "  loss_ = loss_object(real, pred)\n",
    "\n",
    "  mask = tf.cast(mask, dtype=loss_.dtype)\n",
    "  loss_ *= mask\n",
    "\n",
    "  return tf.reduce_mean(loss_)"
   ]
  },
  {
   "cell_type": "code",
   "execution_count": 11,
   "metadata": {},
   "outputs": [],
   "source": [
    "@tf.function\n",
    "def train_step(inp, targ): #decoder, optimizer, loss_function, \n",
    "  loss = 0\n",
    "  with tf.GradientTape() as tape:\n",
    "    dec_hidden = tf.zeros((BATCH_SIZE, gru_units))\n",
    "    dec_input = tf.expand_dims([1] * BATCH_SIZE, 1)\n",
    "    for t in range(1, targ.shape[1]): # for each vertex (token) from solution (sequence)\n",
    "      predictions, dec_hidden = decoder(dec_input, dec_hidden, inp) #decoder\n",
    "      # print('target token: {}, \\n predictions distribution: {}, \\n old sum loss: {}'.format(targ[:, t], predictions, loss))\n",
    "      loss += loss_function(targ[:, t], predictions)\n",
    "      # print('new sum loss: {}, calculated loss: {}'.format(loss, loss_function(targ[:, t], predictions)))\n",
    "      dec_input = tf.expand_dims(targ[:, t], 1)\n",
    "  batch_loss = (loss / int(targ.shape[1]))\n",
    "  variables = decoder.trainable_variables\n",
    "  gradients = tape.gradient(loss, variables)\n",
    "  optimizer.apply_gradients(zip(gradients, variables))\n",
    "  del inp, targ, gradients, variables\n",
    "  gc.collect()\n",
    "  return batch_loss"
   ]
  },
  {
   "cell_type": "code",
   "execution_count": 12,
   "metadata": {},
   "outputs": [],
   "source": [
    "# @tf.function\n",
    "# def train_generator(STEPS_PER_EPOCH, EPOCHS, ):\n",
    "#     @tf.function\n",
    "#     def train_step(inp, targ): #decoder, optimizer, loss_function, \n",
    "#         loss = 0\n",
    "#         with tf.GradientTape() as tape:\n",
    "#             dec_hidden = tf.zeros((BATCH_SIZE, gru_units))\n",
    "#             dec_input = tf.expand_dims([1] * BATCH_SIZE, 1)\n",
    "#             for t in range(1, targ.shape[1]): # for each vertex (token) from solution (sequence)\n",
    "#             predictions, dec_hidden = decoder(dec_input, dec_hidden, inp) #decoder\n",
    "#             loss += loss_function(targ[:, t], predictions)\n",
    "#             dec_input = tf.expand_dims(targ[:, t], 1)\n",
    "\n",
    "#         batch_loss = (loss / int(targ.shape[1]))\n",
    "#         variables = decoder.trainable_variables\n",
    "#         gradients = tape.gradient(loss, variables)\n",
    "#         optimizer.apply_gradients(zip(gradients, variables))\n",
    "#         del inp, targ, gradients, variables\n",
    "#         gc.collect()\n",
    "#         return batch_loss\n",
    "#     for epoch in range(EPOCHS):\n",
    "#         gc.collect()\n",
    "#         start = time.time()\n",
    "#         total_loss = 0\n",
    "#         for (batch, (feat, targ)) in enumerate(train_dataset.take(STEPS_PER_EPOCH)):\n",
    "#             batch_loss = train_step(feat, targ)#, enc_hidden)\n",
    "#             batch_perplexity = tf.exp(batch_loss)\n",
    "#             total_loss += batch_loss\n",
    "#             if batch % 100 == 0:\n",
    "#                 print('Epoch {} Batch {} Loss {:.4f} Perplexity {:.4f}'.format(epoch + 1,\n",
    "#                                                                 batch,\n",
    "#                                                                 batch_loss.numpy(),\n",
    "#                                                                 batch_perplexity))\n",
    "#         train_losses.append(batch_loss)\n",
    "\n",
    "#         print('Validating')\n",
    "#         _, losses_ce, rouge_recalls, rouge_precisions = predict_on_test(X_test[TASK_FEATURES], Y_test)\n",
    "#         val_ce.append(losses_ce)\n",
    "#         val_rr.append(rouge_recalls)\n",
    "#         val_rp.append(rouge_precisions)\n",
    "#         if (epoch + 1) % 5 == 0:\n",
    "#             print('Saving..', end='')\n",
    "#             checkpoint.step.assign_add(5)\n",
    "#             manager.save()\n",
    "#             print('saved')\n",
    "#         print('Time taken for the epoch {} sec\\n'.format(time.time() - start))\n",
    "#     best_epoch = np.argmin(val_ce, axis=1)\n",
    "#     print('The best epoch is {} with CE = {}, RR = {}, RP = {}'.format(best_epoch, val_ce[best_epoch], val_rr[best_epoch], val_rp[best_epoch]))\n",
    "#     plt.plot(train_losses)\n",
    "#     plt.plot(np.mean(val_ce, axis=1)/10000)\n",
    "#     plt.plot(np.mean(val_rr, axis=1))\n",
    "#     plt.plot(np.mean(val_rp, axis=1))"
   ]
  },
  {
   "cell_type": "code",
   "execution_count": 13,
   "metadata": {},
   "outputs": [],
   "source": [
    "def generate_solution(task_vector, save_outputs:bool=False):\n",
    "  attention_plot = np.zeros((max_length_targ, max_length_feat))\n",
    "  task_vector = preprocess_task(task_vector)\n",
    "  inputs = tf.expand_dims(tf.convert_to_tensor(task_vector), axis=0)\n",
    "  result = ''\n",
    "\n",
    "  dec_hidden = tf.zeros((BATCH_SIZE, gru_units))\n",
    "  dec_input = tf.expand_dims([1], 0)\n",
    "  loss = 0\n",
    "  for t in range(max_length_targ):\n",
    "    predictions, dec_hidden = decoder(dec_input\n",
    "                                      , dec_hidden\n",
    "                                      , inputs)\n",
    "    # storing the attention weights to plot later on\n",
    "    # attention_weights = tf.reshape(attention_weights, (-1, ))\n",
    "    # attention_plot[t] = attention_weights.numpy()\n",
    "    predicted_id = tf.argmax(predictions[0]).numpy()\n",
    "    predicted_vertice = get_key(lang, predicted_id)\n",
    "    if (predicted_vertice != ' ')&(predicted_vertice != ''):\n",
    "      # loss += loss_function(true_vector, predictions)\n",
    "      # print(loss)\n",
    "      result = predicted_vertice + ' ' + result #targ_lang.index_word[predicted_id] + ' '\n",
    "    elif (predicted_vertice == '<start>')&(predicted_vertice == '<end>'):\n",
    "      print('Evaluation: found start/end, ending')\n",
    "      return result, task_vector#, attention_plot\n",
    "    \n",
    "    # the predicted ID is fed back into the model\n",
    "    dec_input = tf.expand_dims([predicted_id], 0)\n",
    "  if save_outputs:\n",
    "    OUTPUT_FILE = './task2seq/outputs/output.py'\n",
    "    with open(OUTPUT_FILE, 'w') as f:\n",
    "        last_vertice = ''\n",
    "        for vertice in result.split(' '):\n",
    "            if vertice:\n",
    "                if (vertice!='<start>')&(vertice!='<end>')&(vertice!=last_vertice):\n",
    "                    line = '#@ {} \\n\\n'.format(vertice)\n",
    "                    f.write(line)\n",
    "                    last_vertice = vertice\n",
    "  return result, task_vector#, attention_plot"
   ]
  },
  {
   "cell_type": "code",
   "execution_count": 14,
   "metadata": {},
   "outputs": [],
   "source": [
    "def generate_solution_with_evaluation(task_vector, true_sequence:np.array, save_outputs:bool=False):\n",
    "    task_vector = preprocess_task(task_vector)\n",
    "    inputs = tf.expand_dims(tf.convert_to_tensor(task_vector), axis=0)\n",
    "    generated_sequence_string = ''\n",
    "    generated_sequence_array = []\n",
    "    metrics = {}\n",
    "\n",
    "    dec_hidden = tf.zeros((BATCH_SIZE, gru_units))\n",
    "    dec_input = tf.expand_dims([1], 0)\n",
    "    loss = 0\n",
    "    for t in range(max_length_targ):\n",
    "        predictions, dec_hidden = decoder(dec_input\n",
    "                                          , dec_hidden\n",
    "                                          , inputs)\n",
    "        predicted_id = tf.argmax(predictions[0]).numpy()\n",
    "        generated_sequence_array.append(predicted_id)\n",
    "\n",
    "        predicted_vertice = get_key(lang, predicted_id)\n",
    "        if (predicted_vertice != ' ')&(predicted_vertice != ''):\n",
    "            # print('true sequence: {}, type[t]: {}, type: {}'.format(true_sequence[t], type(true_sequence[t]), type(true_sequence)))\n",
    "            # print('predictions: {}, type: {}'.format(predictions, type(predictions)))\n",
    "            loss += loss_function(true_sequence[t], predictions)\n",
    "            generated_sequence_string = predicted_vertice + ' ' + generated_sequence_string\n",
    "        elif (predicted_vertice == '<start>')&(predicted_vertice == '<end>'):\n",
    "            print('Evaluation: found start/end, ending')\n",
    "            return generated_sequence_string, metrics\n",
    "\n",
    "        dec_input = tf.expand_dims([predicted_id], 0)\n",
    "    # print('loss: {}, type: {}. len(true_sequence) == {}, shape == {}'.format(loss, type(loss), len(true_sequence), true_sequence.shape))\n",
    "    ce = loss.numpy()/len(true_sequence)\n",
    "    metrics.update({\"Cross-Entropy\":ce,\n",
    "                  \"Perplexity\":tf.exp(ce),\n",
    "                  \"ROUGE-Recall\":rouge_recall(true_sequence, generated_sequence_array),\n",
    "                  \"ROUGE-Precision\": rouge_precision(true_sequence, generated_sequence_array)\n",
    "                #   , \"Nunique_Tokens\": np.unique(generated_sequence_string)\n",
    "                  })\n",
    "    if save_outputs:\n",
    "        TODAY_NOW = datetime.now().strftime(\"%d-%m-%y_%H-%M-%S\")\n",
    "        save_generated_sequence(generated_sequence_string, output_path='./outputs/output_{}.py'.format(TODAY_NOW))\n",
    "    return generated_sequence_string, metrics"
   ]
  },
  {
   "cell_type": "code",
   "execution_count": 15,
   "metadata": {},
   "outputs": [],
   "source": [
    "def predict_on_test(X_test, Y_test):\n",
    "    y_pred = []\n",
    "    losses_ce = []\n",
    "    rouge_recalls = []\n",
    "    rouge_precisions = []\n",
    "    # nunique_tokens = []\n",
    "    print('predicting..', end=' ')\n",
    "    for i, task_vector in X_test.reset_index(drop=True).iterrows():\n",
    "        if i % 10 == 0:\n",
    "            print('{:.1%}'.format(i/X_test.shape[0]), end=' ')\n",
    "        true_vector = Y_test[i]\n",
    "        result, metrics = generate_solution_with_evaluation(task_vector, true_vector)\n",
    "        # print(loss.numpy())\n",
    "        y_pred.append(result[:-1])\n",
    "        losses_ce.append(metrics['Cross-Entropy'])\n",
    "        rouge_recalls.append(metrics['ROUGE-Recall'])\n",
    "        rouge_precisions.append(metrics['ROUGE-Precision'])\n",
    "        # nunique_tokens.append(metrics['Nunique_Tokens'])\n",
    "    print()\n",
    "    y_pred = pd.DataFrame(y_pred, columns=[TARGET_COLUMN])\n",
    "    print('Cross-Entropy: {:.4f}'.format(np.mean(losses_ce)))\n",
    "    print('Perplexity: {:.4f}'.format(np.exp(float(np.mean(losses_ce)))))\n",
    "    print('ROUGE-Recall: {:.4f}'.format(np.mean(rouge_recalls)))\n",
    "    print('ROUGE-Precision: {:.4f}'.format(np.mean(rouge_precisions)))\n",
    "    # print('Avg nunique tokens: {}'.format(np.mean(nunique_tokens)))\n",
    "    print('Unique answers: {}'.format(y_pred[TARGET_COLUMN].nunique()))\n",
    "    \n",
    "    return y_pred, losses_ce, rouge_recalls, rouge_precisions"
   ]
  },
  {
   "cell_type": "code",
   "execution_count": 16,
   "metadata": {},
   "outputs": [],
   "source": [
    "def rouge_recall(true_string_vector:list, predicted_string_vector:list) -> float:\n",
    "    true_string_vector = [el for el in true_string_vector if el != 0]\n",
    "    # predicted_string_vector = [el for el in predicted_string_vector if el != 0]\n",
    "    n_overlapping_words = len(set(true_string_vector).intersection(set(predicted_string_vector)))\n",
    "    total_words_in_output = len(predicted_string_vector)\n",
    "    return n_overlapping_words / total_words_in_output"
   ]
  },
  {
   "cell_type": "code",
   "execution_count": 17,
   "metadata": {},
   "outputs": [],
   "source": [
    "def rouge_precision(true_string_vector:list, predicted_string_vector:list) -> float:\n",
    "    true_string_vector = [el for el in true_string_vector if el != 0]\n",
    "    n_overlapping_words = len(set(true_string_vector).intersection(set(predicted_string_vector)))\n",
    "    total_words_in_reference = len(true_string_vector)\n",
    "    return n_overlapping_words / total_words_in_reference"
   ]
  },
  {
   "cell_type": "code",
   "execution_count": 18,
   "metadata": {},
   "outputs": [],
   "source": [
    "def save_generated_sequence(generated_sequence_string:str, output_path:str):\n",
    "    # OUTPUT_FILE = './task2seq/outputs/output.py'\n",
    "    with open(output_path, 'w') as f:\n",
    "        last_vertice = ''\n",
    "        for vertice in generated_sequence_string.split(' '):\n",
    "            if vertice:\n",
    "                if (vertice!='<start>')&(vertice!='<end>')&(vertice!=last_vertice):\n",
    "                    line = '#@ {} \\n\\n'.format(vertice)\n",
    "                    f.write(line)\n",
    "                    last_vertice = vertice"
   ]
  },
  {
   "source": [
    "---"
   ],
   "cell_type": "markdown",
   "metadata": {}
  },
  {
   "source": [
    "### Data Preprocessing Parameters"
   ],
   "cell_type": "markdown",
   "metadata": {}
  },
  {
   "cell_type": "code",
   "execution_count": 19,
   "metadata": {},
   "outputs": [],
   "source": [
    "EXPORT_DATE = '2021-05-26'\n",
    "REMOVE_RECURRINGS = True\n",
    "TEST_SIZE = test_size = 0.2"
   ]
  },
  {
   "source": [
    "### Reading Data"
   ],
   "cell_type": "markdown",
   "metadata": {}
  },
  {
   "cell_type": "code",
   "execution_count": 20,
   "metadata": {},
   "outputs": [
    {
     "output_type": "execute_result",
     "data": {
      "text/plain": [
       "Index(['graph_vertex_id', 'graph_vertex', 'graph_vertex_subclass'], dtype='object')"
      ]
     },
     "metadata": {},
     "execution_count": 20
    }
   ],
   "source": [
    "graph_path = '../../data/actual_graph_{}.csv'.format(EXPORT_DATE)\n",
    "graph = pd.read_csv(graph_path)\n",
    "graph.rename({'id':'graph_vertex_id'}, axis=1, inplace=True)\n",
    "graph.columns"
   ]
  },
  {
   "cell_type": "code",
   "execution_count": 21,
   "metadata": {},
   "outputs": [
    {
     "output_type": "execute_result",
     "data": {
      "text/plain": [
       "(266, 8)"
      ]
     },
     "metadata": {},
     "execution_count": 21
    }
   ],
   "source": [
    "COMPETITIONS_PATH = \"../../data/competitions_info_cleaned_filled.csv\" #./data/competitions_info_cleaned.csv\n",
    "competitions_filled = pd.read_csv(COMPETITIONS_PATH)\n",
    "competitions_filled.drop_duplicates(inplace=True)\n",
    "competitions_filled.rename({'Description': 'description', 'Metric':'metric', 'DataType':'datatype', 'Subject':'subject', 'ProblemType':'problemtype'}\n",
    "                        , axis=1, inplace=True)\n",
    "competitions_filled.shape"
   ]
  },
  {
   "cell_type": "code",
   "execution_count": 22,
   "metadata": {},
   "outputs": [
    {
     "output_type": "execute_result",
     "data": {
      "text/plain": [
       "ref             0\n",
       "comp_name       0\n",
       "comp_type       0\n",
       "description    21\n",
       "metric         19\n",
       "datatype       19\n",
       "subject        19\n",
       "problemtype    19\n",
       "dtype: int64"
      ]
     },
     "metadata": {},
     "execution_count": 22
    }
   ],
   "source": [
    "competitions_filled.isna().sum()"
   ]
  },
  {
   "cell_type": "code",
   "execution_count": 23,
   "metadata": {},
   "outputs": [],
   "source": [
    "competitions_filled['ref'] = competitions_filled['ref'].str.replace(\"'\", \"\")"
   ]
  },
  {
   "cell_type": "code",
   "execution_count": 24,
   "metadata": {},
   "outputs": [
    {
     "output_type": "execute_result",
     "data": {
      "text/plain": [
       "(5060, 10)"
      ]
     },
     "metadata": {},
     "execution_count": 24
    }
   ],
   "source": [
    "COMPETITIONS_PATH = \"../../data/competitions_{}.csv\".format(EXPORT_DATE) #./data/competitions_info_cleaned.csv\n",
    "competitions = pd.read_csv(COMPETITIONS_PATH)\n",
    "competitions.drop_duplicates(inplace=True)\n",
    "competitions.shape"
   ]
  },
  {
   "cell_type": "code",
   "execution_count": 25,
   "metadata": {},
   "outputs": [],
   "source": [
    "# competitions['ref'] = competitions['ref'].apply(lambda x: x.split(',')[0])\n",
    "# competitions['ref'] = competitions['ref'].str.replace(\"'\", \"\")"
   ]
  },
  {
   "cell_type": "code",
   "execution_count": 26,
   "metadata": {},
   "outputs": [],
   "source": [
    "# competitions['exists_in_comp_filled'] = competitions.apply(lambda x: x['ref'] in competitions_filled['ref'].unique(), axis=1)\n",
    "# competitions['exists_in_comp_filled'].value_counts()"
   ]
  },
  {
   "cell_type": "code",
   "execution_count": 27,
   "metadata": {},
   "outputs": [],
   "source": [
    "# competitions_filled.merge(competitions[['id', 'ref']], on=['ref']).shape"
   ]
  },
  {
   "cell_type": "code",
   "execution_count": 28,
   "metadata": {},
   "outputs": [
    {
     "output_type": "execute_result",
     "data": {
      "text/plain": [
       "(312, 10)"
      ]
     },
     "metadata": {},
     "execution_count": 28
    }
   ],
   "source": [
    "competitions = competitions_filled.merge(competitions[['id', 'ref_link']], how='inner', left_on=['ref'], right_on=['ref_link'])\n",
    "competitions.shape"
   ]
  },
  {
   "cell_type": "code",
   "execution_count": 29,
   "metadata": {},
   "outputs": [
    {
     "output_type": "execute_result",
     "data": {
      "text/plain": [
       "ref             0\n",
       "comp_name       0\n",
       "comp_type       0\n",
       "description    26\n",
       "metric         23\n",
       "datatype       23\n",
       "subject        23\n",
       "problemtype    23\n",
       "id              0\n",
       "ref_link        0\n",
       "dtype: int64"
      ]
     },
     "metadata": {},
     "execution_count": 29
    }
   ],
   "source": [
    "competitions.isna().sum()"
   ]
  },
  {
   "cell_type": "code",
   "execution_count": 30,
   "metadata": {},
   "outputs": [
    {
     "output_type": "execute_result",
     "data": {
      "text/plain": [
       "   code_block_id                                         code_block  \\\n",
       "0         570367  `# My forecasting COVID-19 confirmed cases and...   \n",
       "1         570367  `# My forecasting COVID-19 confirmed cases and...   \n",
       "2         570368  `# load training and testing data \\nsubm = pd....   \n",
       "3         570369                                             `subm`   \n",
       "4         570367  `# My forecasting COVID-19 confirmed cases and...   \n",
       "\n",
       "  data_format  graph_vertex_id errors  marks  kaggle_id  competition_id  \n",
       "0       Table               45     No      2    8591010            3868  \n",
       "1       Table               45     No      2    8591010            3868  \n",
       "2       Table               45     No      5    8591010            3868  \n",
       "3       Table               41     No      5    8591010            3868  \n",
       "4       Table               45     No      2    8591010            3868  "
      ],
      "text/html": "<div>\n<style scoped>\n    .dataframe tbody tr th:only-of-type {\n        vertical-align: middle;\n    }\n\n    .dataframe tbody tr th {\n        vertical-align: top;\n    }\n\n    .dataframe thead th {\n        text-align: right;\n    }\n</style>\n<table border=\"1\" class=\"dataframe\">\n  <thead>\n    <tr style=\"text-align: right;\">\n      <th></th>\n      <th>code_block_id</th>\n      <th>code_block</th>\n      <th>data_format</th>\n      <th>graph_vertex_id</th>\n      <th>errors</th>\n      <th>marks</th>\n      <th>kaggle_id</th>\n      <th>competition_id</th>\n    </tr>\n  </thead>\n  <tbody>\n    <tr>\n      <th>0</th>\n      <td>570367</td>\n      <td>`# My forecasting COVID-19 confirmed cases and...</td>\n      <td>Table</td>\n      <td>45</td>\n      <td>No</td>\n      <td>2</td>\n      <td>8591010</td>\n      <td>3868</td>\n    </tr>\n    <tr>\n      <th>1</th>\n      <td>570367</td>\n      <td>`# My forecasting COVID-19 confirmed cases and...</td>\n      <td>Table</td>\n      <td>45</td>\n      <td>No</td>\n      <td>2</td>\n      <td>8591010</td>\n      <td>3868</td>\n    </tr>\n    <tr>\n      <th>2</th>\n      <td>570368</td>\n      <td>`# load training and testing data \\nsubm = pd....</td>\n      <td>Table</td>\n      <td>45</td>\n      <td>No</td>\n      <td>5</td>\n      <td>8591010</td>\n      <td>3868</td>\n    </tr>\n    <tr>\n      <th>3</th>\n      <td>570369</td>\n      <td>`subm`</td>\n      <td>Table</td>\n      <td>41</td>\n      <td>No</td>\n      <td>5</td>\n      <td>8591010</td>\n      <td>3868</td>\n    </tr>\n    <tr>\n      <th>4</th>\n      <td>570367</td>\n      <td>`# My forecasting COVID-19 confirmed cases and...</td>\n      <td>Table</td>\n      <td>45</td>\n      <td>No</td>\n      <td>2</td>\n      <td>8591010</td>\n      <td>3868</td>\n    </tr>\n  </tbody>\n</table>\n</div>"
     },
     "metadata": {},
     "execution_count": 30
    }
   ],
   "source": [
    "# NOTEBOOKS_PATH = \"../../data/codeblocks_2021-04-01_concatenated_cleaned_linkedwithcompetitions_pred.csv\"\n",
    "NOTEBOOKS_PATH = '../../data/markup_data_{}.csv'.format(EXPORT_DATE)\n",
    "notebooks = pd.read_csv(NOTEBOOKS_PATH)\n",
    "notebooks.head(5)"
   ]
  },
  {
   "cell_type": "code",
   "execution_count": 31,
   "metadata": {},
   "outputs": [
    {
     "output_type": "execute_result",
     "data": {
      "text/plain": [
       "(5933, 10)"
      ]
     },
     "metadata": {},
     "execution_count": 31
    }
   ],
   "source": [
    "notebooks = notebooks.merge(graph, on='graph_vertex_id', how='left')\n",
    "notebooks.shape"
   ]
  },
  {
   "cell_type": "code",
   "execution_count": 32,
   "metadata": {},
   "outputs": [
    {
     "output_type": "stream",
     "name": "stdout",
     "text": [
      "3208\n3111\n"
     ]
    }
   ],
   "source": [
    "# nl2ml = notebooks.merge(competitions[['ref', 'id']], left_on=['ref'], right_on=['ref'], how='inner').rename({'id':'competition_id'}, axis=1)\n",
    "nl2ml = notebooks.merge(competitions, left_on=['competition_id'], right_on=['id'], how='inner')\n",
    "print(nl2ml.shape[0])\n",
    "nl2ml.drop_duplicates(inplace=True, subset=['code_block_id', 'kaggle_id'])\n",
    "print(nl2ml.shape[0])"
   ]
  },
  {
   "cell_type": "code",
   "execution_count": 33,
   "metadata": {},
   "outputs": [
    {
     "output_type": "stream",
     "name": "stdout",
     "text": [
      "113 7\n"
     ]
    }
   ],
   "source": [
    "print(nl2ml['kaggle_id'].nunique(), nl2ml['ref'].nunique())"
   ]
  },
  {
   "source": [
    "### Vertices Preprocessing"
   ],
   "cell_type": "markdown",
   "metadata": {}
  },
  {
   "cell_type": "code",
   "execution_count": 34,
   "metadata": {},
   "outputs": [
    {
     "output_type": "execute_result",
     "data": {
      "text/plain": [
       "Data_Transform          936\n",
       "EDA                     747\n",
       "Model_Train             287\n",
       "Visualization           281\n",
       "Environment             202\n",
       "Data_Extraction         168\n",
       "Other                   147\n",
       "Hyperparam_Tuning       120\n",
       "Data_Export             104\n",
       "Model_Evaluation         95\n",
       "Model_Interpretation     21\n",
       "Hypothesis                3\n",
       "Name: graph_vertex, dtype: int64"
      ]
     },
     "metadata": {},
     "execution_count": 34
    }
   ],
   "source": [
    "nl2ml['graph_vertex'].apply(lambda x: x.split(';')[0].split('.')[0]).value_counts()"
   ]
  },
  {
   "cell_type": "code",
   "execution_count": 35,
   "metadata": {},
   "outputs": [],
   "source": [
    "nl2ml['vertex_l1'], nl2ml['vertex_l2'] = nl2ml['graph_vertex'].apply(lambda x: x.split(';')[0].split('.')[0]), nl2ml['graph_vertex_subclass']#.apply(lambda x: x.split(';')[0].split('.')[1])"
   ]
  },
  {
   "source": [
    "### Missing Values"
   ],
   "cell_type": "markdown",
   "metadata": {}
  },
  {
   "cell_type": "code",
   "execution_count": 36,
   "metadata": {},
   "outputs": [
    {
     "output_type": "stream",
     "name": "stdout",
     "text": [
      "code_block_id            0\ncode_block               0\ndata_format              0\ngraph_vertex_id          0\nerrors                   0\nmarks                    0\nkaggle_id                0\ncompetition_id           0\ngraph_vertex             0\ngraph_vertex_subclass    0\nref                      0\ncomp_name                0\ncomp_type                0\ndescription              0\nmetric                   0\ndatatype                 0\nsubject                  0\nproblemtype              0\nid                       0\nref_link                 0\nvertex_l1                0\nvertex_l2                0\ndtype: int64\ncode_block_id            0\ncode_block               0\ndata_format              0\ngraph_vertex_id          0\nerrors                   0\nmarks                    0\nkaggle_id                0\ncompetition_id           0\ngraph_vertex             0\ngraph_vertex_subclass    0\nref                      0\ncomp_name                0\ncomp_type                0\ndescription              0\nmetric                   0\ndatatype                 0\nsubject                  0\nproblemtype              0\nid                       0\nref_link                 0\nvertex_l1                0\nvertex_l2                0\ndtype: int64\n"
     ]
    }
   ],
   "source": [
    "nl2ml.replace('-', -1, inplace=True)\n",
    "print(nl2ml.isna().sum())\n",
    "nl2ml.fillna(-1, inplace=True)\n",
    "print(nl2ml.isna().sum())"
   ]
  },
  {
   "cell_type": "code",
   "execution_count": 37,
   "metadata": {},
   "outputs": [],
   "source": [
    "# TASK_FEATURES = ['comp_name', 'comp_type', 'Description', 'Metric', 'DataType', 'Subject', 'ProblemType']\n",
    "TASK_FEATURES = ['comp_name', 'comp_type', 'description', 'metric', 'datatype', 'subject', 'problemtype']"
   ]
  },
  {
   "cell_type": "code",
   "execution_count": 38,
   "metadata": {},
   "outputs": [],
   "source": [
    "TARGET_COLUMN = 'vertex_l2'"
   ]
  },
  {
   "source": [
    "### Grouping chunks by notebooks"
   ],
   "cell_type": "markdown",
   "metadata": {}
  },
  {
   "cell_type": "code",
   "execution_count": 39,
   "metadata": {},
   "outputs": [],
   "source": [
    "notebook_id_col = 'kaggle_id'\n",
    "competition_id_col = 'competition_id'"
   ]
  },
  {
   "source": [
    "### Taking Train Features"
   ],
   "cell_type": "markdown",
   "metadata": {}
  },
  {
   "cell_type": "code",
   "execution_count": 40,
   "metadata": {},
   "outputs": [
    {
     "output_type": "stream",
     "name": "stdout",
     "text": [
      "notebook #8591010 done\n",
      "notebook #8592598 done\n",
      "notebook #8596735 done\n",
      "notebook #8606894 done\n",
      "notebook #8609050 done\n",
      "notebook #8611767 done\n",
      "notebook #8630977 done\n",
      "notebook #8634286 done\n",
      "notebook #8640194 done\n",
      "notebook #8660923 done\n",
      "notebook #8667455 done\n",
      "notebook #8668446 done\n",
      "notebook #8678201 done\n",
      "notebook #8687334 done\n",
      "notebook #8689318 done\n",
      "notebook #8699382 done\n",
      "notebook #8705213 done\n",
      "notebook #8706858 done\n",
      "notebook #8708118 done\n",
      "notebook #8710137 done\n",
      "notebook #8710362 done\n",
      "notebook #8604602 done\n",
      "notebook #8617043 done\n",
      "notebook #8620454 done\n",
      "notebook #8625834 done\n",
      "notebook #8628909 done\n",
      "notebook #8658083 done\n",
      "notebook #8663175 done\n",
      "notebook #8671133 done\n",
      "notebook #8679319 done\n",
      "notebook #8682800 done\n",
      "notebook #8687249 done\n",
      "notebook #8693806 done\n",
      "notebook #8701862 done\n",
      "notebook #8702904 done\n",
      "notebook #8706295 done\n",
      "notebook #8711165 done\n",
      "notebook #9326374 done\n",
      "notebook #9349764 done\n",
      "notebook #9463384 done\n",
      "notebook #138832 done\n",
      "notebook #2637869 done\n",
      "notebook #5466844 done\n",
      "notebook #5729566 done\n",
      "notebook #6470191 done\n",
      "notebook #8382140 done\n",
      "notebook #9655329 done\n",
      "notebook #10424951 done\n",
      "notebook #10522332 done\n",
      "notebook #10702707 done\n",
      "notebook #10913030 done\n",
      "notebook #11097956 done\n",
      "notebook #11410370 done\n",
      "notebook #11611498 done\n",
      "notebook #11656525 done\n",
      "notebook #12034947 done\n",
      "notebook #12343159 done\n",
      "notebook #13503938 done\n",
      "notebook #14177670 done\n",
      "notebook #171635 done\n",
      "notebook #2843645 done\n",
      "notebook #2846432 done\n",
      "notebook #2874738 done\n",
      "notebook #2894439 done\n",
      "notebook #2895967 done\n",
      "notebook #2897818 done\n",
      "notebook #2942474 done\n",
      "notebook #3001116 done\n",
      "notebook #3065122 done\n",
      "notebook #3127294 done\n",
      "notebook #3155308 done\n",
      "notebook #3308267 done\n",
      "notebook #3338077 done\n",
      "notebook #3412975 done\n",
      "notebook #3424825 done\n",
      "notebook #3544896 done\n",
      "notebook #3577796 done\n",
      "notebook #3640289 done\n",
      "notebook #3663832 done\n",
      "notebook #11400829 done\n",
      "notebook #24315 done\n",
      "notebook #242408 done\n",
      "notebook #243149 done\n",
      "notebook #244547 done\n",
      "notebook #244742 done\n",
      "notebook #244890 done\n",
      "notebook #244905 done\n",
      "notebook #244962 done\n",
      "notebook #245675 done\n",
      "notebook #874590 done\n",
      "notebook #1140262 done\n",
      "notebook #2095107 done\n",
      "notebook #3237641 done\n",
      "notebook #3674829 done\n",
      "notebook #4029935 done\n",
      "notebook #6511394 done\n",
      "notebook #6511397 done\n",
      "notebook #6511403 done\n",
      "notebook #6511414 done\n",
      "notebook #6511456 done\n",
      "notebook #6511492 done\n",
      "notebook #6518412 done\n",
      "notebook #7004483 done\n",
      "notebook #7465372 done\n",
      "notebook #7859060 done\n",
      "notebook #8648443 done\n",
      "notebook #9904611 done\n",
      "notebook #11013798 done\n",
      "notebook #3389306 done\n",
      "notebook #3414311 done\n",
      "notebook #4374092 done\n",
      "notebook #10307360 done\n",
      "notebook #3344044 done\n"
     ]
    },
    {
     "output_type": "execute_result",
     "data": {
      "text/plain": [
       "(113, 10)"
      ]
     },
     "metadata": {},
     "execution_count": 40
    }
   ],
   "source": [
    "# nl2ml = group_by_notebooks(nl2ml, TARGET_COLUMN)\n",
    "# X, y = train[TASK_FEATURES], train[TARGET_COLUMN]\n",
    "prepared_data = group_by_notebooks(nl2ml, TARGET_COLUMN)\n",
    "prepared_data.shape"
   ]
  },
  {
   "source": [
    "### Converting Dtypes"
   ],
   "cell_type": "markdown",
   "metadata": {}
  },
  {
   "cell_type": "code",
   "execution_count": 41,
   "metadata": {},
   "outputs": [],
   "source": [
    "def strip_recurrent_vertices(row):\n",
    "    # sequence = row['vertex_l2'].split(' ')\n",
    "    # result = []\n",
    "    # if len(sequence) > 1:\n",
    "    #     last_index = len(sequence) - 1\n",
    "    #     i = 0\n",
    "    #     while i < last_index:\n",
    "    #         # print(sequence[i], sequence[i+1])\n",
    "    #         if sequence[i].strip(' ') != sequence[i+1].strip(' '):\n",
    "    #             # print('not equal')\n",
    "    #             result.append(sequence[i])\n",
    "    #         else:\n",
    "    #             print('equal', sequence[i], sequence[i+1])\n",
    "    #         i =+ 1\n",
    "    # return \" \".join(result)\n",
    "    result = row['vertex_l2'].split(' ')[0] + \" \" + \" \".join([row['vertex_l2'].split(' ')[i] for i in range(1, len(row['vertex_l2'].split(' '))) if (row['vertex_l2'].split(' ')[i-1] != row['vertex_l2'].split(' ')[i])&(row['vertex_l2'].split(' ')[i] != ' ')&(row['vertex_l2'].split(' ')[i] != '')])\n",
    "    if result.split(' ')[1] == ' ':\n",
    "        result.pop(1)\n",
    "        return result\n",
    "    else:\n",
    "        return \" \".join(row['vertex_l2'].split(' '))"
   ]
  },
  {
   "cell_type": "code",
   "execution_count": 42,
   "metadata": {
    "tags": []
   },
   "outputs": [
    {
     "output_type": "stream",
     "name": "stdout",
     "text": [
      "removing\n"
     ]
    }
   ],
   "source": [
    "if REMOVE_RECURRINGS:\n",
    "    print('removing')\n",
    "    prepared_data[TARGET_COLUMN] = prepared_data[TARGET_COLUMN].apply(strip_recurrent_vertices, axis=1)\n",
    "# prepared_data[TARGET_COLUMN] = prepared_data[TARGET_COLUMN].apply(lambda x: x.replace(' ', ''))"
   ]
  },
  {
   "cell_type": "code",
   "execution_count": 43,
   "metadata": {},
   "outputs": [
    {
     "output_type": "stream",
     "name": "stdout",
     "text": [
      "Encoding columns: \nkaggle_id\ncompetition_id\ncomp_name\ncomp_type\ndescription\nmetric\ndatatype\nsubject\nproblemtype\n"
     ]
    }
   ],
   "source": [
    "cat_encodings = {}\n",
    "print('Encoding columns: ')\n",
    "for i, col in enumerate(prepared_data):\n",
    "    if col[0] != TARGET_COLUMN:\n",
    "        print(col[0])\n",
    "        try:\n",
    "            prepared_data[col] =  prepared_data[col].astype('float32')\n",
    "        except:\n",
    "            prepared_data[col] = pd.Categorical(prepared_data[col])\n",
    "            cat_encodings.update({i:dict(enumerate(prepared_data[col].cat.categories))})\n",
    "            prepared_data[col] = prepared_data[col].cat.codes"
   ]
  },
  {
   "cell_type": "code",
   "execution_count": 44,
   "metadata": {},
   "outputs": [
    {
     "output_type": "execute_result",
     "data": {
      "text/plain": [
       "((73, 7), (40, 7))"
      ]
     },
     "metadata": {},
     "execution_count": 44
    }
   ],
   "source": [
    "competitions = prepared_data[competition_id_col].iloc[:, 0].unique()\n",
    "n_test_competitions = round(test_size * len(competitions))\n",
    "# n_val_competitions = test_size // 2\n",
    "test_competitions, train_competitions = competitions[:n_test_competitions], competitions[n_test_competitions:]\n",
    "# test_competitions, val_competitions = test_competitions[:n_val_competitions], test_competitions[n_val_competitions:]\n",
    "train = prepared_data[prepared_data['competition_id'].iloc[:, 0].isin(train_competitions)]\n",
    "test = prepared_data[prepared_data['competition_id'].iloc[:, 0].isin(test_competitions)]\n",
    "# val = prepared_data[prepared_data['competition_id'].iloc[:, 0].isin(val_competitions)]\n",
    "X_train, y_train = train[TASK_FEATURES], train[TARGET_COLUMN]\n",
    "X_test, y_test = test[TASK_FEATURES], test[TARGET_COLUMN]\n",
    "# X_val, y_val = val[TASK_FEATURES], val[TARGET_COLUMN]\n",
    "X_train.shape, X_test.shape\n",
    "# X_val.shape"
   ]
  },
  {
   "cell_type": "code",
   "execution_count": 45,
   "metadata": {},
   "outputs": [],
   "source": [
    "# X_train, X_test, y_train, y_test = train_test_split(prepared_data[TASK_FEATURES], prepared_data[TARGET_COLUMN]\n",
    "#                                                     , test_size=0.25, shuffle=True, random_state=123)\n",
    "# X_train.shape, X_test.shape"
   ]
  },
  {
   "source": [
    "### Target Preprocessing: Encoding Vertices"
   ],
   "cell_type": "markdown",
   "metadata": {}
  },
  {
   "cell_type": "code",
   "execution_count": 46,
   "metadata": {},
   "outputs": [],
   "source": [
    "lang = {vertice:i+2 for i, vertice in enumerate(nl2ml[TARGET_COLUMN].unique())} #TODO: save the dict as a local file\n",
    "lang.update({'<start>':1, '<end>':max(lang.values())+1})"
   ]
  },
  {
   "cell_type": "code",
   "execution_count": 47,
   "metadata": {},
   "outputs": [],
   "source": [
    "# y_train.apply(encode_vertices, axis=1)"
   ]
  },
  {
   "cell_type": "code",
   "execution_count": 48,
   "metadata": {},
   "outputs": [],
   "source": [
    "# X[TARGET_COLUMN] = y.apply(encode_vertices, axis=1)\n",
    "# X.to_csv('../data/nl2ml_train_example.csv', index=False)"
   ]
  },
  {
   "source": [
    "### Target Preprocessing: Padding Sequences"
   ],
   "cell_type": "markdown",
   "metadata": {}
  },
  {
   "cell_type": "code",
   "execution_count": 49,
   "metadata": {},
   "outputs": [
    {
     "output_type": "execute_result",
     "data": {
      "text/plain": [
       "(116, 7)"
      ]
     },
     "metadata": {},
     "execution_count": 49
    }
   ],
   "source": [
    "max_length_targ, max_length_feat = prepared_data[TARGET_COLUMN].squeeze().str.split(' ').str.len().max() + 2, X_train.values.shape[1]\n",
    "max_length_targ, max_length_feat"
   ]
  },
  {
   "cell_type": "code",
   "execution_count": 50,
   "metadata": {},
   "outputs": [],
   "source": [
    "Y_train = tf.keras.preprocessing.sequence.pad_sequences(y_train.apply(encode_vertices, axis=1), maxlen=max_length_targ)\n",
    "Y_test = tf.keras.preprocessing.sequence.pad_sequences(y_test.apply(encode_vertices, axis=1), maxlen=max_length_targ)"
   ]
  },
  {
   "source": [
    "### Model Parameters"
   ],
   "cell_type": "markdown",
   "metadata": {}
  },
  {
   "cell_type": "code",
   "execution_count": 51,
   "metadata": {},
   "outputs": [],
   "source": [
    "n_features = len(TASK_FEATURES)"
   ]
  },
  {
   "cell_type": "code",
   "execution_count": 52,
   "metadata": {},
   "outputs": [],
   "source": [
    "dataset_params = {\"nrows\": X_train.shape[0]\n",
    "                , \"nfeatures\": n_features\n",
    "                , \"EXPORT_DATE\": EXPORT_DATE\n",
    "                , \"REMOVE_RECURRINGS\": REMOVE_RECURRINGS\n",
    "                , \"TEST_SIZE\": TEST_SIZE}"
   ]
  },
  {
   "cell_type": "code",
   "execution_count": 53,
   "metadata": {},
   "outputs": [],
   "source": [
    "# ## Configuration 1\n",
    "# LR = 0.001  \n",
    "# EPOCHS = 200\n",
    "# gru_units = 512\n",
    "# embedding_dim = 256\n",
    "# dropout_rate = 0.2\n",
    "# BATCH_SIZE = 1\n",
    "# STEPS_PER_EPOCH = len(X_train)//BATCH_SIZE"
   ]
  },
  {
   "cell_type": "code",
   "execution_count": 54,
   "metadata": {},
   "outputs": [],
   "source": [
    "## Configuration 1.1\n",
    "LR = 0.001\n",
    "EPOCHS = 100\n",
    "gru_units = 1024\n",
    "embedding_dim = 512\n",
    "dropout_rate = 0.2\n",
    "BATCH_SIZE = 1\n",
    "STEPS_PER_EPOCH = len(X_train)//BATCH_SIZE"
   ]
  },
  {
   "cell_type": "code",
   "execution_count": 55,
   "metadata": {},
   "outputs": [],
   "source": [
    "# ## Configuration 2\n",
    "# LR = 0.002\n",
    "# EPOCHS = 100\n",
    "# gru_units = 256\n",
    "# embedding_dim = 128\n",
    "# dropout_rate = 0.0\n",
    "# BATCH_SIZE = 1\n",
    "# STEPS_PER_EPOCH = len(X_train)//BATCH_SIZE\n",
    "# # BUFFER_SIZE = len(input_tensor_train)\n",
    "# # vocab_inp_size = len(inp_lang.word_index) + 1\n",
    "# # vocab_tar_size = len(targ_lang.word_index) + 1"
   ]
  },
  {
   "cell_type": "code",
   "execution_count": 56,
   "metadata": {},
   "outputs": [],
   "source": [
    "# ## Configuration 3\n",
    "# LR = 0.002\n",
    "# EPOCHS = 100\n",
    "# gru_units = 128\n",
    "# embedding_dim = 64\n",
    "# dropout_rate = 0.0\n",
    "# BATCH_SIZE = 1\n",
    "# STEPS_PER_EPOCH = len(X_train)//BATCH_SIZE"
   ]
  },
  {
   "cell_type": "code",
   "execution_count": 57,
   "metadata": {},
   "outputs": [],
   "source": [
    "model_params = {\"BATCH_SIZE\":BATCH_SIZE\n",
    "                , \"LR\":LR\n",
    "                , \"STEPS_PER_EPOCH\": STEPS_PER_EPOCH\n",
    "                , \"embedding_dim\": embedding_dim\n",
    "                , \"gru_units\": gru_units\n",
    "                , \"dropout_rate\": dropout_rate}"
   ]
  },
  {
   "source": [
    "### Creating tf.Dataset"
   ],
   "cell_type": "markdown",
   "metadata": {}
  },
  {
   "cell_type": "code",
   "execution_count": 58,
   "metadata": {},
   "outputs": [],
   "source": [
    "train_dataset = tf.data.Dataset.from_tensor_slices((X_train.values, Y_train))\n",
    "train_dataset = train_dataset.batch(BATCH_SIZE, drop_remainder=True) "
   ]
  },
  {
   "source": [
    "### Building the Model"
   ],
   "cell_type": "markdown",
   "metadata": {}
  },
  {
   "cell_type": "code",
   "execution_count": 59,
   "metadata": {},
   "outputs": [
    {
     "output_type": "stream",
     "name": "stdout",
     "text": [
      "Decoder output shape: (batch_size, vocab size`) (1, 72)\nModel: \"decoder\"\n_________________________________________________________________\nLayer (type)                 Output Shape              Param #   \n=================================================================\nembedding (Embedding)        multiple                  36864     \n_________________________________________________________________\ngru (GRU)                    multiple                  4724736   \n_________________________________________________________________\ngru_1 (GRU)                  multiple                  4724736   \n_________________________________________________________________\ndropout (Dropout)            multiple                  0         \n_________________________________________________________________\ndense (Dense)                multiple                  147528    \n_________________________________________________________________\ndense_1 (Dense)              multiple                  8192      \n=================================================================\nTotal params: 9,642,056\nTrainable params: 9,642,056\nNon-trainable params: 0\n_________________________________________________________________\n"
     ]
    }
   ],
   "source": [
    "decoder = Decoder(len(lang)+2, embedding_dim, gru_units, BATCH_SIZE)\n",
    "sample_hidden = tf.zeros((BATCH_SIZE, gru_units))\n",
    "vec_input = np.ones((1, n_features))\n",
    "sample_decoder_output, state = decoder(tf.random.uniform((BATCH_SIZE, 1))\n",
    "                                          , sample_hidden\n",
    "                                          , vec_input\n",
    "                                          )\n",
    "print ('Decoder output shape: (batch_size, vocab size`) {}'.format(sample_decoder_output.shape))\n",
    "decoder.summary()"
   ]
  },
  {
   "cell_type": "code",
   "execution_count": 60,
   "metadata": {},
   "outputs": [],
   "source": [
    "optimizer = tf.keras.optimizers.Adam(LR)\n",
    "loss_object = tf.keras.losses.SparseCategoricalCrossentropy(from_logits=False, reduction='none') ##True"
   ]
  },
  {
   "source": [
    "### Model Training or Loading Pre-Trained"
   ],
   "cell_type": "markdown",
   "metadata": {}
  },
  {
   "cell_type": "code",
   "execution_count": 61,
   "metadata": {},
   "outputs": [],
   "source": [
    "checkpoint_dir = './checkpoints/'\n",
    "checkpoint_prefix = os.path.join(checkpoint_dir, \"ckpt\")\n",
    "checkpoint = tf.train.Checkpoint(step=tf.Variable(1)\n",
    "                                , optimizer=optimizer\n",
    "                                 , decoder=decoder)\n",
    "manager = tf.train.CheckpointManager(checkpoint, checkpoint_dir, max_to_keep=200)"
   ]
  },
  {
   "cell_type": "code",
   "execution_count": 62,
   "metadata": {},
   "outputs": [],
   "source": [
    "# if manager.latest_checkpoint:\n",
    "#     print(\"Restored from {}\".format(manager.latest_checkpoint))"
   ]
  },
  {
   "cell_type": "code",
   "execution_count": 63,
   "metadata": {},
   "outputs": [],
   "source": [
    "# decoder.compile(\n",
    "#     optimizer=optimizer,\n",
    "#     loss=loss_object\n",
    "# )\n",
    "# tf.saved_model.save(decoder, './checkpoints/model1.h5')"
   ]
  },
  {
   "cell_type": "code",
   "execution_count": 64,
   "metadata": {},
   "outputs": [],
   "source": [
    "train_losses = []\n",
    "val_ce = []\n",
    "val_rr = []\n",
    "val_rp = []"
   ]
  },
  {
   "cell_type": "code",
   "execution_count": 141,
   "metadata": {
    "tags": []
   },
   "outputs": [
    {
     "output_type": "stream",
     "name": "stdout",
     "text": [
      "Epoch 1 Batch 0 Loss 0.3857 Perplexity 1.4706\n",
      "Validating\n",
      "predicting.. 0.0% \n",
      "Cross-Entropy: 1.1113\n",
      "Perplexity: 3.0385\n",
      "ROUGE-Recall: 0.0017\n",
      "ROUGE-Precision: 0.0065\n",
      "Unique answers: 1\n",
      "Time taken for the epoch 536.7178282737732 sec\n",
      "\n",
      "Epoch 2 Batch 0 Loss 0.2624 Perplexity 1.3001\n",
      "Validating\n",
      "predicting.. 0.0% \n",
      "Cross-Entropy: 1.1735\n",
      "Perplexity: 3.2332\n",
      "ROUGE-Recall: 0.0050\n",
      "ROUGE-Precision: 0.0216\n",
      "Unique answers: 1\n",
      "Time taken for the epoch 82.20626640319824 sec\n",
      "\n",
      "Epoch 3 Batch 0 Loss 0.2686 Perplexity 1.3081\n",
      "Validating\n",
      "predicting.. 0.0% \n",
      "Cross-Entropy: 1.3425\n",
      "Perplexity: 3.8288\n",
      "ROUGE-Recall: 0.0050\n",
      "ROUGE-Precision: 0.0216\n",
      "Unique answers: 1\n",
      "Time taken for the epoch 76.67726612091064 sec\n",
      "\n",
      "Epoch 4 Batch 0 Loss 0.2370 Perplexity 1.2674\n",
      "Validating\n",
      "predicting.. 0.0% \n",
      "Cross-Entropy: 1.2522\n",
      "Perplexity: 3.4981\n",
      "ROUGE-Recall: 0.0050\n",
      "ROUGE-Precision: 0.0216\n",
      "Unique answers: 1\n",
      "Time taken for the epoch 77.32824444770813 sec\n",
      "\n",
      "Epoch 5 Batch 0 Loss 0.2155 Perplexity 1.2405\n",
      "Validating\n",
      "predicting.. 0.0% \n",
      "Cross-Entropy: 1.2969\n",
      "Perplexity: 3.6581\n",
      "ROUGE-Recall: 0.0050\n",
      "ROUGE-Precision: 0.0216\n",
      "Unique answers: 1\n",
      "Saving..saved\n",
      "Time taken for the epoch 83.28539633750916 sec\n",
      "\n",
      "Epoch 6 Batch 0 Loss 0.1920 Perplexity 1.2116\n",
      "Validating\n",
      "predicting.. 0.0% \n",
      "Cross-Entropy: 1.3243\n",
      "Perplexity: 3.7597\n",
      "ROUGE-Recall: 0.0050\n",
      "ROUGE-Precision: 0.0216\n",
      "Unique answers: 1\n",
      "Time taken for the epoch 74.35149312019348 sec\n",
      "\n",
      "Epoch 7 Batch 0 Loss 0.1683 Perplexity 1.1833\n",
      "Validating\n",
      "predicting.. 0.0% \n",
      "Cross-Entropy: 1.4921\n",
      "Perplexity: 4.4463\n",
      "ROUGE-Recall: 0.0050\n",
      "ROUGE-Precision: 0.0216\n",
      "Unique answers: 1\n",
      "Time taken for the epoch 72.16395354270935 sec\n",
      "\n",
      "Epoch 8 Batch 0 Loss 0.1515 Perplexity 1.1635\n",
      "Validating\n",
      "predicting.. 0.0% \n",
      "Cross-Entropy: 1.6910\n",
      "Perplexity: 5.4248\n",
      "ROUGE-Recall: 0.0280\n",
      "ROUGE-Precision: 0.2378\n",
      "Unique answers: 1\n",
      "Time taken for the epoch 73.77335119247437 sec\n",
      "\n",
      "Epoch 9 Batch 0 Loss 0.1419 Perplexity 1.1525\n",
      "Validating\n",
      "predicting.. 0.0% \n",
      "Cross-Entropy: 1.6706\n",
      "Perplexity: 5.3156\n",
      "ROUGE-Recall: 0.0050\n",
      "ROUGE-Precision: 0.0216\n",
      "Unique answers: 1\n",
      "Time taken for the epoch 77.26948237419128 sec\n",
      "\n",
      "Epoch 10 Batch 0 Loss 0.1140 Perplexity 1.1207\n",
      "Validating\n",
      "predicting.. 0.0% \n",
      "Cross-Entropy: 1.5626\n",
      "Perplexity: 4.7714\n",
      "ROUGE-Recall: 0.0280\n",
      "ROUGE-Precision: 0.2378\n",
      "Unique answers: 1\n",
      "Saving..saved\n",
      "Time taken for the epoch 64.28061175346375 sec\n",
      "\n",
      "Epoch 11 Batch 0 Loss 0.0931 Perplexity 1.0976\n",
      "Validating\n",
      "predicting.. 0.0% \n",
      "Cross-Entropy: 1.7270\n",
      "Perplexity: 5.6238\n",
      "ROUGE-Recall: 0.0366\n",
      "ROUGE-Precision: 0.2845\n",
      "Unique answers: 1\n",
      "Time taken for the epoch 40.428343057632446 sec\n",
      "\n",
      "Epoch 12 Batch 0 Loss 0.0943 Perplexity 1.0988\n",
      "Validating\n",
      "predicting.. 0.0% \n",
      "Cross-Entropy: 1.9923\n",
      "Perplexity: 7.3327\n",
      "ROUGE-Recall: 0.0291\n",
      "ROUGE-Precision: 0.2401\n",
      "Unique answers: 1\n",
      "Time taken for the epoch 35.82546043395996 sec\n",
      "\n",
      "Epoch 13 Batch 0 Loss 0.0803 Perplexity 1.0836\n",
      "Validating\n",
      "predicting.. 0.0% \n",
      "Cross-Entropy: 1.6925\n",
      "Perplexity: 5.4329\n",
      "ROUGE-Recall: 0.0468\n",
      "ROUGE-Precision: 0.3207\n",
      "Unique answers: 1\n",
      "Time taken for the epoch 37.59163165092468 sec\n",
      "\n",
      "Epoch 14 Batch 0 Loss 0.0751 Perplexity 1.0780\n",
      "Validating\n",
      "predicting.. 0.0% \n",
      "Cross-Entropy: 1.7130\n",
      "Perplexity: 5.5456\n",
      "ROUGE-Recall: 0.0050\n",
      "ROUGE-Precision: 0.0216\n",
      "Unique answers: 1\n",
      "Time taken for the epoch 36.07932758331299 sec\n",
      "\n",
      "Epoch 15 Batch 0 Loss 0.0847 Perplexity 1.0884\n",
      "Validating\n",
      "predicting.. 0.0% \n",
      "Cross-Entropy: 1.9186\n",
      "Perplexity: 6.8117\n",
      "ROUGE-Recall: 0.0280\n",
      "ROUGE-Precision: 0.2378\n",
      "Unique answers: 1\n",
      "Saving..saved\n",
      "Time taken for the epoch 37.13177728652954 sec\n",
      "\n",
      "Epoch 16 Batch 0 Loss 0.0592 Perplexity 1.0610\n",
      "Validating\n",
      "predicting.. 0.0% \n",
      "Cross-Entropy: 1.7995\n",
      "Perplexity: 6.0466\n",
      "ROUGE-Recall: 0.0405\n",
      "ROUGE-Precision: 0.2859\n",
      "Unique answers: 1\n",
      "Time taken for the epoch 37.52136468887329 sec\n",
      "\n",
      "Epoch 17 Batch 0 Loss 0.0522 Perplexity 1.0536\n",
      "Validating\n",
      "predicting.. 0.0% \n",
      "Cross-Entropy: 2.0106\n",
      "Perplexity: 7.4678\n",
      "ROUGE-Recall: 0.0280\n",
      "ROUGE-Precision: 0.2378\n",
      "Unique answers: 1\n",
      "Time taken for the epoch 36.449623584747314 sec\n",
      "\n",
      "Epoch 18 Batch 0 Loss 0.0432 Perplexity 1.0441\n",
      "Validating\n",
      "predicting.. 0.0% \n",
      "Cross-Entropy: 1.9767\n",
      "Perplexity: 7.2187\n",
      "ROUGE-Recall: 0.0552\n",
      "ROUGE-Precision: 0.3386\n",
      "Unique answers: 1\n",
      "Time taken for the epoch 37.695542335510254 sec\n",
      "\n",
      "Epoch 19 Batch 0 Loss 0.0497 Perplexity 1.0509\n",
      "Validating\n",
      "predicting.. 0.0% \n",
      "Cross-Entropy: 2.0869\n",
      "Perplexity: 8.0597\n",
      "ROUGE-Recall: 0.0433\n",
      "ROUGE-Precision: 0.2967\n",
      "Unique answers: 1\n",
      "Time taken for the epoch 4829.065332174301 sec\n",
      "\n",
      "Epoch 20 Batch 0 Loss 0.0503 Perplexity 1.0516\n",
      "Validating\n",
      "predicting.. 0.0% \n",
      "Cross-Entropy: 2.0107\n",
      "Perplexity: 7.4686\n",
      "ROUGE-Recall: 0.0539\n",
      "ROUGE-Precision: 0.3534\n",
      "Unique answers: 1\n",
      "Saving..saved\n",
      "Time taken for the epoch 32.00365424156189 sec\n",
      "\n",
      "Epoch 21 Batch 0 Loss 0.0456 Perplexity 1.0467\n",
      "Validating\n",
      "predicting.. 0.0% \n",
      "Cross-Entropy: 1.9968\n",
      "Perplexity: 7.3652\n",
      "ROUGE-Recall: 0.0418\n",
      "ROUGE-Precision: 0.2929\n",
      "Unique answers: 1\n",
      "Time taken for the epoch 27.69554328918457 sec\n",
      "\n",
      "Epoch 22 Batch 0 Loss 0.0452 Perplexity 1.0462\n",
      "Validating\n",
      "predicting.. 0.0% \n",
      "Cross-Entropy: 2.0334\n",
      "Perplexity: 7.6402\n",
      "ROUGE-Recall: 0.0595\n",
      "ROUGE-Precision: 0.3704\n",
      "Unique answers: 1\n",
      "Time taken for the epoch 28.021714687347412 sec\n",
      "\n",
      "Epoch 23 Batch 0 Loss 0.0459 Perplexity 1.0470\n",
      "Validating\n",
      "predicting.. 0.0% \n",
      "Cross-Entropy: 2.2574\n",
      "Perplexity: 9.5582\n",
      "ROUGE-Recall: 0.0280\n",
      "ROUGE-Precision: 0.2378\n",
      "Unique answers: 1\n",
      "Time taken for the epoch 31.533798933029175 sec\n",
      "\n",
      "Epoch 24 Batch 0 Loss 0.0445 Perplexity 1.0455\n",
      "Validating\n",
      "predicting.. 0.0% \n",
      "Cross-Entropy: 2.1297\n",
      "Perplexity: 8.4124\n",
      "ROUGE-Recall: 0.0597\n",
      "ROUGE-Precision: 0.3667\n",
      "Unique answers: 1\n",
      "Time taken for the epoch 34.74891638755798 sec\n",
      "\n",
      "Epoch 25 Batch 0 Loss 0.0389 Perplexity 1.0396\n",
      "Validating\n",
      "predicting.. 0.0% \n",
      "Cross-Entropy: 2.1370\n",
      "Perplexity: 8.4742\n",
      "ROUGE-Recall: 0.0405\n",
      "ROUGE-Precision: 0.2859\n",
      "Unique answers: 1\n",
      "Saving..saved\n",
      "Time taken for the epoch 33.175121545791626 sec\n",
      "\n",
      "Epoch 26 Batch 0 Loss 0.0482 Perplexity 1.0494\n",
      "Validating\n",
      "predicting.. 0.0% \n",
      "Cross-Entropy: 2.2116\n",
      "Perplexity: 9.1304\n",
      "ROUGE-Recall: 0.0638\n",
      "ROUGE-Precision: 0.3855\n",
      "Unique answers: 1\n",
      "Time taken for the epoch 33.234341859817505 sec\n",
      "\n",
      "Epoch 27 Batch 0 Loss 0.0392 Perplexity 1.0400\n",
      "Validating\n",
      "predicting.. 0.0% \n",
      "Cross-Entropy: 2.2121\n",
      "Perplexity: 9.1351\n",
      "ROUGE-Recall: 0.0504\n",
      "ROUGE-Precision: 0.3394\n",
      "Unique answers: 1\n",
      "Time taken for the epoch 30.55121946334839 sec\n",
      "\n",
      "Epoch 28 Batch 0 Loss 0.0411 Perplexity 1.0420\n",
      "Validating\n",
      "predicting.. 0.0% \n",
      "Cross-Entropy: 2.2548\n",
      "Perplexity: 9.5334\n",
      "ROUGE-Recall: 0.0394\n",
      "ROUGE-Precision: 0.3005\n",
      "Unique answers: 1\n",
      "Time taken for the epoch 37.291619539260864 sec\n",
      "\n",
      "Epoch 29 Batch 0 Loss 0.0414 Perplexity 1.0422\n",
      "Validating\n",
      "predicting.. 0.0% \n",
      "Cross-Entropy: 2.6131\n",
      "Perplexity: 13.6413\n",
      "ROUGE-Recall: 0.0659\n",
      "ROUGE-Precision: 0.4013\n",
      "Unique answers: 1\n",
      "Time taken for the epoch 35.22569966316223 sec\n",
      "\n",
      "Epoch 30 Batch 0 Loss 0.0388 Perplexity 1.0396\n",
      "Validating\n",
      "predicting.. 0.0% \n",
      "Cross-Entropy: 2.4896\n",
      "Perplexity: 12.0566\n",
      "ROUGE-Recall: 0.0659\n",
      "ROUGE-Precision: 0.4013\n",
      "Unique answers: 1\n",
      "Saving..saved\n",
      "Time taken for the epoch 33.08389186859131 sec\n",
      "\n",
      "Epoch 31 Batch 0 Loss 0.0374 Perplexity 1.0381\n",
      "Validating\n",
      "predicting.. 0.0% \n",
      "Cross-Entropy: 2.3694\n",
      "Perplexity: 10.6905\n",
      "ROUGE-Recall: 0.0692\n",
      "ROUGE-Precision: 0.4095\n",
      "Unique answers: 1\n",
      "Time taken for the epoch 34.33147954940796 sec\n",
      "\n",
      "Epoch 32 Batch 0 Loss 0.0400 Perplexity 1.0408\n",
      "Validating\n",
      "predicting.. 0.0% \n",
      "Cross-Entropy: 2.6160\n",
      "Perplexity: 13.6813\n",
      "ROUGE-Recall: 0.0722\n",
      "ROUGE-Precision: 0.4200\n",
      "Unique answers: 1\n",
      "Time taken for the epoch 29.098086833953857 sec\n",
      "\n",
      "Epoch 33 Batch 0 Loss 0.0376 Perplexity 1.0383\n",
      "Validating\n",
      "predicting.. 0.0% \n",
      "Cross-Entropy: 2.6238\n",
      "Perplexity: 13.7886\n",
      "ROUGE-Recall: 0.0619\n",
      "ROUGE-Precision: 0.3832\n",
      "Unique answers: 1\n",
      "Time taken for the epoch 26.38751196861267 sec\n",
      "\n",
      "Epoch 34 Batch 0 Loss 0.0404 Perplexity 1.0413\n",
      "Validating\n",
      "predicting.. 0.0% \n",
      "Cross-Entropy: 2.6224\n",
      "Perplexity: 13.7693\n",
      "ROUGE-Recall: 0.0619\n",
      "ROUGE-Precision: 0.3832\n",
      "Unique answers: 1\n",
      "Time taken for the epoch 26.97040557861328 sec\n",
      "\n",
      "Epoch 35 Batch 0 Loss 0.0381 Perplexity 1.0388\n",
      "Validating\n",
      "predicting.. 0.0% \n",
      "Cross-Entropy: 2.6362\n",
      "Perplexity: 13.9594\n",
      "ROUGE-Recall: 0.0670\n",
      "ROUGE-Precision: 0.4036\n",
      "Unique answers: 1\n",
      "Saving..saved\n",
      "Time taken for the epoch 27.136290311813354 sec\n",
      "\n",
      "Epoch 36 Batch 0 Loss 0.0401 Perplexity 1.0409\n",
      "Validating\n",
      "predicting.. 0.0% \n",
      "Cross-Entropy: 2.6506\n",
      "Perplexity: 14.1626\n",
      "ROUGE-Recall: 0.0619\n",
      "ROUGE-Precision: 0.3832\n",
      "Unique answers: 1\n",
      "Time taken for the epoch 28.4065420627594 sec\n",
      "\n",
      "Epoch 37 Batch 0 Loss 0.0362 Perplexity 1.0368\n",
      "Validating\n",
      "predicting.. 0.0% \n",
      "Cross-Entropy: 2.4728\n",
      "Perplexity: 11.8551\n",
      "ROUGE-Recall: 0.0582\n",
      "ROUGE-Precision: 0.3726\n",
      "Unique answers: 1\n",
      "Time taken for the epoch 27.793996810913086 sec\n",
      "\n",
      "Epoch 38 Batch 0 Loss 0.0394 Perplexity 1.0402\n",
      "Validating\n",
      "predicting.. 0.0% \n",
      "Cross-Entropy: 3.3632\n",
      "Perplexity: 28.8814\n",
      "ROUGE-Recall: 0.0433\n",
      "ROUGE-Precision: 0.3187\n",
      "Unique answers: 1\n",
      "Time taken for the epoch 26.94800639152527 sec\n",
      "\n",
      "Epoch 39 Batch 0 Loss 0.0374 Perplexity 1.0381\n",
      "Validating\n",
      "predicting.. 0.0% \n",
      "Cross-Entropy: 2.6443\n",
      "Perplexity: 14.0732\n",
      "ROUGE-Recall: 0.0694\n",
      "ROUGE-Precision: 0.4113\n",
      "Unique answers: 1\n",
      "Time taken for the epoch 27.392194986343384 sec\n",
      "\n",
      "Epoch 40 Batch 0 Loss 0.0386 Perplexity 1.0393\n",
      "Validating\n",
      "predicting.. 0.0% \n",
      "Cross-Entropy: 2.6628\n",
      "Perplexity: 14.3366\n",
      "ROUGE-Recall: 0.0670\n",
      "ROUGE-Precision: 0.4030\n",
      "Unique answers: 1\n",
      "Saving..saved\n",
      "Time taken for the epoch 27.715801239013672 sec\n",
      "\n",
      "Epoch 41 Batch 0 Loss 0.0397 Perplexity 1.0405\n",
      "Validating\n",
      "predicting.. 0.0% \n",
      "Cross-Entropy: 2.7231\n",
      "Perplexity: 15.2270\n",
      "ROUGE-Recall: 0.0644\n",
      "ROUGE-Precision: 0.3903\n",
      "Unique answers: 1\n",
      "Time taken for the epoch 28.761808156967163 sec\n",
      "\n",
      "Epoch 42 Batch 0 Loss 0.0386 Perplexity 1.0394\n",
      "Validating\n",
      "predicting.. 0.0% \n",
      "Cross-Entropy: 2.6526\n",
      "Perplexity: 14.1904\n",
      "ROUGE-Recall: 0.0638\n",
      "ROUGE-Precision: 0.3969\n",
      "Unique answers: 1\n",
      "Time taken for the epoch 29.864208221435547 sec\n",
      "\n",
      "Epoch 43 Batch 0 Loss 0.0389 Perplexity 1.0397\n",
      "Validating\n",
      "predicting.. 0.0% \n",
      "Cross-Entropy: 2.5103\n",
      "Perplexity: 12.3086\n",
      "ROUGE-Recall: 0.0724\n",
      "ROUGE-Precision: 0.4183\n",
      "Unique answers: 1\n",
      "Time taken for the epoch 28.293654203414917 sec\n",
      "\n",
      "Epoch 44 Batch 0 Loss 0.0372 Perplexity 1.0379\n",
      "Validating\n",
      "predicting.. 0.0% \n",
      "Cross-Entropy: 2.5176\n",
      "Perplexity: 12.3988\n",
      "ROUGE-Recall: 0.0685\n",
      "ROUGE-Precision: 0.4070\n",
      "Unique answers: 1\n",
      "Time taken for the epoch 29.020747661590576 sec\n",
      "\n",
      "Epoch 45 Batch 0 Loss 0.0364 Perplexity 1.0371\n",
      "Validating\n",
      "predicting.. 0.0% \n",
      "Cross-Entropy: 2.4729\n",
      "Perplexity: 11.8570\n",
      "ROUGE-Recall: 0.0634\n",
      "ROUGE-Precision: 0.3928\n",
      "Unique answers: 1\n",
      "Saving..saved\n",
      "Time taken for the epoch 28.300101280212402 sec\n",
      "\n",
      "Epoch 46 Batch 0 Loss 0.0393 Perplexity 1.0401\n",
      "Validating\n",
      "predicting.. 0.0% \n",
      "Cross-Entropy: 2.4690\n",
      "Perplexity: 11.8106\n",
      "ROUGE-Recall: 0.0580\n",
      "ROUGE-Precision: 0.3717\n",
      "Unique answers: 1\n",
      "Time taken for the epoch 29.920171976089478 sec\n",
      "\n",
      "Epoch 47 Batch 0 Loss 0.0407 Perplexity 1.0415\n",
      "Validating\n",
      "predicting.. 0.0% \n",
      "Cross-Entropy: 2.5101\n",
      "Perplexity: 12.3066\n",
      "ROUGE-Recall: 0.0466\n",
      "ROUGE-Precision: 0.3272\n",
      "Unique answers: 1\n",
      "Time taken for the epoch 28.576457023620605 sec\n",
      "\n",
      "Epoch 48 Batch 0 Loss 0.0370 Perplexity 1.0377\n",
      "Validating\n",
      "predicting.. 0.0% \n",
      "Cross-Entropy: 2.6280\n",
      "Perplexity: 13.8465\n",
      "ROUGE-Recall: 0.0280\n",
      "ROUGE-Precision: 0.2378\n",
      "Unique answers: 1\n",
      "Time taken for the epoch 29.437960624694824 sec\n",
      "\n",
      "Epoch 49 Batch 0 Loss 0.0419 Perplexity 1.0428\n",
      "Validating\n",
      "predicting.. 0.0% \n",
      "Cross-Entropy: 2.4458\n",
      "Perplexity: 11.5396\n",
      "ROUGE-Recall: 0.0690\n",
      "ROUGE-Precision: 0.4029\n",
      "Unique answers: 1\n",
      "Time taken for the epoch 28.955732107162476 sec\n",
      "\n",
      "Epoch 50 Batch 0 Loss 0.0394 Perplexity 1.0402\n",
      "Validating\n",
      "predicting.. 0.0% \n",
      "Cross-Entropy: 2.5094\n",
      "Perplexity: 12.2972\n",
      "ROUGE-Recall: 0.0554\n",
      "ROUGE-Precision: 0.3599\n",
      "Unique answers: 1\n",
      "Saving..saved\n",
      "Time taken for the epoch 28.367613077163696 sec\n",
      "\n",
      "Epoch 51 Batch 0 Loss 0.0396 Perplexity 1.0404\n",
      "Validating\n",
      "predicting.. 0.0% \n",
      "Cross-Entropy: 3.3268\n",
      "Perplexity: 27.8483\n",
      "ROUGE-Recall: 0.0244\n",
      "ROUGE-Precision: 0.1149\n",
      "Unique answers: 1\n",
      "Time taken for the epoch 28.598464488983154 sec\n",
      "\n",
      "Epoch 52 Batch 0 Loss 0.0507 Perplexity 1.0520\n",
      "Validating\n",
      "predicting.. 0.0% \n",
      "Cross-Entropy: 3.1596\n",
      "Perplexity: 23.5609\n",
      "ROUGE-Recall: 0.0330\n",
      "ROUGE-Precision: 0.2041\n",
      "Unique answers: 1\n",
      "Time taken for the epoch 28.33260440826416 sec\n",
      "\n",
      "Epoch 53 Batch 0 Loss 0.0467 Perplexity 1.0478\n",
      "Validating\n",
      "predicting.. 0.0% \n",
      "Cross-Entropy: 2.1280\n",
      "Perplexity: 8.3983\n",
      "ROUGE-Recall: 0.0494\n",
      "ROUGE-Precision: 0.3379\n",
      "Unique answers: 1\n",
      "Time taken for the epoch 30.329190254211426 sec\n",
      "\n",
      "Epoch 54 Batch 0 Loss 0.0358 Perplexity 1.0364\n",
      "Validating\n",
      "predicting.. 0.0% \n",
      "Cross-Entropy: 3.0874\n",
      "Perplexity: 21.9204\n",
      "ROUGE-Recall: 0.0478\n",
      "ROUGE-Precision: 0.3296\n",
      "Unique answers: 1\n",
      "Time taken for the epoch 28.3194100856781 sec\n",
      "\n",
      "Epoch 55 Batch 0 Loss 0.0430 Perplexity 1.0439\n",
      "Validating\n",
      "predicting.. 0.0% \n",
      "Cross-Entropy: 2.5473\n",
      "Perplexity: 12.7731\n",
      "ROUGE-Recall: 0.0502\n",
      "ROUGE-Precision: 0.3402\n",
      "Unique answers: 1\n",
      "Saving..saved\n",
      "Time taken for the epoch 28.377712726593018 sec\n",
      "\n",
      "Epoch 56 Batch 0 Loss 0.0440 Perplexity 1.0449\n",
      "Validating\n",
      "predicting.. 0.0% \n",
      "Cross-Entropy: 2.3235\n",
      "Perplexity: 10.2112\n",
      "ROUGE-Recall: 0.0509\n",
      "ROUGE-Precision: 0.3273\n",
      "Unique answers: 1\n",
      "Time taken for the epoch 28.994664430618286 sec\n",
      "\n",
      "Epoch 57 Batch 0 Loss 0.0465 Perplexity 1.0475\n",
      "Validating\n",
      "predicting.. 0.0% \n",
      "Cross-Entropy: 2.5905\n",
      "Perplexity: 13.3369\n",
      "ROUGE-Recall: 0.0506\n",
      "ROUGE-Precision: 0.3297\n",
      "Unique answers: 1\n",
      "Time taken for the epoch 29.549721717834473 sec\n",
      "\n",
      "Epoch 58 Batch 0 Loss 0.0415 Perplexity 1.0423\n",
      "Validating\n",
      "predicting.. 0.0% \n",
      "Cross-Entropy: 2.3501\n",
      "Perplexity: 10.4868\n",
      "ROUGE-Recall: 0.0722\n",
      "ROUGE-Precision: 0.4184\n",
      "Unique answers: 1\n",
      "Time taken for the epoch 28.502597093582153 sec\n",
      "\n",
      "Epoch 59 Batch 0 Loss 0.0419 Perplexity 1.0428\n",
      "Validating\n",
      "predicting.. 0.0% \n",
      "Cross-Entropy: 3.0178\n",
      "Perplexity: 20.4464\n",
      "ROUGE-Recall: 0.0472\n",
      "ROUGE-Precision: 0.3318\n",
      "Unique answers: 1\n",
      "Time taken for the epoch 30.098702907562256 sec\n",
      "\n",
      "Epoch 60 Batch 0 Loss 0.0408 Perplexity 1.0416\n",
      "Validating\n",
      "predicting.. 0.0% \n",
      "Cross-Entropy: 2.4491\n",
      "Perplexity: 11.5775\n",
      "ROUGE-Recall: 0.0496\n",
      "ROUGE-Precision: 0.3396\n",
      "Unique answers: 1\n",
      "Saving..saved\n",
      "Time taken for the epoch 29.3098087310791 sec\n",
      "\n",
      "Epoch 61 Batch 0 Loss 0.0390 Perplexity 1.0398\n",
      "Validating\n",
      "predicting.. 0.0% \n",
      "Cross-Entropy: 2.8028\n",
      "Perplexity: 16.4911\n",
      "ROUGE-Recall: 0.0610\n",
      "ROUGE-Precision: 0.3807\n",
      "Unique answers: 1\n",
      "Time taken for the epoch 28.768145322799683 sec\n",
      "\n",
      "Epoch 62 Batch 0 Loss 0.0398 Perplexity 1.0406\n",
      "Validating\n",
      "predicting.. 0.0% \n",
      "Cross-Entropy: 2.8697\n",
      "Perplexity: 17.6314\n",
      "ROUGE-Recall: 0.0718\n",
      "ROUGE-Precision: 0.4163\n",
      "Unique answers: 1\n",
      "Time taken for the epoch 28.72821569442749 sec\n",
      "\n",
      "Epoch 63 Batch 0 Loss 0.0399 Perplexity 1.0407\n",
      "Validating\n",
      "predicting.. 0.0% \n",
      "Cross-Entropy: 3.2789\n",
      "Perplexity: 26.5460\n",
      "ROUGE-Recall: 0.0278\n",
      "ROUGE-Precision: 0.1341\n",
      "Unique answers: 1\n",
      "Time taken for the epoch 28.42488121986389 sec\n",
      "\n",
      "Epoch 64 Batch 0 Loss 0.0394 Perplexity 1.0402\n",
      "Validating\n",
      "predicting.. 0.0% \n",
      "Cross-Entropy: 2.8511\n",
      "Perplexity: 17.3061\n",
      "ROUGE-Recall: 0.0468\n",
      "ROUGE-Precision: 0.3231\n",
      "Unique answers: 1\n",
      "Time taken for the epoch 29.85454249382019 sec\n",
      "\n",
      "Epoch 65 Batch 0 Loss 0.0400 Perplexity 1.0409\n",
      "Validating\n",
      "predicting.. 0.0% \n",
      "Cross-Entropy: 2.7240\n",
      "Perplexity: 15.2413\n",
      "ROUGE-Recall: 0.0619\n",
      "ROUGE-Precision: 0.3832\n",
      "Unique answers: 1\n",
      "Saving..saved\n",
      "Time taken for the epoch 28.517969131469727 sec\n",
      "\n",
      "Epoch 66 Batch 0 Loss 0.0405 Perplexity 1.0414\n",
      "Validating\n",
      "predicting.. 0.0% \n",
      "Cross-Entropy: 2.5427\n",
      "Perplexity: 12.7141\n",
      "ROUGE-Recall: 0.0593\n",
      "ROUGE-Precision: 0.3742\n",
      "Unique answers: 1\n",
      "Time taken for the epoch 28.753427028656006 sec\n",
      "\n",
      "Epoch 67 Batch 0 Loss 0.0402 Perplexity 1.0411\n",
      "Validating\n",
      "predicting.. 0.0% \n",
      "Cross-Entropy: 3.0983\n",
      "Perplexity: 22.1605\n",
      "ROUGE-Recall: 0.0657\n",
      "ROUGE-Precision: 0.3958\n",
      "Unique answers: 1\n",
      "Time taken for the epoch 28.744099855422974 sec\n",
      "\n",
      "Epoch 68 Batch 0 Loss 0.0432 Perplexity 1.0442\n",
      "Validating\n",
      "predicting.. 0.0% \n",
      "Cross-Entropy: 2.7418\n",
      "Perplexity: 15.5153\n",
      "ROUGE-Recall: 0.0709\n",
      "ROUGE-Precision: 0.4144\n",
      "Unique answers: 1\n",
      "Time taken for the epoch 28.701624393463135 sec\n",
      "\n",
      "Epoch 69 Batch 0 Loss 0.0428 Perplexity 1.0437\n",
      "Validating\n",
      "predicting.. 0.0% \n",
      "Cross-Entropy: 2.6238\n",
      "Perplexity: 13.7874\n",
      "ROUGE-Recall: 0.0681\n",
      "ROUGE-Precision: 0.4019\n",
      "Unique answers: 1\n",
      "Time taken for the epoch 28.26345705986023 sec\n",
      "\n",
      "Epoch 70 Batch 0 Loss 0.0390 Perplexity 1.0398\n",
      "Validating\n",
      "predicting.. 0.0% \n",
      "Cross-Entropy: 3.0269\n",
      "Perplexity: 20.6325\n",
      "ROUGE-Recall: 0.0638\n",
      "ROUGE-Precision: 0.3953\n",
      "Unique answers: 1\n",
      "Saving..saved\n",
      "Time taken for the epoch 30.662069082260132 sec\n",
      "\n",
      "Epoch 71 Batch 0 Loss 0.0400 Perplexity 1.0408\n",
      "Validating\n",
      "predicting.. 0.0% \n",
      "Cross-Entropy: 3.3262\n",
      "Perplexity: 27.8332\n",
      "ROUGE-Recall: 0.0608\n",
      "ROUGE-Precision: 0.3854\n",
      "Unique answers: 1\n",
      "Time taken for the epoch 28.763994216918945 sec\n",
      "\n",
      "Epoch 72 Batch 0 Loss 0.0400 Perplexity 1.0408\n",
      "Validating\n",
      "predicting.. 0.0% \n",
      "Cross-Entropy: 2.8616\n",
      "Perplexity: 17.4901\n",
      "ROUGE-Recall: 0.0677\n",
      "ROUGE-Precision: 0.4085\n",
      "Unique answers: 1\n",
      "Time taken for the epoch 29.733928203582764 sec\n",
      "\n",
      "Epoch 73 Batch 0 Loss 0.0395 Perplexity 1.0403\n",
      "Validating\n",
      "predicting.. 0.0% \n",
      "Cross-Entropy: 3.0647\n",
      "Perplexity: 21.4276\n",
      "ROUGE-Recall: 0.0353\n",
      "ROUGE-Precision: 0.1785\n",
      "Unique answers: 1\n",
      "Time taken for the epoch 30.929811239242554 sec\n",
      "\n",
      "Epoch 74 Batch 0 Loss 0.0414 Perplexity 1.0422\n",
      "Validating\n",
      "predicting.. 0.0% \n",
      "Cross-Entropy: 3.1084\n",
      "Perplexity: 22.3854\n",
      "ROUGE-Recall: 0.0353\n",
      "ROUGE-Precision: 0.1785\n",
      "Unique answers: 1\n",
      "Time taken for the epoch 29.621023654937744 sec\n",
      "\n",
      "Epoch 75 Batch 0 Loss 0.0417 Perplexity 1.0426\n",
      "Validating\n",
      "predicting.. 0.0% \n",
      "Cross-Entropy: 2.7547\n",
      "Perplexity: 15.7163\n",
      "ROUGE-Recall: 0.0623\n",
      "ROUGE-Precision: 0.3905\n",
      "Unique answers: 1\n",
      "Saving..saved\n",
      "Time taken for the epoch 30.539310932159424 sec\n",
      "\n",
      "Epoch 76 Batch 0 Loss 0.0465 Perplexity 1.0476\n",
      "Validating\n",
      "predicting.. 0.0% \n",
      "Cross-Entropy: 2.7935\n",
      "Perplexity: 16.3379\n",
      "ROUGE-Recall: 0.0614\n",
      "ROUGE-Precision: 0.3860\n",
      "Unique answers: 1\n",
      "Time taken for the epoch 28.66663670539856 sec\n",
      "\n",
      "Epoch 77 Batch 0 Loss 0.0357 Perplexity 1.0364\n",
      "Validating\n",
      "predicting.. 0.0% \n",
      "Cross-Entropy: 2.9653\n",
      "Perplexity: 19.4005\n",
      "ROUGE-Recall: 0.0636\n",
      "ROUGE-Precision: 0.3924\n",
      "Unique answers: 1\n",
      "Time taken for the epoch 28.472997665405273 sec\n",
      "\n",
      "Epoch 78 Batch 0 Loss 0.0362 Perplexity 1.0368\n",
      "Validating\n",
      "predicting.. 0.0% \n",
      "Cross-Entropy: 2.6833\n",
      "Perplexity: 14.6331\n",
      "ROUGE-Recall: 0.0554\n",
      "ROUGE-Precision: 0.3638\n",
      "Unique answers: 1\n",
      "Time taken for the epoch 28.359137535095215 sec\n",
      "\n",
      "Epoch 79 Batch 0 Loss 0.0377 Perplexity 1.0384\n",
      "Validating\n",
      "predicting.. 0.0% \n",
      "Cross-Entropy: 2.6922\n",
      "Perplexity: 14.7640\n",
      "ROUGE-Recall: 0.0616\n",
      "ROUGE-Precision: 0.3833\n",
      "Unique answers: 1\n",
      "Time taken for the epoch 28.35231852531433 sec\n",
      "\n",
      "Epoch 80 Batch 0 Loss 0.0370 Perplexity 1.0376\n",
      "Validating\n",
      "predicting.. 0.0% \n",
      "Cross-Entropy: 2.9214\n",
      "Perplexity: 18.5673\n",
      "ROUGE-Recall: 0.0550\n",
      "ROUGE-Precision: 0.3601\n",
      "Unique answers: 1\n",
      "Saving..saved\n",
      "Time taken for the epoch 28.302327632904053 sec\n",
      "\n",
      "Epoch 81 Batch 0 Loss 0.0380 Perplexity 1.0387\n",
      "Validating\n",
      "predicting.. 0.0% \n",
      "Cross-Entropy: 2.8894\n",
      "Perplexity: 17.9833\n",
      "ROUGE-Recall: 0.0616\n",
      "ROUGE-Precision: 0.3888\n",
      "Unique answers: 1\n",
      "Time taken for the epoch 29.821900844573975 sec\n",
      "\n",
      "Epoch 82 Batch 0 Loss 0.0374 Perplexity 1.0381\n",
      "Validating\n",
      "predicting.. 0.0% \n",
      "Cross-Entropy: 3.1620\n",
      "Perplexity: 23.6173\n",
      "ROUGE-Recall: 0.0519\n",
      "ROUGE-Precision: 0.3502\n",
      "Unique answers: 1\n",
      "Time taken for the epoch 28.780944347381592 sec\n",
      "\n",
      "Epoch 83 Batch 0 Loss 0.0379 Perplexity 1.0386\n",
      "Validating\n",
      "predicting.. 0.0% \n",
      "Cross-Entropy: 3.0050\n",
      "Perplexity: 20.1868\n",
      "ROUGE-Recall: 0.0560\n",
      "ROUGE-Precision: 0.3643\n",
      "Unique answers: 1\n",
      "Time taken for the epoch 28.444095849990845 sec\n",
      "\n",
      "Epoch 84 Batch 0 Loss 0.0401 Perplexity 1.0410\n",
      "Validating\n",
      "predicting.. 0.0% \n",
      "Cross-Entropy: 3.2538\n",
      "Perplexity: 25.8890\n",
      "ROUGE-Recall: 0.0599\n",
      "ROUGE-Precision: 0.3828\n",
      "Unique answers: 1\n",
      "Time taken for the epoch 28.546995878219604 sec\n",
      "\n",
      "Epoch 85 Batch 0 Loss 0.0399 Perplexity 1.0407\n",
      "Validating\n",
      "predicting.. 0.0% \n",
      "Cross-Entropy: 3.1605\n",
      "Perplexity: 23.5817\n",
      "ROUGE-Recall: 0.0431\n",
      "ROUGE-Precision: 0.2605\n",
      "Unique answers: 1\n",
      "Saving..saved\n",
      "Time taken for the epoch 28.404401540756226 sec\n",
      "\n",
      "Epoch 86 Batch 0 Loss 0.0359 Perplexity 1.0366\n",
      "Validating\n",
      "predicting.. 0.0% \n",
      "Cross-Entropy: 2.8886\n",
      "Perplexity: 17.9685\n",
      "ROUGE-Recall: 0.0599\n",
      "ROUGE-Precision: 0.3828\n",
      "Unique answers: 1\n",
      "Time taken for the epoch 30.211846351623535 sec\n",
      "\n",
      "Epoch 87 Batch 0 Loss 0.0411 Perplexity 1.0420\n",
      "Validating\n",
      "predicting.. 0.0% \n",
      "Cross-Entropy: 2.6227\n",
      "Perplexity: 13.7725\n",
      "ROUGE-Recall: 0.0640\n",
      "ROUGE-Precision: 0.3947\n",
      "Unique answers: 1\n",
      "Time taken for the epoch 28.352572202682495 sec\n",
      "\n",
      "Epoch 88 Batch 0 Loss 0.0385 Perplexity 1.0392\n",
      "Validating\n",
      "predicting.. 0.0% \n",
      "Cross-Entropy: 2.9232\n",
      "Perplexity: 18.5998\n",
      "ROUGE-Recall: 0.0506\n",
      "ROUGE-Precision: 0.2857\n",
      "Unique answers: 1\n",
      "Time taken for the epoch 28.474931001663208 sec\n",
      "\n",
      "Epoch 89 Batch 0 Loss 0.0405 Perplexity 1.0413\n",
      "Validating\n",
      "predicting.. 0.0% \n",
      "Cross-Entropy: 2.9167\n",
      "Perplexity: 18.4804\n",
      "ROUGE-Recall: 0.0547\n",
      "ROUGE-Precision: 0.3647\n",
      "Unique answers: 1\n",
      "Time taken for the epoch 28.663012742996216 sec\n",
      "\n",
      "Epoch 90 Batch 0 Loss 0.0390 Perplexity 1.0398\n",
      "Validating\n",
      "predicting.. 0.0% \n",
      "Cross-Entropy: 2.9246\n",
      "Perplexity: 18.6268\n",
      "ROUGE-Recall: 0.0560\n",
      "ROUGE-Precision: 0.3643\n",
      "Unique answers: 1\n",
      "Saving..saved\n",
      "Time taken for the epoch 28.449613094329834 sec\n",
      "\n",
      "Epoch 91 Batch 0 Loss 0.0419 Perplexity 1.0428\n",
      "Validating\n",
      "predicting.. 0.0% \n",
      "Cross-Entropy: 2.9201\n",
      "Perplexity: 18.5435\n",
      "ROUGE-Recall: 0.0545\n",
      "ROUGE-Precision: 0.3635\n",
      "Unique answers: 1\n",
      "Time taken for the epoch 29.093521118164062 sec\n",
      "\n",
      "Epoch 92 Batch 0 Loss 0.0365 Perplexity 1.0372\n",
      "Validating\n",
      "predicting.. 0.0% \n",
      "Cross-Entropy: 2.8342\n",
      "Perplexity: 17.0163\n",
      "ROUGE-Recall: 0.0644\n",
      "ROUGE-Precision: 0.3953\n",
      "Unique answers: 1\n",
      "Time taken for the epoch 29.254661083221436 sec\n",
      "\n",
      "Epoch 93 Batch 0 Loss 0.0511 Perplexity 1.0524\n",
      "Validating\n",
      "predicting.. 0.0% \n",
      "Cross-Entropy: 3.1106\n",
      "Perplexity: 22.4334\n",
      "ROUGE-Recall: 0.0466\n",
      "ROUGE-Precision: 0.2707\n",
      "Unique answers: 1\n",
      "Time taken for the epoch 29.528151273727417 sec\n",
      "\n",
      "Epoch 94 Batch 0 Loss 0.0445 Perplexity 1.0455\n",
      "Validating\n",
      "predicting.. 0.0% \n",
      "Cross-Entropy: 3.1422\n",
      "Perplexity: 23.1547\n",
      "ROUGE-Recall: 0.0235\n",
      "ROUGE-Precision: 0.1110\n",
      "Unique answers: 1\n",
      "Time taken for the epoch 27.269763708114624 sec\n",
      "\n",
      "Epoch 95 Batch 0 Loss 0.0379 Perplexity 1.0386\n",
      "Validating\n",
      "predicting.. 0.0% \n",
      "Cross-Entropy: 3.0753\n",
      "Perplexity: 21.6557\n",
      "ROUGE-Recall: 0.0466\n",
      "ROUGE-Precision: 0.2707\n",
      "Unique answers: 1\n",
      "Saving..saved\n",
      "Time taken for the epoch 30.908947229385376 sec\n",
      "\n",
      "Epoch 96 Batch 0 Loss 0.0331 Perplexity 1.0337\n",
      "Validating\n",
      "predicting.. 0.0% \n",
      "Cross-Entropy: 3.0834\n",
      "Perplexity: 21.8320\n",
      "ROUGE-Recall: 0.0235\n",
      "ROUGE-Precision: 0.1110\n",
      "Unique answers: 1\n",
      "Time taken for the epoch 27.322257041931152 sec\n",
      "\n",
      "Epoch 97 Batch 0 Loss 0.0494 Perplexity 1.0507\n",
      "Validating\n",
      "predicting.. 0.0% \n",
      "Cross-Entropy: 3.2560\n",
      "Perplexity: 25.9463\n",
      "ROUGE-Recall: 0.0606\n",
      "ROUGE-Precision: 0.3819\n",
      "Unique answers: 1\n",
      "Time taken for the epoch 26.863702535629272 sec\n",
      "\n",
      "Epoch 98 Batch 0 Loss 0.0500 Perplexity 1.0513\n",
      "Validating\n",
      "predicting.. 0.0% \n",
      "Cross-Entropy: 3.0891\n",
      "Perplexity: 21.9564\n",
      "ROUGE-Recall: 0.0545\n",
      "ROUGE-Precision: 0.3592\n",
      "Unique answers: 1\n",
      "Time taken for the epoch 27.127284049987793 sec\n",
      "\n",
      "Epoch 99 Batch 0 Loss 0.0400 Perplexity 1.0408\n",
      "Validating\n",
      "predicting.. 0.0% \n",
      "Cross-Entropy: 3.2618\n",
      "Perplexity: 26.0960\n",
      "ROUGE-Recall: 0.0532\n",
      "ROUGE-Precision: 0.3559\n",
      "Unique answers: 1\n",
      "Time taken for the epoch 26.87333083152771 sec\n",
      "\n",
      "Epoch 100 Batch 0 Loss 0.0436 Perplexity 1.0445\n",
      "Validating\n",
      "predicting.. 0.0% \n",
      "Cross-Entropy: 3.0341\n",
      "Perplexity: 20.7832\n",
      "ROUGE-Recall: 0.0593\n",
      "ROUGE-Precision: 0.3790\n",
      "Unique answers: 1\n",
      "Saving..saved\n",
      "Time taken for the epoch 26.973742485046387 sec\n",
      "\n",
      "The best epoch is 1 with CE = 1.1735, RR = 0.0050, RP = 0.0216\n"
     ]
    },
    {
     "output_type": "execute_result",
     "data": {
      "text/plain": [
       "[<matplotlib.lines.Line2D at 0x28fab7f8100>]"
      ]
     },
     "metadata": {},
     "execution_count": 141
    },
    {
     "output_type": "display_data",
     "data": {
      "text/plain": "<Figure size 432x288 with 1 Axes>",
      "image/svg+xml": "<?xml version=\"1.0\" encoding=\"utf-8\" standalone=\"no\"?>\r\n<!DOCTYPE svg PUBLIC \"-//W3C//DTD SVG 1.1//EN\"\r\n  \"http://www.w3.org/Graphics/SVG/1.1/DTD/svg11.dtd\">\r\n<!-- Created with matplotlib (https://matplotlib.org/) -->\r\n<svg height=\"250.478374pt\" version=\"1.1\" viewBox=\"0 0 372.103125 250.478374\" width=\"372.103125pt\" xmlns=\"http://www.w3.org/2000/svg\" xmlns:xlink=\"http://www.w3.org/1999/xlink\">\r\n <metadata>\r\n  <rdf:RDF xmlns:cc=\"http://creativecommons.org/ns#\" xmlns:dc=\"http://purl.org/dc/elements/1.1/\" xmlns:rdf=\"http://www.w3.org/1999/02/22-rdf-syntax-ns#\">\r\n   <cc:Work>\r\n    <dc:type rdf:resource=\"http://purl.org/dc/dcmitype/StillImage\"/>\r\n    <dc:date>2021-06-11T12:45:57.158360</dc:date>\r\n    <dc:format>image/svg+xml</dc:format>\r\n    <dc:creator>\r\n     <cc:Agent>\r\n      <dc:title>Matplotlib v3.3.2, https://matplotlib.org/</dc:title>\r\n     </cc:Agent>\r\n    </dc:creator>\r\n   </cc:Work>\r\n  </rdf:RDF>\r\n </metadata>\r\n <defs>\r\n  <style type=\"text/css\">*{stroke-linecap:butt;stroke-linejoin:round;}</style>\r\n </defs>\r\n <g id=\"figure_1\">\r\n  <g id=\"patch_1\">\r\n   <path d=\"M 0 250.478374 \r\nL 372.103125 250.478374 \r\nL 372.103125 0 \r\nL 0 0 \r\nz\r\n\" style=\"fill:none;\"/>\r\n  </g>\r\n  <g id=\"axes_1\">\r\n   <g id=\"patch_2\">\r\n    <path d=\"M 30.103125 226.600249 \r\nL 364.903125 226.600249 \r\nL 364.903125 9.160249 \r\nL 30.103125 9.160249 \r\nz\r\n\" style=\"fill:#ffffff;\"/>\r\n   </g>\r\n   <g id=\"matplotlib.axis_1\">\r\n    <g id=\"xtick_1\">\r\n     <g id=\"line2d_1\">\r\n      <defs>\r\n       <path d=\"M 0 0 \r\nL 0 3.5 \r\n\" id=\"m3a75cf0487\" style=\"stroke:#000000;stroke-width:0.8;\"/>\r\n      </defs>\r\n      <g>\r\n       <use style=\"stroke:#000000;stroke-width:0.8;\" x=\"45.321307\" xlink:href=\"#m3a75cf0487\" y=\"226.600249\"/>\r\n      </g>\r\n     </g>\r\n     <g id=\"text_1\">\r\n      <!-- 0 -->\r\n      <g transform=\"translate(42.140057 241.198686)scale(0.1 -0.1)\">\r\n       <defs>\r\n        <path d=\"M 31.78125 66.40625 \r\nQ 24.171875 66.40625 20.328125 58.90625 \r\nQ 16.5 51.421875 16.5 36.375 \r\nQ 16.5 21.390625 20.328125 13.890625 \r\nQ 24.171875 6.390625 31.78125 6.390625 \r\nQ 39.453125 6.390625 43.28125 13.890625 \r\nQ 47.125 21.390625 47.125 36.375 \r\nQ 47.125 51.421875 43.28125 58.90625 \r\nQ 39.453125 66.40625 31.78125 66.40625 \r\nz\r\nM 31.78125 74.21875 \r\nQ 44.046875 74.21875 50.515625 64.515625 \r\nQ 56.984375 54.828125 56.984375 36.375 \r\nQ 56.984375 17.96875 50.515625 8.265625 \r\nQ 44.046875 -1.421875 31.78125 -1.421875 \r\nQ 19.53125 -1.421875 13.0625 8.265625 \r\nQ 6.59375 17.96875 6.59375 36.375 \r\nQ 6.59375 54.828125 13.0625 64.515625 \r\nQ 19.53125 74.21875 31.78125 74.21875 \r\nz\r\n\" id=\"DejaVuSans-48\"/>\r\n       </defs>\r\n       <use xlink:href=\"#DejaVuSans-48\"/>\r\n      </g>\r\n     </g>\r\n    </g>\r\n    <g id=\"xtick_2\">\r\n     <g id=\"line2d_2\">\r\n      <g>\r\n       <use style=\"stroke:#000000;stroke-width:0.8;\" x=\"106.80891\" xlink:href=\"#m3a75cf0487\" y=\"226.600249\"/>\r\n      </g>\r\n     </g>\r\n     <g id=\"text_2\">\r\n      <!-- 20 -->\r\n      <g transform=\"translate(100.44641 241.198686)scale(0.1 -0.1)\">\r\n       <defs>\r\n        <path d=\"M 19.1875 8.296875 \r\nL 53.609375 8.296875 \r\nL 53.609375 0 \r\nL 7.328125 0 \r\nL 7.328125 8.296875 \r\nQ 12.9375 14.109375 22.625 23.890625 \r\nQ 32.328125 33.6875 34.8125 36.53125 \r\nQ 39.546875 41.84375 41.421875 45.53125 \r\nQ 43.3125 49.21875 43.3125 52.78125 \r\nQ 43.3125 58.59375 39.234375 62.25 \r\nQ 35.15625 65.921875 28.609375 65.921875 \r\nQ 23.96875 65.921875 18.8125 64.3125 \r\nQ 13.671875 62.703125 7.8125 59.421875 \r\nL 7.8125 69.390625 \r\nQ 13.765625 71.78125 18.9375 73 \r\nQ 24.125 74.21875 28.421875 74.21875 \r\nQ 39.75 74.21875 46.484375 68.546875 \r\nQ 53.21875 62.890625 53.21875 53.421875 \r\nQ 53.21875 48.921875 51.53125 44.890625 \r\nQ 49.859375 40.875 45.40625 35.40625 \r\nQ 44.1875 33.984375 37.640625 27.21875 \r\nQ 31.109375 20.453125 19.1875 8.296875 \r\nz\r\n\" id=\"DejaVuSans-50\"/>\r\n       </defs>\r\n       <use xlink:href=\"#DejaVuSans-50\"/>\r\n       <use x=\"63.623047\" xlink:href=\"#DejaVuSans-48\"/>\r\n      </g>\r\n     </g>\r\n    </g>\r\n    <g id=\"xtick_3\">\r\n     <g id=\"line2d_3\">\r\n      <g>\r\n       <use style=\"stroke:#000000;stroke-width:0.8;\" x=\"168.296513\" xlink:href=\"#m3a75cf0487\" y=\"226.600249\"/>\r\n      </g>\r\n     </g>\r\n     <g id=\"text_3\">\r\n      <!-- 40 -->\r\n      <g transform=\"translate(161.934013 241.198686)scale(0.1 -0.1)\">\r\n       <defs>\r\n        <path d=\"M 37.796875 64.3125 \r\nL 12.890625 25.390625 \r\nL 37.796875 25.390625 \r\nz\r\nM 35.203125 72.90625 \r\nL 47.609375 72.90625 \r\nL 47.609375 25.390625 \r\nL 58.015625 25.390625 \r\nL 58.015625 17.1875 \r\nL 47.609375 17.1875 \r\nL 47.609375 0 \r\nL 37.796875 0 \r\nL 37.796875 17.1875 \r\nL 4.890625 17.1875 \r\nL 4.890625 26.703125 \r\nz\r\n\" id=\"DejaVuSans-52\"/>\r\n       </defs>\r\n       <use xlink:href=\"#DejaVuSans-52\"/>\r\n       <use x=\"63.623047\" xlink:href=\"#DejaVuSans-48\"/>\r\n      </g>\r\n     </g>\r\n    </g>\r\n    <g id=\"xtick_4\">\r\n     <g id=\"line2d_4\">\r\n      <g>\r\n       <use style=\"stroke:#000000;stroke-width:0.8;\" x=\"229.784117\" xlink:href=\"#m3a75cf0487\" y=\"226.600249\"/>\r\n      </g>\r\n     </g>\r\n     <g id=\"text_4\">\r\n      <!-- 60 -->\r\n      <g transform=\"translate(223.421617 241.198686)scale(0.1 -0.1)\">\r\n       <defs>\r\n        <path d=\"M 33.015625 40.375 \r\nQ 26.375 40.375 22.484375 35.828125 \r\nQ 18.609375 31.296875 18.609375 23.390625 \r\nQ 18.609375 15.53125 22.484375 10.953125 \r\nQ 26.375 6.390625 33.015625 6.390625 \r\nQ 39.65625 6.390625 43.53125 10.953125 \r\nQ 47.40625 15.53125 47.40625 23.390625 \r\nQ 47.40625 31.296875 43.53125 35.828125 \r\nQ 39.65625 40.375 33.015625 40.375 \r\nz\r\nM 52.59375 71.296875 \r\nL 52.59375 62.3125 \r\nQ 48.875 64.0625 45.09375 64.984375 \r\nQ 41.3125 65.921875 37.59375 65.921875 \r\nQ 27.828125 65.921875 22.671875 59.328125 \r\nQ 17.53125 52.734375 16.796875 39.40625 \r\nQ 19.671875 43.65625 24.015625 45.921875 \r\nQ 28.375 48.1875 33.59375 48.1875 \r\nQ 44.578125 48.1875 50.953125 41.515625 \r\nQ 57.328125 34.859375 57.328125 23.390625 \r\nQ 57.328125 12.15625 50.6875 5.359375 \r\nQ 44.046875 -1.421875 33.015625 -1.421875 \r\nQ 20.359375 -1.421875 13.671875 8.265625 \r\nQ 6.984375 17.96875 6.984375 36.375 \r\nQ 6.984375 53.65625 15.1875 63.9375 \r\nQ 23.390625 74.21875 37.203125 74.21875 \r\nQ 40.921875 74.21875 44.703125 73.484375 \r\nQ 48.484375 72.75 52.59375 71.296875 \r\nz\r\n\" id=\"DejaVuSans-54\"/>\r\n       </defs>\r\n       <use xlink:href=\"#DejaVuSans-54\"/>\r\n       <use x=\"63.623047\" xlink:href=\"#DejaVuSans-48\"/>\r\n      </g>\r\n     </g>\r\n    </g>\r\n    <g id=\"xtick_5\">\r\n     <g id=\"line2d_5\">\r\n      <g>\r\n       <use style=\"stroke:#000000;stroke-width:0.8;\" x=\"291.27172\" xlink:href=\"#m3a75cf0487\" y=\"226.600249\"/>\r\n      </g>\r\n     </g>\r\n     <g id=\"text_5\">\r\n      <!-- 80 -->\r\n      <g transform=\"translate(284.90922 241.198686)scale(0.1 -0.1)\">\r\n       <defs>\r\n        <path d=\"M 31.78125 34.625 \r\nQ 24.75 34.625 20.71875 30.859375 \r\nQ 16.703125 27.09375 16.703125 20.515625 \r\nQ 16.703125 13.921875 20.71875 10.15625 \r\nQ 24.75 6.390625 31.78125 6.390625 \r\nQ 38.8125 6.390625 42.859375 10.171875 \r\nQ 46.921875 13.96875 46.921875 20.515625 \r\nQ 46.921875 27.09375 42.890625 30.859375 \r\nQ 38.875 34.625 31.78125 34.625 \r\nz\r\nM 21.921875 38.8125 \r\nQ 15.578125 40.375 12.03125 44.71875 \r\nQ 8.5 49.078125 8.5 55.328125 \r\nQ 8.5 64.0625 14.71875 69.140625 \r\nQ 20.953125 74.21875 31.78125 74.21875 \r\nQ 42.671875 74.21875 48.875 69.140625 \r\nQ 55.078125 64.0625 55.078125 55.328125 \r\nQ 55.078125 49.078125 51.53125 44.71875 \r\nQ 48 40.375 41.703125 38.8125 \r\nQ 48.828125 37.15625 52.796875 32.3125 \r\nQ 56.78125 27.484375 56.78125 20.515625 \r\nQ 56.78125 9.90625 50.3125 4.234375 \r\nQ 43.84375 -1.421875 31.78125 -1.421875 \r\nQ 19.734375 -1.421875 13.25 4.234375 \r\nQ 6.78125 9.90625 6.78125 20.515625 \r\nQ 6.78125 27.484375 10.78125 32.3125 \r\nQ 14.796875 37.15625 21.921875 38.8125 \r\nz\r\nM 18.3125 54.390625 \r\nQ 18.3125 48.734375 21.84375 45.5625 \r\nQ 25.390625 42.390625 31.78125 42.390625 \r\nQ 38.140625 42.390625 41.71875 45.5625 \r\nQ 45.3125 48.734375 45.3125 54.390625 \r\nQ 45.3125 60.0625 41.71875 63.234375 \r\nQ 38.140625 66.40625 31.78125 66.40625 \r\nQ 25.390625 66.40625 21.84375 63.234375 \r\nQ 18.3125 60.0625 18.3125 54.390625 \r\nz\r\n\" id=\"DejaVuSans-56\"/>\r\n       </defs>\r\n       <use xlink:href=\"#DejaVuSans-56\"/>\r\n       <use x=\"63.623047\" xlink:href=\"#DejaVuSans-48\"/>\r\n      </g>\r\n     </g>\r\n    </g>\r\n    <g id=\"xtick_6\">\r\n     <g id=\"line2d_6\">\r\n      <g>\r\n       <use style=\"stroke:#000000;stroke-width:0.8;\" x=\"352.759323\" xlink:href=\"#m3a75cf0487\" y=\"226.600249\"/>\r\n      </g>\r\n     </g>\r\n     <g id=\"text_6\">\r\n      <!-- 100 -->\r\n      <g transform=\"translate(343.215573 241.198686)scale(0.1 -0.1)\">\r\n       <defs>\r\n        <path d=\"M 12.40625 8.296875 \r\nL 28.515625 8.296875 \r\nL 28.515625 63.921875 \r\nL 10.984375 60.40625 \r\nL 10.984375 69.390625 \r\nL 28.421875 72.90625 \r\nL 38.28125 72.90625 \r\nL 38.28125 8.296875 \r\nL 54.390625 8.296875 \r\nL 54.390625 0 \r\nL 12.40625 0 \r\nz\r\n\" id=\"DejaVuSans-49\"/>\r\n       </defs>\r\n       <use xlink:href=\"#DejaVuSans-49\"/>\r\n       <use x=\"63.623047\" xlink:href=\"#DejaVuSans-48\"/>\r\n       <use x=\"127.246094\" xlink:href=\"#DejaVuSans-48\"/>\r\n      </g>\r\n     </g>\r\n    </g>\r\n   </g>\r\n   <g id=\"matplotlib.axis_2\">\r\n    <g id=\"ytick_1\">\r\n     <g id=\"line2d_7\">\r\n      <defs>\r\n       <path d=\"M 0 0 \r\nL -3.5 0 \r\n\" id=\"m7167fa3670\" style=\"stroke:#000000;stroke-width:0.8;\"/>\r\n      </defs>\r\n      <g>\r\n       <use style=\"stroke:#000000;stroke-width:0.8;\" x=\"30.103125\" xlink:href=\"#m7167fa3670\" y=\"216.818001\"/>\r\n      </g>\r\n     </g>\r\n     <g id=\"text_7\">\r\n      <!-- 0.0 -->\r\n      <g transform=\"translate(7.2 220.61722)scale(0.1 -0.1)\">\r\n       <defs>\r\n        <path d=\"M 10.6875 12.40625 \r\nL 21 12.40625 \r\nL 21 0 \r\nL 10.6875 0 \r\nz\r\n\" id=\"DejaVuSans-46\"/>\r\n       </defs>\r\n       <use xlink:href=\"#DejaVuSans-48\"/>\r\n       <use x=\"63.623047\" xlink:href=\"#DejaVuSans-46\"/>\r\n       <use x=\"95.410156\" xlink:href=\"#DejaVuSans-48\"/>\r\n      </g>\r\n     </g>\r\n    </g>\r\n    <g id=\"ytick_2\">\r\n     <g id=\"line2d_8\">\r\n      <g>\r\n       <use style=\"stroke:#000000;stroke-width:0.8;\" x=\"30.103125\" xlink:href=\"#m7167fa3670\" y=\"187.415318\"/>\r\n      </g>\r\n     </g>\r\n     <g id=\"text_8\">\r\n      <!-- 0.5 -->\r\n      <g transform=\"translate(7.2 191.214537)scale(0.1 -0.1)\">\r\n       <defs>\r\n        <path d=\"M 10.796875 72.90625 \r\nL 49.515625 72.90625 \r\nL 49.515625 64.59375 \r\nL 19.828125 64.59375 \r\nL 19.828125 46.734375 \r\nQ 21.96875 47.46875 24.109375 47.828125 \r\nQ 26.265625 48.1875 28.421875 48.1875 \r\nQ 40.625 48.1875 47.75 41.5 \r\nQ 54.890625 34.8125 54.890625 23.390625 \r\nQ 54.890625 11.625 47.5625 5.09375 \r\nQ 40.234375 -1.421875 26.90625 -1.421875 \r\nQ 22.3125 -1.421875 17.546875 -0.640625 \r\nQ 12.796875 0.140625 7.71875 1.703125 \r\nL 7.71875 11.625 \r\nQ 12.109375 9.234375 16.796875 8.0625 \r\nQ 21.484375 6.890625 26.703125 6.890625 \r\nQ 35.15625 6.890625 40.078125 11.328125 \r\nQ 45.015625 15.765625 45.015625 23.390625 \r\nQ 45.015625 31 40.078125 35.4375 \r\nQ 35.15625 39.890625 26.703125 39.890625 \r\nQ 22.75 39.890625 18.8125 39.015625 \r\nQ 14.890625 38.140625 10.796875 36.28125 \r\nz\r\n\" id=\"DejaVuSans-53\"/>\r\n       </defs>\r\n       <use xlink:href=\"#DejaVuSans-48\"/>\r\n       <use x=\"63.623047\" xlink:href=\"#DejaVuSans-46\"/>\r\n       <use x=\"95.410156\" xlink:href=\"#DejaVuSans-53\"/>\r\n      </g>\r\n     </g>\r\n    </g>\r\n    <g id=\"ytick_3\">\r\n     <g id=\"line2d_9\">\r\n      <g>\r\n       <use style=\"stroke:#000000;stroke-width:0.8;\" x=\"30.103125\" xlink:href=\"#m7167fa3670\" y=\"158.012635\"/>\r\n      </g>\r\n     </g>\r\n     <g id=\"text_9\">\r\n      <!-- 1.0 -->\r\n      <g transform=\"translate(7.2 161.811854)scale(0.1 -0.1)\">\r\n       <use xlink:href=\"#DejaVuSans-49\"/>\r\n       <use x=\"63.623047\" xlink:href=\"#DejaVuSans-46\"/>\r\n       <use x=\"95.410156\" xlink:href=\"#DejaVuSans-48\"/>\r\n      </g>\r\n     </g>\r\n    </g>\r\n    <g id=\"ytick_4\">\r\n     <g id=\"line2d_10\">\r\n      <g>\r\n       <use style=\"stroke:#000000;stroke-width:0.8;\" x=\"30.103125\" xlink:href=\"#m7167fa3670\" y=\"128.609952\"/>\r\n      </g>\r\n     </g>\r\n     <g id=\"text_10\">\r\n      <!-- 1.5 -->\r\n      <g transform=\"translate(7.2 132.40917)scale(0.1 -0.1)\">\r\n       <use xlink:href=\"#DejaVuSans-49\"/>\r\n       <use x=\"63.623047\" xlink:href=\"#DejaVuSans-46\"/>\r\n       <use x=\"95.410156\" xlink:href=\"#DejaVuSans-53\"/>\r\n      </g>\r\n     </g>\r\n    </g>\r\n    <g id=\"ytick_5\">\r\n     <g id=\"line2d_11\">\r\n      <g>\r\n       <use style=\"stroke:#000000;stroke-width:0.8;\" x=\"30.103125\" xlink:href=\"#m7167fa3670\" y=\"99.207268\"/>\r\n      </g>\r\n     </g>\r\n     <g id=\"text_11\">\r\n      <!-- 2.0 -->\r\n      <g transform=\"translate(7.2 103.006487)scale(0.1 -0.1)\">\r\n       <use xlink:href=\"#DejaVuSans-50\"/>\r\n       <use x=\"63.623047\" xlink:href=\"#DejaVuSans-46\"/>\r\n       <use x=\"95.410156\" xlink:href=\"#DejaVuSans-48\"/>\r\n      </g>\r\n     </g>\r\n    </g>\r\n    <g id=\"ytick_6\">\r\n     <g id=\"line2d_12\">\r\n      <g>\r\n       <use style=\"stroke:#000000;stroke-width:0.8;\" x=\"30.103125\" xlink:href=\"#m7167fa3670\" y=\"69.804585\"/>\r\n      </g>\r\n     </g>\r\n     <g id=\"text_12\">\r\n      <!-- 2.5 -->\r\n      <g transform=\"translate(7.2 73.603804)scale(0.1 -0.1)\">\r\n       <use xlink:href=\"#DejaVuSans-50\"/>\r\n       <use x=\"63.623047\" xlink:href=\"#DejaVuSans-46\"/>\r\n       <use x=\"95.410156\" xlink:href=\"#DejaVuSans-53\"/>\r\n      </g>\r\n     </g>\r\n    </g>\r\n    <g id=\"ytick_7\">\r\n     <g id=\"line2d_13\">\r\n      <g>\r\n       <use style=\"stroke:#000000;stroke-width:0.8;\" x=\"30.103125\" xlink:href=\"#m7167fa3670\" y=\"40.401902\"/>\r\n      </g>\r\n     </g>\r\n     <g id=\"text_13\">\r\n      <!-- 3.0 -->\r\n      <g transform=\"translate(7.2 44.201121)scale(0.1 -0.1)\">\r\n       <defs>\r\n        <path d=\"M 40.578125 39.3125 \r\nQ 47.65625 37.796875 51.625 33 \r\nQ 55.609375 28.21875 55.609375 21.1875 \r\nQ 55.609375 10.40625 48.1875 4.484375 \r\nQ 40.765625 -1.421875 27.09375 -1.421875 \r\nQ 22.515625 -1.421875 17.65625 -0.515625 \r\nQ 12.796875 0.390625 7.625 2.203125 \r\nL 7.625 11.71875 \r\nQ 11.71875 9.328125 16.59375 8.109375 \r\nQ 21.484375 6.890625 26.8125 6.890625 \r\nQ 36.078125 6.890625 40.9375 10.546875 \r\nQ 45.796875 14.203125 45.796875 21.1875 \r\nQ 45.796875 27.640625 41.28125 31.265625 \r\nQ 36.765625 34.90625 28.71875 34.90625 \r\nL 20.21875 34.90625 \r\nL 20.21875 43.015625 \r\nL 29.109375 43.015625 \r\nQ 36.375 43.015625 40.234375 45.921875 \r\nQ 44.09375 48.828125 44.09375 54.296875 \r\nQ 44.09375 59.90625 40.109375 62.90625 \r\nQ 36.140625 65.921875 28.71875 65.921875 \r\nQ 24.65625 65.921875 20.015625 65.03125 \r\nQ 15.375 64.15625 9.8125 62.3125 \r\nL 9.8125 71.09375 \r\nQ 15.4375 72.65625 20.34375 73.4375 \r\nQ 25.25 74.21875 29.59375 74.21875 \r\nQ 40.828125 74.21875 47.359375 69.109375 \r\nQ 53.90625 64.015625 53.90625 55.328125 \r\nQ 53.90625 49.265625 50.4375 45.09375 \r\nQ 46.96875 40.921875 40.578125 39.3125 \r\nz\r\n\" id=\"DejaVuSans-51\"/>\r\n       </defs>\r\n       <use xlink:href=\"#DejaVuSans-51\"/>\r\n       <use x=\"63.623047\" xlink:href=\"#DejaVuSans-46\"/>\r\n       <use x=\"95.410156\" xlink:href=\"#DejaVuSans-48\"/>\r\n      </g>\r\n     </g>\r\n    </g>\r\n    <g id=\"ytick_8\">\r\n     <g id=\"line2d_14\">\r\n      <g>\r\n       <use style=\"stroke:#000000;stroke-width:0.8;\" x=\"30.103125\" xlink:href=\"#m7167fa3670\" y=\"10.999219\"/>\r\n      </g>\r\n     </g>\r\n     <g id=\"text_14\">\r\n      <!-- 3.5 -->\r\n      <g transform=\"translate(7.2 14.798437)scale(0.1 -0.1)\">\r\n       <use xlink:href=\"#DejaVuSans-51\"/>\r\n       <use x=\"63.623047\" xlink:href=\"#DejaVuSans-46\"/>\r\n       <use x=\"95.410156\" xlink:href=\"#DejaVuSans-53\"/>\r\n      </g>\r\n     </g>\r\n    </g>\r\n   </g>\r\n   <g id=\"line2d_15\">\r\n    <path clip-path=\"url(#pcbaedbb03f)\" d=\"M 45.321307 205.993493 \r\nL 48.395687 206.563765 \r\nL 51.470067 206.937453 \r\nL 54.544447 207.208407 \r\nL 57.618827 207.156214 \r\nL 60.693208 208.035437 \r\nL 63.767588 207.208192 \r\nL 66.841968 206.909047 \r\nL 69.916348 207.664954 \r\nL 72.990728 209.393287 \r\nL 76.065108 210.66547 \r\nL 79.139489 209.987893 \r\nL 82.213869 209.010873 \r\nL 85.288249 212.379879 \r\nL 88.362629 212.384096 \r\nL 91.437009 213.614296 \r\nL 94.511389 213.916328 \r\nL 97.58577 214.304638 \r\nL 100.66015 213.722959 \r\nL 103.73453 214.647234 \r\nL 106.80891 214.970755 \r\nL 109.88329 214.871028 \r\nL 112.95767 215.1427 \r\nL 116.032051 215.050474 \r\nL 119.106431 215.258502 \r\nL 122.180811 215.22303 \r\nL 125.255191 215.126198 \r\nL 128.329571 215.254842 \r\nL 131.403951 214.991667 \r\nL 134.478332 215.382727 \r\nL 137.552712 215.396247 \r\nL 140.627092 215.371249 \r\nL 143.701472 215.502711 \r\nL 146.775852 215.346747 \r\nL 149.850232 215.533236 \r\nL 152.924613 215.476784 \r\nL 155.998993 215.560473 \r\nL 159.073373 215.562474 \r\nL 162.147753 215.616064 \r\nL 165.222133 215.566748 \r\nL 168.296513 215.693548 \r\nL 171.370894 215.692205 \r\nL 174.445274 215.737465 \r\nL 177.519654 215.794784 \r\nL 180.594034 215.833973 \r\nL 183.668414 215.815043 \r\nL 186.742794 215.887936 \r\nL 189.817175 215.669839 \r\nL 192.891555 215.402872 \r\nL 195.965935 215.845905 \r\nL 199.040315 215.923587 \r\nL 202.114695 215.871654 \r\nL 205.189075 215.560004 \r\nL 208.263456 215.131768 \r\nL 211.337836 215.124805 \r\nL 214.412216 215.351893 \r\nL 217.486596 215.810439 \r\nL 220.560976 215.925115 \r\nL 223.635356 216.187131 \r\nL 226.709737 216.041235 \r\nL 229.784117 216.178633 \r\nL 232.858497 216.169132 \r\nL 235.932877 216.183181 \r\nL 239.007257 216.138714 \r\nL 242.081637 216.139531 \r\nL 245.156018 216.235834 \r\nL 248.230398 216.273029 \r\nL 251.304778 216.329658 \r\nL 254.379158 216.370536 \r\nL 257.453538 216.403783 \r\nL 260.527918 216.425243 \r\nL 263.602299 216.469114 \r\nL 266.676679 216.477056 \r\nL 269.751059 216.503974 \r\nL 272.825439 216.544705 \r\nL 275.899819 216.604304 \r\nL 278.974199 216.57782 \r\nL 282.04858 216.607744 \r\nL 285.12296 216.615033 \r\nL 288.19734 216.61812 \r\nL 291.27172 216.610547 \r\nL 294.3461 216.652971 \r\nL 297.42048 216.655189 \r\nL 300.494861 216.655636 \r\nL 303.569241 216.660287 \r\nL 306.643621 216.661616 \r\nL 309.718001 216.65049 \r\nL 312.792381 216.658824 \r\nL 315.866761 216.65163 \r\nL 318.941142 216.680663 \r\nL 322.015522 216.657703 \r\nL 325.089902 216.658577 \r\nL 328.164282 216.705183 \r\nL 331.238662 216.687644 \r\nL 334.313042 216.696997 \r\nL 337.387423 216.696076 \r\nL 340.461803 216.691896 \r\nL 343.536183 216.712811 \r\nL 346.610563 216.698065 \r\nL 349.684943 216.686666 \r\n\" style=\"fill:none;stroke:#1f77b4;stroke-linecap:square;stroke-width:1.5;\"/>\r\n   </g>\r\n   <g id=\"line2d_16\">\r\n    <path clip-path=\"url(#pcbaedbb03f)\" d=\"M 45.321307 151.464689 \r\nL 48.395687 147.812357 \r\nL 51.470067 137.869313 \r\nL 54.544447 143.181114 \r\nL 57.618827 140.551012 \r\nL 60.693208 138.940533 \r\nL 63.767588 129.076061 \r\nL 66.841968 117.379767 \r\nL 69.916348 118.575238 \r\nL 72.990728 124.926631 \r\nL 76.065108 115.260704 \r\nL 79.139489 99.657822 \r\nL 82.213869 117.291573 \r\nL 85.288249 116.083764 \r\nL 88.362629 103.991622 \r\nL 91.437009 110.997827 \r\nL 94.511389 98.583993 \r\nL 97.58577 100.579216 \r\nL 100.66015 94.098135 \r\nL 103.73453 98.577373 \r\nL 106.80891 99.397402 \r\nL 109.88329 97.241936 \r\nL 112.95767 84.070673 \r\nL 116.032051 91.580099 \r\nL 119.106431 91.149047 \r\nL 122.180811 86.763607 \r\nL 125.255191 86.73327 \r\nL 128.329571 84.223706 \r\nL 131.403951 63.153679 \r\nL 134.478332 70.415588 \r\nL 137.552712 77.486989 \r\nL 140.627092 62.981612 \r\nL 143.701472 62.52215 \r\nL 146.775852 62.604174 \r\nL 149.850232 61.798033 \r\nL 152.924613 60.948067 \r\nL 155.998993 71.406749 \r\nL 159.073373 19.043885 \r\nL 162.147753 61.320534 \r\nL 165.222133 60.229974 \r\nL 168.296513 56.68668 \r\nL 171.370894 60.832758 \r\nL 174.445274 69.198807 \r\nL 177.519654 68.769592 \r\nL 180.594034 71.396995 \r\nL 183.668414 71.627476 \r\nL 186.742794 69.208356 \r\nL 189.817175 62.275664 \r\nL 192.891555 72.992564 \r\nL 195.965935 69.253531 \r\nL 199.040315 21.185935 \r\nL 202.114695 31.017326 \r\nL 205.189075 91.678377 \r\nL 208.263456 35.261323 \r\nL 211.337836 67.020662 \r\nL 214.412216 80.184507 \r\nL 217.486596 64.480799 \r\nL 220.560976 78.61849 \r\nL 223.635356 39.354899 \r\nL 226.709737 72.799973 \r\nL 229.784117 51.997203 \r\nL 232.858497 48.065378 \r\nL 235.932877 24.002308 \r\nL 239.007257 49.160509 \r\nL 242.081637 56.631659 \r\nL 245.156018 67.29312 \r\nL 248.230398 34.62071 \r\nL 251.304778 55.58391 \r\nL 254.379158 62.527307 \r\nL 257.453538 38.821823 \r\nL 260.527918 21.217758 \r\nL 263.602299 48.53844 \r\nL 266.676679 36.598436 \r\nL 269.751059 34.026772 \r\nL 272.825439 54.827042 \r\nL 275.899819 52.545782 \r\nL 278.974199 42.442504 \r\nL 282.04858 59.026447 \r\nL 285.12296 58.502758 \r\nL 288.19734 45.023952 \r\nL 291.27172 46.903069 \r\nL 294.3461 30.87662 \r\nL 297.42048 40.106297 \r\nL 300.494861 25.475975 \r\nL 303.569241 30.965456 \r\nL 306.643621 46.951793 \r\nL 309.718001 62.590622 \r\nL 312.792381 44.921062 \r\nL 315.866761 45.299783 \r\nL 318.941142 44.835755 \r\nL 322.015522 45.099457 \r\nL 325.089902 50.153579 \r\nL 328.164282 33.900792 \r\nL 331.238662 32.039946 \r\nL 334.313042 35.975788 \r\nL 337.387423 35.49879 \r\nL 340.461803 25.345979 \r\nL 343.536183 35.164712 \r\nL 346.610563 25.00761 \r\nL 349.684943 38.394111 \r\n\" style=\"fill:none;stroke:#ff7f0e;stroke-linecap:square;stroke-width:1.5;\"/>\r\n   </g>\r\n   <g id=\"line2d_17\">\r\n    <path clip-path=\"url(#pcbaedbb03f)\" d=\"M 45.321307 216.716613 \r\nL 48.395687 216.526509 \r\nL 51.470067 216.526509 \r\nL 54.544447 216.526509 \r\nL 57.618827 216.526509 \r\nL 60.693208 216.526509 \r\nL 63.767588 216.526509 \r\nL 66.841968 215.170437 \r\nL 69.916348 216.526509 \r\nL 72.990728 215.170437 \r\nL 76.065108 214.663494 \r\nL 79.139489 215.107069 \r\nL 82.213869 214.067836 \r\nL 85.288249 216.526509 \r\nL 88.362629 215.170437 \r\nL 91.437009 214.43537 \r\nL 94.511389 215.170437 \r\nL 97.58577 213.573567 \r\nL 100.66015 214.270614 \r\nL 103.73453 213.649609 \r\nL 106.80891 214.359329 \r\nL 109.88329 213.320096 \r\nL 112.95767 215.170437 \r\nL 116.032051 213.307422 \r\nL 119.106431 214.43537 \r\nL 122.180811 213.066624 \r\nL 125.255191 213.852386 \r\nL 128.329571 214.498738 \r\nL 131.403951 212.939889 \r\nL 134.478332 212.939889 \r\nL 137.552712 212.749785 \r\nL 140.627092 212.572355 \r\nL 143.701472 213.180686 \r\nL 146.775852 213.180686 \r\nL 149.850232 212.876521 \r\nL 152.924613 213.180686 \r\nL 155.998993 213.396137 \r\nL 159.073373 214.270614 \r\nL 162.147753 212.737112 \r\nL 165.222133 212.876521 \r\nL 168.296513 213.028604 \r\nL 171.370894 213.066624 \r\nL 174.445274 212.559682 \r\nL 177.519654 212.787806 \r\nL 180.594034 213.091971 \r\nL 183.668414 213.408811 \r\nL 186.742794 214.08051 \r\nL 189.817175 215.170437 \r\nL 192.891555 212.762459 \r\nL 195.965935 213.560894 \r\nL 199.040315 215.385888 \r\nL 202.114695 214.878945 \r\nL 205.189075 213.915754 \r\nL 208.263456 214.004469 \r\nL 211.337836 213.865059 \r\nL 214.412216 213.827039 \r\nL 217.486596 213.839712 \r\nL 220.560976 212.572355 \r\nL 223.635356 214.042489 \r\nL 226.709737 213.90308 \r\nL 229.784117 213.231381 \r\nL 232.858497 212.597702 \r\nL 235.932877 215.183111 \r\nL 239.007257 214.067836 \r\nL 242.081637 213.180686 \r\nL 245.156018 213.332769 \r\nL 248.230398 212.952562 \r\nL 251.304778 212.648397 \r\nL 254.379158 212.813153 \r\nL 257.453538 213.066624 \r\nL 260.527918 213.244054 \r\nL 263.602299 212.8385 \r\nL 266.676679 214.739536 \r\nL 269.751059 214.739536 \r\nL 272.825439 213.155339 \r\nL 275.899819 213.206034 \r\nL 278.974199 213.079298 \r\nL 282.04858 213.560894 \r\nL 285.12296 213.19336 \r\nL 288.19734 213.586241 \r\nL 291.27172 213.19336 \r\nL 294.3461 213.763671 \r\nL 297.42048 213.522873 \r\nL 300.494861 213.294749 \r\nL 303.569241 214.283287 \r\nL 306.643621 213.294749 \r\nL 309.718001 213.053951 \r\nL 312.792381 213.839712 \r\nL 315.866761 213.598914 \r\nL 318.941142 213.522873 \r\nL 322.015522 213.611588 \r\nL 325.089902 213.028604 \r\nL 328.164282 214.08051 \r\nL 331.238662 215.436582 \r\nL 334.313042 214.08051 \r\nL 337.387423 215.436582 \r\nL 340.461803 213.256728 \r\nL 343.536183 213.611588 \r\nL 346.610563 213.687629 \r\nL 349.684943 213.332769 \r\n\" style=\"fill:none;stroke:#2ca02c;stroke-linecap:square;stroke-width:1.5;\"/>\r\n   </g>\r\n   <g id=\"line2d_18\">\r\n    <path clip-path=\"url(#pcbaedbb03f)\" d=\"M 45.321307 216.436614 \r\nL 48.395687 215.549377 \r\nL 51.470067 215.549377 \r\nL 54.544447 215.549377 \r\nL 57.618827 215.549377 \r\nL 60.693208 215.549377 \r\nL 63.767588 215.549377 \r\nL 66.841968 202.834349 \r\nL 69.916348 215.549377 \r\nL 72.990728 202.834349 \r\nL 76.065108 200.086912 \r\nL 79.139489 202.700024 \r\nL 82.213869 197.961834 \r\nL 85.288249 215.549377 \r\nL 88.362629 202.834349 \r\nL 91.437009 200.007714 \r\nL 94.511389 202.834349 \r\nL 97.58577 196.908234 \r\nL 100.66015 199.369673 \r\nL 103.73453 196.036428 \r\nL 106.80891 199.592112 \r\nL 109.88329 195.03768 \r\nL 112.95767 202.834349 \r\nL 116.032051 195.256547 \r\nL 119.106431 200.007714 \r\nL 122.180811 194.147272 \r\nL 125.255191 196.85951 \r\nL 128.329571 199.149139 \r\nL 131.403951 193.220085 \r\nL 134.478332 193.220085 \r\nL 137.552712 192.736848 \r\nL 140.627092 192.120547 \r\nL 143.701472 194.282682 \r\nL 146.775852 194.282682 \r\nL 149.850232 193.08576 \r\nL 152.924613 194.282682 \r\nL 155.998993 194.907229 \r\nL 159.073373 198.077734 \r\nL 162.147753 192.629436 \r\nL 165.222133 193.119641 \r\nL 168.296513 193.86534 \r\nL 171.370894 193.480951 \r\nL 174.445274 192.221905 \r\nL 177.519654 192.882657 \r\nL 180.594034 193.719261 \r\nL 183.668414 194.961923 \r\nL 186.742794 197.576101 \r\nL 189.817175 202.834349 \r\nL 192.891555 193.124519 \r\nL 195.965935 195.65378 \r\nL 199.040315 210.064096 \r\nL 202.114695 204.814987 \r\nL 205.189075 196.947599 \r\nL 208.263456 197.433618 \r\nL 211.337836 196.814945 \r\nL 214.412216 197.569171 \r\nL 217.486596 197.42759 \r\nL 220.560976 192.215649 \r\nL 223.635356 197.305368 \r\nL 226.709737 196.849045 \r\nL 229.784117 194.431222 \r\nL 232.858497 192.337263 \r\nL 235.932877 208.935097 \r\nL 239.007257 197.819158 \r\nL 242.081637 194.282682 \r\nL 245.156018 194.814892 \r\nL 248.230398 193.543342 \r\nL 251.304778 192.44651 \r\nL 254.379158 193.181708 \r\nL 257.453538 193.57162 \r\nL 260.527918 194.153884 \r\nL 263.602299 192.794418 \r\nL 266.676679 206.321986 \r\nL 269.751059 206.321986 \r\nL 272.825439 193.853587 \r\nL 275.899819 194.121547 \r\nL 278.974199 193.743908 \r\nL 282.04858 195.425408 \r\nL 285.12296 194.276426 \r\nL 288.19734 195.639417 \r\nL 291.27172 193.956887 \r\nL 294.3461 196.22168 \r\nL 297.42048 195.396103 \r\nL 300.494861 194.30991 \r\nL 303.569241 201.49958 \r\nL 306.643621 194.30991 \r\nL 309.718001 193.604931 \r\nL 312.792381 200.018366 \r\nL 315.866761 195.372093 \r\nL 318.941142 195.397154 \r\nL 322.015522 195.4421 \r\nL 325.089902 193.571096 \r\nL 328.164282 200.897626 \r\nL 331.238662 210.291129 \r\nL 334.313042 200.897626 \r\nL 337.387423 210.291129 \r\nL 340.461803 194.358155 \r\nL 343.536183 195.69535 \r\nL 346.610563 195.888349 \r\nL 349.684943 194.532823 \r\n\" style=\"fill:none;stroke:#d62728;stroke-linecap:square;stroke-width:1.5;\"/>\r\n   </g>\r\n   <g id=\"patch_3\">\r\n    <path d=\"M 30.103125 226.600249 \r\nL 30.103125 9.160249 \r\n\" style=\"fill:none;stroke:#000000;stroke-linecap:square;stroke-linejoin:miter;stroke-width:0.8;\"/>\r\n   </g>\r\n   <g id=\"patch_4\">\r\n    <path d=\"M 364.903125 226.600249 \r\nL 364.903125 9.160249 \r\n\" style=\"fill:none;stroke:#000000;stroke-linecap:square;stroke-linejoin:miter;stroke-width:0.8;\"/>\r\n   </g>\r\n   <g id=\"patch_5\">\r\n    <path d=\"M 30.103125 226.600249 \r\nL 364.903125 226.600249 \r\n\" style=\"fill:none;stroke:#000000;stroke-linecap:square;stroke-linejoin:miter;stroke-width:0.8;\"/>\r\n   </g>\r\n   <g id=\"patch_6\">\r\n    <path d=\"M 30.103125 9.160249 \r\nL 364.903125 9.160249 \r\n\" style=\"fill:none;stroke:#000000;stroke-linecap:square;stroke-linejoin:miter;stroke-width:0.8;\"/>\r\n   </g>\r\n  </g>\r\n </g>\r\n <defs>\r\n  <clipPath id=\"pcbaedbb03f\">\r\n   <rect height=\"217.44\" width=\"334.8\" x=\"30.103125\" y=\"9.160249\"/>\r\n  </clipPath>\r\n </defs>\r\n</svg>\r\n",
      "image/png": "[encoded data removed]"
     },
     "metadata": {
      "needs_background": "light"
     }
    }
   ],
   "source": [
    "for epoch in range(EPOCHS):\n",
    "    gc.collect()\n",
    "    start = time.time()\n",
    "    # enc_hidden = encoder.initialize_hidden_state()\n",
    "    total_loss = 0\n",
    "    total_batch_perplexity = 0\n",
    "    for (batch, (feat, targ)) in enumerate(train_dataset.take(STEPS_PER_EPOCH)):\n",
    "        batch_loss = train_step(feat, targ)#, enc_hidden)\n",
    "        batch_perplexity = tf.exp(batch_loss)\n",
    "\n",
    "        total_loss += batch_loss\n",
    "        total_batch_perplexity += batch_perplexity\n",
    "        if batch % 100 == 0:\n",
    "            print('Epoch {} Batch {} Loss {:.4f}'.format(epoch + 1,\n",
    "                                                            batch,\n",
    "                                                            batch_loss.numpy()), end=' ')\n",
    "            print('Perplexity {:.4f}'.format(batch_perplexity))\n",
    "    train_losses.append(batch_loss)\n",
    "    print('Validating')\n",
    "    _, losses_ce, rouge_recalls, rouge_precisions = predict_on_test(X_test[TASK_FEATURES], Y_test)\n",
    "    val_ce.append(losses_ce)\n",
    "    val_rr.append(rouge_recalls)\n",
    "    val_rp.append(rouge_precisions)\n",
    "    if (epoch + 1) % 5 == 0:\n",
    "        print('Saving..', end='')\n",
    "        checkpoint.step.assign_add(5)\n",
    "        manager.save()\n",
    "        print('saved')\n",
    "    print('Time taken for the epoch {} sec\\n'.format(time.time() - start))\n",
    "best_epoch = np.argmin(np.mean(val_ce, axis=1)) + 1\n",
    "print('The best epoch is {} with CE = {:.4f}, RR = {:.4f}, RP = {:.4f}'.format(best_epoch, np.mean(val_ce[best_epoch]), np.mean(val_rr[best_epoch]), np.mean(val_rp[best_epoch])))\n",
    "plt.plot(train_losses)\n",
    "plt.plot(np.mean(val_ce, axis=1))\n",
    "plt.plot(np.mean(val_rr, axis=1))\n",
    "plt.plot(np.mean(val_rp, axis=1))"
   ]
  },
  {
   "cell_type": "code",
   "execution_count": 142,
   "metadata": {},
   "outputs": [
    {
     "output_type": "execute_result",
     "data": {
      "text/plain": [
       "[<matplotlib.lines.Line2D at 0x28fab855340>]"
      ]
     },
     "metadata": {},
     "execution_count": 142
    },
    {
     "output_type": "display_data",
     "data": {
      "text/plain": "<Figure size 432x288 with 1 Axes>",
      "image/svg+xml": "<?xml version=\"1.0\" encoding=\"utf-8\" standalone=\"no\"?>\r\n<!DOCTYPE svg PUBLIC \"-//W3C//DTD SVG 1.1//EN\"\r\n  \"http://www.w3.org/Graphics/SVG/1.1/DTD/svg11.dtd\">\r\n<!-- Created with matplotlib (https://matplotlib.org/) -->\r\n<svg height=\"250.478529pt\" version=\"1.1\" viewBox=\"0 0 372.103125 250.478529\" width=\"372.103125pt\" xmlns=\"http://www.w3.org/2000/svg\" xmlns:xlink=\"http://www.w3.org/1999/xlink\">\r\n <metadata>\r\n  <rdf:RDF xmlns:cc=\"http://creativecommons.org/ns#\" xmlns:dc=\"http://purl.org/dc/elements/1.1/\" xmlns:rdf=\"http://www.w3.org/1999/02/22-rdf-syntax-ns#\">\r\n   <cc:Work>\r\n    <dc:type rdf:resource=\"http://purl.org/dc/dcmitype/StillImage\"/>\r\n    <dc:date>2021-06-11T12:45:57.434536</dc:date>\r\n    <dc:format>image/svg+xml</dc:format>\r\n    <dc:creator>\r\n     <cc:Agent>\r\n      <dc:title>Matplotlib v3.3.2, https://matplotlib.org/</dc:title>\r\n     </cc:Agent>\r\n    </dc:creator>\r\n   </cc:Work>\r\n  </rdf:RDF>\r\n </metadata>\r\n <defs>\r\n  <style type=\"text/css\">*{stroke-linecap:butt;stroke-linejoin:round;}</style>\r\n </defs>\r\n <g id=\"figure_1\">\r\n  <g id=\"patch_1\">\r\n   <path d=\"M 0 250.478529 \r\nL 372.103125 250.478529 \r\nL 372.103125 0 \r\nL 0 0 \r\nz\r\n\" style=\"fill:none;\"/>\r\n  </g>\r\n  <g id=\"axes_1\">\r\n   <g id=\"patch_2\">\r\n    <path d=\"M 30.103125 226.600404 \r\nL 364.903125 226.600404 \r\nL 364.903125 9.160404 \r\nL 30.103125 9.160404 \r\nz\r\n\" style=\"fill:#ffffff;\"/>\r\n   </g>\r\n   <g id=\"matplotlib.axis_1\">\r\n    <g id=\"xtick_1\">\r\n     <g id=\"line2d_1\">\r\n      <defs>\r\n       <path d=\"M 0 0 \r\nL 0 3.5 \r\n\" id=\"md838980847\" style=\"stroke:#000000;stroke-width:0.8;\"/>\r\n      </defs>\r\n      <g>\r\n       <use style=\"stroke:#000000;stroke-width:0.8;\" x=\"45.321307\" xlink:href=\"#md838980847\" y=\"226.600404\"/>\r\n      </g>\r\n     </g>\r\n     <g id=\"text_1\">\r\n      <!-- 0 -->\r\n      <g transform=\"translate(42.140057 241.198841)scale(0.1 -0.1)\">\r\n       <defs>\r\n        <path d=\"M 31.78125 66.40625 \r\nQ 24.171875 66.40625 20.328125 58.90625 \r\nQ 16.5 51.421875 16.5 36.375 \r\nQ 16.5 21.390625 20.328125 13.890625 \r\nQ 24.171875 6.390625 31.78125 6.390625 \r\nQ 39.453125 6.390625 43.28125 13.890625 \r\nQ 47.125 21.390625 47.125 36.375 \r\nQ 47.125 51.421875 43.28125 58.90625 \r\nQ 39.453125 66.40625 31.78125 66.40625 \r\nz\r\nM 31.78125 74.21875 \r\nQ 44.046875 74.21875 50.515625 64.515625 \r\nQ 56.984375 54.828125 56.984375 36.375 \r\nQ 56.984375 17.96875 50.515625 8.265625 \r\nQ 44.046875 -1.421875 31.78125 -1.421875 \r\nQ 19.53125 -1.421875 13.0625 8.265625 \r\nQ 6.59375 17.96875 6.59375 36.375 \r\nQ 6.59375 54.828125 13.0625 64.515625 \r\nQ 19.53125 74.21875 31.78125 74.21875 \r\nz\r\n\" id=\"DejaVuSans-48\"/>\r\n       </defs>\r\n       <use xlink:href=\"#DejaVuSans-48\"/>\r\n      </g>\r\n     </g>\r\n    </g>\r\n    <g id=\"xtick_2\">\r\n     <g id=\"line2d_2\">\r\n      <g>\r\n       <use style=\"stroke:#000000;stroke-width:0.8;\" x=\"106.80891\" xlink:href=\"#md838980847\" y=\"226.600404\"/>\r\n      </g>\r\n     </g>\r\n     <g id=\"text_2\">\r\n      <!-- 20 -->\r\n      <g transform=\"translate(100.44641 241.198841)scale(0.1 -0.1)\">\r\n       <defs>\r\n        <path d=\"M 19.1875 8.296875 \r\nL 53.609375 8.296875 \r\nL 53.609375 0 \r\nL 7.328125 0 \r\nL 7.328125 8.296875 \r\nQ 12.9375 14.109375 22.625 23.890625 \r\nQ 32.328125 33.6875 34.8125 36.53125 \r\nQ 39.546875 41.84375 41.421875 45.53125 \r\nQ 43.3125 49.21875 43.3125 52.78125 \r\nQ 43.3125 58.59375 39.234375 62.25 \r\nQ 35.15625 65.921875 28.609375 65.921875 \r\nQ 23.96875 65.921875 18.8125 64.3125 \r\nQ 13.671875 62.703125 7.8125 59.421875 \r\nL 7.8125 69.390625 \r\nQ 13.765625 71.78125 18.9375 73 \r\nQ 24.125 74.21875 28.421875 74.21875 \r\nQ 39.75 74.21875 46.484375 68.546875 \r\nQ 53.21875 62.890625 53.21875 53.421875 \r\nQ 53.21875 48.921875 51.53125 44.890625 \r\nQ 49.859375 40.875 45.40625 35.40625 \r\nQ 44.1875 33.984375 37.640625 27.21875 \r\nQ 31.109375 20.453125 19.1875 8.296875 \r\nz\r\n\" id=\"DejaVuSans-50\"/>\r\n       </defs>\r\n       <use xlink:href=\"#DejaVuSans-50\"/>\r\n       <use x=\"63.623047\" xlink:href=\"#DejaVuSans-48\"/>\r\n      </g>\r\n     </g>\r\n    </g>\r\n    <g id=\"xtick_3\">\r\n     <g id=\"line2d_3\">\r\n      <g>\r\n       <use style=\"stroke:#000000;stroke-width:0.8;\" x=\"168.296513\" xlink:href=\"#md838980847\" y=\"226.600404\"/>\r\n      </g>\r\n     </g>\r\n     <g id=\"text_3\">\r\n      <!-- 40 -->\r\n      <g transform=\"translate(161.934013 241.198841)scale(0.1 -0.1)\">\r\n       <defs>\r\n        <path d=\"M 37.796875 64.3125 \r\nL 12.890625 25.390625 \r\nL 37.796875 25.390625 \r\nz\r\nM 35.203125 72.90625 \r\nL 47.609375 72.90625 \r\nL 47.609375 25.390625 \r\nL 58.015625 25.390625 \r\nL 58.015625 17.1875 \r\nL 47.609375 17.1875 \r\nL 47.609375 0 \r\nL 37.796875 0 \r\nL 37.796875 17.1875 \r\nL 4.890625 17.1875 \r\nL 4.890625 26.703125 \r\nz\r\n\" id=\"DejaVuSans-52\"/>\r\n       </defs>\r\n       <use xlink:href=\"#DejaVuSans-52\"/>\r\n       <use x=\"63.623047\" xlink:href=\"#DejaVuSans-48\"/>\r\n      </g>\r\n     </g>\r\n    </g>\r\n    <g id=\"xtick_4\">\r\n     <g id=\"line2d_4\">\r\n      <g>\r\n       <use style=\"stroke:#000000;stroke-width:0.8;\" x=\"229.784117\" xlink:href=\"#md838980847\" y=\"226.600404\"/>\r\n      </g>\r\n     </g>\r\n     <g id=\"text_4\">\r\n      <!-- 60 -->\r\n      <g transform=\"translate(223.421617 241.198841)scale(0.1 -0.1)\">\r\n       <defs>\r\n        <path d=\"M 33.015625 40.375 \r\nQ 26.375 40.375 22.484375 35.828125 \r\nQ 18.609375 31.296875 18.609375 23.390625 \r\nQ 18.609375 15.53125 22.484375 10.953125 \r\nQ 26.375 6.390625 33.015625 6.390625 \r\nQ 39.65625 6.390625 43.53125 10.953125 \r\nQ 47.40625 15.53125 47.40625 23.390625 \r\nQ 47.40625 31.296875 43.53125 35.828125 \r\nQ 39.65625 40.375 33.015625 40.375 \r\nz\r\nM 52.59375 71.296875 \r\nL 52.59375 62.3125 \r\nQ 48.875 64.0625 45.09375 64.984375 \r\nQ 41.3125 65.921875 37.59375 65.921875 \r\nQ 27.828125 65.921875 22.671875 59.328125 \r\nQ 17.53125 52.734375 16.796875 39.40625 \r\nQ 19.671875 43.65625 24.015625 45.921875 \r\nQ 28.375 48.1875 33.59375 48.1875 \r\nQ 44.578125 48.1875 50.953125 41.515625 \r\nQ 57.328125 34.859375 57.328125 23.390625 \r\nQ 57.328125 12.15625 50.6875 5.359375 \r\nQ 44.046875 -1.421875 33.015625 -1.421875 \r\nQ 20.359375 -1.421875 13.671875 8.265625 \r\nQ 6.984375 17.96875 6.984375 36.375 \r\nQ 6.984375 53.65625 15.1875 63.9375 \r\nQ 23.390625 74.21875 37.203125 74.21875 \r\nQ 40.921875 74.21875 44.703125 73.484375 \r\nQ 48.484375 72.75 52.59375 71.296875 \r\nz\r\n\" id=\"DejaVuSans-54\"/>\r\n       </defs>\r\n       <use xlink:href=\"#DejaVuSans-54\"/>\r\n       <use x=\"63.623047\" xlink:href=\"#DejaVuSans-48\"/>\r\n      </g>\r\n     </g>\r\n    </g>\r\n    <g id=\"xtick_5\">\r\n     <g id=\"line2d_5\">\r\n      <g>\r\n       <use style=\"stroke:#000000;stroke-width:0.8;\" x=\"291.27172\" xlink:href=\"#md838980847\" y=\"226.600404\"/>\r\n      </g>\r\n     </g>\r\n     <g id=\"text_5\">\r\n      <!-- 80 -->\r\n      <g transform=\"translate(284.90922 241.198841)scale(0.1 -0.1)\">\r\n       <defs>\r\n        <path d=\"M 31.78125 34.625 \r\nQ 24.75 34.625 20.71875 30.859375 \r\nQ 16.703125 27.09375 16.703125 20.515625 \r\nQ 16.703125 13.921875 20.71875 10.15625 \r\nQ 24.75 6.390625 31.78125 6.390625 \r\nQ 38.8125 6.390625 42.859375 10.171875 \r\nQ 46.921875 13.96875 46.921875 20.515625 \r\nQ 46.921875 27.09375 42.890625 30.859375 \r\nQ 38.875 34.625 31.78125 34.625 \r\nz\r\nM 21.921875 38.8125 \r\nQ 15.578125 40.375 12.03125 44.71875 \r\nQ 8.5 49.078125 8.5 55.328125 \r\nQ 8.5 64.0625 14.71875 69.140625 \r\nQ 20.953125 74.21875 31.78125 74.21875 \r\nQ 42.671875 74.21875 48.875 69.140625 \r\nQ 55.078125 64.0625 55.078125 55.328125 \r\nQ 55.078125 49.078125 51.53125 44.71875 \r\nQ 48 40.375 41.703125 38.8125 \r\nQ 48.828125 37.15625 52.796875 32.3125 \r\nQ 56.78125 27.484375 56.78125 20.515625 \r\nQ 56.78125 9.90625 50.3125 4.234375 \r\nQ 43.84375 -1.421875 31.78125 -1.421875 \r\nQ 19.734375 -1.421875 13.25 4.234375 \r\nQ 6.78125 9.90625 6.78125 20.515625 \r\nQ 6.78125 27.484375 10.78125 32.3125 \r\nQ 14.796875 37.15625 21.921875 38.8125 \r\nz\r\nM 18.3125 54.390625 \r\nQ 18.3125 48.734375 21.84375 45.5625 \r\nQ 25.390625 42.390625 31.78125 42.390625 \r\nQ 38.140625 42.390625 41.71875 45.5625 \r\nQ 45.3125 48.734375 45.3125 54.390625 \r\nQ 45.3125 60.0625 41.71875 63.234375 \r\nQ 38.140625 66.40625 31.78125 66.40625 \r\nQ 25.390625 66.40625 21.84375 63.234375 \r\nQ 18.3125 60.0625 18.3125 54.390625 \r\nz\r\n\" id=\"DejaVuSans-56\"/>\r\n       </defs>\r\n       <use xlink:href=\"#DejaVuSans-56\"/>\r\n       <use x=\"63.623047\" xlink:href=\"#DejaVuSans-48\"/>\r\n      </g>\r\n     </g>\r\n    </g>\r\n    <g id=\"xtick_6\">\r\n     <g id=\"line2d_6\">\r\n      <g>\r\n       <use style=\"stroke:#000000;stroke-width:0.8;\" x=\"352.759323\" xlink:href=\"#md838980847\" y=\"226.600404\"/>\r\n      </g>\r\n     </g>\r\n     <g id=\"text_6\">\r\n      <!-- 100 -->\r\n      <g transform=\"translate(343.215573 241.198841)scale(0.1 -0.1)\">\r\n       <defs>\r\n        <path d=\"M 12.40625 8.296875 \r\nL 28.515625 8.296875 \r\nL 28.515625 63.921875 \r\nL 10.984375 60.40625 \r\nL 10.984375 69.390625 \r\nL 28.421875 72.90625 \r\nL 38.28125 72.90625 \r\nL 38.28125 8.296875 \r\nL 54.390625 8.296875 \r\nL 54.390625 0 \r\nL 12.40625 0 \r\nz\r\n\" id=\"DejaVuSans-49\"/>\r\n       </defs>\r\n       <use xlink:href=\"#DejaVuSans-49\"/>\r\n       <use x=\"63.623047\" xlink:href=\"#DejaVuSans-48\"/>\r\n       <use x=\"127.246094\" xlink:href=\"#DejaVuSans-48\"/>\r\n      </g>\r\n     </g>\r\n    </g>\r\n   </g>\r\n   <g id=\"matplotlib.axis_2\">\r\n    <g id=\"ytick_1\">\r\n     <g id=\"line2d_7\">\r\n      <defs>\r\n       <path d=\"M 0 0 \r\nL -3.5 0 \r\n\" id=\"md2ecdf2d44\" style=\"stroke:#000000;stroke-width:0.8;\"/>\r\n      </defs>\r\n      <g>\r\n       <use style=\"stroke:#000000;stroke-width:0.8;\" x=\"30.103125\" xlink:href=\"#md2ecdf2d44\" y=\"216.82196\"/>\r\n      </g>\r\n     </g>\r\n     <g id=\"text_7\">\r\n      <!-- 0.0 -->\r\n      <g transform=\"translate(7.2 220.621179)scale(0.1 -0.1)\">\r\n       <defs>\r\n        <path d=\"M 10.6875 12.40625 \r\nL 21 12.40625 \r\nL 21 0 \r\nL 10.6875 0 \r\nz\r\n\" id=\"DejaVuSans-46\"/>\r\n       </defs>\r\n       <use xlink:href=\"#DejaVuSans-48\"/>\r\n       <use x=\"63.623047\" xlink:href=\"#DejaVuSans-46\"/>\r\n       <use x=\"95.410156\" xlink:href=\"#DejaVuSans-48\"/>\r\n      </g>\r\n     </g>\r\n    </g>\r\n    <g id=\"ytick_2\">\r\n     <g id=\"line2d_8\">\r\n      <g>\r\n       <use style=\"stroke:#000000;stroke-width:0.8;\" x=\"30.103125\" xlink:href=\"#md2ecdf2d44\" y=\"187.418711\"/>\r\n      </g>\r\n     </g>\r\n     <g id=\"text_8\">\r\n      <!-- 0.5 -->\r\n      <g transform=\"translate(7.2 191.21793)scale(0.1 -0.1)\">\r\n       <defs>\r\n        <path d=\"M 10.796875 72.90625 \r\nL 49.515625 72.90625 \r\nL 49.515625 64.59375 \r\nL 19.828125 64.59375 \r\nL 19.828125 46.734375 \r\nQ 21.96875 47.46875 24.109375 47.828125 \r\nQ 26.265625 48.1875 28.421875 48.1875 \r\nQ 40.625 48.1875 47.75 41.5 \r\nQ 54.890625 34.8125 54.890625 23.390625 \r\nQ 54.890625 11.625 47.5625 5.09375 \r\nQ 40.234375 -1.421875 26.90625 -1.421875 \r\nQ 22.3125 -1.421875 17.546875 -0.640625 \r\nQ 12.796875 0.140625 7.71875 1.703125 \r\nL 7.71875 11.625 \r\nQ 12.109375 9.234375 16.796875 8.0625 \r\nQ 21.484375 6.890625 26.703125 6.890625 \r\nQ 35.15625 6.890625 40.078125 11.328125 \r\nQ 45.015625 15.765625 45.015625 23.390625 \r\nQ 45.015625 31 40.078125 35.4375 \r\nQ 35.15625 39.890625 26.703125 39.890625 \r\nQ 22.75 39.890625 18.8125 39.015625 \r\nQ 14.890625 38.140625 10.796875 36.28125 \r\nz\r\n\" id=\"DejaVuSans-53\"/>\r\n       </defs>\r\n       <use xlink:href=\"#DejaVuSans-48\"/>\r\n       <use x=\"63.623047\" xlink:href=\"#DejaVuSans-46\"/>\r\n       <use x=\"95.410156\" xlink:href=\"#DejaVuSans-53\"/>\r\n      </g>\r\n     </g>\r\n    </g>\r\n    <g id=\"ytick_3\">\r\n     <g id=\"line2d_9\">\r\n      <g>\r\n       <use style=\"stroke:#000000;stroke-width:0.8;\" x=\"30.103125\" xlink:href=\"#md2ecdf2d44\" y=\"158.015462\"/>\r\n      </g>\r\n     </g>\r\n     <g id=\"text_9\">\r\n      <!-- 1.0 -->\r\n      <g transform=\"translate(7.2 161.814681)scale(0.1 -0.1)\">\r\n       <use xlink:href=\"#DejaVuSans-49\"/>\r\n       <use x=\"63.623047\" xlink:href=\"#DejaVuSans-46\"/>\r\n       <use x=\"95.410156\" xlink:href=\"#DejaVuSans-48\"/>\r\n      </g>\r\n     </g>\r\n    </g>\r\n    <g id=\"ytick_4\">\r\n     <g id=\"line2d_10\">\r\n      <g>\r\n       <use style=\"stroke:#000000;stroke-width:0.8;\" x=\"30.103125\" xlink:href=\"#md2ecdf2d44\" y=\"128.612214\"/>\r\n      </g>\r\n     </g>\r\n     <g id=\"text_10\">\r\n      <!-- 1.5 -->\r\n      <g transform=\"translate(7.2 132.411432)scale(0.1 -0.1)\">\r\n       <use xlink:href=\"#DejaVuSans-49\"/>\r\n       <use x=\"63.623047\" xlink:href=\"#DejaVuSans-46\"/>\r\n       <use x=\"95.410156\" xlink:href=\"#DejaVuSans-53\"/>\r\n      </g>\r\n     </g>\r\n    </g>\r\n    <g id=\"ytick_5\">\r\n     <g id=\"line2d_11\">\r\n      <g>\r\n       <use style=\"stroke:#000000;stroke-width:0.8;\" x=\"30.103125\" xlink:href=\"#md2ecdf2d44\" y=\"99.208965\"/>\r\n      </g>\r\n     </g>\r\n     <g id=\"text_11\">\r\n      <!-- 2.0 -->\r\n      <g transform=\"translate(7.2 103.008184)scale(0.1 -0.1)\">\r\n       <use xlink:href=\"#DejaVuSans-50\"/>\r\n       <use x=\"63.623047\" xlink:href=\"#DejaVuSans-46\"/>\r\n       <use x=\"95.410156\" xlink:href=\"#DejaVuSans-48\"/>\r\n      </g>\r\n     </g>\r\n    </g>\r\n    <g id=\"ytick_6\">\r\n     <g id=\"line2d_12\">\r\n      <g>\r\n       <use style=\"stroke:#000000;stroke-width:0.8;\" x=\"30.103125\" xlink:href=\"#md2ecdf2d44\" y=\"69.805716\"/>\r\n      </g>\r\n     </g>\r\n     <g id=\"text_12\">\r\n      <!-- 2.5 -->\r\n      <g transform=\"translate(7.2 73.604935)scale(0.1 -0.1)\">\r\n       <use xlink:href=\"#DejaVuSans-50\"/>\r\n       <use x=\"63.623047\" xlink:href=\"#DejaVuSans-46\"/>\r\n       <use x=\"95.410156\" xlink:href=\"#DejaVuSans-53\"/>\r\n      </g>\r\n     </g>\r\n    </g>\r\n    <g id=\"ytick_7\">\r\n     <g id=\"line2d_13\">\r\n      <g>\r\n       <use style=\"stroke:#000000;stroke-width:0.8;\" x=\"30.103125\" xlink:href=\"#md2ecdf2d44\" y=\"40.402467\"/>\r\n      </g>\r\n     </g>\r\n     <g id=\"text_13\">\r\n      <!-- 3.0 -->\r\n      <g transform=\"translate(7.2 44.201686)scale(0.1 -0.1)\">\r\n       <defs>\r\n        <path d=\"M 40.578125 39.3125 \r\nQ 47.65625 37.796875 51.625 33 \r\nQ 55.609375 28.21875 55.609375 21.1875 \r\nQ 55.609375 10.40625 48.1875 4.484375 \r\nQ 40.765625 -1.421875 27.09375 -1.421875 \r\nQ 22.515625 -1.421875 17.65625 -0.515625 \r\nQ 12.796875 0.390625 7.625 2.203125 \r\nL 7.625 11.71875 \r\nQ 11.71875 9.328125 16.59375 8.109375 \r\nQ 21.484375 6.890625 26.8125 6.890625 \r\nQ 36.078125 6.890625 40.9375 10.546875 \r\nQ 45.796875 14.203125 45.796875 21.1875 \r\nQ 45.796875 27.640625 41.28125 31.265625 \r\nQ 36.765625 34.90625 28.71875 34.90625 \r\nL 20.21875 34.90625 \r\nL 20.21875 43.015625 \r\nL 29.109375 43.015625 \r\nQ 36.375 43.015625 40.234375 45.921875 \r\nQ 44.09375 48.828125 44.09375 54.296875 \r\nQ 44.09375 59.90625 40.109375 62.90625 \r\nQ 36.140625 65.921875 28.71875 65.921875 \r\nQ 24.65625 65.921875 20.015625 65.03125 \r\nQ 15.375 64.15625 9.8125 62.3125 \r\nL 9.8125 71.09375 \r\nQ 15.4375 72.65625 20.34375 73.4375 \r\nQ 25.25 74.21875 29.59375 74.21875 \r\nQ 40.828125 74.21875 47.359375 69.109375 \r\nQ 53.90625 64.015625 53.90625 55.328125 \r\nQ 53.90625 49.265625 50.4375 45.09375 \r\nQ 46.96875 40.921875 40.578125 39.3125 \r\nz\r\n\" id=\"DejaVuSans-51\"/>\r\n       </defs>\r\n       <use xlink:href=\"#DejaVuSans-51\"/>\r\n       <use x=\"63.623047\" xlink:href=\"#DejaVuSans-46\"/>\r\n       <use x=\"95.410156\" xlink:href=\"#DejaVuSans-48\"/>\r\n      </g>\r\n     </g>\r\n    </g>\r\n    <g id=\"ytick_8\">\r\n     <g id=\"line2d_14\">\r\n      <g>\r\n       <use style=\"stroke:#000000;stroke-width:0.8;\" x=\"30.103125\" xlink:href=\"#md2ecdf2d44\" y=\"10.999219\"/>\r\n      </g>\r\n     </g>\r\n     <g id=\"text_14\">\r\n      <!-- 3.5 -->\r\n      <g transform=\"translate(7.2 14.798437)scale(0.1 -0.1)\">\r\n       <use xlink:href=\"#DejaVuSans-51\"/>\r\n       <use x=\"63.623047\" xlink:href=\"#DejaVuSans-46\"/>\r\n       <use x=\"95.410156\" xlink:href=\"#DejaVuSans-53\"/>\r\n      </g>\r\n     </g>\r\n    </g>\r\n   </g>\r\n   <g id=\"line2d_15\">\r\n    <path clip-path=\"url(#p5400fc62a3)\" d=\"M 45.321307 205.997243 \r\nL 48.395687 206.567526 \r\nL 51.470067 206.941221 \r\nL 54.544447 207.212181 \r\nL 57.618827 207.159987 \r\nL 60.693208 208.039227 \r\nL 63.767588 207.211965 \r\nL 66.841968 206.912815 \r\nL 69.916348 207.668737 \r\nL 72.990728 209.397102 \r\nL 76.065108 210.66931 \r\nL 79.139489 209.991721 \r\nL 82.213869 209.014682 \r\nL 85.288249 212.383752 \r\nL 88.362629 212.387969 \r\nL 91.437009 213.618193 \r\nL 94.511389 213.920231 \r\nL 97.58577 214.308548 \r\nL 100.66015 213.726858 \r\nL 103.73453 214.651151 \r\nL 106.80891 214.974678 \r\nL 109.88329 214.87495 \r\nL 112.95767 215.146627 \r\nL 116.032051 215.054398 \r\nL 119.106431 215.262431 \r\nL 122.180811 215.226958 \r\nL 125.255191 215.130124 \r\nL 128.329571 215.258771 \r\nL 131.403951 214.99559 \r\nL 134.478332 215.386658 \r\nL 137.552712 215.400178 \r\nL 140.627092 215.375179 \r\nL 143.701472 215.506645 \r\nL 146.775852 215.350677 \r\nL 149.850232 215.53717 \r\nL 152.924613 215.480717 \r\nL 155.998993 215.564408 \r\nL 159.073373 215.566408 \r\nL 162.147753 215.619999 \r\nL 165.222133 215.570682 \r\nL 168.296513 215.697485 \r\nL 171.370894 215.696142 \r\nL 174.445274 215.741403 \r\nL 177.519654 215.798723 \r\nL 180.594034 215.837913 \r\nL 183.668414 215.818982 \r\nL 186.742794 215.891877 \r\nL 189.817175 215.673775 \r\nL 192.891555 215.406803 \r\nL 195.965935 215.849845 \r\nL 199.040315 215.927528 \r\nL 202.114695 215.875595 \r\nL 205.189075 215.563939 \r\nL 208.263456 215.135694 \r\nL 211.337836 215.128731 \r\nL 214.412216 215.355824 \r\nL 217.486596 215.814378 \r\nL 220.560976 215.929057 \r\nL 223.635356 216.191078 \r\nL 226.709737 216.045178 \r\nL 229.784117 216.18258 \r\nL 232.858497 216.173079 \r\nL 235.932877 216.187127 \r\nL 239.007257 216.14266 \r\nL 242.081637 216.143477 \r\nL 245.156018 216.239781 \r\nL 248.230398 216.276977 \r\nL 251.304778 216.333607 \r\nL 254.379158 216.374486 \r\nL 257.453538 216.407733 \r\nL 260.527918 216.429194 \r\nL 263.602299 216.473066 \r\nL 266.676679 216.481008 \r\nL 269.751059 216.507927 \r\nL 272.825439 216.548658 \r\nL 275.899819 216.608258 \r\nL 278.974199 216.581774 \r\nL 282.04858 216.611699 \r\nL 285.12296 216.618987 \r\nL 288.19734 216.622075 \r\nL 291.27172 216.614502 \r\nL 294.3461 216.656926 \r\nL 297.42048 216.659144 \r\nL 300.494861 216.659591 \r\nL 303.569241 216.664243 \r\nL 306.643621 216.665572 \r\nL 309.718001 216.654446 \r\nL 312.792381 216.66278 \r\nL 315.866761 216.655586 \r\nL 318.941142 216.684619 \r\nL 322.015522 216.661658 \r\nL 325.089902 216.662533 \r\nL 328.164282 216.70914 \r\nL 331.238662 216.6916 \r\nL 334.313042 216.700953 \r\nL 337.387423 216.700033 \r\nL 340.461803 216.695852 \r\nL 343.536183 216.716767 \r\nL 346.610563 216.702021 \r\nL 349.684943 216.690622 \r\n\" style=\"fill:none;stroke:#1f77b4;stroke-linecap:square;stroke-width:1.5;\"/>\r\n   </g>\r\n   <g id=\"line2d_16\">\r\n    <path clip-path=\"url(#p5400fc62a3)\" d=\"M 45.321307 151.467391 \r\nL 48.395687 147.814988 \r\nL 51.470067 137.871753 \r\nL 54.544447 143.183657 \r\nL 57.618827 140.553504 \r\nL 60.693208 138.942993 \r\nL 63.767588 129.078332 \r\nL 66.841968 117.381813 \r\nL 69.916348 118.577307 \r\nL 72.990728 124.928822 \r\nL 76.065108 115.26271 \r\nL 79.139489 99.659527 \r\nL 82.213869 117.293617 \r\nL 85.288249 116.085785 \r\nL 88.362629 103.993411 \r\nL 91.437009 110.99975 \r\nL 94.511389 98.585677 \r\nL 97.58577 100.580939 \r\nL 100.66015 94.099734 \r\nL 103.73453 98.579058 \r\nL 106.80891 99.399102 \r\nL 109.88329 97.243595 \r\nL 112.95767 84.072079 \r\nL 116.032051 91.581648 \r\nL 119.106431 91.150589 \r\nL 122.180811 86.765065 \r\nL 125.255191 86.734727 \r\nL 128.329571 84.225114 \r\nL 131.403951 63.154682 \r\nL 134.478332 70.416731 \r\nL 137.552712 77.488268 \r\nL 140.627092 62.982612 \r\nL 143.701472 62.523141 \r\nL 146.775852 62.605167 \r\nL 149.850232 61.79901 \r\nL 152.924613 60.949028 \r\nL 155.998993 71.407911 \r\nL 159.073373 19.04404 \r\nL 162.147753 61.321502 \r\nL 165.222133 60.230921 \r\nL 168.296513 56.687559 \r\nL 171.370894 60.833716 \r\nL 174.445274 69.199926 \r\nL 177.519654 68.770703 \r\nL 180.594034 71.398157 \r\nL 183.668414 71.628642 \r\nL 186.742794 69.209476 \r\nL 189.817175 62.27665 \r\nL 192.891555 72.993757 \r\nL 195.965935 69.254651 \r\nL 199.040315 21.186131 \r\nL 202.114695 31.017711 \r\nL 205.189075 91.679929 \r\nL 208.263456 35.26179 \r\nL 211.337836 67.021739 \r\nL 214.412216 80.185838 \r\nL 217.486596 64.481828 \r\nL 220.560976 78.61979 \r\nL 223.635356 39.355444 \r\nL 226.709737 72.801162 \r\nL 229.784117 51.997991 \r\nL 232.858497 48.066091 \r\nL 235.932877 24.002558 \r\nL 239.007257 49.161243 \r\nL 242.081637 56.632537 \r\nL 245.156018 67.294202 \r\nL 248.230398 34.621164 \r\nL 251.304778 55.584768 \r\nL 254.379158 62.528298 \r\nL 257.453538 38.822358 \r\nL 260.527918 21.217955 \r\nL 263.602299 48.539162 \r\nL 266.676679 36.598929 \r\nL 269.751059 34.027214 \r\nL 272.825439 54.827885 \r\nL 275.899819 52.546582 \r\nL 278.974199 42.443109 \r\nL 282.04858 59.02737 \r\nL 285.12296 58.503671 \r\nL 288.19734 45.024607 \r\nL 291.27172 46.903759 \r\nL 294.3461 30.877002 \r\nL 297.42048 40.106857 \r\nL 300.494861 25.476254 \r\nL 303.569241 30.96584 \r\nL 306.643621 46.952485 \r\nL 309.718001 62.591614 \r\nL 312.792381 44.921714 \r\nL 315.866761 45.300443 \r\nL 318.941142 44.836406 \r\nL 322.015522 45.100113 \r\nL 325.089902 50.154332 \r\nL 328.164282 33.901232 \r\nL 331.238662 32.040351 \r\nL 334.313042 35.976268 \r\nL 337.387423 35.499261 \r\nL 340.461803 25.346255 \r\nL 343.536183 35.165176 \r\nL 346.610563 25.007879 \r\nL 349.684943 38.394638 \r\n\" style=\"fill:none;stroke:#ff7f0e;stroke-linecap:square;stroke-width:1.5;\"/>\r\n   </g>\r\n   <g id=\"patch_3\">\r\n    <path d=\"M 30.103125 226.600404 \r\nL 30.103125 9.160404 \r\n\" style=\"fill:none;stroke:#000000;stroke-linecap:square;stroke-linejoin:miter;stroke-width:0.8;\"/>\r\n   </g>\r\n   <g id=\"patch_4\">\r\n    <path d=\"M 364.903125 226.600404 \r\nL 364.903125 9.160404 \r\n\" style=\"fill:none;stroke:#000000;stroke-linecap:square;stroke-linejoin:miter;stroke-width:0.8;\"/>\r\n   </g>\r\n   <g id=\"patch_5\">\r\n    <path d=\"M 30.103125 226.600404 \r\nL 364.903125 226.600404 \r\n\" style=\"fill:none;stroke:#000000;stroke-linecap:square;stroke-linejoin:miter;stroke-width:0.8;\"/>\r\n   </g>\r\n   <g id=\"patch_6\">\r\n    <path d=\"M 30.103125 9.160404 \r\nL 364.903125 9.160404 \r\n\" style=\"fill:none;stroke:#000000;stroke-linecap:square;stroke-linejoin:miter;stroke-width:0.8;\"/>\r\n   </g>\r\n  </g>\r\n </g>\r\n <defs>\r\n  <clipPath id=\"p5400fc62a3\">\r\n   <rect height=\"217.44\" width=\"334.8\" x=\"30.103125\" y=\"9.160404\"/>\r\n  </clipPath>\r\n </defs>\r\n</svg>\r\n",
      "image/png": "[encoded data removed]"
     },
     "metadata": {
      "needs_background": "light"
     }
    }
   ],
   "source": [
    "plt.plot(train_losses)\n",
    "plt.plot(np.mean(val_ce, axis=1))"
   ]
  },
  {
   "cell_type": "code",
   "execution_count": 143,
   "metadata": {},
   "outputs": [
    {
     "output_type": "execute_result",
     "data": {
      "text/plain": [
       "0.4199863995505681"
      ]
     },
     "metadata": {},
     "execution_count": 143
    }
   ],
   "source": [
    "np.max(np.mean(val_rp, axis=1))"
   ]
  },
  {
   "cell_type": "code",
   "execution_count": 144,
   "metadata": {},
   "outputs": [
    {
     "output_type": "stream",
     "name": "stdout",
     "text": [
      "42\n31\n"
     ]
    },
    {
     "output_type": "display_data",
     "data": {
      "text/plain": "<Figure size 432x288 with 1 Axes>",
      "image/svg+xml": "<?xml version=\"1.0\" encoding=\"utf-8\" standalone=\"no\"?>\r\n<!DOCTYPE svg PUBLIC \"-//W3C//DTD SVG 1.1//EN\"\r\n  \"http://www.w3.org/Graphics/SVG/1.1/DTD/svg11.dtd\">\r\n<!-- Created with matplotlib (https://matplotlib.org/) -->\r\n<svg height=\"248.518125pt\" version=\"1.1\" viewBox=\"0 0 372.103125 248.518125\" width=\"372.103125pt\" xmlns=\"http://www.w3.org/2000/svg\" xmlns:xlink=\"http://www.w3.org/1999/xlink\">\r\n <metadata>\r\n  <rdf:RDF xmlns:cc=\"http://creativecommons.org/ns#\" xmlns:dc=\"http://purl.org/dc/elements/1.1/\" xmlns:rdf=\"http://www.w3.org/1999/02/22-rdf-syntax-ns#\">\r\n   <cc:Work>\r\n    <dc:type rdf:resource=\"http://purl.org/dc/dcmitype/StillImage\"/>\r\n    <dc:date>2021-06-11T12:45:57.713262</dc:date>\r\n    <dc:format>image/svg+xml</dc:format>\r\n    <dc:creator>\r\n     <cc:Agent>\r\n      <dc:title>Matplotlib v3.3.2, https://matplotlib.org/</dc:title>\r\n     </cc:Agent>\r\n    </dc:creator>\r\n   </cc:Work>\r\n  </rdf:RDF>\r\n </metadata>\r\n <defs>\r\n  <style type=\"text/css\">*{stroke-linecap:butt;stroke-linejoin:round;}</style>\r\n </defs>\r\n <g id=\"figure_1\">\r\n  <g id=\"patch_1\">\r\n   <path d=\"M 0 248.518125 \r\nL 372.103125 248.518125 \r\nL 372.103125 0 \r\nL 0 0 \r\nz\r\n\" style=\"fill:none;\"/>\r\n  </g>\r\n  <g id=\"axes_1\">\r\n   <g id=\"patch_2\">\r\n    <path d=\"M 30.103125 224.64 \r\nL 364.903125 224.64 \r\nL 364.903125 7.2 \r\nL 30.103125 7.2 \r\nz\r\n\" style=\"fill:#ffffff;\"/>\r\n   </g>\r\n   <g id=\"matplotlib.axis_1\">\r\n    <g id=\"xtick_1\">\r\n     <g id=\"line2d_1\">\r\n      <defs>\r\n       <path d=\"M 0 0 \r\nL 0 3.5 \r\n\" id=\"m225a5c44af\" style=\"stroke:#000000;stroke-width:0.8;\"/>\r\n      </defs>\r\n      <g>\r\n       <use style=\"stroke:#000000;stroke-width:0.8;\" x=\"45.321307\" xlink:href=\"#m225a5c44af\" y=\"224.64\"/>\r\n      </g>\r\n     </g>\r\n     <g id=\"text_1\">\r\n      <!-- 0 -->\r\n      <g transform=\"translate(42.140057 239.238437)scale(0.1 -0.1)\">\r\n       <defs>\r\n        <path d=\"M 31.78125 66.40625 \r\nQ 24.171875 66.40625 20.328125 58.90625 \r\nQ 16.5 51.421875 16.5 36.375 \r\nQ 16.5 21.390625 20.328125 13.890625 \r\nQ 24.171875 6.390625 31.78125 6.390625 \r\nQ 39.453125 6.390625 43.28125 13.890625 \r\nQ 47.125 21.390625 47.125 36.375 \r\nQ 47.125 51.421875 43.28125 58.90625 \r\nQ 39.453125 66.40625 31.78125 66.40625 \r\nz\r\nM 31.78125 74.21875 \r\nQ 44.046875 74.21875 50.515625 64.515625 \r\nQ 56.984375 54.828125 56.984375 36.375 \r\nQ 56.984375 17.96875 50.515625 8.265625 \r\nQ 44.046875 -1.421875 31.78125 -1.421875 \r\nQ 19.53125 -1.421875 13.0625 8.265625 \r\nQ 6.59375 17.96875 6.59375 36.375 \r\nQ 6.59375 54.828125 13.0625 64.515625 \r\nQ 19.53125 74.21875 31.78125 74.21875 \r\nz\r\n\" id=\"DejaVuSans-48\"/>\r\n       </defs>\r\n       <use xlink:href=\"#DejaVuSans-48\"/>\r\n      </g>\r\n     </g>\r\n    </g>\r\n    <g id=\"xtick_2\">\r\n     <g id=\"line2d_2\">\r\n      <g>\r\n       <use style=\"stroke:#000000;stroke-width:0.8;\" x=\"106.80891\" xlink:href=\"#m225a5c44af\" y=\"224.64\"/>\r\n      </g>\r\n     </g>\r\n     <g id=\"text_2\">\r\n      <!-- 20 -->\r\n      <g transform=\"translate(100.44641 239.238437)scale(0.1 -0.1)\">\r\n       <defs>\r\n        <path d=\"M 19.1875 8.296875 \r\nL 53.609375 8.296875 \r\nL 53.609375 0 \r\nL 7.328125 0 \r\nL 7.328125 8.296875 \r\nQ 12.9375 14.109375 22.625 23.890625 \r\nQ 32.328125 33.6875 34.8125 36.53125 \r\nQ 39.546875 41.84375 41.421875 45.53125 \r\nQ 43.3125 49.21875 43.3125 52.78125 \r\nQ 43.3125 58.59375 39.234375 62.25 \r\nQ 35.15625 65.921875 28.609375 65.921875 \r\nQ 23.96875 65.921875 18.8125 64.3125 \r\nQ 13.671875 62.703125 7.8125 59.421875 \r\nL 7.8125 69.390625 \r\nQ 13.765625 71.78125 18.9375 73 \r\nQ 24.125 74.21875 28.421875 74.21875 \r\nQ 39.75 74.21875 46.484375 68.546875 \r\nQ 53.21875 62.890625 53.21875 53.421875 \r\nQ 53.21875 48.921875 51.53125 44.890625 \r\nQ 49.859375 40.875 45.40625 35.40625 \r\nQ 44.1875 33.984375 37.640625 27.21875 \r\nQ 31.109375 20.453125 19.1875 8.296875 \r\nz\r\n\" id=\"DejaVuSans-50\"/>\r\n       </defs>\r\n       <use xlink:href=\"#DejaVuSans-50\"/>\r\n       <use x=\"63.623047\" xlink:href=\"#DejaVuSans-48\"/>\r\n      </g>\r\n     </g>\r\n    </g>\r\n    <g id=\"xtick_3\">\r\n     <g id=\"line2d_3\">\r\n      <g>\r\n       <use style=\"stroke:#000000;stroke-width:0.8;\" x=\"168.296513\" xlink:href=\"#m225a5c44af\" y=\"224.64\"/>\r\n      </g>\r\n     </g>\r\n     <g id=\"text_3\">\r\n      <!-- 40 -->\r\n      <g transform=\"translate(161.934013 239.238437)scale(0.1 -0.1)\">\r\n       <defs>\r\n        <path d=\"M 37.796875 64.3125 \r\nL 12.890625 25.390625 \r\nL 37.796875 25.390625 \r\nz\r\nM 35.203125 72.90625 \r\nL 47.609375 72.90625 \r\nL 47.609375 25.390625 \r\nL 58.015625 25.390625 \r\nL 58.015625 17.1875 \r\nL 47.609375 17.1875 \r\nL 47.609375 0 \r\nL 37.796875 0 \r\nL 37.796875 17.1875 \r\nL 4.890625 17.1875 \r\nL 4.890625 26.703125 \r\nz\r\n\" id=\"DejaVuSans-52\"/>\r\n       </defs>\r\n       <use xlink:href=\"#DejaVuSans-52\"/>\r\n       <use x=\"63.623047\" xlink:href=\"#DejaVuSans-48\"/>\r\n      </g>\r\n     </g>\r\n    </g>\r\n    <g id=\"xtick_4\">\r\n     <g id=\"line2d_4\">\r\n      <g>\r\n       <use style=\"stroke:#000000;stroke-width:0.8;\" x=\"229.784117\" xlink:href=\"#m225a5c44af\" y=\"224.64\"/>\r\n      </g>\r\n     </g>\r\n     <g id=\"text_4\">\r\n      <!-- 60 -->\r\n      <g transform=\"translate(223.421617 239.238437)scale(0.1 -0.1)\">\r\n       <defs>\r\n        <path d=\"M 33.015625 40.375 \r\nQ 26.375 40.375 22.484375 35.828125 \r\nQ 18.609375 31.296875 18.609375 23.390625 \r\nQ 18.609375 15.53125 22.484375 10.953125 \r\nQ 26.375 6.390625 33.015625 6.390625 \r\nQ 39.65625 6.390625 43.53125 10.953125 \r\nQ 47.40625 15.53125 47.40625 23.390625 \r\nQ 47.40625 31.296875 43.53125 35.828125 \r\nQ 39.65625 40.375 33.015625 40.375 \r\nz\r\nM 52.59375 71.296875 \r\nL 52.59375 62.3125 \r\nQ 48.875 64.0625 45.09375 64.984375 \r\nQ 41.3125 65.921875 37.59375 65.921875 \r\nQ 27.828125 65.921875 22.671875 59.328125 \r\nQ 17.53125 52.734375 16.796875 39.40625 \r\nQ 19.671875 43.65625 24.015625 45.921875 \r\nQ 28.375 48.1875 33.59375 48.1875 \r\nQ 44.578125 48.1875 50.953125 41.515625 \r\nQ 57.328125 34.859375 57.328125 23.390625 \r\nQ 57.328125 12.15625 50.6875 5.359375 \r\nQ 44.046875 -1.421875 33.015625 -1.421875 \r\nQ 20.359375 -1.421875 13.671875 8.265625 \r\nQ 6.984375 17.96875 6.984375 36.375 \r\nQ 6.984375 53.65625 15.1875 63.9375 \r\nQ 23.390625 74.21875 37.203125 74.21875 \r\nQ 40.921875 74.21875 44.703125 73.484375 \r\nQ 48.484375 72.75 52.59375 71.296875 \r\nz\r\n\" id=\"DejaVuSans-54\"/>\r\n       </defs>\r\n       <use xlink:href=\"#DejaVuSans-54\"/>\r\n       <use x=\"63.623047\" xlink:href=\"#DejaVuSans-48\"/>\r\n      </g>\r\n     </g>\r\n    </g>\r\n    <g id=\"xtick_5\">\r\n     <g id=\"line2d_5\">\r\n      <g>\r\n       <use style=\"stroke:#000000;stroke-width:0.8;\" x=\"291.27172\" xlink:href=\"#m225a5c44af\" y=\"224.64\"/>\r\n      </g>\r\n     </g>\r\n     <g id=\"text_5\">\r\n      <!-- 80 -->\r\n      <g transform=\"translate(284.90922 239.238437)scale(0.1 -0.1)\">\r\n       <defs>\r\n        <path d=\"M 31.78125 34.625 \r\nQ 24.75 34.625 20.71875 30.859375 \r\nQ 16.703125 27.09375 16.703125 20.515625 \r\nQ 16.703125 13.921875 20.71875 10.15625 \r\nQ 24.75 6.390625 31.78125 6.390625 \r\nQ 38.8125 6.390625 42.859375 10.171875 \r\nQ 46.921875 13.96875 46.921875 20.515625 \r\nQ 46.921875 27.09375 42.890625 30.859375 \r\nQ 38.875 34.625 31.78125 34.625 \r\nz\r\nM 21.921875 38.8125 \r\nQ 15.578125 40.375 12.03125 44.71875 \r\nQ 8.5 49.078125 8.5 55.328125 \r\nQ 8.5 64.0625 14.71875 69.140625 \r\nQ 20.953125 74.21875 31.78125 74.21875 \r\nQ 42.671875 74.21875 48.875 69.140625 \r\nQ 55.078125 64.0625 55.078125 55.328125 \r\nQ 55.078125 49.078125 51.53125 44.71875 \r\nQ 48 40.375 41.703125 38.8125 \r\nQ 48.828125 37.15625 52.796875 32.3125 \r\nQ 56.78125 27.484375 56.78125 20.515625 \r\nQ 56.78125 9.90625 50.3125 4.234375 \r\nQ 43.84375 -1.421875 31.78125 -1.421875 \r\nQ 19.734375 -1.421875 13.25 4.234375 \r\nQ 6.78125 9.90625 6.78125 20.515625 \r\nQ 6.78125 27.484375 10.78125 32.3125 \r\nQ 14.796875 37.15625 21.921875 38.8125 \r\nz\r\nM 18.3125 54.390625 \r\nQ 18.3125 48.734375 21.84375 45.5625 \r\nQ 25.390625 42.390625 31.78125 42.390625 \r\nQ 38.140625 42.390625 41.71875 45.5625 \r\nQ 45.3125 48.734375 45.3125 54.390625 \r\nQ 45.3125 60.0625 41.71875 63.234375 \r\nQ 38.140625 66.40625 31.78125 66.40625 \r\nQ 25.390625 66.40625 21.84375 63.234375 \r\nQ 18.3125 60.0625 18.3125 54.390625 \r\nz\r\n\" id=\"DejaVuSans-56\"/>\r\n       </defs>\r\n       <use xlink:href=\"#DejaVuSans-56\"/>\r\n       <use x=\"63.623047\" xlink:href=\"#DejaVuSans-48\"/>\r\n      </g>\r\n     </g>\r\n    </g>\r\n    <g id=\"xtick_6\">\r\n     <g id=\"line2d_6\">\r\n      <g>\r\n       <use style=\"stroke:#000000;stroke-width:0.8;\" x=\"352.759323\" xlink:href=\"#m225a5c44af\" y=\"224.64\"/>\r\n      </g>\r\n     </g>\r\n     <g id=\"text_6\">\r\n      <!-- 100 -->\r\n      <g transform=\"translate(343.215573 239.238437)scale(0.1 -0.1)\">\r\n       <defs>\r\n        <path d=\"M 12.40625 8.296875 \r\nL 28.515625 8.296875 \r\nL 28.515625 63.921875 \r\nL 10.984375 60.40625 \r\nL 10.984375 69.390625 \r\nL 28.421875 72.90625 \r\nL 38.28125 72.90625 \r\nL 38.28125 8.296875 \r\nL 54.390625 8.296875 \r\nL 54.390625 0 \r\nL 12.40625 0 \r\nz\r\n\" id=\"DejaVuSans-49\"/>\r\n       </defs>\r\n       <use xlink:href=\"#DejaVuSans-49\"/>\r\n       <use x=\"63.623047\" xlink:href=\"#DejaVuSans-48\"/>\r\n       <use x=\"127.246094\" xlink:href=\"#DejaVuSans-48\"/>\r\n      </g>\r\n     </g>\r\n    </g>\r\n   </g>\r\n   <g id=\"matplotlib.axis_2\">\r\n    <g id=\"ytick_1\">\r\n     <g id=\"line2d_7\">\r\n      <defs>\r\n       <path d=\"M 0 0 \r\nL -3.5 0 \r\n\" id=\"meb81cacde7\" style=\"stroke:#000000;stroke-width:0.8;\"/>\r\n      </defs>\r\n      <g>\r\n       <use style=\"stroke:#000000;stroke-width:0.8;\" x=\"30.103125\" xlink:href=\"#meb81cacde7\" y=\"215.571199\"/>\r\n      </g>\r\n     </g>\r\n     <g id=\"text_7\">\r\n      <!-- 0.0 -->\r\n      <g transform=\"translate(7.2 219.370418)scale(0.1 -0.1)\">\r\n       <defs>\r\n        <path d=\"M 10.6875 12.40625 \r\nL 21 12.40625 \r\nL 21 0 \r\nL 10.6875 0 \r\nz\r\n\" id=\"DejaVuSans-46\"/>\r\n       </defs>\r\n       <use xlink:href=\"#DejaVuSans-48\"/>\r\n       <use x=\"63.623047\" xlink:href=\"#DejaVuSans-46\"/>\r\n       <use x=\"95.410156\" xlink:href=\"#DejaVuSans-48\"/>\r\n      </g>\r\n     </g>\r\n    </g>\r\n    <g id=\"ytick_2\">\r\n     <g id=\"line2d_8\">\r\n      <g>\r\n       <use style=\"stroke:#000000;stroke-width:0.8;\" x=\"30.103125\" xlink:href=\"#meb81cacde7\" y=\"168.310725\"/>\r\n      </g>\r\n     </g>\r\n     <g id=\"text_8\">\r\n      <!-- 0.1 -->\r\n      <g transform=\"translate(7.2 172.109944)scale(0.1 -0.1)\">\r\n       <use xlink:href=\"#DejaVuSans-48\"/>\r\n       <use x=\"63.623047\" xlink:href=\"#DejaVuSans-46\"/>\r\n       <use x=\"95.410156\" xlink:href=\"#DejaVuSans-49\"/>\r\n      </g>\r\n     </g>\r\n    </g>\r\n    <g id=\"ytick_3\">\r\n     <g id=\"line2d_9\">\r\n      <g>\r\n       <use style=\"stroke:#000000;stroke-width:0.8;\" x=\"30.103125\" xlink:href=\"#meb81cacde7\" y=\"121.050251\"/>\r\n      </g>\r\n     </g>\r\n     <g id=\"text_9\">\r\n      <!-- 0.2 -->\r\n      <g transform=\"translate(7.2 124.84947)scale(0.1 -0.1)\">\r\n       <use xlink:href=\"#DejaVuSans-48\"/>\r\n       <use x=\"63.623047\" xlink:href=\"#DejaVuSans-46\"/>\r\n       <use x=\"95.410156\" xlink:href=\"#DejaVuSans-50\"/>\r\n      </g>\r\n     </g>\r\n    </g>\r\n    <g id=\"ytick_4\">\r\n     <g id=\"line2d_10\">\r\n      <g>\r\n       <use style=\"stroke:#000000;stroke-width:0.8;\" x=\"30.103125\" xlink:href=\"#meb81cacde7\" y=\"73.789777\"/>\r\n      </g>\r\n     </g>\r\n     <g id=\"text_10\">\r\n      <!-- 0.3 -->\r\n      <g transform=\"translate(7.2 77.588996)scale(0.1 -0.1)\">\r\n       <defs>\r\n        <path d=\"M 40.578125 39.3125 \r\nQ 47.65625 37.796875 51.625 33 \r\nQ 55.609375 28.21875 55.609375 21.1875 \r\nQ 55.609375 10.40625 48.1875 4.484375 \r\nQ 40.765625 -1.421875 27.09375 -1.421875 \r\nQ 22.515625 -1.421875 17.65625 -0.515625 \r\nQ 12.796875 0.390625 7.625 2.203125 \r\nL 7.625 11.71875 \r\nQ 11.71875 9.328125 16.59375 8.109375 \r\nQ 21.484375 6.890625 26.8125 6.890625 \r\nQ 36.078125 6.890625 40.9375 10.546875 \r\nQ 45.796875 14.203125 45.796875 21.1875 \r\nQ 45.796875 27.640625 41.28125 31.265625 \r\nQ 36.765625 34.90625 28.71875 34.90625 \r\nL 20.21875 34.90625 \r\nL 20.21875 43.015625 \r\nL 29.109375 43.015625 \r\nQ 36.375 43.015625 40.234375 45.921875 \r\nQ 44.09375 48.828125 44.09375 54.296875 \r\nQ 44.09375 59.90625 40.109375 62.90625 \r\nQ 36.140625 65.921875 28.71875 65.921875 \r\nQ 24.65625 65.921875 20.015625 65.03125 \r\nQ 15.375 64.15625 9.8125 62.3125 \r\nL 9.8125 71.09375 \r\nQ 15.4375 72.65625 20.34375 73.4375 \r\nQ 25.25 74.21875 29.59375 74.21875 \r\nQ 40.828125 74.21875 47.359375 69.109375 \r\nQ 53.90625 64.015625 53.90625 55.328125 \r\nQ 53.90625 49.265625 50.4375 45.09375 \r\nQ 46.96875 40.921875 40.578125 39.3125 \r\nz\r\n\" id=\"DejaVuSans-51\"/>\r\n       </defs>\r\n       <use xlink:href=\"#DejaVuSans-48\"/>\r\n       <use x=\"63.623047\" xlink:href=\"#DejaVuSans-46\"/>\r\n       <use x=\"95.410156\" xlink:href=\"#DejaVuSans-51\"/>\r\n      </g>\r\n     </g>\r\n    </g>\r\n    <g id=\"ytick_5\">\r\n     <g id=\"line2d_11\">\r\n      <g>\r\n       <use style=\"stroke:#000000;stroke-width:0.8;\" x=\"30.103125\" xlink:href=\"#meb81cacde7\" y=\"26.529304\"/>\r\n      </g>\r\n     </g>\r\n     <g id=\"text_11\">\r\n      <!-- 0.4 -->\r\n      <g transform=\"translate(7.2 30.328522)scale(0.1 -0.1)\">\r\n       <use xlink:href=\"#DejaVuSans-48\"/>\r\n       <use x=\"63.623047\" xlink:href=\"#DejaVuSans-46\"/>\r\n       <use x=\"95.410156\" xlink:href=\"#DejaVuSans-52\"/>\r\n      </g>\r\n     </g>\r\n    </g>\r\n   </g>\r\n   <g id=\"line2d_12\">\r\n    <path clip-path=\"url(#p2eca6bf23e)\" d=\"M 45.321307 214.756364 \r\nL 48.395687 213.228547 \r\nL 51.470067 213.228547 \r\nL 54.544447 213.228547 \r\nL 57.618827 213.228547 \r\nL 60.693208 213.228547 \r\nL 63.767588 213.228547 \r\nL 66.841968 202.330118 \r\nL 69.916348 213.228547 \r\nL 72.990728 202.330118 \r\nL 76.065108 198.25594 \r\nL 79.139489 201.820846 \r\nL 82.213869 193.468779 \r\nL 85.288249 213.228547 \r\nL 88.362629 202.330118 \r\nL 91.437009 196.422559 \r\nL 94.511389 202.330118 \r\nL 97.58577 189.496455 \r\nL 100.66015 195.098451 \r\nL 103.73453 190.107582 \r\nL 106.80891 195.811432 \r\nL 109.88329 187.459366 \r\nL 112.95767 202.330118 \r\nL 116.032051 187.357511 \r\nL 119.106431 196.422559 \r\nL 122.180811 185.422276 \r\nL 125.255191 191.737253 \r\nL 128.329571 196.931831 \r\nL 131.403951 184.403732 \r\nL 134.478332 184.403732 \r\nL 137.552712 182.875915 \r\nL 140.627092 181.449952 \r\nL 143.701472 186.338967 \r\nL 146.775852 186.338967 \r\nL 149.850232 183.894459 \r\nL 152.924613 186.338967 \r\nL 155.998993 188.070493 \r\nL 159.073373 195.098451 \r\nL 162.147753 182.77406 \r\nL 165.222133 183.894459 \r\nL 168.296513 185.116713 \r\nL 171.370894 185.422276 \r\nL 174.445274 181.348098 \r\nL 177.519654 183.181478 \r\nL 180.594034 185.625985 \r\nL 183.668414 188.172347 \r\nL 186.742794 193.570634 \r\nL 189.817175 202.330118 \r\nL 192.891555 182.977769 \r\nL 195.965935 189.394601 \r\nL 199.040315 204.061644 \r\nL 202.114695 199.987466 \r\nL 205.189075 192.246526 \r\nL 208.263456 192.959507 \r\nL 211.337836 191.839108 \r\nL 214.412216 191.533545 \r\nL 217.486596 191.635399 \r\nL 220.560976 181.449952 \r\nL 223.635356 193.265071 \r\nL 226.709737 192.144671 \r\nL 229.784117 186.746384 \r\nL 232.858497 181.653661 \r\nL 235.932877 202.431973 \r\nL 239.007257 193.468779 \r\nL 242.081637 186.338967 \r\nL 245.156018 187.56122 \r\nL 248.230398 184.505586 \r\nL 251.304778 182.061079 \r\nL 254.379158 183.385187 \r\nL 257.453538 185.422276 \r\nL 260.527918 186.848239 \r\nL 263.602299 183.588896 \r\nL 266.676679 198.867066 \r\nL 269.751059 198.867066 \r\nL 272.825439 186.135258 \r\nL 275.899819 186.542676 \r\nL 278.974199 185.524131 \r\nL 282.04858 189.394601 \r\nL 285.12296 186.440821 \r\nL 288.19734 189.59831 \r\nL 291.27172 186.440821 \r\nL 294.3461 191.024272 \r\nL 297.42048 189.089037 \r\nL 300.494861 187.255657 \r\nL 303.569241 195.200305 \r\nL 306.643621 187.255657 \r\nL 309.718001 185.320422 \r\nL 312.792381 191.635399 \r\nL 315.866761 189.700164 \r\nL 318.941142 189.089037 \r\nL 322.015522 189.802019 \r\nL 325.089902 185.116713 \r\nL 328.164282 193.570634 \r\nL 331.238662 204.469062 \r\nL 334.313042 193.570634 \r\nL 337.387423 204.469062 \r\nL 340.461803 186.950093 \r\nL 343.536183 189.802019 \r\nL 346.610563 190.413145 \r\nL 349.684943 187.56122 \r\n\" style=\"fill:none;stroke:#1f77b4;stroke-linecap:square;stroke-width:1.5;\"/>\r\n   </g>\r\n   <g id=\"line2d_13\">\r\n    <path clip-path=\"url(#p2eca6bf23e)\" d=\"M 45.321307 212.506078 \r\nL 48.395687 205.37557 \r\nL 51.470067 205.37557 \r\nL 54.544447 205.37557 \r\nL 57.618827 205.37557 \r\nL 60.693208 205.37557 \r\nL 63.767588 205.37557 \r\nL 66.841968 103.187912 \r\nL 69.916348 205.37557 \r\nL 72.990728 103.187912 \r\nL 76.065108 81.107417 \r\nL 79.139489 102.108373 \r\nL 82.213869 64.028672 \r\nL 85.288249 205.37557 \r\nL 88.362629 103.187912 \r\nL 91.437009 80.470918 \r\nL 94.511389 103.187912 \r\nL 97.58577 55.561136 \r\nL 100.66015 75.343135 \r\nL 103.73453 48.554637 \r\nL 106.80891 77.130828 \r\nL 109.88329 40.527939 \r\nL 112.95767 103.187912 \r\nL 116.032051 42.286922 \r\nL 119.106431 80.470918 \r\nL 122.180811 33.371946 \r\nL 125.255191 55.169553 \r\nL 128.329571 73.570756 \r\nL 131.403951 25.920359 \r\nL 134.478332 25.920359 \r\nL 137.552712 22.036701 \r\nL 140.627092 17.083636 \r\nL 143.701472 34.460197 \r\nL 146.775852 34.460197 \r\nL 149.850232 24.84082 \r\nL 152.924613 34.460197 \r\nL 155.998993 39.479536 \r\nL 159.073373 64.960132 \r\nL 162.147753 21.173458 \r\nL 165.222133 25.113118 \r\nL 168.296513 31.106123 \r\nL 171.370894 28.016878 \r\nL 174.445274 17.898223 \r\nL 177.519654 23.208535 \r\nL 180.594034 29.932123 \r\nL 183.668414 39.919097 \r\nL 186.742794 60.928627 \r\nL 189.817175 103.187912 \r\nL 192.891555 25.152317 \r\nL 195.965935 45.47939 \r\nL 199.040315 161.291668 \r\nL 202.114695 119.105833 \r\nL 205.189075 55.877503 \r\nL 208.263456 59.783521 \r\nL 211.337836 54.811399 \r\nL 214.412216 60.872934 \r\nL 217.486596 59.73508 \r\nL 220.560976 17.847947 \r\nL 223.635356 58.752808 \r\nL 226.709737 55.085446 \r\nL 229.784117 35.653978 \r\nL 232.858497 18.825331 \r\nL 235.932877 152.218176 \r\nL 239.007257 62.882015 \r\nL 242.081637 34.460197 \r\nL 245.156018 38.737444 \r\nL 248.230398 28.5183 \r\nL 251.304778 19.703324 \r\nL 254.379158 25.611931 \r\nL 257.453538 28.745567 \r\nL 260.527918 33.425078 \r\nL 263.602299 22.499376 \r\nL 266.676679 131.21722 \r\nL 269.751059 131.21722 \r\nL 272.825439 31.011662 \r\nL 275.899819 33.165197 \r\nL 278.974199 30.130205 \r\nL 282.04858 43.644021 \r\nL 285.12296 34.409925 \r\nL 288.19734 45.363957 \r\nL 291.27172 31.841865 \r\nL 294.3461 50.043468 \r\nL 297.42048 43.408504 \r\nL 300.494861 34.679024 \r\nL 303.569241 92.460697 \r\nL 306.643621 34.679024 \r\nL 309.718001 29.013278 \r\nL 312.792381 80.556527 \r\nL 315.866761 43.215541 \r\nL 318.941142 43.416944 \r\nL 322.015522 43.778165 \r\nL 325.089902 28.741351 \r\nL 328.164282 87.622931 \r\nL 331.238662 163.116284 \r\nL 334.313042 87.622931 \r\nL 337.387423 163.116284 \r\nL 340.461803 35.066761 \r\nL 343.536183 45.813481 \r\nL 346.610563 47.364563 \r\nL 349.684943 36.470523 \r\n\" style=\"fill:none;stroke:#ff7f0e;stroke-linecap:square;stroke-width:1.5;\"/>\r\n   </g>\r\n   <g id=\"patch_3\">\r\n    <path d=\"M 30.103125 224.64 \r\nL 30.103125 7.2 \r\n\" style=\"fill:none;stroke:#000000;stroke-linecap:square;stroke-linejoin:miter;stroke-width:0.8;\"/>\r\n   </g>\r\n   <g id=\"patch_4\">\r\n    <path d=\"M 364.903125 224.64 \r\nL 364.903125 7.2 \r\n\" style=\"fill:none;stroke:#000000;stroke-linecap:square;stroke-linejoin:miter;stroke-width:0.8;\"/>\r\n   </g>\r\n   <g id=\"patch_5\">\r\n    <path d=\"M 30.103125 224.64 \r\nL 364.903125 224.64 \r\n\" style=\"fill:none;stroke:#000000;stroke-linecap:square;stroke-linejoin:miter;stroke-width:0.8;\"/>\r\n   </g>\r\n   <g id=\"patch_6\">\r\n    <path d=\"M 30.103125 7.2 \r\nL 364.903125 7.2 \r\n\" style=\"fill:none;stroke:#000000;stroke-linecap:square;stroke-linejoin:miter;stroke-width:0.8;\"/>\r\n   </g>\r\n  </g>\r\n </g>\r\n <defs>\r\n  <clipPath id=\"p2eca6bf23e\">\r\n   <rect height=\"217.44\" width=\"334.8\" x=\"30.103125\" y=\"7.2\"/>\r\n  </clipPath>\r\n </defs>\r\n</svg>\r\n",
      "image/png": "[encoded data removed]"
     },
     "metadata": {
      "needs_background": "light"
     }
    }
   ],
   "source": [
    "plt.plot(np.mean(val_rr, axis=1))\n",
    "print(np.argmax(np.mean(val_rr, axis=1)))\n",
    "plt.plot(np.mean(val_rp, axis=1))\n",
    "print(np.argmax(np.mean(val_rp, axis=1)))"
   ]
  },
  {
   "cell_type": "code",
   "execution_count": 145,
   "metadata": {},
   "outputs": [],
   "source": [
    "# checkpoint.restore(tf.train.latest_checkpoint(checkpoint_dir))"
   ]
  },
  {
   "source": [
    "### Sequence Generation"
   ],
   "cell_type": "markdown",
   "metadata": {}
  },
  {
   "cell_type": "code",
   "execution_count": 146,
   "metadata": {
    "tags": []
   },
   "outputs": [],
   "source": [
    "# i = 0\n",
    "# example_task_vector = X_test.reset_index(drop=True).loc[i]\n",
    "# example_true_vector = Y_test[i]\n",
    "# example_true_sequence = y_test.loc[i][0]\n",
    "# print('task vector: {} \\n'.format(example_task_vector.values))\n",
    "# print('true sequence is: {}\\n'.format(example_true_sequence))\n",
    "# result, task_vector = generate_solution(example_task_vector)\n",
    "# print(result, '\\n')\n",
    "# print('length of the result sequence is: {} \\n'.format(len(result.split(' '))))"
   ]
  },
  {
   "source": [
    "### Model Evaluation"
   ],
   "cell_type": "markdown",
   "metadata": {}
  },
  {
   "cell_type": "code",
   "execution_count": 147,
   "metadata": {},
   "outputs": [],
   "source": [
    "# i = 0\n",
    "# example_task_vector = X_test.reset_index(drop=True).loc[i]\n",
    "# example_true_vector = Y_test[i]\n",
    "# example_true_sequence = y_test.loc[i][0]\n",
    "# print('task vector: {} \\n'.format(example_task_vector.values))\n",
    "# print('true sequence is: {}\\n'.format(example_true_sequence))\n",
    "# result, metrics = generate_solution_with_evaluation(example_task_vector, example_true_vector, save_outputs=True)\n",
    "# print('predicted sequence is: {}\\n'.format(result))\n",
    "# print('predicted unique sequence is: {}\\n'.format(\" \".join(list(set(result.split(' ')))))) #[el for i, el in enumerate(result.split(' ')) if result.split(' ')[i-1] != el])\n",
    "# print('length of the result sequence is: {} \\n'.format(len(result.split(' '))))\n",
    "# print('Metrics:', metrics)"
   ]
  },
  {
   "cell_type": "code",
   "execution_count": 148,
   "metadata": {},
   "outputs": [
    {
     "output_type": "stream",
     "name": "stdout",
     "text": [
      "predicting.. 0.0% \n",
      "Cross-Entropy: 2.6955\n",
      "Perplexity: 14.8133\n",
      "ROUGE-Recall: 0.0849\n",
      "ROUGE-Precision: 0.4622\n",
      "Unique answers: 6\n"
     ]
    }
   ],
   "source": [
    "## Predict on Train\n",
    "_, _, _, _ = predict_on_test(X_train[TASK_FEATURES], Y_train)"
   ]
  },
  {
   "cell_type": "code",
   "execution_count": 149,
   "metadata": {},
   "outputs": [
    {
     "output_type": "stream",
     "name": "stdout",
     "text": [
      "predicting.. 0.0% \n",
      "Cross-Entropy: 3.0341\n",
      "Perplexity: 20.7832\n",
      "ROUGE-Recall: 0.0593\n",
      "ROUGE-Precision: 0.3790\n",
      "Unique answers: 1\n"
     ]
    }
   ],
   "source": [
    "## Predict on Test\n",
    "_, _, _, _ = predict_on_test(X_test[TASK_FEATURES], Y_test)"
   ]
  },
  {
   "cell_type": "code",
   "execution_count": 150,
   "metadata": {},
   "outputs": [],
   "source": [
    "# val_ce = []\n",
    "# val_rr = []\n",
    "# val_rp = []\n",
    "# for i in range(1, EPOCHS//5 + 1):\n",
    "#     checkpoint.restore('./checkpoints/ckpt-{}.index'.format(i))\n",
    "#     _, losses_ce, rouge_recalls, rouge_precisions = predict_on_test(X_test[TASK_FEATURES], Y_test)\n",
    "#     val_ce.append(losses_ce)\n",
    "#     val_rr.append(rouge_recalls)\n",
    "#     val_rp.append(rouge_precisions)"
   ]
  },
  {
   "cell_type": "code",
   "execution_count": 151,
   "metadata": {},
   "outputs": [],
   "source": [
    "# y_pred[TARGET_COLUMN].unique()"
   ]
  },
  {
   "source": [
    "---\n",
    "## To Do"
   ],
   "cell_type": "markdown",
   "metadata": {}
  },
  {
   "cell_type": "code",
   "execution_count": 152,
   "metadata": {},
   "outputs": [],
   "source": [
    "##TODO: To py and argparse"
   ]
  },
  {
   "source": [
    "### To DAGsHub"
   ],
   "cell_type": "markdown",
   "metadata": {}
  },
  {
   "cell_type": "code",
   "execution_count": 153,
   "metadata": {},
   "outputs": [],
   "source": [
    "# ##TODO: Export to DAGsHub\n",
    "# experiment_params = run_params.update(model_params)\n",
    "# experiment_params = experiment_params.update(data_params)\n",
    "# print(experiment_params)\n",
    "# # experiment_results = {}"
   ]
  }
 ]
}