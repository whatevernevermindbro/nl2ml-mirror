{
  "nbformat": 4,
  "nbformat_minor": 0,
  "metadata": {
    "kernelspec": {
      "display_name": "Python 3",
      "language": "python",
      "name": "python3"
    },
    "language_info": {
      "codemirror_mode": {
        "name": "ipython",
        "version": 3
      },
      "file_extension": ".py",
      "mimetype": "text/x-python",
      "name": "python",
      "nbconvert_exporter": "python",
      "pygments_lexer": "ipython3",
      "version": "3.7.0"
    },
    "colab": {
      "name": "NL2ML: Regex Labeling.ipynb",
      "provenance": [],
      "collapsed_sections": [],
      "toc_visible": true
    }
  },
  "cells": [
    {
      "cell_type": "markdown",
      "metadata": {
        "id": "PWhsBC6njw8W",
        "colab_type": "text"
      },
      "source": [
        "# Regex Labeling"
      ]
    },
    {
      "cell_type": "markdown",
      "metadata": {
        "id": "QPPqGHrljw8Z",
        "colab_type": "text"
      },
      "source": [
        "## Data Loading"
      ]
    },
    {
      "cell_type": "code",
      "metadata": {
        "colab_type": "code",
        "id": "VDXoZ7h3o7a2",
        "colab": {}
      },
      "source": [
        "import pandas as pd\n",
        "import numpy as np\n",
        "import re"
      ],
      "execution_count": null,
      "outputs": []
    },
    {
      "cell_type": "code",
      "metadata": {
        "colab_type": "code",
        "id": "a_CklmUL35at",
        "colab": {}
      },
      "source": [
        "KK_PATH = '/content/'\n",
        "DATASET_PATH = 'code_blocks_prepared.csv' ## CODE_COLUMN = 'code_block'\n",
        "# DATASET_PATH = 'chunks_30_final.csv' ## CODE_COLUMN = 'code'\n",
        "# DATASET_PATH = 'nl2ml preprocessing (united).csv' ## CODE_COLUMN = 'Code'\n",
        "NEW_DATASET_PATH = DATASET_PATH[:-4] + '_regex.csv'\n",
        "CODE_COLUMN = 'code_block'"
      ],
      "execution_count": null,
      "outputs": []
    },
    {
      "cell_type": "code",
      "metadata": {
        "colab_type": "code",
        "id": "uNMxMypsx63n",
        "colab": {}
      },
      "source": [
        "# df = pd.read_csv(KK_PATH + 'code_blocks.csv', sep='\\t')\n",
        "# df = df.dropna()\n",
        "# df = df.drop_duplicates()\n",
        "# df = df.reset_index(drop=True)\n",
        "# df['code_block_length'] = np.zeros(len(df))\n",
        "# for i in range(len(df)):\n",
        "#     df['code_block_length'][i] = len(df['code_block'][i])\n",
        "#     print(str(i)+'\\r', end='')\n",
        "# df = df.drop(df[df['code_block_length'] > 512].index)\n",
        "# df.shape\n",
        "# df.to_csv(KK_PATH + 'code_blocks_prepared.csv', sep='\\t', index=False)"
      ],
      "execution_count": null,
      "outputs": []
    },
    {
      "cell_type": "code",
      "metadata": {
        "colab_type": "code",
        "id": "cvyM07BJsvwg",
        "colab": {}
      },
      "source": [
        "# df = pd.read_csv(KK_PATH + 'code_blocks_prepared.csv', sep='\\t')\n",
        "# df.shape"
      ],
      "execution_count": null,
      "outputs": []
    },
    {
      "cell_type": "code",
      "metadata": {
        "id": "hGfSdj5Ajw9B",
        "colab_type": "code",
        "colab": {
          "base_uri": "https://localhost:8080/",
          "height": 475
        },
        "outputId": "1ff38a33-c3aa-4d80-e508-288a22df37ca"
      },
      "source": [
        "import csv\n",
        "df = pd.read_csv(KK_PATH + DATASET_PATH, encoding='utf-8')#, error_bad_lines=False, sep=',')#quoting=csv.QUOTE_NONE,"
      ],
      "execution_count": null,
      "outputs": [
        {
          "output_type": "error",
          "ename": "ParserError",
          "evalue": "ignored",
          "traceback": [
            "\u001b[0;31m---------------------------------------------------------------------------\u001b[0m",
            "\u001b[0;31mParserError\u001b[0m                               Traceback (most recent call last)",
            "\u001b[0;32m<ipython-input-235-cb2e09b40161>\u001b[0m in \u001b[0;36m<module>\u001b[0;34m()\u001b[0m\n\u001b[1;32m      1\u001b[0m \u001b[0;32mimport\u001b[0m \u001b[0mcsv\u001b[0m\u001b[0;34m\u001b[0m\u001b[0;34m\u001b[0m\u001b[0m\n\u001b[0;32m----> 2\u001b[0;31m \u001b[0mdf\u001b[0m \u001b[0;34m=\u001b[0m \u001b[0mpd\u001b[0m\u001b[0;34m.\u001b[0m\u001b[0mread_csv\u001b[0m\u001b[0;34m(\u001b[0m\u001b[0mKK_PATH\u001b[0m \u001b[0;34m+\u001b[0m \u001b[0mDATASET_PATH\u001b[0m\u001b[0;34m,\u001b[0m \u001b[0mencoding\u001b[0m\u001b[0;34m=\u001b[0m\u001b[0;34m'utf-8'\u001b[0m\u001b[0;34m)\u001b[0m\u001b[0;31m#, error_bad_lines=False, sep=',')#quoting=csv.QUOTE_NONE,\u001b[0m\u001b[0;34m\u001b[0m\u001b[0;34m\u001b[0m\u001b[0m\n\u001b[0m",
            "\u001b[0;32m/usr/local/lib/python3.6/dist-packages/pandas/io/parsers.py\u001b[0m in \u001b[0;36mparser_f\u001b[0;34m(filepath_or_buffer, sep, delimiter, header, names, index_col, usecols, squeeze, prefix, mangle_dupe_cols, dtype, engine, converters, true_values, false_values, skipinitialspace, skiprows, skipfooter, nrows, na_values, keep_default_na, na_filter, verbose, skip_blank_lines, parse_dates, infer_datetime_format, keep_date_col, date_parser, dayfirst, cache_dates, iterator, chunksize, compression, thousands, decimal, lineterminator, quotechar, quoting, doublequote, escapechar, comment, encoding, dialect, error_bad_lines, warn_bad_lines, delim_whitespace, low_memory, memory_map, float_precision)\u001b[0m\n\u001b[1;32m    674\u001b[0m         )\n\u001b[1;32m    675\u001b[0m \u001b[0;34m\u001b[0m\u001b[0m\n\u001b[0;32m--> 676\u001b[0;31m         \u001b[0;32mreturn\u001b[0m \u001b[0m_read\u001b[0m\u001b[0;34m(\u001b[0m\u001b[0mfilepath_or_buffer\u001b[0m\u001b[0;34m,\u001b[0m \u001b[0mkwds\u001b[0m\u001b[0;34m)\u001b[0m\u001b[0;34m\u001b[0m\u001b[0;34m\u001b[0m\u001b[0m\n\u001b[0m\u001b[1;32m    677\u001b[0m \u001b[0;34m\u001b[0m\u001b[0m\n\u001b[1;32m    678\u001b[0m     \u001b[0mparser_f\u001b[0m\u001b[0;34m.\u001b[0m\u001b[0m__name__\u001b[0m \u001b[0;34m=\u001b[0m \u001b[0mname\u001b[0m\u001b[0;34m\u001b[0m\u001b[0;34m\u001b[0m\u001b[0m\n",
            "\u001b[0;32m/usr/local/lib/python3.6/dist-packages/pandas/io/parsers.py\u001b[0m in \u001b[0;36m_read\u001b[0;34m(filepath_or_buffer, kwds)\u001b[0m\n\u001b[1;32m    452\u001b[0m \u001b[0;34m\u001b[0m\u001b[0m\n\u001b[1;32m    453\u001b[0m     \u001b[0;32mtry\u001b[0m\u001b[0;34m:\u001b[0m\u001b[0;34m\u001b[0m\u001b[0;34m\u001b[0m\u001b[0m\n\u001b[0;32m--> 454\u001b[0;31m         \u001b[0mdata\u001b[0m \u001b[0;34m=\u001b[0m \u001b[0mparser\u001b[0m\u001b[0;34m.\u001b[0m\u001b[0mread\u001b[0m\u001b[0;34m(\u001b[0m\u001b[0mnrows\u001b[0m\u001b[0;34m)\u001b[0m\u001b[0;34m\u001b[0m\u001b[0;34m\u001b[0m\u001b[0m\n\u001b[0m\u001b[1;32m    455\u001b[0m     \u001b[0;32mfinally\u001b[0m\u001b[0;34m:\u001b[0m\u001b[0;34m\u001b[0m\u001b[0;34m\u001b[0m\u001b[0m\n\u001b[1;32m    456\u001b[0m         \u001b[0mparser\u001b[0m\u001b[0;34m.\u001b[0m\u001b[0mclose\u001b[0m\u001b[0;34m(\u001b[0m\u001b[0;34m)\u001b[0m\u001b[0;34m\u001b[0m\u001b[0;34m\u001b[0m\u001b[0m\n",
            "\u001b[0;32m/usr/local/lib/python3.6/dist-packages/pandas/io/parsers.py\u001b[0m in \u001b[0;36mread\u001b[0;34m(self, nrows)\u001b[0m\n\u001b[1;32m   1131\u001b[0m     \u001b[0;32mdef\u001b[0m \u001b[0mread\u001b[0m\u001b[0;34m(\u001b[0m\u001b[0mself\u001b[0m\u001b[0;34m,\u001b[0m \u001b[0mnrows\u001b[0m\u001b[0;34m=\u001b[0m\u001b[0;32mNone\u001b[0m\u001b[0;34m)\u001b[0m\u001b[0;34m:\u001b[0m\u001b[0;34m\u001b[0m\u001b[0;34m\u001b[0m\u001b[0m\n\u001b[1;32m   1132\u001b[0m         \u001b[0mnrows\u001b[0m \u001b[0;34m=\u001b[0m \u001b[0m_validate_integer\u001b[0m\u001b[0;34m(\u001b[0m\u001b[0;34m\"nrows\"\u001b[0m\u001b[0;34m,\u001b[0m \u001b[0mnrows\u001b[0m\u001b[0;34m)\u001b[0m\u001b[0;34m\u001b[0m\u001b[0;34m\u001b[0m\u001b[0m\n\u001b[0;32m-> 1133\u001b[0;31m         \u001b[0mret\u001b[0m \u001b[0;34m=\u001b[0m \u001b[0mself\u001b[0m\u001b[0;34m.\u001b[0m\u001b[0m_engine\u001b[0m\u001b[0;34m.\u001b[0m\u001b[0mread\u001b[0m\u001b[0;34m(\u001b[0m\u001b[0mnrows\u001b[0m\u001b[0;34m)\u001b[0m\u001b[0;34m\u001b[0m\u001b[0;34m\u001b[0m\u001b[0m\n\u001b[0m\u001b[1;32m   1134\u001b[0m \u001b[0;34m\u001b[0m\u001b[0m\n\u001b[1;32m   1135\u001b[0m         \u001b[0;31m# May alter columns / col_dict\u001b[0m\u001b[0;34m\u001b[0m\u001b[0;34m\u001b[0m\u001b[0;34m\u001b[0m\u001b[0m\n",
            "\u001b[0;32m/usr/local/lib/python3.6/dist-packages/pandas/io/parsers.py\u001b[0m in \u001b[0;36mread\u001b[0;34m(self, nrows)\u001b[0m\n\u001b[1;32m   2035\u001b[0m     \u001b[0;32mdef\u001b[0m \u001b[0mread\u001b[0m\u001b[0;34m(\u001b[0m\u001b[0mself\u001b[0m\u001b[0;34m,\u001b[0m \u001b[0mnrows\u001b[0m\u001b[0;34m=\u001b[0m\u001b[0;32mNone\u001b[0m\u001b[0;34m)\u001b[0m\u001b[0;34m:\u001b[0m\u001b[0;34m\u001b[0m\u001b[0;34m\u001b[0m\u001b[0m\n\u001b[1;32m   2036\u001b[0m         \u001b[0;32mtry\u001b[0m\u001b[0;34m:\u001b[0m\u001b[0;34m\u001b[0m\u001b[0;34m\u001b[0m\u001b[0m\n\u001b[0;32m-> 2037\u001b[0;31m             \u001b[0mdata\u001b[0m \u001b[0;34m=\u001b[0m \u001b[0mself\u001b[0m\u001b[0;34m.\u001b[0m\u001b[0m_reader\u001b[0m\u001b[0;34m.\u001b[0m\u001b[0mread\u001b[0m\u001b[0;34m(\u001b[0m\u001b[0mnrows\u001b[0m\u001b[0;34m)\u001b[0m\u001b[0;34m\u001b[0m\u001b[0;34m\u001b[0m\u001b[0m\n\u001b[0m\u001b[1;32m   2038\u001b[0m         \u001b[0;32mexcept\u001b[0m \u001b[0mStopIteration\u001b[0m\u001b[0;34m:\u001b[0m\u001b[0;34m\u001b[0m\u001b[0;34m\u001b[0m\u001b[0m\n\u001b[1;32m   2039\u001b[0m             \u001b[0;32mif\u001b[0m \u001b[0mself\u001b[0m\u001b[0;34m.\u001b[0m\u001b[0m_first_chunk\u001b[0m\u001b[0;34m:\u001b[0m\u001b[0;34m\u001b[0m\u001b[0;34m\u001b[0m\u001b[0m\n",
            "\u001b[0;32mpandas/_libs/parsers.pyx\u001b[0m in \u001b[0;36mpandas._libs.parsers.TextReader.read\u001b[0;34m()\u001b[0m\n",
            "\u001b[0;32mpandas/_libs/parsers.pyx\u001b[0m in \u001b[0;36mpandas._libs.parsers.TextReader._read_low_memory\u001b[0;34m()\u001b[0m\n",
            "\u001b[0;32mpandas/_libs/parsers.pyx\u001b[0m in \u001b[0;36mpandas._libs.parsers.TextReader._read_rows\u001b[0;34m()\u001b[0m\n",
            "\u001b[0;32mpandas/_libs/parsers.pyx\u001b[0m in \u001b[0;36mpandas._libs.parsers.TextReader._tokenize_rows\u001b[0;34m()\u001b[0m\n",
            "\u001b[0;32mpandas/_libs/parsers.pyx\u001b[0m in \u001b[0;36mpandas._libs.parsers.raise_parser_error\u001b[0;34m()\u001b[0m\n",
            "\u001b[0;31mParserError\u001b[0m: Error tokenizing data. C error: Expected 1 fields in line 12, saw 2\n"
          ]
        }
      ]
    },
    {
      "cell_type": "code",
      "metadata": {
        "id": "bv-ZljZASnW4",
        "colab_type": "code",
        "colab": {}
      },
      "source": [
        "df = df.dropna(subset=[CODE_COLUMN]).reset_index()"
      ],
      "execution_count": null,
      "outputs": []
    },
    {
      "cell_type": "code",
      "metadata": {
        "id": "lUXaQ1wpjw9U",
        "colab_type": "code",
        "colab": {}
      },
      "source": [
        "def wordListToFreqDict(wordlist):\n",
        "    def sortFreqDict(freqdict):\n",
        "        aux = [(freqdict[key], key) for key in freqdict]\n",
        "        aux.sort()\n",
        "        aux.reverse()\n",
        "        return aux\n",
        "    wordfreq = [wordlist.count(p) for p in wordlist]\n",
        "    return sortFreqDict(dict(list(zip(wordlist,wordfreq))))"
      ],
      "execution_count": null,
      "outputs": []
    },
    {
      "cell_type": "code",
      "metadata": {
        "id": "XiRkUliHlpWx",
        "colab_type": "code",
        "colab": {}
      },
      "source": [
        "# tokens = (\" \".join(\" \".join(df['Code'].to_list()).split('\\n')).split('.'))#.split('')\n",
        "# wordListToFreqDict(tokens)"
      ],
      "execution_count": null,
      "outputs": []
    },
    {
      "cell_type": "code",
      "metadata": {
        "id": "GNbO3HXwjw9f",
        "colab_type": "code",
        "colab": {}
      },
      "source": [
        "# %%time\n",
        "# wordListToFreqDict(df.code.to_string())"
      ],
      "execution_count": null,
      "outputs": []
    },
    {
      "cell_type": "code",
      "metadata": {
        "id": "h7-lyPQDjw9o",
        "colab_type": "code",
        "colab": {}
      },
      "source": [
        "# %%time\n",
        "# nl2ml = pd.read_csv(KK_PATH + 'nl2ml.csv')\n",
        "# nl2ml = nl2ml.rename({'':'code_block', '':'method_tag'})\n",
        "# nl2ml_vis = nl2ml[nl2ml['method_tag'] == 'Visualization']\n",
        "# tokens_visualization = wordListToFreqDict(nl2ml_vis.code_block.to_string())"
      ],
      "execution_count": null,
      "outputs": []
    },
    {
      "cell_type": "code",
      "metadata": {
        "id": "cgMUp6qVTiiE",
        "colab_type": "code",
        "colab": {
          "base_uri": "https://localhost:8080/",
          "height": 33
        },
        "outputId": "c7f571c7-d4d9-4aad-eeec-acc0263bfbb6"
      },
      "source": [
        "df[CODE_COLUMN][0]"
      ],
      "execution_count": null,
      "outputs": [
        {
          "output_type": "execute_result",
          "data": {
            "text/plain": [
              "'from mpl_toolkits.mplot3d import Axes3D\\nfrom sklearn.preprocessing import StandardScaler\\nimport matplotlib.pyplot as plt \\nimport numpy as np \\nimport os \\nimport pandas as pd \\n,metadata:{collapsed:false,_kg_hide-input:false},'"
            ]
          },
          "metadata": {
            "tags": []
          },
          "execution_count": 205
        }
      ]
    },
    {
      "cell_type": "code",
      "metadata": {
        "colab_type": "code",
        "id": "8DdGpT3GwvWo",
        "colab": {}
      },
      "source": [
        "def tokens_search(df, tokens, new_column_name):\n",
        "    df[new_column_name] = 0\n",
        "    for i in range(len(df)):\n",
        "        percents = str(round(100*i/len(df),1))\n",
        "        print(percents + '%\\r', end='')\n",
        "        row = df[CODE_COLUMN][i]\n",
        "        for token in tokens:\n",
        "            result = re.search(token, row)\n",
        "            if result!=None:\n",
        "                df[new_column_name][i] = 1\n",
        "                break\n",
        "    return df"
      ],
      "execution_count": null,
      "outputs": []
    },
    {
      "cell_type": "markdown",
      "metadata": {
        "id": "BssLlwj4jw9-",
        "colab_type": "text"
      },
      "source": [
        "## Regex Labels"
      ]
    },
    {
      "cell_type": "code",
      "metadata": {
        "id": "DGlXzCKhjw-J",
        "colab_type": "code",
        "colab": {}
      },
      "source": [
        "graph = {'imports':['import', 'from']#, 'as']\n",
        "          ,'load_data':['load', 'csv', 'glob', 'pickle', 'read', 'download', 'txt']\n",
        "          ,'preprocessing':['preprocess', 'plot', 'heatmap', 'figure', 'encode', 'fill', 'merge', 'vectorize', 'generation', 'augmentation', 'stemming', 'lemmatization', 'scale', 'normalize', 'crop', 'convert', 'resize']\n",
        "          ,'model':['LinearRegression', 'RandomForest', 'Ridge', 'Lasso', 'SGD', 'LogisticRegression', 'SVM', 'SVC', 'Layer', 'xgboost', 'LGBM', 'CatBoost']\n",
        "          ,'train': ['train', 'fit', 'epoch', 'loss', 'learn', 'optimizer']\n",
        "          ,'predict':['predict', 'error', 'evaluation', 'MSE', 'Test']\n",
        "}"
      ],
      "execution_count": null,
      "outputs": []
    },
    {
      "cell_type": "code",
      "metadata": {
        "id": "1TlTFwwHjw-t",
        "colab_type": "code",
        "colab": {
          "base_uri": "https://localhost:8080/",
          "height": 228
        },
        "outputId": "3766230b-ab98-4e48-c72c-4667c5fd229a"
      },
      "source": [
        "%%time\n",
        "for i in range(0, len(graph)):\n",
        "    print(i)\n",
        "    vertice = list(graph.keys())[i]\n",
        "    tokens = graph[vertice]\n",
        "    df = tokens_search(df, tokens, vertice)"
      ],
      "execution_count": null,
      "outputs": [
        {
          "output_type": "stream",
          "text": [
            "0\n",
            "0.0%\r0.0%\r0.0%\r0.0%\r0.0%\r0.0%\r0.0%\r0.0%\r0.0%\r0.0%\r0.0%\r0.0%\r0.0%\r0.0%\r0.0%\r0.0%\r0.0%\r0.0%\r0.0%\r0.0%\r0.0%\r0.0%\r0.0%\r0.0%\r0.0%\r0.0%\r0.0%\r0.0%\r0.0%\r0.0%\r0.0%\r0.0%\r0.0%\r0.0%\r0.0%\r0.0%\r0.0%\r0.0%\r0.0%\r0.0%\r0.0%\r0.0%\r0.0%\r0.0%\r0.0%\r0.0%\r0.0%\r0.0%\r0.0%\r0.0%\r0.0%\r0.0%\r0.0%\r0.0%\r0.0%\r0.0%\r0.0%\r0.0%\r0.0%\r0.0%\r0.0%\r0.0%\r0.0%\r0.0%\r0.0%\r0.0%\r0.0%\r0.0%\r0.0%\r0.0%\r0.0%\r0.0%\r0.0%\r0.0%\r0.0%\r0.0%\r0.0%\r0.0%\r0.0%\r0.0%\r0.0%\r0.0%\r0.0%\r0.0%\r0.0%\r0.0%\r0.0%\r0.0%\r0.0%\r0.0%\r0.0%\r0.0%\r0.0%\r0.0%\r0.0%\r0.0%\r0.0%\r0.0%\r0.0%\r0.0%\r0.0%\r0.0%\r0.0%\r0.0%\r0.0%\r0.0%\r0.0%\r0.0%\r0.0%\r0.0%\r0.0%\r0.1%\r0.1%\r0.1%\r0.1%\r0.1%\r0.1%\r0.1%\r0.1%\r0.1%\r0.1%\r0.1%\r0.1%\r0.1%\r0.1%\r0.1%\r0.1%\r0.1%\r0.1%\r0.1%\r0.1%\r0.1%\r0.1%\r0.1%\r0.1%\r0.1%\r0.1%\r0.1%\r0.1%\r0.1%\r0.1%\r0.1%\r0.1%\r0.1%\r0.1%\r0.1%\r0.1%\r0.1%\r0.1%\r0.1%\r0.1%\r0.1%\r0.1%\r0.1%\r0.1%\r0.1%\r0.1%\r0.1%\r0.1%\r0.1%\r0.1%\r0.1%\r0.1%\r0.1%\r0.1%\r0.1%\r0.1%\r0.1%\r0.1%\r0.1%\r0.1%\r0.1%\r0.1%\r0.1%\r0.1%\r0.1%\r0.1%\r0.1%\r0.1%\r0.1%\r0.1%\r0.1%\r0.1%\r0.1%\r0.1%\r0.1%\r0.1%\r0.1%\r0.1%\r0.1%\r0.1%\r0.1%\r0.1%\r0.1%\r0.1%\r0.1%\r0.1%\r0.1%\r0.1%\r0.1%\r0.1%\r0.1%\r0.1%\r0.1%\r0.1%\r0.1%\r0.1%\r0.1%\r0.1%\r0.1%\r0.1%\r0.1%\r0.1%\r0.1%\r0.1%\r0.1%\r0.1%\r0.1%\r0.1%\r0.1%\r0.1%\r0.1%\r0.1%\r0.1%\r0.1%\r0.1%\r0.1%\r0.1%\r0.1%\r0.1%\r0.1%\r0.1%\r0.1%\r0.1%\r0.1%\r0.1%\r0.1%\r0.1%\r0.1%\r0.1%\r0.1%\r0.1%\r0.1%\r0.1%\r0.1%\r0.1%\r0.1%\r0.1%\r0.1%\r0.1%\r0.1%\r0.1%\r0.1%\r0.1%\r0.1%\r0.1%\r0.1%\r0.1%\r0.1%\r0.1%\r0.1%\r0.1%\r0.1%\r0.1%\r0.1%\r0.1%\r0.1%\r0.1%\r0.1%\r0.1%\r0.1%\r0.1%\r0.1%\r0.1%\r0.1%\r0.1%\r0.1%\r0.1%\r0.1%\r0.1%\r0.1%\r0.1%\r0.1%\r0.1%\r0.1%\r0.1%\r0.1%\r0.1%\r0.1%\r0.1%\r0.1%\r0.1%\r0.1%\r0.1%\r0.1%\r0.1%\r0.1%\r0.1%\r0.1%\r0.1%\r0.1%\r0.1%\r0.1%\r0.1%\r0.1%\r0.1%\r0.1%\r0.1%\r0.1%\r0.1%\r0.1%\r0.1%\r0.1%\r0.1%\r0.1%\r0.1%\r0.1%\r0.1%\r0.1%\r0.1%\r0.1%\r0.1%\r0.1%\r0.1%\r0.1%\r0.1%\r0.1%\r0.1%\r0.1%\r0.1%\r0.1%\r0.1%\r0.1%\r0.2%\r0.2%\r0.2%\r0.2%\r0.2%\r0.2%\r0.2%\r0.2%\r0.2%\r0.2%\r0.2%\r0.2%\r0.2%\r0.2%\r0.2%\r0.2%\r0.2%\r0.2%\r0.2%\r0.2%\r0.2%\r0.2%\r0.2%\r0.2%\r0.2%\r0.2%\r0.2%\r0.2%\r0.2%\r0.2%\r0.2%\r0.2%\r0.2%\r0.2%\r0.2%\r0.2%\r0.2%\r0.2%\r0.2%\r0.2%\r0.2%\r0.2%\r0.2%\r0.2%\r0.2%\r0.2%\r0.2%\r0.2%\r0.2%\r0.2%\r0.2%\r0.2%\r0.2%\r0.2%\r0.2%\r0.2%\r0.2%\r0.2%\r0.2%\r0.2%\r0.2%\r0.2%\r0.2%\r0.2%\r0.2%\r0.2%\r0.2%\r0.2%\r0.2%\r0.2%\r0.2%\r0.2%\r0.2%\r0.2%\r0.2%\r0.2%\r0.2%\r0.2%\r0.2%\r0.2%\r0.2%\r0.2%\r0.2%\r0.2%\r0.2%\r0.2%\r0.2%\r0.2%\r0.2%\r0.2%\r0.2%\r0.2%\r0.2%\r0.2%\r0.2%\r0.2%\r0.2%\r0.2%\r0.2%\r0.2%\r0.2%\r0.2%\r0.2%\r0.2%\r0.2%\r0.2%\r0.2%\r0.2%\r0.2%\r0.2%\r0.2%\r0.2%\r0.2%\r0.2%\r0.2%\r0.2%\r0.2%\r0.2%\r0.2%\r0.2%\r0.2%\r0.2%\r0.2%\r0.2%\r0.2%\r0.2%\r0.2%\r0.2%\r0.2%\r0.2%\r0.2%\r0.2%\r0.2%\r0.2%\r0.2%\r0.2%\r0.2%\r0.2%\r0.2%\r0.2%\r0.2%\r0.2%\r0.2%\r0.2%\r0.2%\r0.2%\r0.2%\r0.2%\r0.2%\r0.2%\r0.2%\r0.2%\r0.2%\r0.2%\r0.2%\r0.2%\r0.2%\r0.2%\r0.2%\r0.2%\r0.2%\r0.2%\r0.2%\r0.2%\r0.2%\r0.2%\r0.2%\r0.2%\r0.2%\r0.2%\r0.2%\r0.2%\r0.2%\r0.2%\r0.2%\r0.2%\r0.2%\r0.2%\r0.2%\r0.2%\r0.2%\r0.2%\r0.2%\r0.2%\r0.2%\r0.2%\r0.2%\r0.2%\r0.2%\r0.2%\r0.2%\r0.2%\r0.2%\r0.2%\r0.2%\r0.2%\r0.2%\r0.2%\r0.2%\r0.2%\r0.2%\r0.2%\r0.2%\r0.2%\r0.2%\r0.2%\r0.2%\r0.2%\r0.2%\r0.2%\r0.2%\r0.2%\r0.2%\r0.2%\r0.2%\r0.2%\r0.2%\r0.2%\r0.2%\r0.2%\r0.2%\r0.2%\r0.3%\r0.3%\r0.3%\r0.3%\r0.3%\r0.3%\r0.3%\r0.3%\r0.3%\r0.3%\r0.3%\r0.3%\r0.3%\r0.3%\r0.3%\r0.3%\r0.3%\r0.3%\r0.3%\r0.3%\r0.3%\r0.3%\r0.3%\r0.3%\r0.3%\r0.3%\r0.3%\r0.3%\r0.3%\r0.3%\r0.3%\r0.3%\r0.3%\r0.3%\r0.3%\r0.3%\r0.3%\r0.3%\r0.3%\r0.3%\r0.3%\r0.3%\r0.3%\r0.3%\r0.3%\r0.3%\r0.3%\r0.3%\r0.3%\r0.3%\r0.3%\r0.3%\r0.3%\r0.3%\r0.3%\r0.3%\r0.3%\r0.3%\r0.3%\r0.3%\r0.3%\r0.3%\r0.3%\r0.3%\r0.3%\r0.3%\r0.3%\r0.3%\r0.3%\r0.3%\r0.3%\r0.3%\r0.3%\r0.3%\r0.3%\r0.3%\r0.3%\r0.3%\r0.3%\r0.3%\r0.3%\r0.3%\r0.3%\r0.3%\r0.3%\r0.3%\r0.3%\r0.3%\r0.3%\r0.3%\r0.3%\r0.3%\r0.3%\r0.3%\r0.3%\r0.3%\r0.3%\r0.3%\r0.3%\r0.3%\r0.3%\r0.3%\r0.3%\r0.3%\r0.3%\r0.3%\r0.3%\r0.3%\r"
          ],
          "name": "stdout"
        },
        {
          "output_type": "stream",
          "text": [
            "/usr/local/lib/python3.6/dist-packages/ipykernel_launcher.py:10: SettingWithCopyWarning: \n",
            "A value is trying to be set on a copy of a slice from a DataFrame\n",
            "\n",
            "See the caveats in the documentation: https://pandas.pydata.org/pandas-docs/stable/user_guide/indexing.html#returning-a-view-versus-a-copy\n",
            "  # Remove the CWD from sys.path while we load stuff.\n"
          ],
          "name": "stderr"
        },
        {
          "output_type": "stream",
          "text": [
            "1\n",
            "2\n",
            "3\n",
            "4\n",
            "5\n",
            "CPU times: user 4min 26s, sys: 1min 12s, total: 5min 39s\n",
            "Wall time: 4min 25s\n"
          ],
          "name": "stdout"
        }
      ]
    },
    {
      "cell_type": "code",
      "metadata": {
        "id": "zQuwy7Exjw_D",
        "colab_type": "code",
        "colab": {}
      },
      "source": [
        "df.to_csv(NEW_DATASET_PATH, index=False)"
      ],
      "execution_count": null,
      "outputs": []
    },
    {
      "cell_type": "code",
      "metadata": {
        "id": "xWYhQybHUZEj",
        "colab_type": "code",
        "colab": {}
      },
      "source": [
        "# for col in list(graph.keys()):\n",
        "#     display(df[df['Data format'] == 'Table'][col].value_counts())"
      ],
      "execution_count": null,
      "outputs": []
    },
    {
      "cell_type": "markdown",
      "metadata": {
        "id": "sZWJu_w-jw_M",
        "colab_type": "text"
      },
      "source": [
        "#### Tag: Import-Output"
      ]
    },
    {
      "cell_type": "code",
      "metadata": {
        "colab_type": "code",
        "id": "1VhsSVhWj1Wx",
        "colab": {}
      },
      "source": [
        "# # TAG: input_output\n",
        "# tokens_io = ['read', 'csv' , 'sql' , 'json' , 'png' , 'jpg' ,\n",
        "#           'tsv' , 'write' , 'open' , 'print' , 'output' ,\n",
        "#           'stdin' , 'stdout' , 'path' , 'dir'\n",
        "# #            , 'import'\n",
        "#           ]"
      ],
      "execution_count": null,
      "outputs": []
    },
    {
      "cell_type": "code",
      "metadata": {
        "scrolled": true,
        "id": "oIYzl0Bwjw_U",
        "colab_type": "code",
        "colab": {}
      },
      "source": [
        "# %%time\n",
        "# df = tokens_search(df, tokens_io, 'tag_import_output')"
      ],
      "execution_count": null,
      "outputs": []
    },
    {
      "cell_type": "code",
      "metadata": {
        "id": "diTbzz9Sjw_c",
        "colab_type": "code",
        "colab": {}
      },
      "source": [
        "# df.to_csv(KK_PATH + 'chunks_30_tag_io.csv', index=False)"
      ],
      "execution_count": null,
      "outputs": []
    },
    {
      "cell_type": "markdown",
      "metadata": {
        "id": "cPT_98Utjw_s",
        "colab_type": "text"
      },
      "source": [
        "#### Tag: Visualization"
      ]
    },
    {
      "cell_type": "code",
      "metadata": {
        "id": "_rd3Pel4jw_t",
        "colab_type": "code",
        "colab": {}
      },
      "source": [
        "# tokens_visualization = ['plot', 'hist', 'sns.', 'plt.']"
      ],
      "execution_count": null,
      "outputs": []
    },
    {
      "cell_type": "code",
      "metadata": {
        "id": "F_D1XekBjw_y",
        "colab_type": "code",
        "colab": {}
      },
      "source": [
        "# %%time\n",
        "# df = tokens_search(df, tokens_visualization, 'tag_visualization')"
      ],
      "execution_count": null,
      "outputs": []
    },
    {
      "cell_type": "code",
      "metadata": {
        "id": "TmhBqcjSjw_8",
        "colab_type": "code",
        "colab": {}
      },
      "source": [
        "# df.to_csv(KK_PATH + 'chunks_30_tags.csv', index=False)"
      ],
      "execution_count": null,
      "outputs": []
    }
  ]
}