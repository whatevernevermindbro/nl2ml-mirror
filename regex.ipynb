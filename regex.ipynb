{
 "cells": [
  {
   "cell_type": "markdown",
   "metadata": {
    "colab_type": "text",
    "id": "PWhsBC6njw8W"
   },
   "source": [
    "# Regex Labeling"
   ]
  },
  {
   "cell_type": "markdown",
   "metadata": {
    "colab_type": "text",
    "id": "QPPqGHrljw8Z"
   },
   "source": [
    "## Data Loading"
   ]
  },
  {
   "cell_type": "code",
   "execution_count": 26,
   "metadata": {
    "colab": {},
    "colab_type": "code",
    "id": "VDXoZ7h3o7a2"
   },
   "outputs": [],
   "source": [
    "import pandas as pd\n",
    "import numpy as np\n",
    "import re\n",
    "import csv\n",
    "import json"
   ]
  },
  {
   "cell_type": "code",
   "execution_count": 27,
   "metadata": {
    "colab": {},
    "colab_type": "code",
    "id": "a_CklmUL35at"
   },
   "outputs": [],
   "source": [
    "GRAPH_VER = 6\n",
    "\n",
    "DATASET_PATH = './data_mini/code_blocks_raw.csv' ## CODE_COLUMN = 'code_block'\n",
    "OUTPUT_DATASET_PATH = './data_mini/code_blocks_regex_graph_v{}.csv'.format(GRAPH_VER)\n",
    "CODE_COLUMN = 'code_block'\n",
    "GRAPH_DIR = './graph/graph_v{}.txt'.format(GRAPH_VER)"
   ]
  },
  {
   "cell_type": "code",
   "execution_count": 28,
   "metadata": {
    "colab": {
     "base_uri": "https://localhost:8080/",
     "height": 475
    },
    "colab_type": "code",
    "id": "hGfSdj5Ajw9B",
    "outputId": "1ff38a33-c3aa-4d80-e508-288a22df37ca"
   },
   "outputs": [],
   "source": [
    "df = pd.read_csv(DATASET_PATH, encoding='utf-8', sep='\\t')#, error_bad_lines=False, sep=',')#quoting=csv.QUOTE_NONE,"
   ]
  },
  {
   "cell_type": "code",
   "execution_count": 29,
   "metadata": {},
   "outputs": [],
   "source": [
    "# df = df[[CODE_COLUMN, 'tag']]"
   ]
  },
  {
   "cell_type": "code",
   "execution_count": 30,
   "metadata": {
    "colab": {},
    "colab_type": "code",
    "id": "bv-ZljZASnW4",
    "tags": []
   },
   "outputs": [
    {
     "name": "stdout",
     "output_type": "stream",
     "text": [
      "Unnamed: 0      0\n",
      "code_block      0\n",
      "tag           488\n",
      "dtype: int64\n"
     ]
    }
   ],
   "source": [
    "print(df.isna().sum())\n",
    "df = df.dropna(subset=[CODE_COLUMN]).reset_index()"
   ]
  },
  {
   "cell_type": "code",
   "execution_count": 31,
   "metadata": {
    "colab": {},
    "colab_type": "code",
    "id": "lUXaQ1wpjw9U"
   },
   "outputs": [],
   "source": [
    "# def wordListToFreqDict(wordlist):\n",
    "#     def sortFreqDict(freqdict):\n",
    "#         aux = [(freqdict[key], key) for key in freqdict]\n",
    "#         aux.sort()\n",
    "#         aux.reverse()\n",
    "#         return aux\n",
    "#     wordfreq = [wordlist.count(p) for p in wordlist]\n",
    "#     return sortFreqDict(dict(list(zip(wordlist,wordfreq))))"
   ]
  },
  {
   "cell_type": "code",
   "execution_count": 32,
   "metadata": {
    "colab": {},
    "colab_type": "code",
    "id": "XiRkUliHlpWx"
   },
   "outputs": [],
   "source": [
    "# tokens = (\" \".join(\" \".join(df['Code'].to_list()).split('\\n')).split('.'))#.split('')\n",
    "# wordListToFreqDict(tokens)"
   ]
  },
  {
   "cell_type": "code",
   "execution_count": 33,
   "metadata": {
    "colab": {},
    "colab_type": "code",
    "id": "GNbO3HXwjw9f"
   },
   "outputs": [],
   "source": [
    "# %%time\n",
    "# wordListToFreqDict(df.code.to_string())"
   ]
  },
  {
   "cell_type": "code",
   "execution_count": 34,
   "metadata": {
    "colab": {},
    "colab_type": "code",
    "id": "h7-lyPQDjw9o"
   },
   "outputs": [],
   "source": [
    "# %%time\n",
    "# nl2ml = pd.read_csv(KK_PATH + 'nl2ml.csv')\n",
    "# nl2ml = nl2ml.rename({'':'code_block', '':'method_tag'})\n",
    "# nl2ml_vis = nl2ml[nl2ml['method_tag'] == 'Visualization']\n",
    "# tokens_visualization = wordListToFreqDict(nl2ml_vis.code_block.to_string())"
   ]
  },
  {
   "cell_type": "code",
   "execution_count": 35,
   "metadata": {
    "colab": {},
    "colab_type": "code",
    "id": "8DdGpT3GwvWo"
   },
   "outputs": [],
   "source": [
    "def tokens_search(df, tokens, new_column_name):\n",
    "    df[new_column_name] = 0\n",
    "    for i in range(len(df)):\n",
    "        percents = str(round(100*i/len(df),1))\n",
    "        print(percents + '%\\r', end='')\n",
    "        row = df[CODE_COLUMN][i]\n",
    "        for token in tokens:\n",
    "            result = re.search(token.replace('(','\\('), row)\n",
    "            if result!=None:\n",
    "                df[new_column_name][i] = 1\n",
    "                break\n",
    "    return df"
   ]
  },
  {
   "cell_type": "markdown",
   "metadata": {
    "colab_type": "text",
    "id": "BssLlwj4jw9-"
   },
   "source": [
    "## Regex Labels"
   ]
  },
  {
   "cell_type": "code",
   "execution_count": 36,
   "metadata": {},
   "outputs": [],
   "source": [
    "with open(GRAPH_DIR, \"r\") as graph_file:\n",
    "    graph = json.load(graph_file)\n",
    "    # graph = graph_file.read()"
   ]
  },
  {
   "cell_type": "code",
   "execution_count": 37,
   "metadata": {
    "colab": {
     "base_uri": "https://localhost:8080/",
     "height": 228
    },
    "colab_type": "code",
    "id": "1TlTFwwHjw-t",
    "outputId": "3766230b-ab98-4e48-c72c-4667c5fd229a",
    "tags": []
   },
   "outputs": [
    {
     "name": "stdout",
     "output_type": "stream",
     "text": [
      "\n",
      "import\n",
      "0.5%\r"
     ]
    },
    {
     "name": "stderr",
     "output_type": "stream",
     "text": [
      "/home/nastya/anaconda3/lib/python3.7/site-packages/ipykernel_launcher.py:10: SettingWithCopyWarning: \n",
      "A value is trying to be set on a copy of a slice from a DataFrame\n",
      "\n",
      "See the caveats in the documentation: https://pandas.pydata.org/pandas-docs/stable/user_guide/indexing.html#returning-a-view-versus-a-copy\n",
      "  # Remove the CWD from sys.path while we load stuff.\n"
     ]
    },
    {
     "name": "stdout",
     "output_type": "stream",
     "text": [
      "100.0%\n",
      "data_import\n",
      "100.0%\n",
      "data_export\n",
      "100.0%\n",
      "preprocessing\n",
      "100.0%\n",
      "visualization\n",
      "100.0%\n",
      "model\n",
      "100.0%\n",
      "deep_learning_model\n",
      "100.0%\n",
      "train\n",
      "100.0%\n",
      "predict\n",
      "CPU times: user 5min 9s, sys: 47.9 s, total: 5min 57s\n",
      "Wall time: 5min 2s\n"
     ]
    }
   ],
   "source": [
    "%%time\n",
    "for i in range(0, len(graph)):\n",
    "    vertice = list(graph.keys())[i]\n",
    "    print('\\n' + vertice)\n",
    "    tokens = graph[vertice]\n",
    "    df = tokens_search(df, tokens, vertice)"
   ]
  },
  {
   "cell_type": "code",
   "execution_count": 38,
   "metadata": {},
   "outputs": [
    {
     "data": {
      "text/plain": [
       "0    150121\n",
       "1    104276\n",
       "Name: preprocessing, dtype: int64"
      ]
     },
     "execution_count": 38,
     "metadata": {},
     "output_type": "execute_result"
    }
   ],
   "source": [
    "df['preprocessing'].value_counts()"
   ]
  },
  {
   "cell_type": "code",
   "execution_count": 39,
   "metadata": {
    "colab": {},
    "colab_type": "code",
    "id": "zQuwy7Exjw_D"
   },
   "outputs": [],
   "source": [
    "df.to_csv(OUTPUT_DATASET_PATH, index=False)"
   ]
  },
  {
   "cell_type": "code",
   "execution_count": 40,
   "metadata": {
    "colab": {},
    "colab_type": "code",
    "id": "xWYhQybHUZEj"
   },
   "outputs": [],
   "source": [
    "# for col in list(graph.keys()):\n",
    "#     display(df[df['Data format'] == 'Table'][col].value_counts())"
   ]
  },
  {
   "cell_type": "code",
   "execution_count": 41,
   "metadata": {
    "tags": []
   },
   "outputs": [
    {
     "name": "stdout",
     "output_type": "stream",
     "text": [
      "finished\n"
     ]
    }
   ],
   "source": [
    "print('finished')"
   ]
  },
  {
   "cell_type": "markdown",
   "metadata": {},
   "source": [
    "## Regex Evaluation"
   ]
  },
  {
   "cell_type": "code",
   "execution_count": 42,
   "metadata": {},
   "outputs": [],
   "source": [
    "from sklearn.metrics import f1_score, precision_score, recall_score\n",
    "import dagshub"
   ]
  },
  {
   "cell_type": "code",
   "execution_count": 43,
   "metadata": {},
   "outputs": [
    {
     "data": {
      "text/html": [
       "<div>\n",
       "<style scoped>\n",
       "    .dataframe tbody tr th:only-of-type {\n",
       "        vertical-align: middle;\n",
       "    }\n",
       "\n",
       "    .dataframe tbody tr th {\n",
       "        vertical-align: top;\n",
       "    }\n",
       "\n",
       "    .dataframe thead th {\n",
       "        text-align: right;\n",
       "    }\n",
       "</style>\n",
       "<table border=\"1\" class=\"dataframe\">\n",
       "  <thead>\n",
       "    <tr style=\"text-align: right;\">\n",
       "      <th></th>\n",
       "      <th>code_block</th>\n",
       "      <th>import</th>\n",
       "      <th>data_import</th>\n",
       "      <th>data_export</th>\n",
       "      <th>preprocessing</th>\n",
       "      <th>visualization</th>\n",
       "      <th>model</th>\n",
       "      <th>deep_learning_model</th>\n",
       "      <th>train</th>\n",
       "      <th>predict</th>\n",
       "      <th>import_regex_v5</th>\n",
       "      <th>data_import_regex_v5</th>\n",
       "      <th>data_export_regex_v5</th>\n",
       "      <th>preprocessing_regex_v5</th>\n",
       "      <th>visualization_regex_v5</th>\n",
       "      <th>model_regex_v5</th>\n",
       "      <th>deep_learning_model_regex_v5</th>\n",
       "      <th>train_regex_v5</th>\n",
       "      <th>predict_regex_v5</th>\n",
       "    </tr>\n",
       "  </thead>\n",
       "  <tbody>\n",
       "    <tr>\n",
       "      <th>0</th>\n",
       "      <td>\\r\\nprint(f())    \\r\\n\\r\\nx = 5\\r\\ndef f():\\r\\...</td>\n",
       "      <td>1</td>\n",
       "      <td>0</td>\n",
       "      <td>0</td>\n",
       "      <td>0</td>\n",
       "      <td>0</td>\n",
       "      <td>0</td>\n",
       "      <td>0</td>\n",
       "      <td>0</td>\n",
       "      <td>0</td>\n",
       "      <td>1</td>\n",
       "      <td>0</td>\n",
       "      <td>0</td>\n",
       "      <td>0</td>\n",
       "      <td>0</td>\n",
       "      <td>0</td>\n",
       "      <td>0</td>\n",
       "      <td>0</td>\n",
       "      <td>0</td>\n",
       "    </tr>\n",
       "    <tr>\n",
       "      <th>1</th>\n",
       "      <td>\\r\\nprint(int('807') + 1),\\r\\n\\r\\nimport numpy...</td>\n",
       "      <td>1</td>\n",
       "      <td>0</td>\n",
       "      <td>0</td>\n",
       "      <td>0</td>\n",
       "      <td>0</td>\n",
       "      <td>0</td>\n",
       "      <td>0</td>\n",
       "      <td>0</td>\n",
       "      <td>0</td>\n",
       "      <td>1</td>\n",
       "      <td>0</td>\n",
       "      <td>0</td>\n",
       "      <td>0</td>\n",
       "      <td>0</td>\n",
       "      <td>0</td>\n",
       "      <td>0</td>\n",
       "      <td>0</td>\n",
       "      <td>0</td>\n",
       "    </tr>\n",
       "    <tr>\n",
       "      <th>2</th>\n",
       "      <td>\\r\\nimport numpy as np \\r\\nimport pandas as pd...</td>\n",
       "      <td>1</td>\n",
       "      <td>0</td>\n",
       "      <td>0</td>\n",
       "      <td>0</td>\n",
       "      <td>0</td>\n",
       "      <td>0</td>\n",
       "      <td>0</td>\n",
       "      <td>0</td>\n",
       "      <td>0</td>\n",
       "      <td>1</td>\n",
       "      <td>0</td>\n",
       "      <td>0</td>\n",
       "      <td>0</td>\n",
       "      <td>0</td>\n",
       "      <td>0</td>\n",
       "      <td>0</td>\n",
       "      <td>0</td>\n",
       "      <td>0</td>\n",
       "    </tr>\n",
       "    <tr>\n",
       "      <th>3</th>\n",
       "      <td>\\r\\n Average Precision-Recall Score ={0:0.2f}'...</td>\n",
       "      <td>1</td>\n",
       "      <td>0</td>\n",
       "      <td>0</td>\n",
       "      <td>0</td>\n",
       "      <td>0</td>\n",
       "      <td>0</td>\n",
       "      <td>0</td>\n",
       "      <td>0</td>\n",
       "      <td>1</td>\n",
       "      <td>1</td>\n",
       "      <td>0</td>\n",
       "      <td>0</td>\n",
       "      <td>0</td>\n",
       "      <td>0</td>\n",
       "      <td>0</td>\n",
       "      <td>0</td>\n",
       "      <td>0</td>\n",
       "      <td>0</td>\n",
       "    </tr>\n",
       "    <tr>\n",
       "      <th>4</th>\n",
       "      <td>\\r\\nplot_confusion_matrix(actual_cm, labels, t...</td>\n",
       "      <td>1</td>\n",
       "      <td>0</td>\n",
       "      <td>0</td>\n",
       "      <td>0</td>\n",
       "      <td>1</td>\n",
       "      <td>0</td>\n",
       "      <td>0</td>\n",
       "      <td>0</td>\n",
       "      <td>0</td>\n",
       "      <td>1</td>\n",
       "      <td>0</td>\n",
       "      <td>0</td>\n",
       "      <td>0</td>\n",
       "      <td>0</td>\n",
       "      <td>0</td>\n",
       "      <td>0</td>\n",
       "      <td>0</td>\n",
       "      <td>0</td>\n",
       "    </tr>\n",
       "  </tbody>\n",
       "</table>\n",
       "</div>"
      ],
      "text/plain": [
       "                                          code_block  import  data_import  \\\n",
       "0  \\r\\nprint(f())    \\r\\n\\r\\nx = 5\\r\\ndef f():\\r\\...       1            0   \n",
       "1  \\r\\nprint(int('807') + 1),\\r\\n\\r\\nimport numpy...       1            0   \n",
       "2  \\r\\nimport numpy as np \\r\\nimport pandas as pd...       1            0   \n",
       "3  \\r\\n Average Precision-Recall Score ={0:0.2f}'...       1            0   \n",
       "4  \\r\\nplot_confusion_matrix(actual_cm, labels, t...       1            0   \n",
       "\n",
       "   data_export  preprocessing  visualization  model  deep_learning_model  \\\n",
       "0            0              0              0      0                    0   \n",
       "1            0              0              0      0                    0   \n",
       "2            0              0              0      0                    0   \n",
       "3            0              0              0      0                    0   \n",
       "4            0              0              1      0                    0   \n",
       "\n",
       "   train  predict  import_regex_v5  data_import_regex_v5  \\\n",
       "0      0        0                1                     0   \n",
       "1      0        0                1                     0   \n",
       "2      0        0                1                     0   \n",
       "3      0        1                1                     0   \n",
       "4      0        0                1                     0   \n",
       "\n",
       "   data_export_regex_v5  preprocessing_regex_v5  visualization_regex_v5  \\\n",
       "0                     0                       0                       0   \n",
       "1                     0                       0                       0   \n",
       "2                     0                       0                       0   \n",
       "3                     0                       0                       0   \n",
       "4                     0                       0                       0   \n",
       "\n",
       "   model_regex_v5  deep_learning_model_regex_v5  train_regex_v5  \\\n",
       "0               0                             0               0   \n",
       "1               0                             0               0   \n",
       "2               0                             0               0   \n",
       "3               0                             0               0   \n",
       "4               0                             0               0   \n",
       "\n",
       "   predict_regex_v5  \n",
       "0                 0  \n",
       "1                 0  \n",
       "2                 0  \n",
       "3                 0  \n",
       "4                 0  "
      ]
     },
     "execution_count": 43,
     "metadata": {},
     "output_type": "execute_result"
    }
   ],
   "source": [
    "GRAPH_VER = 5\n",
    "REGEXED_DATA_PATH = \"./data_mini/golden_884_set.csv\"\n",
    "TAGS = ['import', 'data_import', 'data_export', 'preprocessing',\n",
    "                    'visualization', 'model', 'deep_learning_model', 'train', 'predict']\n",
    "REGEX_TAGS = [el+'_regex_v{}'.format(GRAPH_VER) for el in TAGS]\n",
    "regexed_data = pd.read_csv(REGEXED_DATA_PATH)\n",
    "regexed_data.head()"
   ]
  },
  {
   "cell_type": "code",
   "execution_count": 44,
   "metadata": {},
   "outputs": [],
   "source": [
    "Y_test, Y_pred = regexed_data[TAGS], regexed_data[REGEX_TAGS]"
   ]
  },
  {
   "cell_type": "code",
   "execution_count": 45,
   "metadata": {},
   "outputs": [
    {
     "data": {
      "text/plain": [
       "{'test_f1_score': 0.7568760919796619,\n",
       " 'test_precision': 0.9258695652173914,\n",
       " 'test_recall': 0.6784420289855072}"
      ]
     },
     "execution_count": 45,
     "metadata": {},
     "output_type": "execute_result"
    }
   ],
   "source": [
    "base_f1 = f1_score(Y_test, Y_pred, average='weighted')\n",
    "base_precision = precision_score(Y_test, Y_pred, average='weighted')\n",
    "base_recall = recall_score(Y_test, Y_pred, average='weighted')\n",
    "regex_results = {'test_f1_score': base_f1\n",
    "                , 'test_precision': base_precision\n",
    "                , 'test_recall': base_recall}\n",
    "regex_results"
   ]
  },
  {
   "cell_type": "code",
   "execution_count": 46,
   "metadata": {
    "tags": []
   },
   "outputs": [
    {
     "name": "stdout",
     "output_type": "stream",
     "text": [
      "import\n",
      "(1.0, 1.0, 1.0)\n",
      "------\n",
      "data_import\n",
      "(0.9767, 0.9772, 0.9774)\n",
      "------\n",
      "data_export\n",
      "(0.9931, 0.9933, 0.9932)\n",
      "------\n",
      "preprocessing\n",
      "(0.8392, 0.8781, 0.8597)\n",
      "------\n",
      "visualization\n",
      "(0.8773, 0.9047, 0.8914)\n",
      "------\n",
      "model\n",
      "(0.9127, 0.9258, 0.9208)\n",
      "------\n",
      "deep_learning_model\n",
      "(0.918, 0.9516, 0.8948)\n",
      "------\n",
      "train\n",
      "(0.9683, 0.9683, 0.9683)\n",
      "------\n",
      "predict\n",
      "(0.9425, 0.9463, 0.94)\n",
      "------\n"
     ]
    }
   ],
   "source": [
    "for i, tag in enumerate(TAGS):\n",
    "    tag_results = (round(f1_score(Y_test.iloc[:, i], Y_pred.iloc[:, i], average='weighted'),4),\\\n",
    "                    round(precision_score(Y_test.iloc[:, i], Y_pred.iloc[:, i], average='weighted'),4),\\\n",
    "                    round(recall_score(Y_test.iloc[:, i], Y_pred.iloc[:, i], average='weighted'),4))\n",
    "    print(tag)\n",
    "    print(tag_results)\n",
    "    print('------')"
   ]
  },
  {
   "cell_type": "code",
   "execution_count": 47,
   "metadata": {},
   "outputs": [],
   "source": [
    "data_meta = {'DATASET_PATH': REGEXED_DATA_PATH\n",
    "            ,'nrows': regexed_data.shape[0]\n",
    "            ,'graph_ver': GRAPH_VER\n",
    "            ,'label': TAGS\n",
    "            ,'model': 'regex_v{}'.format(GRAPH_VER)\n",
    "            ,'script_dir': './regex.ipynb'\n",
    "            ,'task': 'regex evaluation'}\n",
    "\n",
    "with dagshub.dagshub_logger() as logger:\n",
    "    logger.log_hyperparams(data_meta)\n",
    "    logger.log_metrics(regex_results)"
   ]
  },
  {
   "cell_type": "code",
   "execution_count": null,
   "metadata": {},
   "outputs": [],
   "source": []
  }
 ],
 "metadata": {
  "colab": {
   "collapsed_sections": [],
   "name": "NL2ML: Regex Labeling.ipynb",
   "provenance": [],
   "toc_visible": true
  },
  "kernelspec": {
   "display_name": "Python 3",
   "language": "python",
   "name": "python3"
  },
  "language_info": {
   "codemirror_mode": {
    "name": "ipython",
    "version": 3
   },
   "file_extension": ".py",
   "mimetype": "text/x-python",
   "name": "python",
   "nbconvert_exporter": "python",
   "pygments_lexer": "ipython3",
   "version": "3.7.6"
  }
 },
 "nbformat": 4,
 "nbformat_minor": 1
}
