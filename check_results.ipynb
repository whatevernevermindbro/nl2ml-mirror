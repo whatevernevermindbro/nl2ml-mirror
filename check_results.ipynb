{
 "metadata": {
  "language_info": {
   "codemirror_mode": {
    "name": "ipython",
    "version": 3
   },
   "file_extension": ".py",
   "mimetype": "text/x-python",
   "name": "python",
   "nbconvert_exporter": "python",
   "pygments_lexer": "ipython3",
   "version": "3.8.5-final"
  },
  "orig_nbformat": 2,
  "kernelspec": {
   "name": "python3",
   "display_name": "Python 3.8.5 32-bit",
   "metadata": {
    "interpreter": {
     "hash": "0fc7cd46ef80eea69b5a91c9d867dcdccec65df9bddf9245a5dead22e5f85f68"
    }
   }
  }
 },
 "nbformat": 4,
 "nbformat_minor": 2,
 "cells": [
  {
   "cell_type": "code",
   "execution_count": null,
   "metadata": {},
   "outputs": [],
   "source": [
    "import pandas as pd\n",
    "import numpy as np"
   ]
  },
  {
   "cell_type": "code",
   "execution_count": null,
   "metadata": {},
   "outputs": [],
   "source": [
    "GRAPH_VER = 5\n",
    "MODEL = 'logreg' #'logreg' or 'svm'\n",
    "TAGS_TO_PREDICT = ['import', 'data_import', 'data_export', 'preprocessing',\n",
    "                    'visualization', 'model', 'deep_learning_model', 'train', 'predict']\n",
    "DATASET_PATH = \"./data/github_chunks_10_{}_v{}.csv\".format(MODEL, GRAPH_VER)"
   ]
  },
  {
   "cell_type": "code",
   "execution_count": null,
   "metadata": {},
   "outputs": [],
   "source": [
    "results = pd.read_csv(DATASET_PATH)"
   ]
  },
  {
   "cell_type": "code",
   "execution_count": null,
   "metadata": {},
   "outputs": [],
   "source": [
    "results.head()"
   ]
  },
  {
   "cell_type": "code",
   "execution_count": null,
   "metadata": {
    "tags": [
     "outputPrepend"
    ]
   },
   "outputs": [],
   "source": [
    "for i in range(0, 100):#len(results)):\n",
    "    print(results.loc[i, '0'])\n",
    "    print('-----------------------------')\n",
    "    print('IMPORT: ', results.loc[i, 'import'])\n",
    "    print('DATA IMPORT: ', results.loc[i, 'data_import'])\n",
    "    print('DATA EXPORT: ', results.loc[i, 'data_export'])\n",
    "    print('VISUALIZATION: ', results.loc[i, 'visualization'])\n",
    "    print('MODEL: ', results.loc[i, 'model'])\n",
    "    print('DEEP LEARNING MODEL: ', results.loc[i, 'deep_learning_model'])\n",
    "    print('TRAIN: ', results.loc[i, 'train'])\n",
    "    print('PREDICT: ', results.loc[i, 'predict'])\n",
    "    print('=============================')\n",
    "    print('=============================')"
   ]
  },
  {
   "cell_type": "code",
   "execution_count": null,
   "metadata": {},
   "outputs": [],
   "source": []
  }
 ]
}