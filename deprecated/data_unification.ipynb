{
 "metadata": {
  "language_info": {
   "codemirror_mode": {
    "name": "ipython",
    "version": 3
   },
   "file_extension": ".py",
   "mimetype": "text/x-python",
   "name": "python",
   "nbconvert_exporter": "python",
   "pygments_lexer": "ipython3",
   "version": "3.7.0-final"
  },
  "orig_nbformat": 2,
  "kernelspec": {
   "name": "python3",
   "display_name": "Python 3",
   "language": "python"
  }
 },
 "nbformat": 4,
 "nbformat_minor": 2,
 "cells": [
  {
   "cell_type": "code",
   "execution_count": 2,
   "metadata": {},
   "outputs": [],
   "source": [
    "import pandas as pd\n",
    "import gc\n",
    "import os"
   ]
  },
  {
   "cell_type": "code",
   "execution_count": 15,
   "metadata": {},
   "outputs": [
    {
     "output_type": "stream",
     "name": "stdout",
     "text": [
      "chunks_10_validate.csv\n",
      "chunks_15_validate.csv\n",
      "chunks_20_validate.csv\n",
      "chunks_25_validate.csv\n",
      "chunks_30_validate.csv\n",
      "chunks_40_validate.csv\n",
      "chunks_5_validate.csv\n",
      "code_blocks_clean.csv\n",
      "code_blocks_clean_nocomments_30.csv\n",
      "code_blocks_raw.csv\n",
      "code_blocks_regex.csv\n",
      "code_blocks_regex_graph_v1.csv\n",
      "code_blocks_regex_graph_v2.1.csv\n",
      "code_blocks_regex_graph_v2.2.csv\n",
      "code_blocks_regex_graph_v2.csv\n",
      "code_blocks_regex_graph_v3.1.csv\n",
      "code_blocks_regex_graph_v3.csv\n",
      "code_blocks_regex_graph_v4.csv\n",
      "code_blocks_regex_graph_v5.csv\n",
      "code_blocks_regex_nocomments_30.csv\n",
      "code_blocks_regex_v2_graph_v3.1.csv\n",
      "dataset_2.1_Misha.csv\n",
      "github_chunks_10.csv\n",
      "github_chunks_10_logreg_v3.1.csv\n",
      "github_chunks_10_logreg_v3.csv\n",
      "github_chunks_10_logreg_v4.csv\n",
      "github_chunks_10_logreg_v5.csv\n",
      "github_chunks_10_preprocessing_logreg_v3.1.csv\n",
      "github_chunks_10_preprocessing_logreg_v3.csv\n",
      "github_chunks_10_preprocessing_svm_v3.1.csv\n",
      "github_chunks_10_preprocessing_svm_v3.csv\n",
      "github_chunks_10_svm_v3.1.csv\n",
      "github_chunks_10_svm_v3.csv\n",
      "github_chunks_10_svm_v4.csv\n",
      "github_chunks_10_svm_v5.csv\n",
      "github_chunks_40.csv\n",
      "github_raw.csv\n",
      "golden_10_logreg_v5.csv\n",
      "golden_884_set.csv\n",
      "kagglekernels_list.csv\n",
      "kaggle_1.csv\n",
      "kaggle_10_regex_v5.csv\n",
      "kaggle_chunks_10_logreg_v5.csv\n",
      "kaggle_chunks_10_svm_v5.csv\n",
      "kaggle_chunks_1_logreg_v5.csv\n",
      "kaggle_chunks_1_svm_v5.csv\n",
      "nl2ml_logreg_v5.csv\n",
      "nl2ml_preprocessing_full.csv\n",
      "nl2ml_preprocessing_images.csv\n",
      "nl2ml_svm_v5.csv\n"
     ]
    }
   ],
   "source": [
    "DATA_DIR = './data/'\n",
    "CODE_COLUMN = 'code_block'\n",
    "for dataset in os.listdir(DATA_DIR):\n",
    "    print(dataset)\n",
    "    DATA_PATH = DATA_DIR + dataset\n",
    "    try:\n",
    "        data = pd.read_csv(DATA_PATH)\n",
    "    except:\n",
    "        data = pd.read_csv(DATA_PATH, sep='\\t')\n",
    "    if CODE_COLUMN not in data.columns:\n",
    "        data.rename({'code':CODE_COLUMN\n",
    "                    , 'Code':CODE_COLUMN\n",
    "                    , '0':CODE_COLUMN}, axis=1, inplace=True)\n",
    "    data.to_csv(DATA_PATH, index=False, sep=',', encoding='utf-8')"
   ]
  },
  {
   "cell_type": "code",
   "execution_count": 16,
   "metadata": {},
   "outputs": [
    {
     "output_type": "execute_result",
     "data": {
      "text/plain": [
       "566"
      ]
     },
     "metadata": {},
     "execution_count": 16
    }
   ],
   "source": [
    "del data\n",
    "gc.collect()"
   ]
  },
  {
   "cell_type": "code",
   "execution_count": 17,
   "metadata": {},
   "outputs": [
    {
     "output_type": "stream",
     "name": "stdout",
     "text": [
      "code_blocks_raw.csv\n",
      "github_raw.csv\n",
      "golden_884_set.csv\n",
      "nl2ml_preprocessing_full.csv\n"
     ]
    }
   ],
   "source": [
    "DATA_DIR = './data_mini/'\n",
    "CODE_COLUMN = 'code_block'\n",
    "for dataset in os.listdir(DATA_DIR):\n",
    "    print(dataset)\n",
    "    DATA_PATH = DATA_DIR + dataset\n",
    "    try:\n",
    "        data = pd.read_csv(DATA_PATH)\n",
    "    except:\n",
    "        data = pd.read_csv(DATA_PATH, sep='\\t')\n",
    "    if CODE_COLUMN not in data.columns:\n",
    "        data.rename({'code':CODE_COLUMN\n",
    "                    , 'Code':CODE_COLUMN\n",
    "                    , '0':CODE_COLUMN}, axis=1, inplace=True)\n",
    "    data.to_csv(DATA_PATH, index=False, sep=',', encoding='utf-8')"
   ]
  },
  {
   "cell_type": "code",
   "execution_count": 18,
   "metadata": {},
   "outputs": [
    {
     "output_type": "execute_result",
     "data": {
      "text/plain": [
       "0"
      ]
     },
     "metadata": {},
     "execution_count": 18
    }
   ],
   "source": [
    "del data\n",
    "gc.collect()"
   ]
  },
  {
   "cell_type": "code",
   "execution_count": null,
   "metadata": {},
   "outputs": [],
   "source": []
  }
 ]
}