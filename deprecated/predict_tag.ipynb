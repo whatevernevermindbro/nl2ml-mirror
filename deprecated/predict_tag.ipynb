{
  "nbformat": 4,
  "nbformat_minor": 0,
  "metadata": {
    "colab": {
      "name": "predict_tag.ipynb",
      "provenance": [],
      "collapsed_sections": []
    },
    "kernelspec": {
      "display_name": "Python 3.8.5 32-bit",
      "language": "python",
      "name": "python_defaultSpec_1600880152363"
    },
    "language_info": {
      "codemirror_mode": {
        "name": "ipython",
        "version": 3
      },
      "file_extension": ".py",
      "mimetype": "text/x-python",
      "name": "python",
      "nbconvert_exporter": "python",
      "pygments_lexer": "ipython3",
      "version": "3.7.0-final"
    },
    "deepnote_notebook_id": "de3fccfc-e616-4534-95cc-32b90652859d",
    "deepnote_execution_queue": []
  },
  "cells": [
    {
      "cell_type": "markdown",
      "metadata": {
        "id": "duvd91VsO_R1",
        "colab_type": "text"
      },
      "source": [
        "# Predicting tags for the given code\n",
        "### Simple models (SVM, LogReg, Naive Bayes, LGBM)\n",
        "Usage: Define constants and run all to get the result"
      ]
    },
    {
      "cell_type": "code",
      "metadata": {
        "cell_id": "441b2da9-1dee-4019-bda3-6f4994571f6d",
        "id": "PZGqPi1rKuc5",
        "colab_type": "code",
        "colab": {},
        "tags": []
      },
      "source": [
        "import pandas as pd\n",
        "import numpy as np\n",
        "import matplotlib.pyplot as plt\n",
        "import scipy\n",
        "\n",
        "from sklearn.metrics import *\n",
        "from sklearn.feature_extraction.text import TfidfVectorizer\n",
        "from sklearn.svm import SVC\n",
        "\n",
        "import pickle\n",
        "import dagshub"
      ],
      "execution_count": 1,
      "outputs": []
    },
    {
      "cell_type": "code",
      "metadata": {
        "cell_id": "80383df4-32e7-46ba-b0b9-71dba689140e",
        "id": "WTeMgt6pKudD",
        "colab_type": "code",
        "colab": {}
      },
      "source": [
        "def load_code_blocks(DATASET_PATH, CODE_COLUMN):\n",
        "    df = pd.read_csv(DATASET_PATH, encoding='utf-8', comment='#', sep=',')#, quoting=csv.QUOTE_NONE, error_bad_lines=False)#, sep=','\n",
        "    print(\"Data of {} shape has been loaded\".format(df.shape))\n",
        "    print(df.columns)\n",
        "    code_blocks = df[CODE_COLUMN]\n",
        "    # test_size = 0.1\n",
        "    # test_rows = round(df.shape[0]*test_size)\n",
        "    # train_rows = df.shape[0] - test_rows\n",
        "    # train_code_blocks = df[CODE_COLUMN][0:test_rows]\n",
        "    # test_code_blocks = df[CODE_COLUMN][train_rows:]\n",
        "    return df, code_blocks"
      ],
      "execution_count": 2,
      "outputs": []
    },
    {
      "cell_type": "code",
      "metadata": {
        "cell_id": "6d376ccc-4060-470d-a8e4-495a5ec14bc2",
        "id": "ZSgWLSwpKudV",
        "colab_type": "code",
        "colab": {}
      },
      "source": [
        "def tfidf_fit_transform(code_blocks, params, TFIDF_DIR):\n",
        "    vectorizer = TfidfVectorizer(params)\n",
        "    tfidf = vectorizer.fit(code_blocks)\n",
        "    pickle.dump(tfidf, open(\"tfidf.pickle\", \"wb\"))\n",
        "    code_blocks_tfidf = tfidf.transform(code_blocks)\n",
        "    print(\"tfidf trained, saved and transformed\")\n",
        "    return code_blocks_tfidf"
      ],
      "execution_count": 3,
      "outputs": []
    },
    {
      "cell_type": "code",
      "metadata": {
        "id": "x3231i9XMzZ2",
        "colab_type": "code",
        "colab": {}
      },
      "source": [
        "def tfidf_transform(code_blocks, params, TFIDF_DIR):\n",
        "    tfidf = pickle.load(open(TFIDF_DIR, 'rb'))\n",
        "    code_blocks_tfidf = tfidf.transform(code_blocks.astype(str))\n",
        "    print(\"tfidf loaded and transformed\")\n",
        "    return code_blocks_tfidf"
      ],
      "execution_count": 4,
      "outputs": []
    },
    {
      "cell_type": "code",
      "metadata": {
        "cell_id": "b72d586f-243c-41aa-aed3-6caf51213d4a",
        "id": "9TBwKTouKudb",
        "colab_type": "code",
        "colab": {}
      },
      "source": [
        "def SVM_evaluate(df, code_blocks, tfidf_params, TFIDF_DIR, SVM_params):\n",
        "    code_blocks_tfidf = tfidf_fit_transform(code_blocks, tfidf_params, TFIDF_DIR)\n",
        "    X_train, X_test, y_train, y_test = train_test_split(code_blocks_tfidf, df[TAGS_TO_PREDICT], test_size=0.3)\n",
        "    # grid = {\"C\": [100]}\n",
        "    # cv = KFold(n_splits=2, shuffle=True, random_state=241)\n",
        "    # model = SVC(kernel=\"linear\", random_state=241)\n",
        "    # gs = GridSearchCV(model, grid, scoring=\"accuracy\", cv=cv, verbose=1, n_jobs=-1)\n",
        "    # gs.fit(X_train[:25000], y_train.ravel()[:25000])\n",
        "    # C = gs.best_params_.get('C')\n",
        "    model = SVC(**SVM_params)\n",
        "    # model.set_params(SVM_params)\n",
        "    print(model.get_params())\n",
        "    model.fit(X_train, y_train.ravel())\n",
        "    # a faster option:\n",
        "    # 1: usage of BagginClassifier decreased the fitting time from 38 mins to 8\n",
        "    # n_estimators = 10\n",
        "    clf = model\n",
        "    # clf = BaggingClassifier(model, max_samples=1.0 / n_estimators, n_estimators=n_estimators)\n",
        "    # clf.fit(X_train, y_train.ravel())\n",
        "    pickle.dump(clf, open(MODEL_DIR, 'wb'))\n",
        "    y_pred = clf.predict(X_test)\n",
        "    accuracy = accuracy_score(y_test, y_pred)\n",
        "    f1 = f1_score(y_test, y_pred)\n",
        "    metrics = {'test_accuracy': accuracy\n",
        "               , 'test_f1_score': f1}\n",
        "    plot_confusion_matrix(model, X_test, y_test)\n",
        "    return metrics"
      ],
      "execution_count": 5,
      "outputs": []
    },
    {
      "cell_type": "code",
      "metadata": {
        "tags": [],
        "cell_id": "c09fca7c-1c20-4ec8-b2b2-6bd85d739cce",
        "id": "c0uVv2uWKudk",
        "colab_type": "code",
        "colab": {}
      },
      "source": [
        "def get_metrics(X, y, TAGS_TO_PREDICT, MODEL_DIR):\n",
        "    clf = pickle.load(open(MODEL_DIR, 'rb'))\n",
        "    print(\"the model has been loaded\")\n",
        "    # result = loaded_model.score(X, y)\n",
        "    y_pred = clf.predict(X)\n",
        "    print(\"predictions were calculated\")\n",
        "    accuracy = clf.score(X, y)\n",
        "    f1 = f1_score(y_pred, y, average='weighted')\n",
        "    print(f'Mean Accuracy {round(accuracy*100, 2)}%')\n",
        "    print(f'F1-score {round(f1*100, 2)}%')\n",
        "    # errors = y - y_pred\n",
        "    # plt.hist(errors)\n",
        "    # plot_precision_recall_curve(clf, X, y)\n",
        "    # plot_confusion_matrix(clf, X, y, values_format='d')\n",
        "    # def mean_confidence_interval(data, confidence=0.95):\n",
        "    #     a = 1.0 * np.array(data)\n",
        "    #     n = len(a)\n",
        "    #     m, se = np.mean(a), scipy.stats.sem(a)\n",
        "    #     h = se * scipy.stats.t.ppf((1 + confidence) / 2., n-1)\n",
        "    #     return m, m-h, m+h\n",
        "    # conf_interval = mean_confidence_interval(errors, 0.95)\n",
        "    # print(conf_interval)\n",
        "    metrics = {'test_accuracy': accuracy\n",
        "               , 'test_f1_score': f1\n",
        "            #    , 'conf_interval': conf_interval\n",
        "               }\n",
        "    return X, y, y_pred, metrics\n",
        "    print(result)"
      ],
      "execution_count": 39,
      "outputs": []
    },
    {
      "cell_type": "code",
      "execution_count": 40,
      "metadata": {},
      "outputs": [],
      "source": [
        "def get_predictions(X, TAGS_TO_PREDICT, MODEL_DIR):\n",
        "    clf = pickle.load(open(MODEL_DIR, 'rb'))\n",
        "    print(\"the model has been loaded\")\n",
        "    y_pred = clf.predict(X)\n",
        "    print(\"predictions were calculated\")\n",
        "    return y_pred"
      ]
    },
    {
      "cell_type": "markdown",
      "metadata": {},
      "source": [
        "# Constants"
      ]
    },
    {
      "cell_type": "code",
      "execution_count": 53,
      "metadata": {},
      "outputs": [],
      "source": [
        "GRAPH_VER = 5\n",
        "MODEL = 'svm'\n",
        "CHUNK_SIZE = 10\n",
        "DATASET_PATH = './data/golden_884_set.csv'\n",
        "MODEL_DIR = './models/{}_regex_graph_v{}.sav'.format(MODEL, GRAPH_VER)\n",
        "TFIDF_DIR = './models/tfidf_{}_graph_v{}.pickle'.format(MODEL, GRAPH_VER)\n",
        "CODE_COLUMN = 'code_block'\n",
        "TAGS_TO_PREDICT = ['import', 'data_import', 'data_export', 'preprocessing',\n",
        "                    'visualization', 'model', 'deep_learning_model', 'train', 'predict']\n",
        "SCRIPT_DIR = './predict_tag.ipynb'"
      ]
    },
    {
      "cell_type": "markdown",
      "metadata": {},
      "source": [
        "### Validation or Evaluation"
      ]
    },
    {
      "cell_type": "code",
      "metadata": {
        "cell_id": "b66b92bc-9fb1-4810-8640-af32c015a076",
        "id": "ztGp0qcoKudq",
        "colab_type": "code",
        "colab": {
          "base_uri": "https://localhost:8080/",
          "height": 504
        },
        "outputId": "6dce49be-007b-430c-f56a-90d7e9ee2978",
        "tags": []
      },
      "source": [
        "if __name__ == '__main__':\n",
        "    TASK = 'model validation'\n",
        "    df, code_blocks = load_code_blocks(DATASET_PATH, CODE_COLUMN)\n",
        "    nrows = df.shape[0]\n",
        "    print(\"loaded\")\n",
        "    tfidf_params = {'min_df': 5\n",
        "            , 'max_df': 0.3\n",
        "            , 'smooth_idf': True}\n",
        "    SVM_params = {'C': 100\n",
        "            , 'kernel': \"linear\"\n",
        "            , 'verbose': 1\n",
        "            , 'random_state': 241}\n",
        "    meta = {'DATASET_PATH': DATASET_PATH\n",
        "           ,'MODEL_DIR': MODEL_DIR\n",
        "           ,'TFIDF_DIR': TFIDF_DIR\n",
        "           ,'nrows': nrows\n",
        "           ,'label': TAGS_TO_PREDICT\n",
        "           ,'model': MODEL\n",
        "           ,'graph_ver': GRAPH_VER\n",
        "           ,'script_dir': SCRIPT_DIR\n",
        "           ,'task': TASK}\n",
        "    code_blocks_tfidf = tfidf_transform(code_blocks, tfidf_params, TFIDF_DIR)\n",
        "    with dagshub.dagshub_logger() as logger:\n",
        "        # metrics = SVM_evaluate(df, code_blocks, tfidf_params, TFIDF_DIR, SVM_params)\n",
        "        _, y, y_pred, metrics = get_metrics(code_blocks_tfidf, df[TAGS_TO_PREDICT], TAGS_TO_PREDICT, MODEL_DIR)\n",
        "        logger.log_hyperparams(meta)\n",
        "        # logger.log_hyperparams(tfidf_params)\n",
        "        # logger.log_hyperparams(SVM_params)\n",
        "        logger.log_metrics(metrics)\n",
        "    print(\"finished\")"
      ],
      "execution_count": 54,
      "outputs": [
        {
          "output_type": "stream",
          "name": "stdout",
          "text": "Data of (884, 19) shape has been loaded\nIndex(['code_block', 'import', 'data_import', 'data_export', 'preprocessing',\n       'visualization', 'model', 'deep_learning_model', 'train', 'predict',\n       'import_regex_v5', 'data_import_regex_v5', 'data_export_regex_v5',\n       'preprocessing_regex_v5', 'visualization_regex_v5', 'model_regex_v5',\n       'deep_learning_model_regex_v5', 'train_regex_v5', 'predict_regex_v5'],\n      dtype='object')\nloaded\ntfidf loaded and transformed\nthe model has been loaded\npredictions were calculated\nMean Accuracy -6.49%\nF1-score 58.6%\nfinished\n"
        }
      ]
    },
    {
      "cell_type": "code",
      "execution_count": 33,
      "metadata": {},
      "outputs": [
        {
          "output_type": "execute_result",
          "data": {
            "text/plain": "     import  data_import  data_export  preprocessing  visualization  model  \\\n0         1            0            0              0              0      0   \n1         1            0            0              0              0      0   \n2         1            0            0              0              0      0   \n3         1            0            0              0              0      0   \n4         1            0            0              0              1      0   \n5         1            0            0              0              0      0   \n6         1            0            0              0              0      0   \n7         1            0            0              0              0      0   \n8         1            0            0              0              0      0   \n9         1            0            0              0              1      0   \n10        1            0            0              0              0      0   \n11        1            0            0              0              0      0   \n12        1            0            0              0              0      0   \n13        1            0            0              0              0      0   \n14        1            0            0              0              0      0   \n15        1            0            0              0              0      0   \n16        1            0            0              0              0      0   \n17        1            0            0              0              0      0   \n18        1            0            0              1              0      0   \n19        1            0            0              0              0      1   \n20        1            0            1              0              0      0   \n21        1            0            0              0              0      1   \n22        1            0            0              0              0      0   \n23        1            0            0              1              0      0   \n24        1            0            0              0              0      0   \n25        1            0            0              0              0      0   \n26        1            0            0              0              0      0   \n27        1            0            0              0              0      0   \n28        1            0            0              0              0      0   \n29        1            0            0              0              1      0   \n..      ...          ...          ...            ...            ...    ...   \n854       0            0            0              0              0      0   \n855       0            0            0              0              0      0   \n856       0            0            0              1              0      0   \n857       0            0            0              1              0      0   \n858       0            0            0              1              0      0   \n859       0            0            0              1              0      0   \n860       0            0            0              1              0      0   \n861       0            0            0              1              0      0   \n862       0            0            0              1              0      0   \n863       0            0            0              1              0      0   \n864       0            0            0              0              1      0   \n865       0            0            0              0              0      0   \n866       0            0            0              0              1      0   \n867       0            0            0              0              0      0   \n868       0            0            0              0              0      0   \n869       0            0            0              0              0      0   \n870       0            0            0              0              0      0   \n871       0            0            0              0              0      0   \n872       0            0            0              0              0      0   \n873       0            0            0              0              0      0   \n874       0            0            0              0              0      0   \n875       0            0            0              0              0      0   \n876       0            0            0              0              0      0   \n877       0            0            0              0              1      0   \n878       0            0            0              0              0      0   \n879       0            0            0              1              0      0   \n880       0            0            0              0              0      0   \n881       0            0            0              0              0      0   \n882       0            0            0              1              1      0   \n883       0            0            0              0              0      0   \n\n     deep_learning_model  train  predict  \n0                      0      0        0  \n1                      0      0        0  \n2                      0      0        0  \n3                      0      0        1  \n4                      0      0        0  \n5                      0      0        0  \n6                      0      0        0  \n7                      0      0        0  \n8                      0      0        0  \n9                      0      0        0  \n10                     0      0        0  \n11                     0      0        0  \n12                     0      0        0  \n13                     0      0        0  \n14                     0      0        0  \n15                     0      0        0  \n16                     0      0        0  \n17                     0      0        0  \n18                     0      0        0  \n19                     0      0        1  \n20                     0      0        0  \n21                     0      0        0  \n22                     0      0        0  \n23                     0      0        0  \n24                     0      0        0  \n25                     0      0        0  \n26                     0      0        0  \n27                     0      0        0  \n28                     0      0        0  \n29                     0      0        0  \n..                   ...    ...      ...  \n854                    0      0        1  \n855                    0      0        1  \n856                    0      0        0  \n857                    0      0        0  \n858                    0      0        0  \n859                    0      0        0  \n860                    0      0        0  \n861                    0      0        0  \n862                    0      0        0  \n863                    0      0        0  \n864                    0      0        0  \n865                    0      0        1  \n866                    0      0        1  \n867                    0      0        1  \n868                    0      0        1  \n869                    1      0        0  \n870                    0      0        1  \n871                    0      0        1  \n872                    0      0        1  \n873                    0      0        1  \n874                    0      0        1  \n875                    0      0        1  \n876                    0      0        1  \n877                    0      0        1  \n878                    0      1        1  \n879                    0      0        1  \n880                    0      0        1  \n881                    0      1        1  \n882                    0      0        0  \n883                    0      1        0  \n\n[884 rows x 9 columns]",
            "text/html": "<div>\n<style scoped>\n    .dataframe tbody tr th:only-of-type {\n        vertical-align: middle;\n    }\n\n    .dataframe tbody tr th {\n        vertical-align: top;\n    }\n\n    .dataframe thead th {\n        text-align: right;\n    }\n</style>\n<table border=\"1\" class=\"dataframe\">\n  <thead>\n    <tr style=\"text-align: right;\">\n      <th></th>\n      <th>import</th>\n      <th>data_import</th>\n      <th>data_export</th>\n      <th>preprocessing</th>\n      <th>visualization</th>\n      <th>model</th>\n      <th>deep_learning_model</th>\n      <th>train</th>\n      <th>predict</th>\n    </tr>\n  </thead>\n  <tbody>\n    <tr>\n      <th>0</th>\n      <td>1</td>\n      <td>0</td>\n      <td>0</td>\n      <td>0</td>\n      <td>0</td>\n      <td>0</td>\n      <td>0</td>\n      <td>0</td>\n      <td>0</td>\n    </tr>\n    <tr>\n      <th>1</th>\n      <td>1</td>\n      <td>0</td>\n      <td>0</td>\n      <td>0</td>\n      <td>0</td>\n      <td>0</td>\n      <td>0</td>\n      <td>0</td>\n      <td>0</td>\n    </tr>\n    <tr>\n      <th>2</th>\n      <td>1</td>\n      <td>0</td>\n      <td>0</td>\n      <td>0</td>\n      <td>0</td>\n      <td>0</td>\n      <td>0</td>\n      <td>0</td>\n      <td>0</td>\n    </tr>\n    <tr>\n      <th>3</th>\n      <td>1</td>\n      <td>0</td>\n      <td>0</td>\n      <td>0</td>\n      <td>0</td>\n      <td>0</td>\n      <td>0</td>\n      <td>0</td>\n      <td>1</td>\n    </tr>\n    <tr>\n      <th>4</th>\n      <td>1</td>\n      <td>0</td>\n      <td>0</td>\n      <td>0</td>\n      <td>1</td>\n      <td>0</td>\n      <td>0</td>\n      <td>0</td>\n      <td>0</td>\n    </tr>\n    <tr>\n      <th>5</th>\n      <td>1</td>\n      <td>0</td>\n      <td>0</td>\n      <td>0</td>\n      <td>0</td>\n      <td>0</td>\n      <td>0</td>\n      <td>0</td>\n      <td>0</td>\n    </tr>\n    <tr>\n      <th>6</th>\n      <td>1</td>\n      <td>0</td>\n      <td>0</td>\n      <td>0</td>\n      <td>0</td>\n      <td>0</td>\n      <td>0</td>\n      <td>0</td>\n      <td>0</td>\n    </tr>\n    <tr>\n      <th>7</th>\n      <td>1</td>\n      <td>0</td>\n      <td>0</td>\n      <td>0</td>\n      <td>0</td>\n      <td>0</td>\n      <td>0</td>\n      <td>0</td>\n      <td>0</td>\n    </tr>\n    <tr>\n      <th>8</th>\n      <td>1</td>\n      <td>0</td>\n      <td>0</td>\n      <td>0</td>\n      <td>0</td>\n      <td>0</td>\n      <td>0</td>\n      <td>0</td>\n      <td>0</td>\n    </tr>\n    <tr>\n      <th>9</th>\n      <td>1</td>\n      <td>0</td>\n      <td>0</td>\n      <td>0</td>\n      <td>1</td>\n      <td>0</td>\n      <td>0</td>\n      <td>0</td>\n      <td>0</td>\n    </tr>\n    <tr>\n      <th>10</th>\n      <td>1</td>\n      <td>0</td>\n      <td>0</td>\n      <td>0</td>\n      <td>0</td>\n      <td>0</td>\n      <td>0</td>\n      <td>0</td>\n      <td>0</td>\n    </tr>\n    <tr>\n      <th>11</th>\n      <td>1</td>\n      <td>0</td>\n      <td>0</td>\n      <td>0</td>\n      <td>0</td>\n      <td>0</td>\n      <td>0</td>\n      <td>0</td>\n      <td>0</td>\n    </tr>\n    <tr>\n      <th>12</th>\n      <td>1</td>\n      <td>0</td>\n      <td>0</td>\n      <td>0</td>\n      <td>0</td>\n      <td>0</td>\n      <td>0</td>\n      <td>0</td>\n      <td>0</td>\n    </tr>\n    <tr>\n      <th>13</th>\n      <td>1</td>\n      <td>0</td>\n      <td>0</td>\n      <td>0</td>\n      <td>0</td>\n      <td>0</td>\n      <td>0</td>\n      <td>0</td>\n      <td>0</td>\n    </tr>\n    <tr>\n      <th>14</th>\n      <td>1</td>\n      <td>0</td>\n      <td>0</td>\n      <td>0</td>\n      <td>0</td>\n      <td>0</td>\n      <td>0</td>\n      <td>0</td>\n      <td>0</td>\n    </tr>\n    <tr>\n      <th>15</th>\n      <td>1</td>\n      <td>0</td>\n      <td>0</td>\n      <td>0</td>\n      <td>0</td>\n      <td>0</td>\n      <td>0</td>\n      <td>0</td>\n      <td>0</td>\n    </tr>\n    <tr>\n      <th>16</th>\n      <td>1</td>\n      <td>0</td>\n      <td>0</td>\n      <td>0</td>\n      <td>0</td>\n      <td>0</td>\n      <td>0</td>\n      <td>0</td>\n      <td>0</td>\n    </tr>\n    <tr>\n      <th>17</th>\n      <td>1</td>\n      <td>0</td>\n      <td>0</td>\n      <td>0</td>\n      <td>0</td>\n      <td>0</td>\n      <td>0</td>\n      <td>0</td>\n      <td>0</td>\n    </tr>\n    <tr>\n      <th>18</th>\n      <td>1</td>\n      <td>0</td>\n      <td>0</td>\n      <td>1</td>\n      <td>0</td>\n      <td>0</td>\n      <td>0</td>\n      <td>0</td>\n      <td>0</td>\n    </tr>\n    <tr>\n      <th>19</th>\n      <td>1</td>\n      <td>0</td>\n      <td>0</td>\n      <td>0</td>\n      <td>0</td>\n      <td>1</td>\n      <td>0</td>\n      <td>0</td>\n      <td>1</td>\n    </tr>\n    <tr>\n      <th>20</th>\n      <td>1</td>\n      <td>0</td>\n      <td>1</td>\n      <td>0</td>\n      <td>0</td>\n      <td>0</td>\n      <td>0</td>\n      <td>0</td>\n      <td>0</td>\n    </tr>\n    <tr>\n      <th>21</th>\n      <td>1</td>\n      <td>0</td>\n      <td>0</td>\n      <td>0</td>\n      <td>0</td>\n      <td>1</td>\n      <td>0</td>\n      <td>0</td>\n      <td>0</td>\n    </tr>\n    <tr>\n      <th>22</th>\n      <td>1</td>\n      <td>0</td>\n      <td>0</td>\n      <td>0</td>\n      <td>0</td>\n      <td>0</td>\n      <td>0</td>\n      <td>0</td>\n      <td>0</td>\n    </tr>\n    <tr>\n      <th>23</th>\n      <td>1</td>\n      <td>0</td>\n      <td>0</td>\n      <td>1</td>\n      <td>0</td>\n      <td>0</td>\n      <td>0</td>\n      <td>0</td>\n      <td>0</td>\n    </tr>\n    <tr>\n      <th>24</th>\n      <td>1</td>\n      <td>0</td>\n      <td>0</td>\n      <td>0</td>\n      <td>0</td>\n      <td>0</td>\n      <td>0</td>\n      <td>0</td>\n      <td>0</td>\n    </tr>\n    <tr>\n      <th>25</th>\n      <td>1</td>\n      <td>0</td>\n      <td>0</td>\n      <td>0</td>\n      <td>0</td>\n      <td>0</td>\n      <td>0</td>\n      <td>0</td>\n      <td>0</td>\n    </tr>\n    <tr>\n      <th>26</th>\n      <td>1</td>\n      <td>0</td>\n      <td>0</td>\n      <td>0</td>\n      <td>0</td>\n      <td>0</td>\n      <td>0</td>\n      <td>0</td>\n      <td>0</td>\n    </tr>\n    <tr>\n      <th>27</th>\n      <td>1</td>\n      <td>0</td>\n      <td>0</td>\n      <td>0</td>\n      <td>0</td>\n      <td>0</td>\n      <td>0</td>\n      <td>0</td>\n      <td>0</td>\n    </tr>\n    <tr>\n      <th>28</th>\n      <td>1</td>\n      <td>0</td>\n      <td>0</td>\n      <td>0</td>\n      <td>0</td>\n      <td>0</td>\n      <td>0</td>\n      <td>0</td>\n      <td>0</td>\n    </tr>\n    <tr>\n      <th>29</th>\n      <td>1</td>\n      <td>0</td>\n      <td>0</td>\n      <td>0</td>\n      <td>1</td>\n      <td>0</td>\n      <td>0</td>\n      <td>0</td>\n      <td>0</td>\n    </tr>\n    <tr>\n      <th>...</th>\n      <td>...</td>\n      <td>...</td>\n      <td>...</td>\n      <td>...</td>\n      <td>...</td>\n      <td>...</td>\n      <td>...</td>\n      <td>...</td>\n      <td>...</td>\n    </tr>\n    <tr>\n      <th>854</th>\n      <td>0</td>\n      <td>0</td>\n      <td>0</td>\n      <td>0</td>\n      <td>0</td>\n      <td>0</td>\n      <td>0</td>\n      <td>0</td>\n      <td>1</td>\n    </tr>\n    <tr>\n      <th>855</th>\n      <td>0</td>\n      <td>0</td>\n      <td>0</td>\n      <td>0</td>\n      <td>0</td>\n      <td>0</td>\n      <td>0</td>\n      <td>0</td>\n      <td>1</td>\n    </tr>\n    <tr>\n      <th>856</th>\n      <td>0</td>\n      <td>0</td>\n      <td>0</td>\n      <td>1</td>\n      <td>0</td>\n      <td>0</td>\n      <td>0</td>\n      <td>0</td>\n      <td>0</td>\n    </tr>\n    <tr>\n      <th>857</th>\n      <td>0</td>\n      <td>0</td>\n      <td>0</td>\n      <td>1</td>\n      <td>0</td>\n      <td>0</td>\n      <td>0</td>\n      <td>0</td>\n      <td>0</td>\n    </tr>\n    <tr>\n      <th>858</th>\n      <td>0</td>\n      <td>0</td>\n      <td>0</td>\n      <td>1</td>\n      <td>0</td>\n      <td>0</td>\n      <td>0</td>\n      <td>0</td>\n      <td>0</td>\n    </tr>\n    <tr>\n      <th>859</th>\n      <td>0</td>\n      <td>0</td>\n      <td>0</td>\n      <td>1</td>\n      <td>0</td>\n      <td>0</td>\n      <td>0</td>\n      <td>0</td>\n      <td>0</td>\n    </tr>\n    <tr>\n      <th>860</th>\n      <td>0</td>\n      <td>0</td>\n      <td>0</td>\n      <td>1</td>\n      <td>0</td>\n      <td>0</td>\n      <td>0</td>\n      <td>0</td>\n      <td>0</td>\n    </tr>\n    <tr>\n      <th>861</th>\n      <td>0</td>\n      <td>0</td>\n      <td>0</td>\n      <td>1</td>\n      <td>0</td>\n      <td>0</td>\n      <td>0</td>\n      <td>0</td>\n      <td>0</td>\n    </tr>\n    <tr>\n      <th>862</th>\n      <td>0</td>\n      <td>0</td>\n      <td>0</td>\n      <td>1</td>\n      <td>0</td>\n      <td>0</td>\n      <td>0</td>\n      <td>0</td>\n      <td>0</td>\n    </tr>\n    <tr>\n      <th>863</th>\n      <td>0</td>\n      <td>0</td>\n      <td>0</td>\n      <td>1</td>\n      <td>0</td>\n      <td>0</td>\n      <td>0</td>\n      <td>0</td>\n      <td>0</td>\n    </tr>\n    <tr>\n      <th>864</th>\n      <td>0</td>\n      <td>0</td>\n      <td>0</td>\n      <td>0</td>\n      <td>1</td>\n      <td>0</td>\n      <td>0</td>\n      <td>0</td>\n      <td>0</td>\n    </tr>\n    <tr>\n      <th>865</th>\n      <td>0</td>\n      <td>0</td>\n      <td>0</td>\n      <td>0</td>\n      <td>0</td>\n      <td>0</td>\n      <td>0</td>\n      <td>0</td>\n      <td>1</td>\n    </tr>\n    <tr>\n      <th>866</th>\n      <td>0</td>\n      <td>0</td>\n      <td>0</td>\n      <td>0</td>\n      <td>1</td>\n      <td>0</td>\n      <td>0</td>\n      <td>0</td>\n      <td>1</td>\n    </tr>\n    <tr>\n      <th>867</th>\n      <td>0</td>\n      <td>0</td>\n      <td>0</td>\n      <td>0</td>\n      <td>0</td>\n      <td>0</td>\n      <td>0</td>\n      <td>0</td>\n      <td>1</td>\n    </tr>\n    <tr>\n      <th>868</th>\n      <td>0</td>\n      <td>0</td>\n      <td>0</td>\n      <td>0</td>\n      <td>0</td>\n      <td>0</td>\n      <td>0</td>\n      <td>0</td>\n      <td>1</td>\n    </tr>\n    <tr>\n      <th>869</th>\n      <td>0</td>\n      <td>0</td>\n      <td>0</td>\n      <td>0</td>\n      <td>0</td>\n      <td>0</td>\n      <td>1</td>\n      <td>0</td>\n      <td>0</td>\n    </tr>\n    <tr>\n      <th>870</th>\n      <td>0</td>\n      <td>0</td>\n      <td>0</td>\n      <td>0</td>\n      <td>0</td>\n      <td>0</td>\n      <td>0</td>\n      <td>0</td>\n      <td>1</td>\n    </tr>\n    <tr>\n      <th>871</th>\n      <td>0</td>\n      <td>0</td>\n      <td>0</td>\n      <td>0</td>\n      <td>0</td>\n      <td>0</td>\n      <td>0</td>\n      <td>0</td>\n      <td>1</td>\n    </tr>\n    <tr>\n      <th>872</th>\n      <td>0</td>\n      <td>0</td>\n      <td>0</td>\n      <td>0</td>\n      <td>0</td>\n      <td>0</td>\n      <td>0</td>\n      <td>0</td>\n      <td>1</td>\n    </tr>\n    <tr>\n      <th>873</th>\n      <td>0</td>\n      <td>0</td>\n      <td>0</td>\n      <td>0</td>\n      <td>0</td>\n      <td>0</td>\n      <td>0</td>\n      <td>0</td>\n      <td>1</td>\n    </tr>\n    <tr>\n      <th>874</th>\n      <td>0</td>\n      <td>0</td>\n      <td>0</td>\n      <td>0</td>\n      <td>0</td>\n      <td>0</td>\n      <td>0</td>\n      <td>0</td>\n      <td>1</td>\n    </tr>\n    <tr>\n      <th>875</th>\n      <td>0</td>\n      <td>0</td>\n      <td>0</td>\n      <td>0</td>\n      <td>0</td>\n      <td>0</td>\n      <td>0</td>\n      <td>0</td>\n      <td>1</td>\n    </tr>\n    <tr>\n      <th>876</th>\n      <td>0</td>\n      <td>0</td>\n      <td>0</td>\n      <td>0</td>\n      <td>0</td>\n      <td>0</td>\n      <td>0</td>\n      <td>0</td>\n      <td>1</td>\n    </tr>\n    <tr>\n      <th>877</th>\n      <td>0</td>\n      <td>0</td>\n      <td>0</td>\n      <td>0</td>\n      <td>1</td>\n      <td>0</td>\n      <td>0</td>\n      <td>0</td>\n      <td>1</td>\n    </tr>\n    <tr>\n      <th>878</th>\n      <td>0</td>\n      <td>0</td>\n      <td>0</td>\n      <td>0</td>\n      <td>0</td>\n      <td>0</td>\n      <td>0</td>\n      <td>1</td>\n      <td>1</td>\n    </tr>\n    <tr>\n      <th>879</th>\n      <td>0</td>\n      <td>0</td>\n      <td>0</td>\n      <td>1</td>\n      <td>0</td>\n      <td>0</td>\n      <td>0</td>\n      <td>0</td>\n      <td>1</td>\n    </tr>\n    <tr>\n      <th>880</th>\n      <td>0</td>\n      <td>0</td>\n      <td>0</td>\n      <td>0</td>\n      <td>0</td>\n      <td>0</td>\n      <td>0</td>\n      <td>0</td>\n      <td>1</td>\n    </tr>\n    <tr>\n      <th>881</th>\n      <td>0</td>\n      <td>0</td>\n      <td>0</td>\n      <td>0</td>\n      <td>0</td>\n      <td>0</td>\n      <td>0</td>\n      <td>1</td>\n      <td>1</td>\n    </tr>\n    <tr>\n      <th>882</th>\n      <td>0</td>\n      <td>0</td>\n      <td>0</td>\n      <td>1</td>\n      <td>1</td>\n      <td>0</td>\n      <td>0</td>\n      <td>0</td>\n      <td>0</td>\n    </tr>\n    <tr>\n      <th>883</th>\n      <td>0</td>\n      <td>0</td>\n      <td>0</td>\n      <td>0</td>\n      <td>0</td>\n      <td>0</td>\n      <td>0</td>\n      <td>1</td>\n      <td>0</td>\n    </tr>\n  </tbody>\n</table>\n<p>884 rows × 9 columns</p>\n</div>"
          },
          "metadata": {},
          "execution_count": 33
        }
      ],
      "source": [
        "y"
      ]
    },
    {
      "cell_type": "code",
      "execution_count": 55,
      "metadata": {
        "tags": []
      },
      "outputs": [
        {
          "output_type": "stream",
          "name": "stdout",
          "text": "import\n(0.9931, 0.9933, 0.9932)\n------\ndata_import\n(0.9491, 0.956, 0.9536)\n------\ndata_export\n(0.8824, 0.9206, 0.9129)\n------\npreprocessing\n(0.7175, 0.7124, 0.724)\n------\nvisualization\n(0.8225, 0.8346, 0.8156)\n------\nmodel\n(0.8654, 0.8915, 0.8846)\n------\ndeep_learning_model\n(0.899, 0.9464, 0.8654)\n------\ntrain\n(0.9526, 0.9547, 0.9514)\n------\npredict\n(0.9189, 0.9212, 0.9299)\n------\n"
        }
      ],
      "source": [
        "for i, tag in enumerate(TAGS_TO_PREDICT):\n",
        "    tag_results = (round(f1_score(y.iloc[:, i], y_pred[:, i], average='weighted'),4),\\\n",
        "                    round(precision_score(y.iloc[:, i], y_pred[:, i], average='weighted'),4),\\\n",
        "                    round(recall_score(y.iloc[:, i], y_pred[:, i], average='weighted'),4))\n",
        "    print(tag)\n",
        "    print(tag_results)\n",
        "    print('------')"
      ]
    },
    {
      "cell_type": "markdown",
      "metadata": {},
      "source": [
        "### Validation (different chunk_sizes)"
      ]
    },
    {
      "cell_type": "code",
      "execution_count": 10,
      "metadata": {
        "tags": []
      },
      "outputs": [],
      "source": [
        "# if __name__ == '__main__':\n",
        "#     all_metrics = []\n",
        "#     chunk_sizes = [5, 10, 15, 20, 25, 30, 40]\n",
        "#     for i in chunk_sizes:\n",
        "#         df, corpus = load_code_blocks(DATASET_PATH, CODE_COLUMN)\n",
        "#         nrows = df.shape[0]\n",
        "#         print(\"loaded\")\n",
        "#         params = {'min_df': 5\n",
        "#                 , 'max_df': 0.3\n",
        "#                 , 'smooth_idf': True}\n",
        "#         meta = {'DATASET_PATH': DATASET_PATH\n",
        "#               ,'MODEL_DIR': MODEL_DIR\n",
        "#               ,'TFIDF_DIR': TFIDF_DIR\n",
        "#               ,'nrows': nrows\n",
        "#               ,'label': TAG_TO_PREDICT\n",
        "#               ,'model': MODEL\n",
        "#               ,'graph_ver': GRAPH_VER\n",
        "#               ,'script_dir': SCRIPT_DIR\n",
        "#               ,'task': TASK}\n",
        "#         features = tfidf_transform(corpus, params, TFIDF_DIR)\n",
        "#         print(\"tfidf-ed\")\n",
        "#         # metrics = logreg_evaluate(df, features, TAG_TO_PREDICT)\n",
        "#         _, _, _, metrics = get_metrics(features, df[TAG_TO_PREDICT], TAG_TO_PREDICT, MODEL_DIR)\n",
        "#         all_metrics.append(metrics)\n",
        "#         # with dagshub.dagshub_logger() as logger:\n",
        "#         #     logger.log_hyperparams(meta)\n",
        "#         #     logger.log_hyperparams(params)\n",
        "#         #     logger.log_metrics(metrics)\n",
        "#         print(\"finished\")"
      ]
    },
    {
      "cell_type": "code",
      "execution_count": 11,
      "metadata": {},
      "outputs": [],
      "source": [
        "# all_acc = [all_metrics[i]['test_accuracy'] for i in range(len(all_metrics))]\n",
        "# all_f1 = [all_metrics[i]['test_f1_score'] for i in range(len(all_metrics))]\n",
        "# plt.scatter(chunk_sizes, all_acc)\n",
        "# plt.scatter(chunk_sizes, all_f1)"
      ]
    },
    {
      "cell_type": "markdown",
      "metadata": {},
      "source": [
        "## Errors Analysis"
      ]
    },
    {
      "cell_type": "code",
      "execution_count": 12,
      "metadata": {},
      "outputs": [],
      "source": [
        "# VAL_CHUNK_SIZE = 10\n",
        "# VAL_CODE_COLUMN = 'code'\n",
        "# VAL_TAG_TO_PREDICT = 'tag'\n",
        "# VAL_DATASET_PATH = './data/chunks_{}_validate.csv'.format(VAL_CHUNK_SIZE)"
      ]
    },
    {
      "cell_type": "code",
      "execution_count": 13,
      "metadata": {
        "tags": []
      },
      "outputs": [],
      "source": [
        "# def analyze_predictions(X, y, TAG_TO_PREDICT, MODEL_DIR):\n",
        "#     clf = pickle.load(open(MODEL_DIR, 'rb'))\n",
        "#     # result = loaded_model.score(X, y)\n",
        "#     y_pred = clf.predict(X)\n",
        "#     accuracy = accuracy_score(y_pred, y)\n",
        "#     f1 = f1_score(y_pred, y, average='weighted')\n",
        "#     print(f'Mean Accuracy {round(accuracy*100, 2)}%')\n",
        "#     print(f'F1-score {round(f1*100, 2)}%')\n",
        "#     errors = y - y_pred\n",
        "#     plt.hist(errors)\n",
        "#     plot_precision_recall_curve(clf, X, y)\n",
        "#     plot_confusion_matrix(clf, X, y, values_format='d')\n",
        "#     def mean_confidence_interval(data, confidence=0.95):\n",
        "#         a = 1.0 * np.array(data)\n",
        "#         n = len(a)\n",
        "#         m, se = np.mean(a), scipy.stats.sem(a)\n",
        "#         h = se * scipy.stats.t.ppf((1 + confidence) / 2., n-1)\n",
        "#         return m, m-h, m+h\n",
        "#     conf_interval = mean_confidence_interval(errors, 0.95)\n",
        "#     print(conf_interval)\n",
        "#     metrics = {'test_accuracy': accuracy\n",
        "#                , 'test_f1_score': f1}\n",
        "#     return X, y, y_pred\n",
        "# if __name__ == '__main__':\n",
        "#     df, corpus = load_code_blocks(VAL_DATASET_PATH, VAL_CODE_COLUMN)\n",
        "#     nrows = df.shape[0]\n",
        "#     print(\"loaded\")\n",
        "#     params = {'min_df': 5\n",
        "#              , 'max_df': 0.3\n",
        "#              , 'smooth_idf': True}\n",
        "#     features = tfidf_transform(corpus, params, TFIDF_DIR)\n",
        "#     print(\"tfidf-ed\")\n",
        "#     _, _, y_pred = analyze_predictions(features, df[VAL_TAG_TO_PREDICT], VAL_TAG_TO_PREDICT, MODEL_DIR)\n",
        "#     print(\"finished\")\n",
        "#     df[PREDICT_COL] = y_pred"
      ]
    },
    {
      "cell_type": "code",
      "execution_count": 14,
      "metadata": {
        "tags": []
      },
      "outputs": [],
      "source": [
        "# _, y, y_pred, _ = get_metrics(features, df[VAL_TAG_TO_PREDICT], VAL_TAG_TO_PREDICT, MODEL_DIR)"
      ]
    },
    {
      "cell_type": "code",
      "execution_count": 15,
      "metadata": {},
      "outputs": [],
      "source": [
        "# pd.set_option('max_colwidth', 500)\n",
        "# pd.set_option('max_rows', 500)"
      ]
    },
    {
      "cell_type": "code",
      "execution_count": 16,
      "metadata": {},
      "outputs": [],
      "source": [
        "# ## False Negatives (preprocessing y/n)\n",
        "# df[(df[VAL_TAG_TO_PREDICT] == 1)&(df[PREDICT_COL] == 0)][VAL_CODE_COLUMN].to_csv('./model_interpretation_results/errors_analysis/{}_validation_{}_chunksize_{}_conf_matrix_FN.txt'.format(MODEL, GRAPH_VER, VAL_CHUNK_SIZE), index=False)"
      ]
    },
    {
      "cell_type": "code",
      "execution_count": 17,
      "metadata": {},
      "outputs": [],
      "source": [
        "## False Positives (preprocessing y/n)\n",
        "# df[(df[VAL_TAG_TO_PREDICT] == 0)&(df[PREDICT_COL] == 1)][VAL_CODE_COLUMN].to_csv('./model_interpretation_results/errors_analysis/{}_validation_{}_chunksize_{}_conf_matrix_FP.txt'.format(MODEL, GRAPH_VER, VAL_CHUNK_SIZE), index=False)"
      ]
    },
    {
      "cell_type": "code",
      "execution_count": 18,
      "metadata": {},
      "outputs": [],
      "source": [
        "## True Negatives (preprocessing y/n)\n",
        "# df[(df[VAL_TAG_TO_PREDICT] == 0)&(df[PREDICT_COL] == 0)][VAL_CODE_COLUMN].to_csv('./model_interpretation_results/errors_analysis/{}_validation_{}_chunksize_{}_conf_matrix_TN.txt'.format(MODEL, GRAPH_VER, VAL_CHUNK_SIZE), index=False)"
      ]
    },
    {
      "cell_type": "code",
      "execution_count": 19,
      "metadata": {},
      "outputs": [],
      "source": [
        "# ## True Positives (preprocessing y/n)\n",
        "# df[(df[VAL_TAG_TO_PREDICT] == 1)&(df[PREDICT_COL] == 1)][VAL_CODE_COLUMN].to_csv('./model_interpretation_results/errors_analysis/{}_validation_{}_chunksize_{}_conf_matrix_TP.txt'.format(MODEL, GRAPH_VER, VAL_CHUNK_SIZE), index=False)"
      ]
    },
    {
      "cell_type": "markdown",
      "metadata": {},
      "source": [
        "### Inference"
      ]
    },
    {
      "cell_type": "code",
      "execution_count": 20,
      "metadata": {
        "tags": []
      },
      "outputs": [],
      "source": [
        "# if __name__ == '__main__':\n",
        "#     # GRAPH_VER = 5\n",
        "#     # MODEL = 'logreg'\n",
        "#     # CHUNK_SIZE = 10\n",
        "#     # DATASET_PATH = './data/github_chunks_{}.csv'.format(CHUNK_SIZE)\n",
        "#     CODE_COLUMN = '0'\n",
        "#     OUTPUT_DATASET_PATH = './data/golden_{}_{}_v{}.csv'.format(CHUNK_SIZE, MODEL, GRAPH_VER)\n",
        "#     MODEL_DIR = './models/{}_regex_graph_v{}.sav'.format(MODEL, GRAPH_VER)\n",
        "#     TFIDF_DIR = './models/tfidf_{}_graph_v{}.pickle'.format(MODEL, GRAPH_VER)\n",
        "\n",
        "#     df, code_blocks = load_code_blocks(DATASET_PATH, CODE_COLUMN)\n",
        "#     df.dropna(axis=0, inplace=True)\n",
        "\n",
        "#     print(\"loaded\")\n",
        "#     tfidf_params = {'min_df': 5\n",
        "#                     , 'max_df': 0.3\n",
        "#                     , 'smooth_idf': True}\n",
        "                    \n",
        "#     code_blocks_tfidf = tfidf_transform(code_blocks, tfidf_params, TFIDF_DIR)\n",
        "#     y_pred = get_predictions(code_blocks_tfidf, TAGS_TO_PREDICT, MODEL_DIR)\n",
        "    \n",
        "#     for i, tag in enumerate(TAGS_TO_PREDICT):\n",
        "#         df[tag+''] = pd.Series(y_pred[:, i])\n",
        "#     print(\"finished\")\n",
        "#     df.to_csv(OUTPUT_DATASET_PATH, index=False)\n",
        "#     print(\"saved\") "
      ]
    },
    {
      "cell_type": "code",
      "execution_count": null,
      "metadata": {},
      "outputs": [],
      "source": []
    }
  ]
}