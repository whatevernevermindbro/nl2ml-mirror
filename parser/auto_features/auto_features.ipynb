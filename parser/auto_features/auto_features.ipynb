{
 "metadata": {
  "language_info": {
   "codemirror_mode": {
    "name": "ipython",
    "version": 3
   },
   "file_extension": ".py",
   "mimetype": "text/x-python",
   "name": "python",
   "nbconvert_exporter": "python",
   "pygments_lexer": "ipython3",
   "version": "3.8.6-final"
  },
  "orig_nbformat": 2,
  "kernelspec": {
   "name": "python3",
   "display_name": "Python 3.8.6 64-bit",
   "metadata": {
    "interpreter": {
     "hash": "0de36b31320ba4c88b4f85a74724f3d16c36a44df48581253710b1065e752d9e"
    }
   }
  }
 },
 "nbformat": 4,
 "nbformat_minor": 2,
 "cells": [
  {
   "cell_type": "code",
   "execution_count": 1,
   "metadata": {},
   "outputs": [],
   "source": [
    "import pandas as pd\n",
    "import numpy as np"
   ]
  },
  {
   "cell_type": "code",
   "execution_count": 3,
   "metadata": {},
   "outputs": [
    {
     "output_type": "execute_result",
     "data": {
      "text/plain": [
       "   Unnamed: 0  code_block_id  \\\n",
       "0           0         570367   \n",
       "1           1         570367   \n",
       "2           2         570368   \n",
       "3           3         570369   \n",
       "4           4         570367   \n",
       "\n",
       "                                          code_block data_format  \\\n",
       "0  `# My forecasting COVID-19 confirmed cases and...       Table   \n",
       "1  `# My forecasting COVID-19 confirmed cases and...       Table   \n",
       "2  `# load training and testing data \\nsubm = pd....       Table   \n",
       "3                                             `subm`       Table   \n",
       "4  `# My forecasting COVID-19 confirmed cases and...       Table   \n",
       "\n",
       "   graph_vertex_id errors  marks  kaggle_id  competition_id  \n",
       "0               45     No      2    8591010            4368  \n",
       "1               45     No      2    8591010            4368  \n",
       "2               45     No      5    8591010            4368  \n",
       "3               41     No      5    8591010            4368  \n",
       "4               45     No      2    8591010            4368  "
      ],
      "text/html": "<div>\n<style scoped>\n    .dataframe tbody tr th:only-of-type {\n        vertical-align: middle;\n    }\n\n    .dataframe tbody tr th {\n        vertical-align: top;\n    }\n\n    .dataframe thead th {\n        text-align: right;\n    }\n</style>\n<table border=\"1\" class=\"dataframe\">\n  <thead>\n    <tr style=\"text-align: right;\">\n      <th></th>\n      <th>Unnamed: 0</th>\n      <th>code_block_id</th>\n      <th>code_block</th>\n      <th>data_format</th>\n      <th>graph_vertex_id</th>\n      <th>errors</th>\n      <th>marks</th>\n      <th>kaggle_id</th>\n      <th>competition_id</th>\n    </tr>\n  </thead>\n  <tbody>\n    <tr>\n      <th>0</th>\n      <td>0</td>\n      <td>570367</td>\n      <td>`# My forecasting COVID-19 confirmed cases and...</td>\n      <td>Table</td>\n      <td>45</td>\n      <td>No</td>\n      <td>2</td>\n      <td>8591010</td>\n      <td>4368</td>\n    </tr>\n    <tr>\n      <th>1</th>\n      <td>1</td>\n      <td>570367</td>\n      <td>`# My forecasting COVID-19 confirmed cases and...</td>\n      <td>Table</td>\n      <td>45</td>\n      <td>No</td>\n      <td>2</td>\n      <td>8591010</td>\n      <td>4368</td>\n    </tr>\n    <tr>\n      <th>2</th>\n      <td>2</td>\n      <td>570368</td>\n      <td>`# load training and testing data \\nsubm = pd....</td>\n      <td>Table</td>\n      <td>45</td>\n      <td>No</td>\n      <td>5</td>\n      <td>8591010</td>\n      <td>4368</td>\n    </tr>\n    <tr>\n      <th>3</th>\n      <td>3</td>\n      <td>570369</td>\n      <td>`subm`</td>\n      <td>Table</td>\n      <td>41</td>\n      <td>No</td>\n      <td>5</td>\n      <td>8591010</td>\n      <td>4368</td>\n    </tr>\n    <tr>\n      <th>4</th>\n      <td>4</td>\n      <td>570367</td>\n      <td>`# My forecasting COVID-19 confirmed cases and...</td>\n      <td>Table</td>\n      <td>45</td>\n      <td>No</td>\n      <td>2</td>\n      <td>8591010</td>\n      <td>4368</td>\n    </tr>\n  </tbody>\n</table>\n</div>"
     },
     "metadata": {},
     "execution_count": 3
    }
   ],
   "source": [
    "path = '../data/markup_data.csv'\n",
    "markup_data = pd.read_csv(path)\n",
    "markup_data.head()"
   ]
  }
 ]
}