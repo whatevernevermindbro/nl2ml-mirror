{
 "metadata": {
  "language_info": {
   "codemirror_mode": {
    "name": "ipython",
    "version": 3
   },
   "file_extension": ".py",
   "mimetype": "text/x-python",
   "name": "python",
   "nbconvert_exporter": "python",
   "pygments_lexer": "ipython3",
   "version": "3.8.6-final"
  },
  "orig_nbformat": 2,
  "kernelspec": {
   "name": "python386jvsc74a57bd00de36b31320ba4c88b4f85a74724f3d16c36a44df48581253710b1065e752d9e",
   "display_name": "Python 3.8.6 64-bit"
  },
  "metadata": {
   "interpreter": {
    "hash": "0de36b31320ba4c88b4f85a74724f3d16c36a44df48581253710b1065e752d9e"
   }
  }
 },
 "nbformat": 4,
 "nbformat_minor": 2,
 "cells": [
  {
   "cell_type": "code",
   "execution_count": 1,
   "metadata": {},
   "outputs": [],
   "source": [
    "import pandas as pd\n",
    "import numpy as np"
   ]
  },
  {
   "cell_type": "code",
   "execution_count": 12,
   "metadata": {},
   "outputs": [
    {
     "output_type": "execute_result",
     "data": {
      "text/plain": [
       "inClass           197\n",
       "featured           23\n",
       "playground         11\n",
       "research           11\n",
       "recruitment         4\n",
       "gettingStarted      1\n",
       "Name: comp_type, dtype: int64"
      ]
     },
     "metadata": {},
     "execution_count": 12
    }
   ],
   "source": [
    "competitions['comp_type'].value_counts()"
   ]
  },
  {
   "cell_type": "code",
   "execution_count": 10,
   "metadata": {},
   "outputs": [
    {
     "output_type": "execute_result",
     "data": {
      "text/plain": [
       "(247, 9)"
      ]
     },
     "metadata": {},
     "execution_count": 10
    }
   ],
   "source": [
    "comp_path = '../../data/competitions_info_cleaned.csv'\n",
    "competitions = pd.read_csv(comp_path)\n",
    "competitions.shape"
   ]
  },
  {
   "cell_type": "code",
   "execution_count": 6,
   "metadata": {},
   "outputs": [
    {
     "output_type": "execute_result",
     "data": {
      "text/plain": [
       "   graph_vertex_id       graph_vertex  graph_vertex_subclass\n",
       "0                1  Hyperparam_Tuning        find_best_score\n",
       "1                2  Hyperparam_Tuning       find_best_params\n",
       "2                3  Hyperparam_Tuning  find_best_model_class\n",
       "3                4  Hyperparam_Tuning     choose model class\n",
       "4                5  Hyperparam_Tuning    define_search_space"
      ],
      "text/html": "<div>\n<style scoped>\n    .dataframe tbody tr th:only-of-type {\n        vertical-align: middle;\n    }\n\n    .dataframe tbody tr th {\n        vertical-align: top;\n    }\n\n    .dataframe thead th {\n        text-align: right;\n    }\n</style>\n<table border=\"1\" class=\"dataframe\">\n  <thead>\n    <tr style=\"text-align: right;\">\n      <th></th>\n      <th>graph_vertex_id</th>\n      <th>graph_vertex</th>\n      <th>graph_vertex_subclass</th>\n    </tr>\n  </thead>\n  <tbody>\n    <tr>\n      <th>0</th>\n      <td>1</td>\n      <td>Hyperparam_Tuning</td>\n      <td>find_best_score</td>\n    </tr>\n    <tr>\n      <th>1</th>\n      <td>2</td>\n      <td>Hyperparam_Tuning</td>\n      <td>find_best_params</td>\n    </tr>\n    <tr>\n      <th>2</th>\n      <td>3</td>\n      <td>Hyperparam_Tuning</td>\n      <td>find_best_model_class</td>\n    </tr>\n    <tr>\n      <th>3</th>\n      <td>4</td>\n      <td>Hyperparam_Tuning</td>\n      <td>choose model class</td>\n    </tr>\n    <tr>\n      <th>4</th>\n      <td>5</td>\n      <td>Hyperparam_Tuning</td>\n      <td>define_search_space</td>\n    </tr>\n  </tbody>\n</table>\n</div>"
     },
     "metadata": {},
     "execution_count": 6
    }
   ],
   "source": [
    "graph_path = '../../data/actual_graph.csv'\n",
    "graph = pd.read_csv(graph_path)\n",
    "graph.rename({'id':'graph_vertex_id'}, axis=1, inplace=True)\n",
    "graph.head()"
   ]
  },
  {
   "cell_type": "code",
   "execution_count": 7,
   "metadata": {},
   "outputs": [
    {
     "output_type": "execute_result",
     "data": {
      "text/plain": [
       "(311, 8)"
      ]
     },
     "metadata": {},
     "execution_count": 7
    }
   ],
   "source": [
    "markup_path = '../../data/markup_data.csv'\n",
    "markup_data = pd.read_csv(markup_path)\n",
    "markup_data.shape"
   ]
  },
  {
   "cell_type": "code",
   "execution_count": 8,
   "metadata": {},
   "outputs": [
    {
     "output_type": "execute_result",
     "data": {
      "text/plain": [
       "     code_block_id                                         code_block  \\\n",
       "0           570367  `# My forecasting COVID-19 confirmed cases and...   \n",
       "1           570367  `# My forecasting COVID-19 confirmed cases and...   \n",
       "2           570368  `# load training and testing data \\nsubm = pd....   \n",
       "3           570369                                             `subm`   \n",
       "4           570367  `# My forecasting COVID-19 confirmed cases and...   \n",
       "..             ...                                                ...   \n",
       "306         155663  `outputFile = pd.DataFrame({\"ForecastId\": test...   \n",
       "307         155664                             `outputFile.sample(3)`   \n",
       "308         155665  `outputFile.to_csv(\"submission.csv\", index=Fal...   \n",
       "309         372218  `# This Python 3 environment comes with many h...   \n",
       "310         372219  `import plotly.express as px\\nimport plotly.gr...   \n",
       "\n",
       "    data_format  graph_vertex_id errors  marks  kaggle_id  competition_id  \\\n",
       "0         Table               45     No      2    8591010            4368   \n",
       "1         Table               45     No      2    8591010            4368   \n",
       "2         Table               45     No      5    8591010            4368   \n",
       "3         Table               41     No      5    8591010            4368   \n",
       "4         Table               45     No      2    8591010            4368   \n",
       "..          ...              ...    ...    ...        ...             ...   \n",
       "306       Table               12     No      5    8596735            4368   \n",
       "307       Table               41     No      5    8596735            4368   \n",
       "308       Table               25     No      5    8596735            4368   \n",
       "309       Table               22     No      3    8699382            4368   \n",
       "310        None               22     No      4    8699382            4368   \n",
       "\n",
       "        graph_vertex graph_vertex_subclass  \n",
       "0    Data_Extraction         load_from_csv  \n",
       "1    Data_Extraction         load_from_csv  \n",
       "2    Data_Extraction         load_from_csv  \n",
       "3                EDA            show_table  \n",
       "4    Data_Extraction         load_from_csv  \n",
       "..               ...                   ...  \n",
       "306   Data_Transform      create_dataframe  \n",
       "307              EDA            show_table  \n",
       "308      Data_Export           save_to_csv  \n",
       "309      Environment        import_modules  \n",
       "310      Environment        import_modules  \n",
       "\n",
       "[311 rows x 10 columns]"
      ],
      "text/html": "<div>\n<style scoped>\n    .dataframe tbody tr th:only-of-type {\n        vertical-align: middle;\n    }\n\n    .dataframe tbody tr th {\n        vertical-align: top;\n    }\n\n    .dataframe thead th {\n        text-align: right;\n    }\n</style>\n<table border=\"1\" class=\"dataframe\">\n  <thead>\n    <tr style=\"text-align: right;\">\n      <th></th>\n      <th>code_block_id</th>\n      <th>code_block</th>\n      <th>data_format</th>\n      <th>graph_vertex_id</th>\n      <th>errors</th>\n      <th>marks</th>\n      <th>kaggle_id</th>\n      <th>competition_id</th>\n      <th>graph_vertex</th>\n      <th>graph_vertex_subclass</th>\n    </tr>\n  </thead>\n  <tbody>\n    <tr>\n      <th>0</th>\n      <td>570367</td>\n      <td>`# My forecasting COVID-19 confirmed cases and...</td>\n      <td>Table</td>\n      <td>45</td>\n      <td>No</td>\n      <td>2</td>\n      <td>8591010</td>\n      <td>4368</td>\n      <td>Data_Extraction</td>\n      <td>load_from_csv</td>\n    </tr>\n    <tr>\n      <th>1</th>\n      <td>570367</td>\n      <td>`# My forecasting COVID-19 confirmed cases and...</td>\n      <td>Table</td>\n      <td>45</td>\n      <td>No</td>\n      <td>2</td>\n      <td>8591010</td>\n      <td>4368</td>\n      <td>Data_Extraction</td>\n      <td>load_from_csv</td>\n    </tr>\n    <tr>\n      <th>2</th>\n      <td>570368</td>\n      <td>`# load training and testing data \\nsubm = pd....</td>\n      <td>Table</td>\n      <td>45</td>\n      <td>No</td>\n      <td>5</td>\n      <td>8591010</td>\n      <td>4368</td>\n      <td>Data_Extraction</td>\n      <td>load_from_csv</td>\n    </tr>\n    <tr>\n      <th>3</th>\n      <td>570369</td>\n      <td>`subm`</td>\n      <td>Table</td>\n      <td>41</td>\n      <td>No</td>\n      <td>5</td>\n      <td>8591010</td>\n      <td>4368</td>\n      <td>EDA</td>\n      <td>show_table</td>\n    </tr>\n    <tr>\n      <th>4</th>\n      <td>570367</td>\n      <td>`# My forecasting COVID-19 confirmed cases and...</td>\n      <td>Table</td>\n      <td>45</td>\n      <td>No</td>\n      <td>2</td>\n      <td>8591010</td>\n      <td>4368</td>\n      <td>Data_Extraction</td>\n      <td>load_from_csv</td>\n    </tr>\n    <tr>\n      <th>...</th>\n      <td>...</td>\n      <td>...</td>\n      <td>...</td>\n      <td>...</td>\n      <td>...</td>\n      <td>...</td>\n      <td>...</td>\n      <td>...</td>\n      <td>...</td>\n      <td>...</td>\n    </tr>\n    <tr>\n      <th>306</th>\n      <td>155663</td>\n      <td>`outputFile = pd.DataFrame({\"ForecastId\": test...</td>\n      <td>Table</td>\n      <td>12</td>\n      <td>No</td>\n      <td>5</td>\n      <td>8596735</td>\n      <td>4368</td>\n      <td>Data_Transform</td>\n      <td>create_dataframe</td>\n    </tr>\n    <tr>\n      <th>307</th>\n      <td>155664</td>\n      <td>`outputFile.sample(3)`</td>\n      <td>Table</td>\n      <td>41</td>\n      <td>No</td>\n      <td>5</td>\n      <td>8596735</td>\n      <td>4368</td>\n      <td>EDA</td>\n      <td>show_table</td>\n    </tr>\n    <tr>\n      <th>308</th>\n      <td>155665</td>\n      <td>`outputFile.to_csv(\"submission.csv\", index=Fal...</td>\n      <td>Table</td>\n      <td>25</td>\n      <td>No</td>\n      <td>5</td>\n      <td>8596735</td>\n      <td>4368</td>\n      <td>Data_Export</td>\n      <td>save_to_csv</td>\n    </tr>\n    <tr>\n      <th>309</th>\n      <td>372218</td>\n      <td>`# This Python 3 environment comes with many h...</td>\n      <td>Table</td>\n      <td>22</td>\n      <td>No</td>\n      <td>3</td>\n      <td>8699382</td>\n      <td>4368</td>\n      <td>Environment</td>\n      <td>import_modules</td>\n    </tr>\n    <tr>\n      <th>310</th>\n      <td>372219</td>\n      <td>`import plotly.express as px\\nimport plotly.gr...</td>\n      <td>None</td>\n      <td>22</td>\n      <td>No</td>\n      <td>4</td>\n      <td>8699382</td>\n      <td>4368</td>\n      <td>Environment</td>\n      <td>import_modules</td>\n    </tr>\n  </tbody>\n</table>\n<p>311 rows × 10 columns</p>\n</div>"
     },
     "metadata": {},
     "execution_count": 8
    }
   ],
   "source": [
    "markup_data.merge(graph, on='graph_vertex_id', how='left')"
   ]
  },
  {
   "cell_type": "code",
   "execution_count": 17,
   "metadata": {},
   "outputs": [
    {
     "output_type": "execute_result",
     "data": {
      "text/plain": [
       "\"`# My forecasting COVID-19 confirmed cases and fatalities between March 19 and April 30 \\n# My submission scored 0.52281\\n\\nimport numpy as np \\nimport pandas as pd \\n\\nfrom sklearn.model_selection import train_test_split\\nfrom sklearn.preprocessing import LabelEncoder\\nfrom sklearn.model_selection import cross_val_score\\nfrom sklearn.metrics import mean_absolute_error\\nfrom sklearn.metrics import mean_squared_error\\n\\n# model\\nfrom catboost import Pool\\nfrom catboost import CatBoostRegressor\\nfrom xgboost import XGBRegressor\\nfrom sklearn.ensemble import GradientBoostingRegressor\\nfrom sklearn.ensemble import BaggingRegressor\\n\\n#plot\\npd.plotting.register_matplotlib_converters()\\nimport matplotlib.pyplot as plt\\n%matplotlib inline\\nimport seaborn as sns\\n\\nimport os\\nfor dirname, _, filenames in os.walk('/kaggle/input'):\\n    for filename in filenames:\\n        print(os.path.join(dirname, filename))`\""
      ]
     },
     "metadata": {},
     "execution_count": 17
    }
   ],
   "source": [
    "markup_data.code_block[0]"
   ]
  }
 ]
}