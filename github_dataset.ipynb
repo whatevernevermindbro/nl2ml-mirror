{
 "metadata": {
  "language_info": {
   "codemirror_mode": {
    "name": "ipython",
    "version": 3
   },
   "file_extension": ".py",
   "mimetype": "text/x-python",
   "name": "python",
   "nbconvert_exporter": "python",
   "pygments_lexer": "ipython3",
   "version": "3.8.5-final"
  },
  "orig_nbformat": 2,
  "kernelspec": {
   "name": "python_defaultSpec_1597769769317",
   "display_name": "Python 3.8.5 32-bit"
  }
 },
 "nbformat": 4,
 "nbformat_minor": 2,
 "cells": [
  {
   "cell_type": "code",
   "execution_count": 2,
   "metadata": {},
   "outputs": [
    {
     "output_type": "execute_result",
     "data": {
      "text/plain": "(249542, 6)"
     },
     "metadata": {},
     "execution_count": 2
    }
   ],
   "source": [
    "import pandas as pd\n",
    "github = pd.read_csv('./data/github_raw.csv')\n",
    "github.shape"
   ]
  },
  {
   "cell_type": "code",
   "execution_count": 30,
   "metadata": {
    "tags": []
   },
   "outputs": [
    {
     "output_type": "stream",
     "name": "stdout",
     "text": "# Define some operations\n\n# Launch the default graph.\n# Run every operation with variable input\n\n# ----------------\n# More in details:\n# Matrix Multiplication from TensorFlow official tutorial\n# Create a Constant op that produces a 1x2 matrix.  The op is\n# added as a node to the default graph.\n#\n# The value returned by the constructor represents the output\n# of the Constant op.\n\n"
    }
   ],
   "source": [
    "for i in range(12, 15):\n",
    "    print(github['comments'][i])"
   ]
  },
  {
   "cell_type": "code",
   "execution_count": null,
   "metadata": {},
   "outputs": [],
   "source": [
    "github['preprocessing'] = github.apply(lambda x: False if str(x).find('preprocessing') == -1 else True, axis=1)\n",
    "# string = misha['comments'][5]s\n",
    "# string.find('preprocessing') == -1"
   ]
  }
 ]
}