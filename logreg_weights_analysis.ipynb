{
 "metadata": {
  "language_info": {
   "codemirror_mode": {
    "name": "ipython",
    "version": 3
   },
   "file_extension": ".py",
   "mimetype": "text/x-python",
   "name": "python",
   "nbconvert_exporter": "python",
   "pygments_lexer": "ipython3",
   "version": "3.7.0-final"
  },
  "orig_nbformat": 2,
  "kernelspec": {
   "name": "python3",
   "display_name": "Python 3"
  }
 },
 "nbformat": 4,
 "nbformat_minor": 2,
 "cells": [
  {
   "cell_type": "code",
   "execution_count": 1,
   "metadata": {},
   "outputs": [],
   "source": [
    "import pandas as pd\n",
    "import numpy as np\n",
    "import matplotlib.pyplot as plt\n",
    "import scipy.stats\n",
    "\n",
    "from sklearn.feature_extraction.text import TfidfVectorizer\n",
    "from sklearn.linear_model import LogisticRegression\n",
    "from sklearn.multioutput import MultiOutputRegressor\n",
    "from sklearn.model_selection import train_test_split\n",
    "from sklearn.metrics import *\n",
    "\n",
    "import dagshub\n",
    "import pickle"
   ]
  },
  {
   "cell_type": "markdown",
   "metadata": {},
   "source": [
    "## Weights Analysis"
   ]
  },
  {
   "cell_type": "code",
   "execution_count": 26,
   "metadata": {},
   "outputs": [],
   "source": [
    "GRAPH_VER = 4\n",
    "DATASET_PATH = './data/code_blocks_regex_graph_v{}.csv'.format(GRAPH_VER)\n",
    "MODEL_DIR = './models/logreg_regex_graph_v{}.sav'.format(GRAPH_VER)\n",
    "TFIDF_DIR = './models/tfidf_logreg_graph_v{}.pickle'.format(GRAPH_VER)\n",
    "CODE_COLUMN = 'code_block'\n",
    "TAGS_TO_PREDICT = ['import', 'data_import', 'data_export', 'preprocessing',\n",
    "                    'visualization', 'model', 'train', 'predict']\n",
    "# PREDICT_COL = 'pred_{}'.format(TAGS_TO_PREDICT)\n",
    "\n",
    "# VAL_CHUNK_SIZE = 10\n",
    "# VAL_CODE_COLUMN = 'code'\n",
    "# VAL_TAGS_TO_PREDICT = 'tag'\n",
    "# VAL_DATASET_PATH = './data/chunks_{}_validate.csv'.format(VAL_CHUNK_SIZE)"
   ]
  },
  {
   "cell_type": "code",
   "execution_count": 33,
   "metadata": {},
   "outputs": [],
   "source": [
    "def load_corpus(DATASET_PATH, CODE_COLUMN):\n",
    "    df = pd.read_csv(DATASET_PATH, encoding='utf-8', comment='#', sep='\\t')#, quoting=csv.QUOTE_NONE, error_bad_lines=False)#, sep=','\n",
    "    df.dropna(axis=0, inplace=True)\n",
    "    corpus = df[CODE_COLUMN]\n",
    "    test_size = 0.1\n",
    "    test_rows = round(df.shape[0]*test_size)\n",
    "    train_rows = df.shape[0] - test_rows\n",
    "    train_corpus = df[CODE_COLUMN][0:test_rows]\n",
    "    test_corpus = df[CODE_COLUMN][train_rows:]\n",
    "    return df, corpus"
   ]
  },
  {
   "cell_type": "code",
   "execution_count": 34,
   "metadata": {},
   "outputs": [],
   "source": [
    "from operator import itemgetter\n",
    "def show_most_informative_features(model, vectorizer=None, text=None, n=20):\n",
    "    \"\"\"\n",
    "    Extract the vectorizer and the classifier from the pipeline\n",
    "    \"\"\"\n",
    "    if vectorizer is None:\n",
    "        vectorizer = model.named_steps['vectorizer']\n",
    "    else:\n",
    "        text = vectorizer.transform([text])\n",
    "\n",
    "    classifier = model#.named_steps['classifier']\n",
    "    feat_names = vectorizer.get_feature_names()\n",
    "\n",
    "    # Check to make sure that we can perform this computation\n",
    "    if not hasattr(classifier, 'coef_'):\n",
    "        raise TypeError(\n",
    "            \"Cannot compute most informative features on {}.\".format(\n",
    "                classifier.__class__.__name__\n",
    "            )\n",
    "        )    \n",
    "\n",
    "    # Otherwise simply use the coefficients\n",
    "    tvec = classifier.coef_\n",
    "\n",
    "    # Zip the feature names with the coefs and sort   \n",
    "    coefs = sorted(\n",
    "        zip(tvec[0], feat_names),\n",
    "        key=itemgetter(0), reverse=True\n",
    "    )\n",
    "\n",
    "    # Get the top n and bottom n coef, name pairs\n",
    "    topn  = zip(coefs[:n], coefs[:-(n+1):-1])\n",
    "\n",
    "    # Create the output string to return\n",
    "    output = []\n",
    "    # output = pd.DataFrame()\n",
    "    # If text, add the predicted value to the output.\n",
    "    if text is not None:\n",
    "        # output.append(\"\\\"{}\\\"\".format(text))\n",
    "        # output.append(\n",
    "        #     \"Classified as: {}\".format(model.predict(text))\n",
    "        # )\n",
    "        # output.append(\"\")s\n",
    "        print(\"Classified as: {}\".format(model.predict(text)))\n",
    "    # Create two columns with most negative and most positive features.\n",
    "\n",
    "    for (cp, fnp), (cn, fnn) in topn:\n",
    "        print(cp, fnp, cn, fnn)\n",
    "        output.append(\n",
    "            \"{:0.2f}{: >15}    {:0.2f}{: >15}\".format(\n",
    "                cp, fnp, cn, fnn\n",
    "            )\n",
    "        )\n",
    "\n",
    "    return \"\\n\".join(output)"
   ]
  },
  {
   "cell_type": "code",
   "execution_count": 36,
   "metadata": {
    "tags": [
     "outputPrepend"
    ]
   },
   "outputs": [
    {
     "output_type": "stream",
     "name": "stdout",
     "text": "1889343024887102 score -0.8447525908559158 random_grid\n2.188844015587808 neg_root_mean_squared_error -0.8379948649636675 any\n2.1718848333955547 final_x_test -0.837435680165424 query\n2.16726862340458 jaccard_similarity_score -0.8365062624260183 citytracker\n2.166547215444048 predicted_data -0.8320213967117405 county\n2.163906859447693 neg_mean_absolute_error -0.8320045300723122 imread\n2.155739060154632 model_type -0.8286695761065626 onfusion_matrix\n2.1477646423118673 yhat -0.8283448211194873 imshow\n2.1422554860230654 n_jobs -0.8263191886098348 super\n2.137728052476054 mean_ratings -0.8216608001514049 df\n2.1360717176538024 train_idx -0.8197142237926279 train_path\n2.135570165267831 redictions -0.8187856768894801 crosstab\n2.129616566803731 ravel -0.818184820255393 timeseries\n2.1199419648945796 run_experiment -0.8181689423426325 mh\n2.1109153117755017 this_preds -0.8162024402323635 cast\n2.1104237832593173 mean_train_score -0.8133992503614267 code\n2.109287888554826 df_out -0.8123208812630214 ticket\n2.1013726208330312 predict_graph -0.8113282174830956 from_numpy\n2.091815147845312 bands -0.8108616001582754 isfraud\n2.089790729311505 orig -0.8106314179363282 texts\n2.088509996506973 isup_grade -0.8104349265073877 df_copy\n2.084668354098484 y_train_pred_final -0.8067830532733112 preprocessing\n2.0837995989568543 answer -0.8066233949601914 my_data\n2.0834812637937317 predict_y -0.8064256447664961 figure\n2.080963815380153 train_predictions -0.8039770515115839 bins\n2.0758935097928197 prediction_df -0.8031643465760118 iris\n2.0714794373905843 display_fig -0.8027506069524049 inertia\n2.0714794373905843 fig_error -0.8019839100930676 species\n2.062853762890108 window -0.8015205654553205 rj\n2.0569088944444385 cv_scores1 -0.8003904252098262 future_data\n2.051518244577183 batch -0.7997906370551743 history\n2.0452512119810415 round -0.7963411388186092 words\n2.044767165013911 units -0.7944369662145984 length\n2.042838634237025 pred -0.7905886871066033 kde\n2.038071938495465 feature_scores_df -0.7875076997803946 roc_auc\n2.0374794606596396 loc -0.7872507003793595 plot_model\n2.034265927953271 train_prediction -0.7864381629431065 xes\n2.0317717935963127 lb -0.7854436014519847 ka\n2.0305011262611563 sample_boxes -0.7851474507002802 open\n2.0267014808636143 agglomerativeclustering -0.7841027173254335 embedding_matrix\n2.0257464541761214 validation_scores -0.7816621019072518 retail\n2.0208357526753873 pairwise_distances -0.7807871501054736 tokens\n2.020504732731101 test_x -0.780630457795589 covid19\n2.018902764929882 5f -0.7792752933707415 frequency\n1.9954245792881986 oof_predictions -0.7791318424999152 cumulative\n1.9887521793001497 display_long_term_prediction -0.7778444593079263 n_iter\n1.9746288520204207 csv -0.7755798833244625 random_search\n1.973788269956177 predict_result -0.7755050688827427 br\n1.973775047652898 val_score -0.7746361571383016 school\n1.9727660444845476 df_test2 -0.7744303093095232 gj\n1.967222066813652 lstm_predictions -0.772180191852372 type\n1.9662678753155287 rom -0.7652546434231388 black\n1.9601868342037336 cost_function -0.7645592521317107 line\n1.9583865744595181 outputs -0.7619893172119556 df_traintest8\n1.9571735752254782 num_days_r_prediction -0.761316715360747 topic\n1.954638082476996 test_generator -0.7589683411857963 ds_type\n1.9533701293873311 scatter -0.7569282302395786 y_hat_test\n1.9486027657597784 admit_chance -0.7560301070961594 sigmoid\n1.9457524453640838 tanh -0.7560038522410297 cases\n1.941090235515287 precision -0.7547437903041867 12\n1.9368722548574648 preds -0.7541491160100914 explode\n1.9275208646299187 base_predictions_train -0.7535636355363302 usa\n1.926361587084593 sqrt -0.7535189107722002 bs\n1.9255693765605006 predicts -0.75206539595687 momentum\n1.9218567598323228 roc_curve -0.751475686830152 covariate_shift\n1.921393901281743 df_temp -0.7493743932327935 float_format\n1.9185962344126566 rmsle -0.748688026619953 config\n1.9135203985603124 redicted -0.7474407994741643 rotation\n1.9133913511026148 df_cities -0.7472354075029924 train_transaction\n1.9126727817924356 oof_prediction -0.7427187055994592 subsample_freq\n1.912581214618576 unseen_predictions -0.7411435533835856 cov\n1.9077912844264973 wrong_predictions -0.7408962600772385 united\n1.905527620004952 predictions_arima -0.7401643246974319 df_new\n1.905090185654515 print_compared_cofusion_matrices -0.7382807699469698 application_train\n1.9010114037211487 seg_id -0.7377568483339987 sequences\n1.8995295241315666 petid -0.7361614385398475 un_example\n1.8992828012282994 df_forecast -0.7342951925662121 challenge\n1.898337227696709 job_post_scores -0.734007255639243 cuda\n1.8959786918197277 fifty_price_list -0.7332474249714719 pochs\n1.8959786918197277 max_price_list -0.7315820426713932 locations\n1.8959786918197277 mean_price_list -0.729503921136547 to_datetime\n1.8959786918197277 min_price_list -0.7246665313043501 i0\n1.8959786918197277 seventyfive_price_list -0.7245003075144617 int64\n1.8959786918197277 twentyfive_price_list -0.7239933905649854 mage\n1.8939206485143059 get_best_score -0.7236120068963879 val_loss\n1.8893105591938841 mean_absolute_percentage_error -0.7220142955134115 kwargs\n1.889259742231298 nfolds -0.7212787271693257 min_child_samples\n1.887606096787121 true_predictions -0.7205186711189264 music\n1.8866865686349648 f_score -0.7197029837448535 cord\n1.886352917754016 random_forest -0.7163847167695236 aspect\n1.8836103840036027 predicted_y -0.7158299263111843 covariate\n1.8816291612192695 data_provider -0.7146343348192891 calendar\n1.8814335960340525 roi_heads -0.7143147209448126 f_test\n1.8769546332186193 baseline -0.7139774946588855 encodedpixels\n1.8708876312734712 tf_abs -0.7125276542488831 mnist\n1.8708876312734712 tf_art -0.711020214415027 areas\n1.8697540183334467 label_predict -0.7097209789059719 transformedx\n1.869466125511781 reshape -0.7096692287966174 continent\n1.8682278225052986 argmax -0.70829501369662 high\n1.8674489796671132 class_predictions -0.7073644161601094 xticks\n1.8558296502468328 model -0.7056638463472431 hate\n1.8556164673166908 t_iter -0.7050575163862025 cmap\n1.8533473235626676 store_mean_df -0.7046352913527734 cancer\n1.8521776256103828 roc -0.7033287287204396 rid_search_cv\n1.8505145971781545 compound -0.7028233685927227 concat_sub\n1.846561004296736 video_error_or_removed -0.7010952999142495 pairplot\n1.8395590529120922 season_result -0.70006443134187 splitter\n1.834307786942671 pred_test_y -0.6991966427292537 https\n1.8320348891630258 target_names -0.6974585536821296 month\n1.8287465022136165 trends -0.6963425211224077 13\n1.8269785567244021 addiotion_predictions -0.6959425898320141 x_value\n1.826566540574293 params -0.6958187061921783 prescription\n1.82095857642923 rint_scores -0.6927631904208067 le\n1.8207456961731037 enumerate -0.6925494582337176 seq_length\n1.813078345509357 val_y -0.6924708411510552 correlation\n1.8117245825572486 petfinder -0.6924628300921631 from_tensor_slices\n1.7981028080434347 toefl_score -0.6913514268155827 paths\n1.7970048257019873 predictions_arima_log -0.6905722375717568 train_dir\n1.7960767788893617 gap -0.6893894219767676 other\n1.795803713113149 lstm -0.6890732074333712 client\n1.7943884884750376 forecast -0.6877711311032711 people\n1.7926217141565022 model_fit_and_predict -0.6839674371115125 fit1\n1.7894536398025216 valid_scores -0.6819855886161905 feature_extraction\n1.7877791860750682 target_valid -0.6810718675754577 attrition\n1.783817569391835 uplift_score -0.6791903957651332 sm\n1.7818513606076392 quadratic -0.6782327205090906 gca\n1.7790830972472056 df_pred -0.6775372880885178 resnet34\n1.777813780353309 models -0.6756576355696025 project\n1.7738604326580663 nameerror -0.6753781383992691 vocabulary_\n1.7725448312171046 language_score -0.673902737190974 rescale\n1.7722284046416148 sentimentintensityanalyzer -0.6701815916335059 sequential\n1.768576749815885 prophet -0.66924985831182 to_csv\n1.7674776038500855 adoption -0.6679864865406601 dfs\n1.7672846481122377 high_score -0.6668489440320503 glob\n1.765005781513792 train_model -0.6667870242638956 rmse_cv\n1.762888526115396 daily_error -0.6648626297179796 df5\n1.7627879128688422 df_train_all -0.6643254831083913 unknown\n1.7615643836935628 cv_scores3 -0.6633691616730412 credit\n1.7603025137178352 all_predictions -0.6624960979408568 corona\n1.754747775505932 test_answers_df -0.6616684532323934 meta_df\n1.7536784909537495 predict_test -0.660551661006732 blues\n1.7533448482155454 float32 -0.6598215049126122 model_train\n1.7441279795862366 def -0.658493878913446 rf_model_on_full_data\n1.7430844480692755 matchid -0.6579513869322945 transactions\n1.7423060859288995 on -0.6558839119263314 testdata\n1.7355135764551388 submissions -0.654879918582134 data_dir\n1.7353356916441898 root_mean_squared_error -0.6535599257763802 exam\n1.7304414912030863 df_table -0.653421153264644 df_pf\n1.7302264401911571 self -0.6514531036318301 matcher\n1.729854812602958 mean_consume -0.6505769041246539 stride\n1.7290665463311778 macro -0.6504862138713519 step_2\n1.728638359071902 mean_ -0.6491658962332832 id_char\n1.7242926161904868 test_labels -0.6488939750377294 resample\n1.722808794919097 sum_of_squared_distances -0.6488173611680274 df3\n1.7211215266835194 period -0.6479084748195161 italy\n1.7188435910359339 adjusted_rand_score -0.6476293020643918 numbers\n1.718467979890008 lr_prediction -0.6467093468660194 happy\n1.71286344384927 hparams -0.6427220399423211 impute\n1.711812465598311 lstm_predictions_scaled -0.6412965747870414 df_total\n1.7090365155956198 mean_value -0.6401470485765922 mileage\n1.7028573028140312 hidden_layer -0.6395353709372108 1000\n1.6938510828339994 gameid -0.63781375589152 violinplot\n1.6892066183568313 passengerid -0.637213392175326 strategy\n1.6831936920985562 country_name -0.6358330602665591 distortions\n1.6803967294868714 val_mean_absolute_error -0.6343647499045675 df_iris\n1.6797323012162229 test_predict_fa -0.6320658067700747 image_dir\n1.6771313416845055 user_predicted_ratings -0.6318789700903739 survival\n1.6766059656573196 regressor -0.6318471513816375 titanic_data\n1.675662518506856 item_predicted_ratings -0.6318338985896712 percentage\n1.6753349798471602 get_predictions -0.6317826853780302 imgs\n1.6745508231385802 df_res -0.6300765517391425 mkdir\n1.6715661404238205 leak_df -0.6284857206440184 heart\n1.6694743253357582 predictions_arima_diff_cumsum -0.6284424187277752 pass\n1.6683222006115404 display_scores -0.6278842096827825 others\n1.6666792522268055 df_tfidf -0.6266749133126613 2000\n1.6664779022060316 lag_size -0.6263875076099312 overall\n1.6657933069668616 teamid -0.6255939471621058 odel_grid\n1.665627587057642 submission_file -0.6253592235186728 cm_matrix\n1.6633333454211385 decode_error -0.6250045700539828 attention_mask\n1.662635820602297 frequency_score -0.6234013044078391 paper_id\n1.65849131266896 id -0.6233341949730761 actual_vs_pred\n1.6576443768520335 day_start -0.6229571643304647 error_rate\n1.6572362770941635 preds_df -0.6227150058306955 cnt_srs\n1.655037927856633 pred_data -0.6217538322728278 xb\n1.6533899153970184 prediction_var -0.6216184558974757 tight_layout\n1.6520787756161908 statsmodels -0.6214540185491292 total_deaths\n1.6516341133921906 _x -0.6210051823354206 err\n1.651190849724072 box_predictor -0.6206743052413964 as\n1.6499454452801787 copy -0.6205847811762851 array\n1.649859454245594 model_score -0.6196310751795617 background_color\n1.6484721021397615 or -0.6192599742134062 msno\n1.6448812131658557 verbose -0.6187730151445204 obj\n1.6431191536678567 true_label -0.6168163832295122 rmsprop\n1.6421375937153206 source_texts_df -0.6163046213439217 ast\n1.6405184269458144 vaccine -0.6156341170104465 neighborhood\n1.6400528395189489 cm2 -0.6147995026672366 dfoutput\n1.6377918602801815 high_distance -0.6147659487831472 word2vec\n1.6323377274068889 placement -0.6145652212685495 pprint\n1.6313876195707413 rolling -0.6142161235095879 spain\n1.6268696860272598ashrae -0.6139038073384767 skew\n1.625034751709971 3f -0.6124958756486403 ls\n1.6220493988910283 auc_score -0.6110667079213942 summary_plot\n1.6210655447365285 human -0.610458269903307 sizes\n1.6203419429273227 predictions2 -0.6103749887612013 strftime\n1.619348840858632 mean_y -0.6100570344694594 os\n1.612318905383014 playid -0.6092765571138445 cnn_learner\n1.60858503788884 token_type_ids -0.6087372635228385 ct\n1.6064749228221549 algoritmo -0.6069432223275482 skewness\n1.604629662813789 finish -0.606667557585154 mu\n1.6044185074113926 ecmo -0.6064161800806177 long\n1.6039821391134794 best_params_ -0.606309312852856 sql\n1.6022391596328927 cpu -0.6059445884209802 catplot\n1.6007676833985252 lag -0.6052720649794358 keyword\n1.5971472998260852 leaf -0.6045846617749909 get_dummies\n1.5965513200903898 molecule_name -0.6034188914279439 two\n1.5953940633761492 stm_model -0.6033616251728346 content\n1.595168012538791 ubmission -0.6031420188057104 filters\n1.5947010585029024 binary_predictions -0.6026673014266136 stacked\n1.5942450684671106 predictions_one_hot -0.6022584237640827 dataframename\n1.5917300913092303 df_train_score -0.5993364723373746 module\n1.590362881855642 out_df -0.5982210743919383 brand\n1.5849537345413303 sorted_mean_severity_of_weathers -0.5974573974743972 sepal\n1.58390442892995 _values -0.5965702396117899 mpg\n1.579399834086983 prediction_arima_log -0.5951866277131714 filename\n1.5793477906442144 perc -0.5935961228107862 circle\n1.5786320079040022 kalman_prediction -0.5928294396895897 channels\n1.5771054927135038 prediction_days -0.592135699151792 ad\n1.5746984326479323 stat_cols -0.5916182583302304 itertools\n1.5743158620134745 knn_score -0.5913329566612321 plot_data\n1.5741363420410588 my_prediction -0.5910198751284395 2018\n1.573543909940677 predicted_class_indices -0.5909588124659483 hint\n1.5733294816889274 shift -0.5909359468429717 ser\n1.5720328790316194 predicted_class -0.5908343049514589 dump\n1.567702557535315 test_set -0.5907860246728179 totalbsmtsf\n1.567252581330012 word_embedding_model -0.5896225018485269 stop_words\n1.5670017098846432 kdt -0.5895658823593398 x_temp\n1.5669745197403278 targeted -0.5889113456952972 inference_albert_and_display_results\n1.5653914340684285 explainer -0.5888806537962857 cured\n1.563336072308482 test_c19 -0.5885760429404195 img_size\n1.5622843843286005 prediction1 -0.5884152508499024 tweet\n1.561720682817211 show_predict_img -0.5879339323082946 num\n1.56152856474643 penalty -0.5878302940779163 jointplot\n1.560450635764243 mae -0.5876484643160134 embeddings_index\n1.5569465139537373 y_test_predict -0.5874106414572676 299\n1.5568416610123823 predict_submission -0.5866730912513052 vision\n1.556063096308481 agent -0.5865961981992673 save_weights\n1.5537296186361662 base_model -0.5862342250556916 topics\n1.552706437730152 real -0.585798610644694 color_continuous_scale\n1.5476688695096108 dist -0.5845379990231944 options\n1.5461967210220815 target_predict_constant -0.5836700045728433 train_data\n1.5434366579257313 correct -0.5836381561219198 test_list\n1.5432885970437327 euclidean -0.5834821639613719 5g\n1.539177498897587 groundtruth_df -0.5834272000635955 missing_values_check\n1.5377373520165882 n_model -0.5806398296872042 master\n1.5359108193645892 prediction_set -0.5801878655954535 mylist\n1.5344900812107742 rank_test_score -0.5800735971949041 scr\n1.5327773708101806 pred_mask -0.5789851714368993 dendrogram\n1.5314226781629319 season_d -0.5787980406009424 is_available\n1.5288857517871473 lag_col -0.5781025556729166 tl\n1.5283793897158497 fatalities -0.5779494308830048 root_dir\n1.5281775854606847 assessment -0.5776292676844387 feature_importances\n1.5258037932332014 in_edges_train -0.5774071829887399 pipe_svc\n1.52394945862669 arr_gene -0.5748757800132239 combined_data\n1.522437272863929 punt_distance -0.574140547442139 measures\n1.5214925810933246 show_scores -0.5740985201966239 main\n1.5172791318261818 result_out -0.5737628362365212 stopwords\n1.5153607227917618 affinity -0.572132537837704 gb\n1.5144225334128583 df_result -0.5715527389166861 datasets\n1.5132261220890006 ample_submission -0.5705290994070976 most_common\n1.5130116187880487 evaluate_vw_prediction -0.569650975586607 plot_numerical\n1.511596749671211 mean_sig -0.569210345414163 ones\n1.5098479076132483 euclidean_distances -0.5671316469046744 randomforestclassifier\n1.5092344779993512 df_results -0.5661428279268136 students\n1.5070921364989103 r2 -0.5656435081244211 sars\n1.5067780374015007 housing_price_predictor -0.5650808515368964 dtypes\n1.5064801958677287 cv_results -0.5633855988044109 svg\n1.5044062771960436 modelo -0.5632825176159145 rolstd\n1.5029548893229696 outlier_score -0.563144578047903 199\n1.5028705187485203 n_classes -0.5625316341253319 xs\n1.502811808035429 rewards -0.5609309342547542 garagearea\n1.50238490724514 yardline -0.5603927703953063 url\n1.5015951773718272 predictive -0.5601842033511929 layers\n1.499742058740954 clean_prediction -0.5598339152902534 buddha\n1.4985455614730856 sp_randint -0.5595202019490247 log2\n1.4984118971759681 tuned_score -0.5579607961914028 accidents\n1.4969535472262594 fatal -0.5551706352738934 run\n1.4894845447879737 clip -0.5550439737709193 mr\n1.488139360334728 daily_occupancy -0.5546925328365324 collapsed\n1.487960620217069 redictor_var -0.5544676603342124 128\n1.4878242087740718 threshold -0.5541301312492594 don\n1.485485603414576 zip -0.5540373305157361 slice\n1.4843272163876948 n_atoms -0.5533489586033006 __version__\n1.4823956686379647 sirf_estimator -0.5531616628366475 lat\n1.4818926314216985 average_precision_score -0.5528092707185546 entity\n1.4812589041907056 start_scores -0.5521882781976785 isna\n1.479823474514345 detach -0.5515121389303846 profilereport\n1.4796115888887706 timedelta -0.5512896968782185 learn\n1.4791353693403753 predict_file -0.5505850533499184 sub\n1.4769913022105743 cores -0.5488715660780046 val_accuracy\n1.476078806845906 wk1 -0.5482340109488044 num_epochs\n1.4726878518913573 evaluation -0.5481213727489705 y1\n1.4722963206446817 comb -0.548061130653441 incubation\n1.4703979127487088 feature_score -0.5479392641453876 _kg_hide\n1.4702203318063722 te_sub -0.5472144015259319 data1\n1.4677513270453566 stanford_scores -0.5463041849940098 spatial\n1.4673852103653169 none -0.5460574272086156 observations\n1.4665901090897155 prediction_fatalities_full -0.5460091868685872 encode\n1.466315551290194 estimator -0.545942853294351 edges\n1.459688824241136 fullvisitorid -0.5455626159719962 110\n1.4575869591381747 lassification_model -0.5450281541227812 faces\n1.456324462458832 y_hat -0.5448612625418461 future_forcast_dates\n1.4536786157380095 sample_submission -0.5444944542966613 new_train\n1.4483378366238242 testing -0.5442587121494308 plot_components\n1.4474971362148668 signal -0.5433080673476542 input_length\n1.4461653870541264 prediction3 -0.5428998462801494 diabetes\n1.4453715394905606 x_xtrain_cs -0.5428861470468662 df_covid\n1.4435187495416144 data_distances -0.5420387515295997 loss_value\n1.442932788885143 predict_dt1 -0.5401634327233796 data_info\n1.4405139640429285 selected_texts -0.5389616352044755 y_pred7\n1.4396795131056266 prediction_strings -0.5385121928891141 df_clean\n1.4378895030724346 sentiment -0.5374143899560875 survey\n1.4359971537618461 word_model -0.5364183584291031 offline\n1.4356027638936326 x_train_cs -0.5359797220771385 fit_generator\n1.4331369369015323 silhouette -0.533920920818335 investments\n1.4327781339640597 original_xtest -0.5335799785475225 220\n1.4322586242617683 end_scores -0.5333715891916887 deck\n1.431842964472311 df_ -0.5327454118805844 train_copy\n1.4312438964925347 cls -0.5324110670240431 fd\n1.430509140344931 input_ids -0.5322773653745982 glove\n1.430395331037978 steps -0.5322201282935712 plot_categorical_feature\n1.4297156317531186 y_predict_log -0.5320091686730812 rolmean\n1.4293917291639724 fast_score -0.5316697357142594 train_generator\n1.4289282449870924 list_scores -0.5315982888861932 1000000\n1.4285208713696644 mean_haxby_img -0.5315772013466916 img_name\n1.4284527184897085 pred_score -0.5303049218429218 korea\n1.4268829819757478 redictors -0.5301411371922009 k_means\n1.4264642828440477 test_data -0.5295846764542069 set_index\n1.425599414157209 km -0.5294890055512245 person\n1.4245466189745546 cname -0.5291639036601608 __getitem__\n1.4222861593982699 probability -0.5287078151356329 explained_variance_ratio_\n"
    }
   ],
   "source": [
    "df, corpus = load_corpus(DATASET_PATH, CODE_COLUMN)\n",
    "model = pickle.load(open(MODEL_DIR, 'rb'))\n",
    "tfidf = pickle.load(open(TFIDF_DIR, 'rb'))\n",
    "\n",
    "if hasattr(model, 'estimators_'):\n",
    "    for estimator in model.estimators_:\n",
    "        show_most_informative_features(model=estimator,\n",
    "                                        vectorizer=tfidf,\n",
    "                                        text=corpus[5],\n",
    "                                        n = 500)\n",
    "        # with open('logreg_interpret.txt', mode='w') as f:\n",
    "        #     f.write(interpret)\n",
    "else:\n",
    "    estimator = model\n",
    "    show_most_informative_features(model=estimator,\n",
    "                                    vectorizer=tfidf,\n",
    "                                    text=corpus[5],\n",
    "                                    n = 500)\n",
    "    # with open('logreg_interpret.txt', mode='w') as f:\n",
    "    #     f.write(interpret)"
   ]
  },
  {
   "cell_type": "code",
   "execution_count": null,
   "metadata": {},
   "outputs": [],
   "source": [
    "\n"
   ]
  },
  {
   "cell_type": "code",
   "execution_count": null,
   "metadata": {},
   "outputs": [],
   "source": []
  },
  {
   "cell_type": "code",
   "execution_count": null,
   "metadata": {},
   "outputs": [],
   "source": []
  }
 ]
}